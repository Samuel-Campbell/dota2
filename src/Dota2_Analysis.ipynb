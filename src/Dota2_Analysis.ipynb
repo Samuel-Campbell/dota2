{
 "cells": [
  {
   "cell_type": "markdown",
   "metadata": {},
   "source": [
    "# 1. Data Collection  \n",
    "The data collection isn't done through this notebook since it can be very lengthy in terms of time so it is done in a seperate script. Furthermore, the API used by the python code isn't supported by Anaconda. To collect the data set you must perform the following operations:\n",
    "1. pip3 install -t ../dota2/requirements.txt\n",
    "2. python3 ../dota2/src/api_wrapper.py  \n",
    "\n",
    "The dataset will be saved in *../dota2/src/data/*  \n",
    "\n",
    "## 1.1 Files  \n",
    "1. match.json\n",
    "2. heroes.json\n",
    "3. items.json"
   ]
  },
  {
   "cell_type": "markdown",
   "metadata": {},
   "source": [
    "# 2 Data Discovery  \n",
    "The data is well structured in *.json* format already. So we start by observing their contents. The first step is to download the R package to read *.json* files if it is not already present."
   ]
  },
  {
   "cell_type": "markdown",
   "metadata": {},
   "source": [
    "Next we read the contents from the JSON files. We start off with the *match.json* since this is what the study will focus on."
   ]
  },
  {
   "cell_type": "code",
   "execution_count": 1,
   "metadata": {},
   "outputs": [
    {
     "name": "stdout",
     "output_type": "stream",
     "text": [
      "{'positive_votes': 0, 'game_mode': 3, 'duration': 1769, 'barracks_status_radiant': 63, 'cluster_name': 'China', 'negative_votes': 0, 'lobby_name': 'Ranked', 'human_players': 10, 'tower_status_radiant': 1975, 'match_seq_num': 3412759258, 'radiant_win': True, 'tower_status_dire': 4, 'game_mode_name': 'Random Draft', 'cluster': 224, 'dire_score': 16, 'start_time': 1528135941, 'barracks_status_dire': 3, 'lobby_type': 7, 'leagueid': 0, 'players': [{'kills': 10, 'item_1_name': 'Blink Dagger', 'gold_spent': 12480, 'scaled_tower_damage': 1655, 'item_4': 34, 'last_hits': 120, 'player_slot': 0, 'deaths': 2, 'item_5_name': 'Hyperstone', 'item_4_name': 'Magic Stick', 'assists': 10, 'item_1': 1, 'item_0_name': 'Phase Boots', 'item_0': 50, 'item_2': 9, 'tower_damage': 2752, 'item_3_name': 'Blade Mail', 'gold': 2308, 'level': 19, 'backpack_2': 0, 'denies': 2, 'hero_damage': 14917, 'scaled_hero_damage': 14171, 'xp_per_min': 563, 'scaled_hero_healing': 1705, 'leaver_status_description': 'finished match, no abandon', 'hero_healing': 1060, 'item_3': 127, 'account_id': 345295663, 'hero_name': 'Legion Commander', 'item_2_name': 'Platemail', 'backpack_0': 0, 'item_5': 55, 'leaver_status_name': 'NONE', 'leaver_status': 0, 'gold_per_min': 476, 'backpack_1': 0, 'hero_id': 104, 'ability_upgrades': [{'level': 1, 'ability': 5596, 'time': 423}, {'level': 2, 'ability': 5595, 'time': 488}, {'level': 3, 'ability': 5597, 'time': 710}, {'level': 4, 'ability': 5595, 'time': 761}, {'level': 5, 'ability': 5595, 'time': 922}, {'level': 6, 'ability': 5598, 'time': 1059}, {'level': 7, 'ability': 5597, 'time': 1150}, {'level': 8, 'ability': 5597, 'time': 1272}, {'level': 9, 'ability': 5597, 'time': 1292}, {'level': 10, 'ability': 5987, 'time': 1447}, {'level': 11, 'ability': 5596, 'time': 1478}, {'level': 12, 'ability': 5598, 'time': 1560}, {'level': 13, 'ability': 5596, 'time': 1621}, {'level': 14, 'ability': 5596, 'time': 1682}, {'level': 15, 'ability': 5907, 'time': 1719}, {'level': 16, 'ability': 5595, 'time': 1898}, {'level': 17, 'ability': 5598, 'time': 1979}]}, {'kills': 7, 'item_1_name': 'Hurricane Pike', 'gold_spent': 13605, 'scaled_tower_damage': 5237, 'item_4': 46, 'last_hits': 263, 'player_slot': 1, 'deaths': 5, 'item_5_name': 'Ring of Basilius', 'item_4_name': 'Town Portal Scroll', 'assists': 8, 'item_1': 263, 'item_0_name': 'Manta Style', 'item_0': 147, 'item_2': 36, 'tower_damage': 8381, 'item_3_name': 'Power Treads', 'gold': 4510, 'level': 22, 'backpack_2': 0, 'denies': 26, 'hero_damage': 13000, 'scaled_hero_damage': 12365, 'xp_per_min': 744, 'scaled_hero_healing': 0, 'leaver_status_description': 'finished match, no abandon', 'hero_healing': 0, 'item_3': 63, 'account_id': 137917602, 'hero_name': 'Shadow Fiend', 'item_2_name': 'Magic Wand', 'backpack_0': 0, 'item_5': 88, 'leaver_status_name': 'NONE', 'leaver_status': 0, 'gold_per_min': 619, 'backpack_1': 0, 'hero_id': 11, 'ability_upgrades': [{'level': 1, 'ability': 5062, 'time': 329}, {'level': 2, 'ability': 5061, 'time': 441}, {'level': 3, 'ability': 5061, 'time': 488}, {'level': 4, 'ability': 5063, 'time': 538}, {'level': 5, 'ability': 5060, 'time': 636}, {'level': 6, 'ability': 5062, 'time': 694}, {'level': 7, 'ability': 5060, 'time': 761}, {'level': 8, 'ability': 5062, 'time': 827}, {'level': 9, 'ability': 5062, 'time': 909}, {'level': 10, 'ability': 5906, 'time': 968}, {'level': 11, 'ability': 5063, 'time': 1006}, {'level': 12, 'ability': 5063, 'time': 1124}, {'level': 13, 'ability': 5063, 'time': 1169}, {'level': 14, 'ability': 5064, 'time': 1376}, {'level': 15, 'ability': 6141, 'time': 1446}, {'level': 16, 'ability': 5064, 'time': 1511}, {'level': 17, 'ability': 5064, 'time': 1730}, {'level': 18, 'ability': 6670, 'time': 1884}]}, {'kills': 7, 'item_1_name': 'Force Staff', 'gold_spent': 9515, 'scaled_tower_damage': 562, 'item_4': 0, 'last_hits': 61, 'player_slot': 2, 'deaths': 3, 'item_5_name': 'Null Talisman', 'assists': 13, 'item_1': 102, 'item_0_name': 'Magic Wand', 'item_0': 36, 'item_2': 46, 'tower_damage': 884, 'item_3_name': 'Power Treads', 'gold': 647, 'level': 15, 'backpack_2': 0, 'denies': 2, 'hero_damage': 16165, 'scaled_hero_damage': 15427, 'xp_per_min': 365, 'scaled_hero_healing': 0, 'leaver_status_description': 'finished match, no abandon', 'hero_healing': 0, 'item_3': 63, 'account_id': 4294967295, 'hero_name': 'Silencer', 'item_2_name': 'Town Portal Scroll', 'backpack_0': 0, 'item_5': 77, 'leaver_status_name': 'NONE', 'leaver_status': 0, 'gold_per_min': 337, 'backpack_1': 0, 'hero_id': 75, 'ability_upgrades': [{'level': 1, 'ability': 5377, 'time': 343}, {'level': 2, 'ability': 5378, 'time': 463}, {'level': 3, 'ability': 5377, 'time': 573}, {'level': 4, 'ability': 5379, 'time': 771}, {'level': 5, 'ability': 5377, 'time': 941}, {'level': 6, 'ability': 5380, 'time': 1134}, {'level': 7, 'ability': 5377, 'time': 1208}, {'level': 8, 'ability': 5379, 'time': 1344}, {'level': 9, 'ability': 5379, 'time': 1394}, {'level': 10, 'ability': 5379, 'time': 1466}, {'level': 11, 'ability': 6016, 'time': 1603}, {'level': 12, 'ability': 5380, 'time': 1666}, {'level': 13, 'ability': 5378, 'time': 1838}, {'level': 14, 'ability': 5378, 'time': 2000}, {'level': 15, 'ability': 6878, 'time': 2096}]}, {'kills': 5, 'item_1_name': 'Arcane Boots', 'gold_spent': 6270, 'scaled_tower_damage': 0, 'item_4': 46, 'last_hits': 20, 'player_slot': 3, 'deaths': 5, 'item_5_name': 'Stout Shield', 'item_4_name': 'Town Portal Scroll', 'assists': 11, 'item_1': 180, 'item_0_name': 'Blink Dagger', 'item_0': 1, 'item_2': 34, 'tower_damage': 0, 'item_3_name': 'Urn of Shadows', 'gold': 2250, 'level': 15, 'backpack_2': 0, 'denies': 4, 'hero_damage': 7536, 'scaled_hero_damage': 6948, 'xp_per_min': 362, 'scaled_hero_healing': 0, 'leaver_status_description': 'finished match, no abandon', 'hero_healing': 0, 'item_3': 92, 'account_id': 170412727, 'hero_name': 'Nyx Assassin', 'item_2_name': 'Magic Stick', 'backpack_0': 188, 'item_5': 182, 'leaver_status_name': 'NONE', 'leaver_status': 0, 'gold_per_min': 279, 'backpack_1': 0, 'hero_id': 88, 'ability_upgrades': [{'level': 1, 'ability': 5464, 'time': 422}, {'level': 2, 'ability': 5462, 'time': 645}, {'level': 3, 'ability': 5462, 'time': 787}, {'level': 4, 'ability': 5463, 'time': 936}, {'level': 5, 'ability': 5462, 'time': 1067}, {'level': 6, 'ability': 5465, 'time': 1183}, {'level': 7, 'ability': 5462, 'time': 1299}, {'level': 8, 'ability': 5463, 'time': 1335}, {'level': 9, 'ability': 5463, 'time': 1385}, {'level': 10, 'ability': 5996, 'time': 1449}, {'level': 11, 'ability': 5463, 'time': 1618}, {'level': 12, 'ability': 5465, 'time': 1833}, {'level': 13, 'ability': 5464, 'time': 1912}, {'level': 14, 'ability': 5464, 'time': 1955}, {'level': 15, 'ability': 6077, 'time': 2111}]}, {'kills': 6, 'item_1_name': 'Power Treads', 'gold_spent': 13400, 'scaled_tower_damage': 2210, 'item_4': 143, 'last_hits': 140, 'player_slot': 4, 'deaths': 1, 'item_5_name': 'Stout Shield', 'item_4_name': 'Skull Basher', 'assists': 8, 'item_1': 63, 'item_0_name': 'Silver Edge', 'item_0': 249, 'item_2': 46, 'tower_damage': 3182, 'item_3_name': 'Echo Sabre', 'gold': 747, 'level': 20, 'backpack_2': 0, 'denies': 15, 'hero_damage': 15519, 'scaled_hero_damage': 13028, 'xp_per_min': 610, 'scaled_hero_healing': 0, 'leaver_status_description': 'finished match, no abandon', 'hero_healing': 0, 'item_3': 252, 'account_id': 346691108, 'hero_name': 'Slark', 'item_2_name': 'Town Portal Scroll', 'backpack_0': 0, 'item_5': 182, 'leaver_status_name': 'NONE', 'leaver_status': 0, 'gold_per_min': 464, 'backpack_1': 0, 'hero_id': 93, 'ability_upgrades': [{'level': 1, 'ability': 5495, 'time': 432}, {'level': 2, 'ability': 5494, 'time': 463}, {'level': 3, 'ability': 5496, 'time': 561}, {'level': 4, 'ability': 5494, 'time': 620}, {'level': 5, 'ability': 5494, 'time': 706}, {'level': 6, 'ability': 5497, 'time': 759}, {'level': 7, 'ability': 5494, 'time': 885}, {'level': 8, 'ability': 5495, 'time': 967}, {'level': 9, 'ability': 5495, 'time': 1068}, {'level': 10, 'ability': 6029, 'time': 1153}, {'level': 11, 'ability': 5495, 'time': 1311}, {'level': 12, 'ability': 5497, 'time': 1410}, {'level': 13, 'ability': 5496, 'time': 1456}, {'level': 14, 'ability': 5496, 'time': 1599}, {'level': 15, 'ability': 5907, 'time': 1698}, {'level': 16, 'ability': 5496, 'time': 1741}, {'level': 17, 'ability': 5497, 'time': 1941}, {'level': 18, 'ability': 6147, 'time': 2087}]}, {'kills': 2, 'item_1_name': 'Shadow Blade', 'gold_spent': 8610, 'scaled_tower_damage': 284, 'item_4': 94, 'last_hits': 90, 'player_slot': 128, 'deaths': 4, 'item_5_name': 'Buckler', 'item_4_name': 'Headdress', 'assists': 1, 'item_1': 152, 'item_0_name': 'Magic Wand', 'item_0': 36, 'item_2': 0, 'tower_damage': 469, 'item_3_name': 'Arcane Boots', 'gold': 604, 'level': 15, 'backpack_2': 0, 'denies': 7, 'hero_damage': 12147, 'scaled_hero_damage': 9293, 'xp_per_min': 363, 'scaled_hero_healing': 0, 'leaver_status_description': 'finished match, no abandon', 'hero_healing': 0, 'item_3': 180, 'account_id': 4294967295, 'hero_name': 'Venomancer', 'backpack_0': 0, 'item_5': 86, 'leaver_status_name': 'NONE', 'leaver_status': 0, 'gold_per_min': 314, 'backpack_1': 0, 'hero_id': 40, 'ability_upgrades': [{'level': 1, 'ability': 5178, 'time': 299}, {'level': 2, 'ability': 5180, 'time': 498}, {'level': 3, 'ability': 5180, 'time': 529}, {'level': 4, 'ability': 5179, 'time': 646}, {'level': 5, 'ability': 5180, 'time': 738}, {'level': 6, 'ability': 5179, 'time': 787}, {'level': 7, 'ability': 5180, 'time': 863}, {'level': 8, 'ability': 5178, 'time': 973}, {'level': 9, 'ability': 5181, 'time': 1029}, {'level': 10, 'ability': 5178, 'time': 1111}, {'level': 11, 'ability': 5178, 'time': 1332}, {'level': 12, 'ability': 6007, 'time': 1595}, {'level': 13, 'ability': 5181, 'time': 1653}, {'level': 14, 'ability': 5179, 'time': 1677}, {'level': 15, 'ability': 6114, 'time': 1790}]}, {'kills': 2, 'item_1_name': 'Boots of Speed', 'gold_spent': 4515, 'scaled_tower_damage': 70, 'item_4': 46, 'last_hits': 21, 'player_slot': 129, 'deaths': 11, 'item_5_name': 'Mekansm', 'item_4_name': 'Town Portal Scroll', 'assists': 9, 'item_1': 29, 'item_0_name': 'Bottle', 'item_0': 41, 'item_2': 0, 'tower_damage': 97, 'gold': 656, 'level': 11, 'backpack_2': 0, 'denies': 5, 'hero_damage': 9348, 'scaled_hero_damage': 7668, 'xp_per_min': 226, 'scaled_hero_healing': 3357, 'leaver_status_description': 'finished match, no abandon', 'hero_healing': 3896, 'item_3': 0, 'account_id': 216509671, 'hero_name': 'Io', 'backpack_0': 0, 'item_5': 79, 'leaver_status_name': 'NONE', 'leaver_status': 0, 'gold_per_min': 196, 'backpack_1': 0, 'hero_id': 91, 'ability_upgrades': [{'level': 1, 'ability': 5486, 'time': 303}, {'level': 2, 'ability': 5485, 'time': 503}, {'level': 3, 'ability': 5486, 'time': 663}, {'level': 4, 'ability': 5487, 'time': 859}, {'level': 5, 'ability': 5486, 'time': 1188}, {'level': 6, 'ability': 5488, 'time': 1268}, {'level': 7, 'ability': 5485, 'time': 1356}, {'level': 8, 'ability': 5486, 'time': 1541}, {'level': 9, 'ability': 5485, 'time': 1597}, {'level': 10, 'ability': 5987, 'time': 1650}, {'level': 11, 'ability': 5485, 'time': 1740}]}, {'kills': 4, 'item_1_name': 'Bottle', 'gold_spent': 8515, 'scaled_tower_damage': 420, 'item_4': 69, 'last_hits': 108, 'player_slot': 130, 'deaths': 6, 'item_5_name': 'Town Portal Scroll', 'item_4_name': 'Perseverance', 'assists': 4, 'item_1': 41, 'item_0_name': 'Boots of Speed', 'item_0': 29, 'item_2': 100, 'tower_damage': 613, 'item_3_name': 'Null Talisman', 'gold': 1726, 'level': 16, 'backpack_2': 0, 'denies': 5, 'hero_damage': 12739, 'scaled_hero_damage': 9849, 'xp_per_min': 419, 'scaled_hero_healing': 0, 'leaver_status_description': 'finished match, no abandon', 'hero_healing': 0, 'item_3': 77, 'account_id': 4294967295, 'hero_name': 'Leshrac', 'item_2_name': \"Eul's Scepter of Divinity\", 'backpack_0': 122, 'item_5': 46, 'leaver_status_name': 'NONE', 'leaver_status': 0, 'gold_per_min': 341, 'backpack_1': 0, 'hero_id': 52, 'ability_upgrades': [{'level': 1, 'ability': 5243, 'time': 377}, {'level': 2, 'ability': 5241, 'time': 448}, {'level': 3, 'ability': 5243, 'time': 489}, {'level': 4, 'ability': 5241, 'time': 564}, {'level': 5, 'ability': 5243, 'time': 661}, {'level': 6, 'ability': 5241, 'time': 739}, {'level': 7, 'ability': 5243, 'time': 810}, {'level': 8, 'ability': 5244, 'time': 934}, {'level': 9, 'ability': 5241, 'time': 1031}, {'level': 10, 'ability': 5932, 'time': 1139}, {'level': 11, 'ability': 5242, 'time': 1268}, {'level': 12, 'ability': 5244, 'time': 1379}, {'level': 13, 'ability': 5242, 'time': 1536}, {'level': 14, 'ability': 5242, 'time': 1678}, {'level': 15, 'ability': 6145, 'time': 1765}, {'level': 16, 'ability': 5242, 'time': 1829}]}, {'kills': 2, 'item_1_name': 'Battle Fury', 'gold_spent': 9560, 'scaled_tower_damage': 221, 'item_4': 182, 'last_hits': 169, 'player_slot': 131, 'deaths': 7, 'item_5_name': 'Dust of Appearance', 'item_4_name': 'Stout Shield', 'assists': 7, 'item_1': 145, 'item_0_name': 'Phase Boots', 'item_0': 50, 'item_2': 8, 'tower_damage': 286, 'item_3_name': 'Town Portal Scroll', 'gold': 408, 'level': 15, 'backpack_2': 0, 'denies': 16, 'hero_damage': 7717, 'scaled_hero_damage': 6960, 'xp_per_min': 349, 'scaled_hero_healing': 492, 'leaver_status_description': 'finished match, no abandon', 'hero_healing': 852, 'item_3': 46, 'account_id': 67456696, 'hero_name': 'Juggernaut', 'item_2_name': 'Mithril Hammer', 'backpack_0': 0, 'item_5': 40, 'leaver_status_name': 'NONE', 'leaver_status': 0, 'gold_per_min': 364, 'backpack_1': 0, 'hero_id': 8, 'ability_upgrades': [{'level': 1, 'ability': 5028, 'time': 391}, {'level': 2, 'ability': 5027, 'time': 495}, {'level': 3, 'ability': 5028, 'time': 597}, {'level': 4, 'ability': 5027, 'time': 756}, {'level': 5, 'ability': 5028, 'time': 931}, {'level': 6, 'ability': 5030, 'time': 1170}, {'level': 7, 'ability': 5029, 'time': 1234}, {'level': 8, 'ability': 5028, 'time': 1267}, {'level': 9, 'ability': 5027, 'time': 1365}, {'level': 10, 'ability': 5029, 'time': 1481}, {'level': 11, 'ability': 5029, 'time': 1581}, {'level': 12, 'ability': 5030, 'time': 1590}, {'level': 13, 'ability': 5918, 'time': 1736}, {'level': 14, 'ability': 5027, 'time': 1838}, {'level': 15, 'ability': 5029, 'time': 2143}]}, {'kills': 5, 'item_1_name': 'Magic Wand', 'gold_spent': 5790, 'scaled_tower_damage': 0, 'item_4': 218, 'last_hits': 9, 'player_slot': 132, 'deaths': 7, 'item_4_name': 'Observer and Sentry Wards', 'assists': 8, 'item_1': 36, 'item_0_name': 'Force Staff', 'item_0': 102, 'item_2': 180, 'tower_damage': 0, 'item_3_name': 'Orb of Venom', 'gold': 429, 'level': 13, 'backpack_2': 0, 'denies': 4, 'hero_damage': 7216, 'scaled_hero_damage': 8387, 'xp_per_min': 270, 'scaled_hero_healing': 0, 'leaver_status_description': 'finished match, no abandon', 'hero_healing': 0, 'item_3': 181, 'account_id': 136640512, 'hero_name': 'Ogre Magi', 'item_2_name': 'Arcane Boots', 'backpack_0': 0, 'item_5': 0, 'leaver_status_name': 'NONE', 'leaver_status': 0, 'gold_per_min': 222, 'backpack_1': 0, 'hero_id': 84, 'ability_upgrades': [{'level': 1, 'ability': 5439, 'time': 404}, {'level': 2, 'ability': 5438, 'time': 494}, {'level': 3, 'ability': 5439, 'time': 629}, {'level': 4, 'ability': 5438, 'time': 800}, {'level': 5, 'ability': 5438, 'time': 1047}, {'level': 6, 'ability': 5441, 'time': 1118}, {'level': 7, 'ability': 5438, 'time': 1218}, {'level': 8, 'ability': 5439, 'time': 1309}, {'level': 9, 'ability': 5439, 'time': 1491}, {'level': 10, 'ability': 5440, 'time': 1590}, {'level': 11, 'ability': 5441, 'time': 1708}, {'level': 12, 'ability': 6003, 'time': 1711}, {'level': 13, 'ability': 5440, 'time': 1761}]}], 'pre_game_duration': 90, 'match_id': 3933473800, 'engine': 1, 'flags': 1, 'first_blood_time': 47, 'radiant_score': 35}\n"
     ]
    }
   ],
   "source": [
    "import json\n",
    "with open('data/match.json') as f:\n",
    "    matches = json.load(f)\n",
    "\n",
    "# print first value\n",
    "for keys in matches:\n",
    "    print(matches[keys])\n",
    "    break"
   ]
  },
  {
   "cell_type": "markdown",
   "metadata": {},
   "source": [
    "We notice that there is a HUGE amount of information. Most of this data comes from the **players** key from the dictionary. "
   ]
  },
  {
   "cell_type": "markdown",
   "metadata": {},
   "source": [
    "## 2.1 Breaking down the matches dictionary  \n",
    "### 2.1.1  Analyzing the player key\n",
    "We first seperate the **players** key from the rest of the data"
   ]
  },
  {
   "cell_type": "code",
   "execution_count": 2,
   "metadata": {},
   "outputs": [
    {
     "name": "stdout",
     "output_type": "stream",
     "text": [
      "{'kills': 10, 'item_1_name': 'Blink Dagger', 'gold_spent': 12480, 'scaled_tower_damage': 1655, 'item_4': 34, 'last_hits': 120, 'player_slot': 0, 'deaths': 2, 'item_5_name': 'Hyperstone', 'item_4_name': 'Magic Stick', 'assists': 10, 'item_1': 1, 'item_0_name': 'Phase Boots', 'item_0': 50, 'item_2': 9, 'tower_damage': 2752, 'item_3_name': 'Blade Mail', 'gold': 2308, 'level': 19, 'backpack_2': 0, 'denies': 2, 'hero_damage': 14917, 'scaled_hero_damage': 14171, 'xp_per_min': 563, 'scaled_hero_healing': 1705, 'leaver_status_description': 'finished match, no abandon', 'hero_healing': 1060, 'item_3': 127, 'account_id': 345295663, 'hero_name': 'Legion Commander', 'item_2_name': 'Platemail', 'backpack_0': 0, 'item_5': 55, 'leaver_status_name': 'NONE', 'leaver_status': 0, 'gold_per_min': 476, 'backpack_1': 0, 'hero_id': 104, 'ability_upgrades': [{'level': 1, 'ability': 5596, 'time': 423}, {'level': 2, 'ability': 5595, 'time': 488}, {'level': 3, 'ability': 5597, 'time': 710}, {'level': 4, 'ability': 5595, 'time': 761}, {'level': 5, 'ability': 5595, 'time': 922}, {'level': 6, 'ability': 5598, 'time': 1059}, {'level': 7, 'ability': 5597, 'time': 1150}, {'level': 8, 'ability': 5597, 'time': 1272}, {'level': 9, 'ability': 5597, 'time': 1292}, {'level': 10, 'ability': 5987, 'time': 1447}, {'level': 11, 'ability': 5596, 'time': 1478}, {'level': 12, 'ability': 5598, 'time': 1560}, {'level': 13, 'ability': 5596, 'time': 1621}, {'level': 14, 'ability': 5596, 'time': 1682}, {'level': 15, 'ability': 5907, 'time': 1719}, {'level': 16, 'ability': 5595, 'time': 1898}, {'level': 17, 'ability': 5598, 'time': 1979}]}\n"
     ]
    }
   ],
   "source": [
    "for keys in matches:\n",
    "    print(matches[keys]['players'][0])\n",
    "    break"
   ]
  },
  {
   "cell_type": "code",
   "execution_count": 3,
   "metadata": {},
   "outputs": [],
   "source": [
    "import pandas as pd\n",
    "for keys in matches:\n",
    "    try:\n",
    "        del matches[keys]['players'][0]['ability_upgrades']\n",
    "        player_0 = matches[keys]['players'][0]\n",
    "        player = pd.DataFrame(player_0, index=[0])        \n",
    "    except KeyError:\n",
    "        pass\n",
    "    break"
   ]
  },
  {
   "cell_type": "code",
   "execution_count": 4,
   "metadata": {},
   "outputs": [
    {
     "name": "stdout",
     "output_type": "stream",
     "text": [
      "account_id                                    345295663\n",
      "assists                                              10\n",
      "backpack_0                                            0\n",
      "backpack_1                                            0\n",
      "backpack_2                                            0\n",
      "deaths                                                2\n",
      "denies                                                2\n",
      "gold                                               2308\n",
      "gold_per_min                                        476\n",
      "gold_spent                                        12480\n",
      "hero_damage                                       14917\n",
      "hero_healing                                       1060\n",
      "hero_id                                             104\n",
      "hero_name                              Legion Commander\n",
      "item_0                                               50\n",
      "item_0_name                                 Phase Boots\n",
      "item_1                                                1\n",
      "item_1_name                                Blink Dagger\n",
      "item_2                                                9\n",
      "item_2_name                                   Platemail\n",
      "item_3                                              127\n",
      "item_3_name                                  Blade Mail\n",
      "item_4                                               34\n",
      "item_4_name                                 Magic Stick\n",
      "item_5                                               55\n",
      "item_5_name                                  Hyperstone\n",
      "kills                                                10\n",
      "last_hits                                           120\n",
      "leaver_status                                         0\n",
      "leaver_status_description    finished match, no abandon\n",
      "leaver_status_name                                 NONE\n",
      "level                                                19\n",
      "player_slot                                           0\n",
      "scaled_hero_damage                                14171\n",
      "scaled_hero_healing                                1705\n",
      "scaled_tower_damage                                1655\n",
      "tower_damage                                       2752\n",
      "xp_per_min                                          563\n",
      "Name: 0, dtype: object\n"
     ]
    }
   ],
   "source": [
    "print(player.iloc[0])"
   ]
  },
  {
   "cell_type": "markdown",
   "metadata": {},
   "source": [
    "### 2.1.2  Analyzing the rest of the keys \n",
    "Then we look at the rest of the keys"
   ]
  },
  {
   "cell_type": "code",
   "execution_count": 5,
   "metadata": {},
   "outputs": [
    {
     "name": "stdout",
     "output_type": "stream",
     "text": [
      "positive_votes: 0\n",
      "game_mode: 3\n",
      "duration: 1769\n",
      "barracks_status_radiant: 63\n",
      "cluster_name: China\n",
      "negative_votes: 0\n",
      "lobby_name: Ranked\n",
      "human_players: 10\n",
      "tower_status_radiant: 1975\n",
      "match_seq_num: 3412759258\n",
      "radiant_win: True\n",
      "tower_status_dire: 4\n",
      "game_mode_name: Random Draft\n",
      "cluster: 224\n",
      "dire_score: 16\n",
      "start_time: 1528135941\n",
      "barracks_status_dire: 3\n",
      "lobby_type: 7\n",
      "leagueid: 0\n",
      "pre_game_duration: 90\n",
      "match_id: 3933473800\n",
      "engine: 1\n",
      "flags: 1\n",
      "first_blood_time: 47\n",
      "radiant_score: 35\n"
     ]
    }
   ],
   "source": [
    "for keys in matches:\n",
    "    for k in matches[keys]:\n",
    "        if k == 'players':\n",
    "            pass\n",
    "        else:\n",
    "            print(k + \": \" + str(matches[keys][k]))\n",
    "    break"
   ]
  },
  {
   "cell_type": "markdown",
   "metadata": {},
   "source": [
    "We have analyzed this long enough, we can start creating the tables by ommitting the **ability_upgrades** key since it is variable and not that impactful. We also seperate the player data from the rest as both do not possess the same dimensions"
   ]
  },
  {
   "cell_type": "markdown",
   "metadata": {},
   "source": [
    "## 2.2 Analyzing the items dictionary"
   ]
  },
  {
   "cell_type": "code",
   "execution_count": 6,
   "metadata": {},
   "outputs": [],
   "source": [
    "with open('data/items.json') as f:\n",
    "    items = json.load(f)"
   ]
  },
  {
   "cell_type": "code",
   "execution_count": 7,
   "metadata": {},
   "outputs": [
    {
     "name": "stdout",
     "output_type": "stream",
     "text": [
      "items\n",
      "status\n"
     ]
    }
   ],
   "source": [
    "for key in items:\n",
    "    print(key)"
   ]
  },
  {
   "cell_type": "code",
   "execution_count": 8,
   "metadata": {},
   "outputs": [
    {
     "name": "stdout",
     "output_type": "stream",
     "text": [
      "<class 'list'>\n"
     ]
    }
   ],
   "source": [
    "print(type(items['items']))"
   ]
  },
  {
   "cell_type": "code",
   "execution_count": 9,
   "metadata": {},
   "outputs": [
    {
     "name": "stdout",
     "output_type": "stream",
     "text": [
      "{'name': 'item_blink', 'side_shop': 1, 'cost': 2250, 'id': 1, 'secret_shop': 0, 'url_image': 'http://cdn.dota2.com/apps/dota2/images/items/blink_lg.png', 'recipe': 0, 'localized_name': 'Blink Dagger'}\n"
     ]
    }
   ],
   "source": [
    "print(items['items'][0])"
   ]
  },
  {
   "cell_type": "markdown",
   "metadata": {},
   "source": [
    "## 2.3 Analyzing the heroes dictionary"
   ]
  },
  {
   "cell_type": "code",
   "execution_count": 10,
   "metadata": {},
   "outputs": [],
   "source": [
    "with open('data/heroes.json') as f:\n",
    "    heroes = json.load(f)"
   ]
  },
  {
   "cell_type": "code",
   "execution_count": 11,
   "metadata": {},
   "outputs": [
    {
     "name": "stdout",
     "output_type": "stream",
     "text": [
      "count\n",
      "status\n",
      "heroes\n"
     ]
    }
   ],
   "source": [
    "for key in heroes:\n",
    "    print(key)"
   ]
  },
  {
   "cell_type": "code",
   "execution_count": 12,
   "metadata": {},
   "outputs": [
    {
     "name": "stdout",
     "output_type": "stream",
     "text": [
      "115\n"
     ]
    }
   ],
   "source": [
    "print(heroes['count'])"
   ]
  },
  {
   "cell_type": "code",
   "execution_count": 13,
   "metadata": {},
   "outputs": [
    {
     "name": "stdout",
     "output_type": "stream",
     "text": [
      "<class 'list'>\n"
     ]
    }
   ],
   "source": [
    "print(type(heroes['heroes']))"
   ]
  },
  {
   "cell_type": "code",
   "execution_count": 14,
   "metadata": {},
   "outputs": [
    {
     "name": "stdout",
     "output_type": "stream",
     "text": [
      "{'name': 'npc_dota_hero_antimage', 'url_full_portrait': 'http://cdn.dota2.com/apps/dota2/images/heroes/antimage_full.png', 'url_vertical_portrait': 'http://cdn.dota2.com/apps/dota2/images/heroes/antimage_vert.jpg', 'id': 1, 'url_small_portrait': 'http://cdn.dota2.com/apps/dota2/images/heroes/antimage_sb.png', 'localized_name': 'Anti-Mage', 'url_large_portrait': 'http://cdn.dota2.com/apps/dota2/images/heroes/antimage_lg.png'}\n"
     ]
    }
   ],
   "source": [
    "print(heroes['heroes'][0])"
   ]
  },
  {
   "cell_type": "markdown",
   "metadata": {},
   "source": [
    "## 2.4 Analyzing game complexity"
   ]
  },
  {
   "cell_type": "code",
   "execution_count": 15,
   "metadata": {},
   "outputs": [],
   "source": [
    "import math\n",
    "item_count = len(items['items'])\n",
    "heroes_count = len(heroes['heroes'])\n",
    "heroes_per_game = 10\n",
    "items_per_hero = 6\n",
    "\n",
    "# hero combinations without repetition\n",
    "numerator = math.factorial(heroes_count)\n",
    "denominator = math.factorial(heroes_per_game) * math.factorial(heroes_count - heroes_per_game)\n",
    "hero_combinations = numerator // denominator\n",
    "\n",
    "# item combinations with repetition\n",
    "numerator = math.factorial(item_count + items_per_hero - 1)\n",
    "denominator = math.factorial(item_count - 1) * math.factorial(items_per_hero)\n",
    "item_combinations = numerator // denominator"
   ]
  },
  {
   "cell_type": "code",
   "execution_count": 16,
   "metadata": {},
   "outputs": [
    {
     "name": "stdout",
     "output_type": "stream",
     "text": [
      "74540394223878\n",
      "594115882360\n"
     ]
    }
   ],
   "source": [
    "print(hero_combinations)\n",
    "print(item_combinations)"
   ]
  },
  {
   "cell_type": "code",
   "execution_count": 17,
   "metadata": {},
   "outputs": [
    {
     "name": "stdout",
     "output_type": "stream",
     "text": [
      "44285632085781525350992080\n"
     ]
    },
    {
     "data": {
      "text/plain": [
       "'4.43e+25'"
      ]
     },
     "execution_count": 17,
     "metadata": {},
     "output_type": "execute_result"
    }
   ],
   "source": [
    "# Theorycraft combinations\n",
    "theory_craft_combination = hero_combinations * item_combinations\n",
    "print(theory_craft_combination)\n",
    "'{:.2e}'.format(theory_craft_combination)"
   ]
  },
  {
   "cell_type": "markdown",
   "metadata": {},
   "source": [
    "## 2.5 Reducing game complexity with data classification"
   ]
  },
  {
   "cell_type": "markdown",
   "metadata": {},
   "source": [
    "### 2.5.1 Analyzing hero roles"
   ]
  },
  {
   "cell_type": "code",
   "execution_count": 18,
   "metadata": {},
   "outputs": [
    {
     "name": "stdout",
     "output_type": "stream",
     "text": [
      "{| class=\"wikitable\"\n",
      "\n",
      "!colspan=8| ■■■ Carry\n",
      "\n",
      "|-\n",
      "\n",
      "|{{HeroIcon|am}}{{HeroIcon|arc}}{{HeroIcon|ck}}{{HeroIcon|gyro}}{{HeroIcon|medusa}}{{HeroIcon|morph}}{{HeroIcon|naga}}{{HeroIcon|pa}}<br>{{HeroIcon|sniper}}{{HeroIcon|spectre}}{{HeroIcon|tb}}{{HeroIcon|tiny}}{{HeroIcon|troll}}\n",
      "\n",
      "|-\n",
      "\n",
      "!colspan=8| ■■ Carry\n",
      "\n",
      "|-\n",
      "\n",
      "|{{HeroIcon|alch}}{{HeroIcon|bb}}{{HeroIcon|dk}}{{HeroIcon|huskar}}{{HeroIcon|ls}}{{HeroIcon|lycan}}{{HeroIcon|mk}}{{HeroIcon|slardar}}<br>{{HeroIcon|sven}}{{HeroIcon|wk}}{{HeroIcon|clinkz}}{{HeroIcon|drow}}{{HeroIcon|ember}}{{HeroIcon|void}}{{HeroIcon|jugg}}{{HeroIcon|ld}}<br>{{HeroIcon|luna}}{{HeroIcon|meepo}}{{HeroIcon|pl}}{{HeroIcon|razor}}{{HeroIcon|riki}}{{HeroIcon|sf}}{{HeroIcon|slark}}{{HeroIcon|ta}}<br>{{HeroIcon|ursa}}{{HeroIcon|weaver}}{{HeroIcon|od}}{{HeroIcon|storm}}{{HeroIcon|pangolier}}\n",
      "\n",
      "|-\n",
      "\n",
      "!colspan=8| ■ Carry\n",
      "\n",
      "|-\n",
      "\n",
      "|{{HeroIcon|abaddon}}{{HeroIcon|brew}}{{HeroIcon|doom}}{{HeroIcon|kunkka}}{{HeroIcon|lc}}{{HeroIcon|ns}}{{HeroIcon|sb}}{{HeroIcon|bs}}<br>{{HeroIcon|brood}}{{HeroIcon|mirana}}{{HeroIcon|viper}}{{HeroIcon|dp}}{{HeroIcon|invoker}}{{HeroIcon|leshrac}}{{HeroIcon|lina}}{{HeroIcon|np}}<br>{{HeroIcon|necro}}{{HeroIcon|qop}}{{HeroIcon|silencer}}{{HeroIcon|tinker}}{{HeroIcon|wr}}\n",
      "\n",
      "|}\n",
      "\n",
      "\n",
      "\n",
      "==={{Nuker}}===\n",
      "\n",
      "----\n",
      "\n",
      "<big>''\"Can quickly kill enemy heroes using high damage spells with low cooldowns.\"''</big>\n",
      "\n",
      "\n",
      "\n",
      "'''Nukers''' are heroes with abilities that deliver high burst damage throughout the game. Their goal is to give the team an advantage by killing enemy heroes before they can react to team fights.\n",
      "\n",
      "\n",
      "\n",
      "{| class=\"wikitable\"\n",
      "\n",
      "!colspan=8| ■■■ Nuker\n",
      "\n",
      "|-\n",
      "\n",
      "|{{HeroIcon|phoenix}}{{HeroIcon|timber}}{{HeroIcon|sf}}{{HeroIcon|invoker}}{{HeroIcon|lesh}}{{HeroIcon|lina}}{{HeroIcon|lion}}{{HeroIcon|oracle}}<br>{{HeroIcon|qop}}{{HeroIcon|skywrath}}{{HeroIcon|techies}}{{HeroIcon|tinker}}{{HeroIcon|zeus}}\n",
      "\n",
      "|-\n",
      "\n",
      "!colspan=8| ■■ Nuker\n",
      "\n",
      "|-\n",
      "\n",
      "|{{HeroIcon|earth spirit}}{{HeroIcon|sk}}{{HeroIcon|tiny}}{{HeroIcon|luna}}{{HeroIcon|meepo}}{{HeroIcon|nyx}}{{HeroIcon|cm}}{{HeroIcon|jakiro}}<br>{{HeroIcon|kotl}}{{HeroIcon|lich}}{{HeroIcon|necro}}{{HeroIcon|ogre}}{{HeroIcon|od}}{{HeroIcon|puck}}{{HeroIcon|pugna}}{{HeroIcon|shaman}}<br>{{HeroIcon|storm}}{{HeroIcon|visage}}{{HeroIcon|wd}}{{HeroIcon|pangolier}}{{HeroIcon|dark willow}}\n",
      "\n",
      "|-\n",
      "\n",
      "!colspan=8| ■ Nuker\n",
      "\n",
      "|-\n",
      "\n",
      "|{{HeroIcon|alch}}{{HeroIcon|beastmaster}}{{HeroIcon|brew}}{{HeroIcon|bb}}{{HeroIcon|centaur}}{{HeroIcon|clock}}{{HeroIcon|doom}}{{HeroIcon|dk}}<br>{{HeroIcon|es}}{{HeroIcon|et}}{{HeroIcon|io}}{{HeroIcon|kunkka}}{{HeroIcon|lc}}{{HeroIcon|magnus}}{{HeroIcon|ns}}{{HeroIcon|omni}}<br>{{HeroIcon|pudge}}{{HeroIcon|sven}}{{HeroIcon|tide}}{{HeroIcon|tusk}}{{HeroIcon|undying}}{{HeroIcon|am}}{{HeroIcon|arc}}{{HeroIcon|bs}}<br>{{HeroIcon|bh}}{{HeroIcon|brood}}{{HeroIcon|ember}}{{HeroIcon|gyro}}{{HeroIcon|mirana}}{{HeroIcon|morph}}{{HeroIcon|pl}}{{HeroIcon|razor}}<br>{{HeroIcon|slark}}{{HeroIcon|sniper}}{{HeroIcon|tb}}{{HeroIcon|venge}}{{HeroIcon|veno}}{{HeroIcon|aa}}{{HeroIcon|bane}}{{HeroIcon|dazzle}}<br>{{HeroIcon|dp}}{{HeroIcon|disruptor}}{{HeroIcon|np}}{{HeroIcon|rubick}}{{HeroIcon|sd}}{{HeroIcon|silencer}}{{HeroIcon|underlord}}{{HeroIcon|wr}}<br>{{HeroIcon|ww}}\n",
      "\n",
      "|}\n",
      "\n",
      "\n",
      "\n",
      "==={{Initiator}}===\n",
      "\n",
      "----\n",
      "\n",
      "<big>''\"Good at starting a team fight.\"''</big>\n",
      "\n",
      "\n",
      "\n",
      "'''Initiators''' are heroes who can safely start a team fight. These heroes typically have a strong area of effect or special skill to affect the positioning of the enemy team. Usually there is an attempt to quickly eliminate the enemy carry to lure the enemy team, which then initiates a large scale battle. Their abilities often have long cooldowns which are best saved for these large confrontations.\n",
      "\n",
      "\n",
      "\n",
      "{| class=\"wikitable\"\n",
      "\n",
      "!colspan=8| ■■■ Initiator\n",
      "\n",
      "|-\n",
      "\n",
      "|{{HeroIcon|axe}}{{HeroIcon|brew}}{{HeroIcon|cent}}{{HeroIcon|clock}}{{HeroIcon|shaker}}{{HeroIcon|mag}}{{HeroIcon|sk}}{{HeroIcon|tide}}<br>{{HeroIcon|void}}{{HeroIcon|bat}}{{HeroIcon|puck}}\n",
      "\n",
      "|-\n",
      "\n",
      "!colspan=8| ■■ Initiator\n",
      "\n",
      "|-\n",
      "\n",
      "|{{HeroIcon|beast}}{{HeroIcon|doom}}{{HeroIcon|et}}{{HeroIcon|ns}}{{HeroIcon|phx}}{{HeroIcon|pudge}}{{HeroIcon|slar}}{{HeroIcon|sb}}<br>{{HeroIcon|sven}}{{HeroIcon|tiny}}{{HeroIcon|tree}}{{HeroIcon|tusk}}{{HeroIcon|nyx}}{{HeroIcon|venge}}{{HeroIcon|enigma}}{{HeroIcon|lion}}<br>{{HeroIcon|silencer}}{{HeroIcon|warlock}}{{HeroIcon|pangolier}}\n",
      "\n",
      "|-\n",
      "\n",
      "!colspan=8| ■ Initiator\n",
      "\n",
      "|-\n",
      "\n",
      "|{{HeroIcon|alch}}{{HeroIcon|bb}}{{HeroIcon|ck}}{{HeroIcon|dk}}{{HeroIcon|earth}}{{HeroIcon|husk}}{{HeroIcon|kunkka}}{{HeroIcon|lc}}<br>{{HeroIcon|mk}}{{HeroIcon|bs}}{{HeroIcon|ember}}{{HeroIcon|meep}}{{HeroIcon|naga}}{{HeroIcon|veno}}{{HeroIcon|viper}}{{HeroIcon|ds}}<br>{{HeroIcon|dis}}{{HeroIcon|ogre}}{{HeroIcon|sd}}{{HeroIcon|shaman}}{{HeroIcon|storm}}{{HeroIcon|wk}}\n",
      "\n",
      "|}\n",
      "\n",
      "\n",
      "\n",
      "==={{Disabler}}===\n",
      "\n",
      "----\n",
      "\n",
      "<big>''\"Has a guaranteed disable for one or more of their spells.\"''</big>\n",
      "\n",
      "\n",
      "\n",
      "'''Disablers''' are heroes with abilities more focused on reliable crowd control, either by single target or area of effect. They can act as initiators in small skirmishes, or as support by holding the enemy down for the carry to finish off.\n",
      "\n",
      "\n",
      "\n",
      "{| class=\"wikitable\"\n",
      "\n",
      "!colspan=8| ■■■ Disabler\n",
      "\n",
      "|-\n",
      "\n",
      "|{{HeroIcon|bane}}{{HeroIcon|lion}}{{HeroIcon|puck}}{{HeroIcon|shaman}}\n",
      "\n",
      "|-\n",
      "\n",
      "!colspan=8| ■■ Disabler\n",
      "\n",
      "|-\n",
      "\n",
      "|{{HeroIcon|axe}}{{HeroIcon|beast}}{{HeroIcon|brew}}{{HeroIcon|ck}}{{HeroIcon|clock}}{{HeroIcon|doom}}{{HeroIcon|dk}}{{HeroIcon|shaker}}<br>{{HeroIcon|lc}}{{HeroIcon|mag}}{{HeroIcon|ns}}{{HeroIcon|pudge}}{{HeroIcon|sk}}{{HeroIcon|sb}}{{HeroIcon|sven}}{{HeroIcon|tide}}<br>{{HeroIcon|tusk}}{{HeroIcon|wk}}{{HeroIcon|void}}{{HeroIcon|naga}}{{HeroIcon|nyx}}{{HeroIcon|venge}}{{HeroIcon|bat}}{{HeroIcon|cm}}<br>{{HeroIcon|dis}}{{HeroIcon|enigma}}{{HeroIcon|invo}}{{HeroIcon|ogre}}{{HeroIcon|oracle}}{{HeroIcon|sd}}{{HeroIcon|silencer}}{{HeroIcon|ww}}\n",
      "\n",
      "|-\n",
      "\n",
      "!colspan=8| ■ Disabler\n",
      "\n",
      "|-\n",
      "\n",
      "|{{HeroIcon|alch}}{{HeroIcon|cent}}{{HeroIcon|earth}}{{HeroIcon|et}}{{HeroIcon|kunkka}}{{HeroIcon|lifestealer}}{{HeroIcon|mk}}{{HeroIcon|phx}}<br>{{HeroIcon|slar}}{{HeroIcon|tiny}}{{HeroIcon|tree}}{{HeroIcon|undying}}{{HeroIcon|bs}}{{HeroIcon|dr}}{{HeroIcon|ember}}{{HeroIcon|gyro}}<br>{{HeroIcon|dusa}}{{HeroIcon|meep}}{{HeroIcon|mirana}}{{HeroIcon|morph}}{{HeroIcon|riki}}{{HeroIcon|slark}}{{HeroIcon|troll}}{{HeroIcon|ursa}}<br>{{HeroIcon|veno}}{{HeroIcon|viper}}{{HeroIcon|aa}}{{HeroIcon|ds}}{{HeroIcon|dazzle}}{{HeroIcon|dp}}{{HeroIcon|ench}}{{HeroIcon|jak}}<br>{{HeroIcon|kotl}}{{HeroIcon|lesh}}{{HeroIcon|lina}}{{HeroIcon|necro}}{{HeroIcon|od}}{{HeroIcon|rubick}}{{HeroIcon|sky}}{{HeroIcon|storm}}<br>{{HeroIcon|techies}}{{HeroIcon|underlord}}{{HeroIcon|visage}}{{HeroIcon|warlock}}{{HeroIcon|wr}}{{HeroIcon|wd}}{{HeroIcon|pangolier}}{{HeroIcon|dark willow}}\n",
      "\n",
      "|}\n",
      "\n",
      "\n",
      "\n",
      "==={{Escape}}===\n",
      "\n",
      "----\n",
      "\n",
      "<big>''\"Has the ability to quickly avoid death.\"''</big>\n",
      "\n",
      "\n",
      "\n",
      "'''Escape''' heroes are equipped with one or more escape mechanisms which allow them (and sometimes their allies) to avoid damage while retreating or repositioning themselves during a team fight. Escape mechanisms include [[movement speed]] buffs, [[invisibility]], [[teleportation]], and [[evasion]]. This is extremely useful for glass cannon heroes who have low hp and deal high damage, because it forces the enemy to change their play style to counter such high mobility.\n",
      "\n",
      "\n",
      "\n",
      "{| class=\"wikitable\"\n",
      "\n",
      "!colspan=8| ■■■ Escape\n",
      "\n",
      "|-\n",
      "\n",
      "|{{HeroIcon|am}}{{HeroIcon|arc}}{{HeroIcon|brood}}{{HeroIcon|clinkz}}{{HeroIcon|ember}}{{HeroIcon|morph}}{{HeroIcon|slark}}{{HeroIcon|weaver}}<br>{{HeroIcon|puck}}{{HeroIcon|qop}}{{HeroIcon|storm}}\n",
      "\n",
      "|-\n",
      "\n",
      "!colspan=8| ■■ Escape\n",
      "\n",
      "|-\n",
      "\n",
      "|{{HeroIcon|earth spirit}}{{HeroIcon|io}}{{HeroIcon|mk}}{{HeroIcon|phoenix}}{{HeroIcon|sk}}{{HeroIcon|timber}}{{HeroIcon|bh}}{{HeroIcon|meepo}}<br>{{HeroIcon|mirana}}{{HeroIcon|pl}}{{HeroIcon|riki}}{{HeroIcon|underlord}}{{HeroIcon|pangolier}}{{HeroIcon|dark willow}}\n",
      "\n",
      "|-\n",
      "\n",
      "!colspan=8| ■ Escape\n",
      "\n",
      "|-\n",
      "\n",
      "|{{HeroIcon|centaur}}{{HeroIcon|ls}}{{HeroIcon|lycan}}{{HeroIcon|magnus}}{{HeroIcon|slardar}}{{HeroIcon|sb}}{{HeroIcon|treant}}{{HeroIcon|void}}<br>{{HeroIcon|jugg}}{{HeroIcon|naga}}{{HeroIcon|nyx}}{{HeroIcon|pa}}{{HeroIcon|spectre}}{{HeroIcon|ta}}{{HeroIcon|venge}}{{HeroIcon|bat}}<br>{{HeroIcon|ds}}{{HeroIcon|invoker}}{{HeroIcon|np}}{{HeroIcon|oracle}}{{HeroIcon|wr}}\n",
      "\n",
      "|}\n",
      "\n",
      "\n",
      "\n",
      "==={{Support}}===\n",
      "\n",
      "----\n",
      "\n",
      "<big>''\"Can focus less on massing gold and items, and more on using their abilities to gain an advantage for the team.\"''</big>\n",
      "\n",
      "\n",
      "\n",
      "'''Supports''' are heroes who keep their allies alive and give them opportunities to earn more gold and experience. Supports will usually come with skills such as [[healing]] spells or disables, and generally have low damage output but a powerful (yet situational) nuke. Supports are typically not dependent on items. Most of their gold is spent on items for the benefit of the team, such as an [[Animal Courier]], [[Observer Ward]]s, or [[Sentry Ward]]s.\n",
      "\n",
      "\n",
      "\n",
      "Supports are paired with the team's carry at the start of a game. This is because the carry tends to be the weakest and most gold-hungry member of the team. A support should always try to forfeit kills to their team's carry, only securing the kill if none of their allies are able to do it. To protect and help their team control the lane in the early stages of the game is of high importance for a support. They are able to repel enemies and assist in lane survival. Common traits of supports are long range attacks and defensive abilities.\n",
      "\n",
      "\n",
      "\n",
      "{| class=\"wikitable\"\n",
      "\n",
      "!colspan=8| ■■■ Support\n",
      "\n",
      "|-\n",
      "\n",
      "|{{HeroIcon|io}}{{HeroIcon|tree}}{{HeroIcon|vs}}{{HeroIcon|cm}}{{HeroIcon|dazzle}}{{HeroIcon|kotl}}{{HeroIcon|lich}}{{HeroIcon|oracle}}<br>{{HeroIcon|ww}}{{HeroIcon|wd}}\n",
      "\n",
      "|-\n",
      "\n",
      "!colspan=8| ■■ Support\n",
      "\n",
      "|-\n",
      "\n",
      "|{{HeroIcon|abaddon}}{{HeroIcon|omni}}{{HeroIcon|veno}}{{HeroIcon|aa}}{{HeroIcon|bane}}{{HeroIcon|chen}}{{HeroIcon|dis}}{{HeroIcon|ench}}<br>{{HeroIcon|lion}}{{HeroIcon|ogre}}{{HeroIcon|rubick}}{{HeroIcon|sd}}{{HeroIcon|shaman}}{{HeroIcon|sky}}{{HeroIcon|dark willow}}\n",
      "\n",
      "|-\n",
      "\n",
      "!colspan=8| ■ Support\n",
      "\n",
      "|-\n",
      "\n",
      "|{{HeroIcon|alch}}{{HeroIcon|shaker}}{{HeroIcon|kunkka}}{{HeroIcon|phx}}{{HeroIcon|undying}}{{HeroIcon|wk}}{{HeroIcon|mirana}}{{HeroIcon|naga}}<br>{{HeroIcon|jak}}{{HeroIcon|lesh}}{{HeroIcon|lina}}{{HeroIcon|silencer}}{{HeroIcon|sk}}{{HeroIcon|underlord}}{{HeroIcon|visage}}{{HeroIcon|warlock}}<br>{{HeroIcon|wr}}\n",
      "\n",
      "|}\n",
      "\n",
      "\n",
      "\n",
      "==={{Pusher}}===\n",
      "\n",
      "----\n",
      "\n",
      "<big>''\"Can quickly siege and destroy towers and barracks at all points in the game.\"''</big>\n",
      "\n",
      "\n",
      "\n",
      "'''Pushers''' focus on bringing down [[towers]] quickly, thereby acquiring map control. If they succeed, they often shut down the enemy carry by forcing them away from farming. They have skills that fortify allied creep waves, [[summon]] units, or deal massive amounts of damage to enemy towers.\n",
      "\n",
      "\n",
      "\n",
      "{| class=\"wikitable\"\n",
      "\n",
      "!colspan=8| ■■■ Pusher\n",
      "\n",
      "|-\n",
      "\n",
      "|{{HeroIcon|dk}}{{HeroIcon|lycan}}{{HeroIcon|brood}}{{HeroIcon|ld}}{{HeroIcon|dp}}{{HeroIcon|lesh}}{{HeroIcon|np}}{{HeroIcon|shaman}}\n",
      "\n",
      "|-\n",
      "\n",
      "!colspan=8| ■■ Pusher\n",
      "\n",
      "|-\n",
      "\n",
      "|{{HeroIcon|ck}}{{HeroIcon|tiny}}{{HeroIcon|naga}}{{HeroIcon|tb}}{{HeroIcon|chen}}{{HeroIcon|ench}}{{HeroIcon|enigma}}{{HeroIcon|jak}}<br>{{HeroIcon|pugna}}{{HeroIcon|tinker}}\n",
      "\n",
      "|-\n",
      "\n",
      "!colspan=8| ■ Pusher\n",
      "\n",
      "|-\n",
      "\n",
      "|{{HeroIcon|clinkz}}{{HeroIcon|dr}}{{HeroIcon|jugg}}{{HeroIcon|luna}}{{HeroIcon|meep}}{{HeroIcon|pl}}{{HeroIcon|razor}}{{HeroIcon|troll}}<br>{{HeroIcon|veno}}{{HeroIcon|invo}}{{HeroIcon|visage}}\n",
      "\n",
      "|}\n",
      "\n",
      "\n",
      "\n",
      "==={{Jungler}}===\n",
      "\n",
      "----\n",
      "\n",
      "<big>''\"Can farm effectively from neutral creeps inside the jungle early in the game.\"''</big>\n",
      "\n",
      "\n",
      "\n",
      "'''Junglers''' can clear [[neutral camps]] at the start of the game. This allows for them to farm without interfering with the other lanes, which can allow allies to benefit from soloing their lane more. Junglers have skills that allow them to [[convert]] neutral creeps, [[summon]] units, or sustain themselves efficiently.\n",
      "\n",
      "\n",
      "\n",
      "{| class=\"wikitable\"\n",
      "\n",
      "!colspan=8| ■■■ Jungler\n",
      "\n",
      "|-\n",
      "\n",
      "|{{HeroIcon|chen}}{{HeroIcon|ench}}{{HeroIcon|enigma}}{{HeroIcon|np}}\n",
      "\n",
      "|-\n",
      "\n",
      "!colspan=8| ■■ Jungler\n",
      "\n",
      "|-\n",
      "\n",
      "|{{HeroIcon|axe}}{{HeroIcon|bat}}\n",
      "\n",
      "|-\n",
      "\n",
      "!colspan=8| ■ Jungler\n",
      "\n",
      "|-\n",
      "\n",
      "|{{HeroIcon|lifestealer}}{{HeroIcon|lycan}}{{HeroIcon|sk}}{{HeroIcon|bs}}{{HeroIcon|ld}}{{HeroIcon|ursa}}{{HeroIcon|cm}}{{HeroIcon|ds}}<br>{{HeroIcon|kotl}}\n",
      "\n",
      "|}\n",
      "\n",
      "\n",
      "\n"
     ]
    }
   ],
   "source": [
    "file = open('data/hero_role.txt', 'r')\n",
    "for line in file:\n",
    "    print(line)\n",
    "file.close()"
   ]
  },
  {
   "cell_type": "markdown",
   "metadata": {},
   "source": [
    "### 2.5.2 Analyzing hero complexity"
   ]
  },
  {
   "cell_type": "code",
   "execution_count": 19,
   "metadata": {},
   "outputs": [
    {
     "name": "stdout",
     "output_type": "stream",
     "text": [
      "==Complexity==\n",
      "\n",
      "Heroes can be sorted by overall complexity, taking all of their variables into account.\n",
      "\n",
      "\n",
      "\n",
      "Complexity levels: <br> &nbsp; ■■■ Advanced <br> &nbsp; ■■ Moderate <br> &nbsp; ■ Straightforward\n",
      "\n",
      "\n",
      "\n",
      "Heroes with advanced complexity take a high degree of skill and game knowledge to play well. <br>\n",
      "\n",
      "Heroes with moderate complexity are fairly flexible in terms of difficulty and method of play style. <br>\n",
      "\n",
      "Heroes with straightforward complexity more forgiving to play while still offering unique play styles.\n",
      "\n",
      "\n",
      "\n",
      "{| class=\"wikitable\"\n",
      "\n",
      "!colspan=8| ■■■ Complexity\n",
      "\n",
      "|-\n",
      "\n",
      "|{{HeroIcon|brewmaster}}{{HeroIcon|earth spirit}}{{HeroIcon|io}}{{HeroIcon|aw}}{{HeroIcon|ld}}{{HeroIcon|meepo}}{{HeroIcon|morph}}{{HeroIcon|chen}}<br>{{HeroIcon|invoker}}{{HeroIcon|oracle}}{{HeroIcon|rubick}}{{HeroIcon|storm}}{{HeroIcon|visage}}\n",
      "\n",
      "|-\n",
      "\n",
      "!colspan=8| ■■ Complexity\n",
      "\n",
      "|-\n",
      "\n",
      "|{{HeroIcon|beastmaster}}{{HeroIcon|clock}}{{HeroIcon|doom}}{{HeroIcon|earthshaker}}{{HeroIcon|et}}{{HeroIcon|kunkka}}{{HeroIcon|lifestealer}}{{HeroIcon|lycan}}<br>{{HeroIcon|magnus}}{{HeroIcon|mk}}{{HeroIcon|phx}}{{HeroIcon|pudge}}{{HeroIcon|sk}}{{HeroIcon|timber}}{{HeroIcon|tree}}{{HeroIcon|tusk}}<br>{{HeroIcon|underlord}}{{HeroIcon|brood}}{{HeroIcon|clinkz}}{{HeroIcon|ember}}{{HeroIcon|void}}{{HeroIcon|mirana}}{{HeroIcon|naga}}{{HeroIcon|nyx}}<br>{{HeroIcon|pl}}{{HeroIcon|sf}}{{HeroIcon|spectre}}{{HeroIcon|ta}}{{HeroIcon|tb}}{{HeroIcon|troll}}{{HeroIcon|weaver}}{{HeroIcon|aa}}<br>{{HeroIcon|bane}}{{HeroIcon|bat}}{{HeroIcon|ds}}{{HeroIcon|disruptor}}{{HeroIcon|enchant}}{{HeroIcon|enigma}}{{HeroIcon|kotl}}{{HeroIcon|np}}<br>{{HeroIcon|od}}{{HeroIcon|puck}}{{HeroIcon|pugna}}{{HeroIcon|qop}}{{HeroIcon|sd}}{{HeroIcon|silencer}}{{HeroIcon|techies}}{{HeroIcon|tinker}}<br>{{HeroIcon|wr}}{{HeroIcon|ww}}{{HeroIcon|pangolier}}{{HeroIcon|dark willow}}\n",
      "\n",
      "|-\n",
      "\n",
      "!colspan=8| ■ Complexity\n",
      "\n",
      "|-\n",
      "\n",
      "|{{HeroIcon|abaddon}}{{HeroIcon|alch}}{{HeroIcon|axe}}{{HeroIcon|bb}}{{HeroIcon|centaur}}{{HeroIcon|ck}}{{HeroIcon|dk}}{{HeroIcon|huskar}}<br>{{HeroIcon|lc}}{{HeroIcon|ns}}{{HeroIcon|omni}}{{HeroIcon|slardar}}{{HeroIcon|sb}}{{HeroIcon|sven}}{{HeroIcon|tide}}{{HeroIcon|tiny}}<br>{{HeroIcon|undying}}{{HeroIcon|wk}}{{HeroIcon|am}}{{HeroIcon|bs}}{{HeroIcon|bh}}{{HeroIcon|drow}}{{HeroIcon|gyro}}{{HeroIcon|jugg}}<br>{{HeroIcon|luna}}{{HeroIcon|medusa}}{{HeroIcon|pa}}{{HeroIcon|razor}}{{HeroIcon|riki}}{{HeroIcon|slark}}{{HeroIcon|sniper}}{{HeroIcon|ursa}}<br>{{HeroIcon|venge}}{{HeroIcon|veno}}{{HeroIcon|viper}}{{HeroIcon|cm}}{{HeroIcon|dazzle}}{{HeroIcon|dp}}{{HeroIcon|jak}}{{HeroIcon|lesh}}<br>{{HeroIcon|lich}}{{HeroIcon|lina}}{{HeroIcon|lion}}{{HeroIcon|necro}}{{HeroIcon|ogre}}{{HeroIcon|shaman}}{{HeroIcon|sky}}{{HeroIcon|warlock}}<br>{{HeroIcon|wd}}{{HeroIcon|zeus}}\n",
      "\n",
      "|}\n",
      "\n",
      "\n",
      "\n"
     ]
    }
   ],
   "source": [
    "file = open('data/hero_complexity.txt')\n",
    "for line in file:\n",
    "    print(line)\n",
    "file.close()"
   ]
  },
  {
   "cell_type": "code",
   "execution_count": null,
   "metadata": {},
   "outputs": [],
   "source": []
  }
 ],
 "metadata": {
  "kernelspec": {
   "display_name": "Python 3",
   "language": "python",
   "name": "python3"
  },
  "language_info": {
   "codemirror_mode": {
    "name": "ipython",
    "version": 3
   },
   "file_extension": ".py",
   "mimetype": "text/x-python",
   "name": "python",
   "nbconvert_exporter": "python",
   "pygments_lexer": "ipython3",
   "version": "3.6.4"
  }
 },
 "nbformat": 4,
 "nbformat_minor": 2
}
