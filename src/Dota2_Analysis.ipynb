{
 "cells": [
  {
   "cell_type": "markdown",
   "metadata": {},
   "source": [
    "# 0. Project Overview"
   ]
  },
  {
   "cell_type": "markdown",
   "metadata": {},
   "source": [
    "# 1. Data Collection  \n",
    "The data collection isn't done through this notebook since it can be very lengthy in terms of time so it is done in a seperate script. Furthermore, the API used by the python code isn't supported by Anaconda. To collect the data set you must perform the following operations:\n",
    "1. pip3 install -t ../dota2/requirements.txt\n",
    "2. python3 ../dota2/src/api_wrapper.py  \n",
    "\n",
    "The dataset will be saved in *../dota2/src/data/*  \n",
    "\n",
    "## 1.1 Files  \n",
    "1. match.json\n",
    "2. heroes.json\n",
    "3. items.json"
   ]
  },
  {
   "cell_type": "markdown",
   "metadata": {},
   "source": [
    "# 2 Data Discovery  \n",
    "The data is well structured in *.json* format already. So we start by observing their contents. The first step is to download the R package to read *.json* files if it is not already present."
   ]
  },
  {
   "cell_type": "markdown",
   "metadata": {},
   "source": [
    "Next we read the contents from the JSON files. We start off with the *match.json* since this is what the study will focus on."
   ]
  },
  {
   "cell_type": "code",
   "execution_count": 1,
   "metadata": {},
   "outputs": [
    {
     "name": "stdout",
     "output_type": "stream",
     "text": [
      "{'game_mode': 22, 'tower_status_dire': 1828, 'match_id': 3933472768, 'negative_votes': 0, 'picks_bans': [{'order': 0, 'hero_id': 32, 'team': 0, 'is_pick': False}, {'order': 1, 'hero_id': 44, 'team': 0, 'is_pick': False}, {'order': 2, 'hero_id': 105, 'team': 0, 'is_pick': False}], 'players': [{'gold_per_min': 382, 'leaver_status_name': 'NONE', 'item_5_name': 'Assault Cuirass', 'assists': 18, 'backpack_1': 0, 'item_2_name': 'Urn of Shadows', 'scaled_tower_damage': 58, 'last_hits': 119, 'backpack_2': 0, 'account_id': 167415941, 'backpack_0': 46, 'item_1_name': 'Dust of Appearance', 'item_0': 127, 'hero_name': 'Spirit Breaker', 'hero_healing': 280, 'level': 25, 'item_3_name': 'Power Treads', 'item_0_name': 'Blade Mail', 'item_4_name': \"Heaven's Halberd\", 'denies': 2, 'ability_upgrades': [{'ability': 5353, 'time': 276, 'level': 1}, {'ability': 5355, 'time': 462, 'level': 2}, {'ability': 5353, 'time': 629, 'level': 3}, {'ability': 5355, 'time': 730, 'level': 4}, {'ability': 5354, 'time': 897, 'level': 5}, {'ability': 5356, 'time': 1041, 'level': 6}, {'ability': 5353, 'time': 1152, 'level': 7}, {'ability': 5353, 'time': 1200, 'level': 8}, {'ability': 5354, 'time': 1255, 'level': 9}, {'ability': 5932, 'time': 1293, 'level': 10}, {'ability': 5355, 'time': 1574, 'level': 11}, {'ability': 5356, 'time': 1701, 'level': 12}, {'ability': 5355, 'time': 1755, 'level': 13}, {'ability': 5354, 'time': 1900, 'level': 14}, {'ability': 5940, 'time': 2068, 'level': 15}, {'ability': 5354, 'time': 2075, 'level': 16}, {'ability': 5356, 'time': 2179, 'level': 17}, {'ability': 6543, 'time': 2360, 'level': 18}, {'ability': 6149, 'time': 2859, 'level': 19}], 'player_slot': 0, 'item_2': 92, 'hero_damage': 22012, 'item_5': 112, 'tower_damage': 66, 'item_4': 210, 'gold_spent': 16355, 'scaled_hero_healing': 152, 'item_1': 40, 'leaver_status_description': 'finished match, no abandon', 'hero_id': 71, 'gold': 833, 'scaled_hero_damage': 12976, 'kills': 9, 'deaths': 8, 'item_3': 63, 'xp_per_min': 648, 'leaver_status': 0}, {'gold_per_min': 377, 'leaver_status_name': 'NONE', 'item_5_name': 'Black King Bar', 'assists': 9, 'backpack_1': 212, 'item_2_name': 'Power Treads', 'scaled_tower_damage': 194, 'last_hits': 243, 'backpack_2': 0, 'account_id': 4294967295, 'backpack_0': 0, 'item_1_name': 'Talisman of Evasion', 'item_0': 0, 'hero_name': 'Drow Ranger', 'hero_healing': 0, 'level': 22, 'item_3_name': 'Mask of Madness', 'item_4_name': 'Shadow Blade', 'denies': 7, 'ability_upgrades': [{'ability': 5021, 'time': 286, 'level': 1}, {'ability': 5632, 'time': 464, 'level': 2}, {'ability': 5021, 'time': 669, 'level': 3}, {'ability': 5019, 'time': 822, 'level': 4}, {'ability': 5632, 'time': 850, 'level': 5}, {'ability': 5022, 'time': 967, 'level': 6}, {'ability': 5632, 'time': 1107, 'level': 7}, {'ability': 5021, 'time': 1198, 'level': 8}, {'ability': 5021, 'time': 1308, 'level': 9}, {'ability': 5918, 'time': 1404, 'level': 10}, {'ability': 5632, 'time': 1513, 'level': 11}, {'ability': 5022, 'time': 1628, 'level': 12}, {'ability': 5019, 'time': 1682, 'level': 13}, {'ability': 5019, 'time': 1846, 'level': 14}, {'ability': 6016, 'time': 1995, 'level': 15}, {'ability': 5019, 'time': 2264, 'level': 16}, {'ability': 5022, 'time': 2314, 'level': 17}, {'ability': 6634, 'time': 2578, 'level': 18}], 'player_slot': 1, 'item_2': 63, 'hero_damage': 10614, 'item_5': 116, 'tower_damage': 261, 'item_4': 152, 'gold_spent': 13655, 'scaled_hero_healing': 0, 'item_1': 32, 'leaver_status_description': 'finished match, no abandon', 'hero_id': 6, 'gold': 2498, 'scaled_hero_damage': 4790, 'kills': 1, 'deaths': 9, 'item_3': 172, 'xp_per_min': 469, 'leaver_status': 0}, {'gold_per_min': 326, 'leaver_status_name': 'NONE', 'assists': 12, 'backpack_1': 0, 'item_2_name': 'Urn of Shadows', 'scaled_tower_damage': 161, 'last_hits': 37, 'backpack_2': 0, 'account_id': 4294967295, 'backpack_0': 0, 'item_1_name': \"Eul's Scepter of Divinity\", 'item_0': 223, 'hero_name': 'Nyx Assassin', 'hero_healing': 0, 'level': 21, 'item_3_name': 'Arcane Boots', 'item_4_name': 'Observer and Sentry Wards', 'denies': 3, 'ability_upgrades': [{'ability': 5462, 'time': 368, 'level': 1}, {'ability': 5463, 'time': 460, 'level': 2}, {'ability': 5462, 'time': 591, 'level': 3}, {'ability': 5464, 'time': 808, 'level': 4}, {'ability': 5462, 'time': 930, 'level': 5}, {'ability': 5465, 'time': 1023, 'level': 6}, {'ability': 5462, 'time': 1303, 'level': 7}, {'ability': 5464, 'time': 1306, 'level': 8}, {'ability': 5464, 'time': 1309, 'level': 9}, {'ability': 5956, 'time': 1378, 'level': 10}, {'ability': 5464, 'time': 1459, 'level': 11}, {'ability': 5465, 'time': 1483, 'level': 12}, {'ability': 5463, 'time': 1581, 'level': 13}, {'ability': 5463, 'time': 1711, 'level': 14}, {'ability': 6077, 'time': 1905, 'level': 15}, {'ability': 5463, 'time': 2064, 'level': 16}, {'ability': 5465, 'time': 2514, 'level': 17}, {'ability': 6399, 'time': 2787, 'level': 18}], 'player_slot': 2, 'item_2': 92, 'hero_damage': 14186, 'item_5': 0, 'tower_damage': 219, 'item_4': 218, 'gold_spent': 14470, 'scaled_hero_healing': 0, 'item_1': 100, 'leaver_status_description': 'finished match, no abandon', 'hero_id': 88, 'gold': 157, 'scaled_hero_damage': 7562, 'kills': 5, 'deaths': 11, 'item_3': 180, 'xp_per_min': 413, 'leaver_status': 0}, {'gold_per_min': 595, 'leaver_status_name': 'NONE', 'item_5_name': 'Daedalus', 'assists': 5, 'backpack_1': 0, 'item_2_name': 'Boots of Travel', 'scaled_tower_damage': 2011, 'last_hits': 377, 'backpack_2': 0, 'account_id': 314390062, 'backpack_0': 0, 'item_1_name': 'Battle Fury', 'item_0': 123, 'hero_name': 'Ember Spirit', 'hero_healing': 0, 'level': 25, 'item_3_name': 'Daedalus', 'item_0_name': \"Linken's Sphere\", 'item_4_name': 'Bottle', 'denies': 10, 'ability_upgrades': [{'ability': 5605, 'time': 382, 'level': 1}, {'ability': 5603, 'time': 419, 'level': 2}, {'ability': 5605, 'time': 487, 'level': 3}, {'ability': 5603, 'time': 541, 'level': 4}, {'ability': 5605, 'time': 652, 'level': 5}, {'ability': 5606, 'time': 740, 'level': 6}, {'ability': 5605, 'time': 812, 'level': 7}, {'ability': 5603, 'time': 901, 'level': 8}, {'ability': 5603, 'time': 1025, 'level': 9}, {'ability': 6009, 'time': 1113, 'level': 10}, {'ability': 5604, 'time': 1153, 'level': 11}, {'ability': 5606, 'time': 1268, 'level': 12}, {'ability': 5604, 'time': 1298, 'level': 13}, {'ability': 5604, 'time': 1350, 'level': 14}, {'ability': 5604, 'time': 1455, 'level': 15}, {'ability': 6647, 'time': 1570, 'level': 16}, {'ability': 5606, 'time': 1786, 'level': 17}, {'ability': 6922, 'time': 1979, 'level': 18}, {'ability': 7050, 'time': 2519, 'level': 19}], 'player_slot': 3, 'item_2': 48, 'hero_damage': 37794, 'item_5': 141, 'tower_damage': 3039, 'item_4': 41, 'gold_spent': 26815, 'scaled_hero_healing': 0, 'item_1': 145, 'leaver_status_description': 'finished match, no abandon', 'hero_id': 106, 'gold': 316, 'scaled_hero_damage': 17834, 'kills': 12, 'deaths': 7, 'item_3': 141, 'xp_per_min': 779, 'leaver_status': 0}, {'gold_per_min': 428, 'leaver_status_name': 'NONE', 'item_5_name': 'Skull Basher', 'assists': 11, 'backpack_1': 212, 'item_2_name': 'Town Portal Scroll', 'scaled_tower_damage': 110, 'last_hits': 217, 'backpack_2': 182, 'account_id': 255288415, 'backpack_0': 40, 'item_1_name': 'Echo Sabre', 'item_0': 152, 'hero_name': 'Slark', 'hero_healing': 0, 'level': 25, 'item_3_name': 'Magic Wand', 'item_0_name': 'Shadow Blade', 'item_4_name': 'Power Treads', 'denies': 8, 'ability_upgrades': [{'ability': 5495, 'time': 402, 'level': 1}, {'ability': 5496, 'time': 469, 'level': 2}, {'ability': 5494, 'time': 532, 'level': 3}, {'ability': 5494, 'time': 619, 'level': 4}, {'ability': 5494, 'time': 730, 'level': 5}, {'ability': 5497, 'time': 855, 'level': 6}, {'ability': 5494, 'time': 1024, 'level': 7}, {'ability': 5495, 'time': 1076, 'level': 8}, {'ability': 5495, 'time': 1108, 'level': 9}, {'ability': 6029, 'time': 1177, 'level': 10}, {'ability': 5495, 'time': 1290, 'level': 11}, {'ability': 5497, 'time': 1335, 'level': 12}, {'ability': 5496, 'time': 1489, 'level': 13}, {'ability': 5496, 'time': 1608, 'level': 14}, {'ability': 6078, 'time': 1693, 'level': 15}, {'ability': 5496, 'time': 1778, 'level': 16}, {'ability': 5497, 'time': 2133, 'level': 17}, {'ability': 6147, 'time': 2317, 'level': 18}, {'ability': 6894, 'time': 3037, 'level': 19}], 'player_slot': 4, 'item_2': 46, 'hero_damage': 24881, 'item_5': 143, 'tower_damage': 223, 'item_4': 63, 'gold_spent': 14675, 'scaled_hero_healing': 0, 'item_1': 252, 'leaver_status_description': 'finished match, no abandon', 'hero_id': 93, 'gold': 4782, 'scaled_hero_damage': 12834, 'kills': 8, 'deaths': 13, 'item_3': 36, 'xp_per_min': 612, 'leaver_status': 0}, {'gold_per_min': 642, 'leaver_status_name': 'NONE', 'item_5_name': 'Mjollnir', 'assists': 12, 'backpack_1': 40, 'item_2_name': 'Silver Edge', 'scaled_tower_damage': 6215, 'last_hits': 286, 'backpack_2': 0, 'account_id': 176501847, 'backpack_0': 46, 'item_1_name': 'Black King Bar', 'item_0': 63, 'hero_name': 'Dragon Knight', 'hero_healing': 0, 'level': 25, 'item_3_name': 'Assault Cuirass', 'item_0_name': 'Power Treads', 'item_4_name': 'Sange and Yasha', 'denies': 13, 'ability_upgrades': [{'ability': 5226, 'time': 384, 'level': 1}, {'ability': 5228, 'time': 413, 'level': 2}, {'ability': 5228, 'time': 490, 'level': 3}, {'ability': 5227, 'time': 544, 'level': 4}, {'ability': 5226, 'time': 603, 'level': 5}, {'ability': 5226, 'time': 679, 'level': 6}, {'ability': 5226, 'time': 751, 'level': 7}, {'ability': 5229, 'time': 878, 'level': 8}, {'ability': 5228, 'time': 936, 'level': 9}, {'ability': 5961, 'time': 994, 'level': 10}, {'ability': 5228, 'time': 1047, 'level': 11}, {'ability': 5229, 'time': 1109, 'level': 12}, {'ability': 5227, 'time': 1292, 'level': 13}, {'ability': 5227, 'time': 1417, 'level': 14}, {'ability': 5993, 'time': 1552, 'level': 15}, {'ability': 5227, 'time': 1654, 'level': 16}, {'ability': 5229, 'time': 1861, 'level': 17}, {'ability': 5957, 'time': 1972, 'level': 18}, {'ability': 6635, 'time': 2730, 'level': 19}], 'player_slot': 128, 'item_2': 249, 'hero_damage': 22402, 'item_5': 158, 'tower_damage': 9828, 'item_4': 154, 'gold_spent': 29740, 'scaled_hero_healing': 0, 'item_1': 116, 'leaver_status_description': 'finished match, no abandon', 'hero_id': 49, 'gold': 964, 'scaled_hero_damage': 14518, 'kills': 11, 'deaths': 6, 'item_3': 112, 'xp_per_min': 686, 'leaver_status': 0}, {'gold_per_min': 541, 'leaver_status_name': 'NONE', 'assists': 18, 'backpack_1': 0, 'item_2_name': 'Phase Boots', 'scaled_tower_damage': 839, 'last_hits': 253, 'backpack_2': 0, 'account_id': 86549261, 'backpack_0': 0, 'item_1_name': \"Linken's Sphere\", 'item_0': 112, 'hero_name': 'Bloodseeker', 'hero_healing': 2169, 'level': 25, 'item_3_name': 'Sange and Yasha', 'item_0_name': 'Assault Cuirass', 'item_4_name': 'Black King Bar', 'denies': 16, 'ability_upgrades': [{'ability': 5015, 'time': 400, 'level': 1}, {'ability': 5017, 'time': 450, 'level': 2}, {'ability': 5017, 'time': 532, 'level': 3}, {'ability': 5016, 'time': 623, 'level': 4}, {'ability': 5017, 'time': 727, 'level': 5}, {'ability': 5018, 'time': 819, 'level': 6}, {'ability': 5017, 'time': 892, 'level': 7}, {'ability': 5015, 'time': 947, 'level': 8}, {'ability': 5016, 'time': 1037, 'level': 9}, {'ability': 5934, 'time': 1098, 'level': 10}, {'ability': 5016, 'time': 1184, 'level': 11}, {'ability': 5018, 'time': 1340, 'level': 12}, {'ability': 5016, 'time': 1433, 'level': 13}, {'ability': 5015, 'time': 1564, 'level': 14}, {'ability': 5993, 'time': 1704, 'level': 15}, {'ability': 5015, 'time': 1826, 'level': 16}, {'ability': 5018, 'time': 1958, 'level': 17}, {'ability': 6111, 'time': 2280, 'level': 18}, {'ability': 6230, 'time': 2793, 'level': 19}], 'player_slot': 129, 'item_2': 50, 'hero_damage': 28709, 'item_5': 0, 'tower_damage': 1268, 'item_4': 116, 'gold_spent': 22060, 'scaled_hero_healing': 587, 'item_1': 123, 'leaver_status_description': 'finished match, no abandon', 'hero_id': 4, 'gold': 1006, 'scaled_hero_damage': 20209, 'kills': 13, 'deaths': 8, 'item_3': 154, 'xp_per_min': 677, 'leaver_status': 0}, {'gold_per_min': 239, 'leaver_status_name': 'NONE', 'item_5_name': 'Arcane Boots', 'assists': 19, 'backpack_1': 0, 'item_2_name': 'Magic Wand', 'scaled_tower_damage': 145, 'last_hits': 33, 'backpack_2': 0, 'account_id': 366927995, 'backpack_0': 0, 'item_1_name': 'Rod of Atos', 'item_0': 46, 'hero_name': 'Skywrath Mage', 'hero_healing': 0, 'level': 18, 'item_0_name': 'Town Portal Scroll', 'item_4_name': 'Observer and Sentry Wards', 'denies': 1, 'ability_upgrades': [{'ability': 5581, 'time': 311, 'level': 1}, {'ability': 5582, 'time': 449, 'level': 2}, {'ability': 5581, 'time': 575, 'level': 3}, {'ability': 5583, 'time': 702, 'level': 4}, {'ability': 5581, 'time': 869, 'level': 5}, {'ability': 5584, 'time': 1031, 'level': 6}, {'ability': 5581, 'time': 1185, 'level': 7}, {'ability': 5583, 'time': 1348, 'level': 8}, {'ability': 5583, 'time': 1415, 'level': 9}, {'ability': 5919, 'time': 1548, 'level': 10}, {'ability': 5583, 'time': 1830, 'level': 11}, {'ability': 5584, 'time': 1921, 'level': 12}, {'ability': 5582, 'time': 1965, 'level': 13}, {'ability': 5582, 'time': 2223, 'level': 14}, {'ability': 6884, 'time': 2284, 'level': 15}, {'ability': 5582, 'time': 2692, 'level': 16}, {'ability': 5584, 'time': 3026, 'level': 17}], 'player_slot': 130, 'item_2': 36, 'hero_damage': 11660, 'item_5': 180, 'tower_damage': 211, 'item_4': 218, 'gold_spent': 10115, 'scaled_hero_healing': 0, 'item_1': 206, 'leaver_status_description': 'finished match, no abandon', 'hero_id': 101, 'gold': 635, 'scaled_hero_damage': 6914, 'kills': 1, 'deaths': 10, 'item_3': 0, 'xp_per_min': 317, 'leaver_status': 0}, {'gold_per_min': 503, 'leaver_status_name': 'NONE', 'item_5_name': 'Void Stone', 'assists': 8, 'backpack_1': 0, 'item_2_name': 'Blink Dagger', 'scaled_tower_damage': 1079, 'last_hits': 237, 'backpack_2': 0, 'account_id': 134962710, 'backpack_0': 0, 'item_1_name': 'Demon Edge', 'item_0': 50, 'hero_name': 'Kunkka', 'hero_healing': 0, 'level': 24, 'item_3_name': 'Daedalus', 'item_0_name': 'Phase Boots', 'item_4_name': 'Daedalus', 'denies': 4, 'ability_upgrades': [{'ability': 5032, 'time': 361, 'level': 1}, {'ability': 5031, 'time': 438, 'level': 2}, {'ability': 5032, 'time': 509, 'level': 3}, {'ability': 5031, 'time': 583, 'level': 4}, {'ability': 5032, 'time': 673, 'level': 5}, {'ability': 5035, 'time': 712, 'level': 6}, {'ability': 5032, 'time': 775, 'level': 7}, {'ability': 5031, 'time': 856, 'level': 8}, {'ability': 5033, 'time': 940, 'level': 9}, {'ability': 5940, 'time': 1129, 'level': 10}, {'ability': 5031, 'time': 1152, 'level': 11}, {'ability': 5035, 'time': 1189, 'level': 12}, {'ability': 5033, 'time': 1433, 'level': 13}, {'ability': 5033, 'time': 1500, 'level': 14}, {'ability': 6385, 'time': 1611, 'level': 15}, {'ability': 5033, 'time': 1771, 'level': 16}, {'ability': 5035, 'time': 1997, 'level': 17}, {'ability': 5984, 'time': 2355, 'level': 18}], 'player_slot': 131, 'item_2': 1, 'hero_damage': 18783, 'item_5': 57, 'tower_damage': 1482, 'item_4': 141, 'gold_spent': 21490, 'scaled_hero_healing': 0, 'item_1': 51, 'leaver_status_description': 'finished match, no abandon', 'hero_id': 23, 'gold': 964, 'scaled_hero_damage': 15322, 'kills': 11, 'deaths': 7, 'item_3': 141, 'xp_per_min': 580, 'leaver_status': 0}, {'gold_per_min': 508, 'leaver_status_name': 'NONE', 'item_5_name': 'Desolator', 'assists': 10, 'backpack_1': 46, 'item_2_name': 'Power Treads', 'scaled_tower_damage': 3829, 'last_hits': 237, 'backpack_2': 182, 'account_id': 120802515, 'backpack_0': 11, 'item_1_name': 'Black King Bar', 'item_0': 152, 'hero_name': 'Legion Commander', 'hero_healing': 1445, 'level': 25, 'item_3_name': \"Eul's Scepter of Divinity\", 'item_0_name': 'Shadow Blade', 'item_4_name': 'Daedalus', 'denies': 3, 'ability_upgrades': [{'ability': 5595, 'time': 405, 'level': 1}, {'ability': 5597, 'time': 441, 'level': 2}, {'ability': 5596, 'time': 612, 'level': 3}, {'ability': 5595, 'time': 801, 'level': 4}, {'ability': 5597, 'time': 881, 'level': 5}, {'ability': 5598, 'time': 969, 'level': 6}, {'ability': 5595, 'time': 1043, 'level': 7}, {'ability': 5595, 'time': 1185, 'level': 8}, {'ability': 5596, 'time': 1236, 'level': 9}, {'ability': 5987, 'time': 1397, 'level': 10}, {'ability': 5596, 'time': 1445, 'level': 11}, {'ability': 5598, 'time': 1558, 'level': 12}, {'ability': 5596, 'time': 1638, 'level': 13}, {'ability': 5597, 'time': 1812, 'level': 14}, {'ability': 5907, 'time': 1919, 'level': 15}, {'ability': 5597, 'time': 2044, 'level': 16}, {'ability': 5598, 'time': 2114, 'level': 17}, {'ability': 6526, 'time': 2281, 'level': 18}, {'ability': 6449, 'time': 2794, 'level': 19}], 'player_slot': 132, 'item_2': 63, 'hero_damage': 21341, 'item_5': 168, 'tower_damage': 5870, 'item_4': 141, 'gold_spent': 21695, 'scaled_hero_healing': 1029, 'item_1': 116, 'leaver_status_description': 'finished match, no abandon', 'hero_id': 104, 'gold': 1238, 'scaled_hero_damage': 14443, 'kills': 12, 'deaths': 5, 'item_3': 100, 'xp_per_min': 674, 'leaver_status': 0}], 'flags': 1, 'radiant_score': 36, 'barracks_status_dire': 63, 'engine': 1, 'start_time': 1528135893, 'duration': 2765, 'barracks_status_radiant': 0, 'game_mode_name': 'Ranked All Pick', 'leagueid': 0, 'positive_votes': 0, 'pre_game_duration': 90, 'cluster_name': 'Southeast Asia', 'match_seq_num': 3412777443, 'cluster': 153, 'tower_status_radiant': 0, 'lobby_type': 0, 'radiant_win': False, 'first_blood_time': 83, 'lobby_name': 'Public matchmaking', 'dire_score': 48, 'human_players': 10}\n"
     ]
    }
   ],
   "source": [
    "import json\n",
    "with open('data/match.json') as f:\n",
    "    raw_match_data = json.load(f)\n",
    "\n",
    "# print first value\n",
    "for keys in raw_match_data:\n",
    "    print(raw_match_data[keys])\n",
    "    break"
   ]
  },
  {
   "cell_type": "markdown",
   "metadata": {},
   "source": [
    "We notice that there is a HUGE amount of information. Most of this data comes from the **players** key from the dictionary. "
   ]
  },
  {
   "cell_type": "markdown",
   "metadata": {},
   "source": [
    "## 2.1 Breaking down the matches dictionary  \n",
    "### 2.1.1  Analyzing the player key\n",
    "We first seperate the **players** key from the rest of the data"
   ]
  },
  {
   "cell_type": "code",
   "execution_count": 2,
   "metadata": {},
   "outputs": [
    {
     "name": "stdout",
     "output_type": "stream",
     "text": [
      "{'gold_per_min': 382, 'leaver_status_name': 'NONE', 'item_5_name': 'Assault Cuirass', 'assists': 18, 'backpack_1': 0, 'item_2_name': 'Urn of Shadows', 'scaled_tower_damage': 58, 'last_hits': 119, 'backpack_2': 0, 'account_id': 167415941, 'backpack_0': 46, 'item_1_name': 'Dust of Appearance', 'item_0': 127, 'hero_name': 'Spirit Breaker', 'hero_healing': 280, 'level': 25, 'item_3_name': 'Power Treads', 'item_0_name': 'Blade Mail', 'item_4_name': \"Heaven's Halberd\", 'denies': 2, 'ability_upgrades': [{'ability': 5353, 'time': 276, 'level': 1}, {'ability': 5355, 'time': 462, 'level': 2}, {'ability': 5353, 'time': 629, 'level': 3}, {'ability': 5355, 'time': 730, 'level': 4}, {'ability': 5354, 'time': 897, 'level': 5}, {'ability': 5356, 'time': 1041, 'level': 6}, {'ability': 5353, 'time': 1152, 'level': 7}, {'ability': 5353, 'time': 1200, 'level': 8}, {'ability': 5354, 'time': 1255, 'level': 9}, {'ability': 5932, 'time': 1293, 'level': 10}, {'ability': 5355, 'time': 1574, 'level': 11}, {'ability': 5356, 'time': 1701, 'level': 12}, {'ability': 5355, 'time': 1755, 'level': 13}, {'ability': 5354, 'time': 1900, 'level': 14}, {'ability': 5940, 'time': 2068, 'level': 15}, {'ability': 5354, 'time': 2075, 'level': 16}, {'ability': 5356, 'time': 2179, 'level': 17}, {'ability': 6543, 'time': 2360, 'level': 18}, {'ability': 6149, 'time': 2859, 'level': 19}], 'player_slot': 0, 'item_2': 92, 'hero_damage': 22012, 'item_5': 112, 'tower_damage': 66, 'item_4': 210, 'gold_spent': 16355, 'scaled_hero_healing': 152, 'item_1': 40, 'leaver_status_description': 'finished match, no abandon', 'hero_id': 71, 'gold': 833, 'scaled_hero_damage': 12976, 'kills': 9, 'deaths': 8, 'item_3': 63, 'xp_per_min': 648, 'leaver_status': 0}\n"
     ]
    }
   ],
   "source": [
    "for keys in raw_match_data:\n",
    "    print(raw_match_data[keys]['players'][0])\n",
    "    break"
   ]
  },
  {
   "cell_type": "code",
   "execution_count": 3,
   "metadata": {},
   "outputs": [],
   "source": [
    "import pandas as pd\n",
    "for keys in raw_match_data:\n",
    "    try:\n",
    "        del raw_match_data[keys]['players'][0]['ability_upgrades']\n",
    "        player_0 = raw_match_data[keys]['players'][0]\n",
    "        player = pd.DataFrame(player_0, index=[0])        \n",
    "    except KeyError:\n",
    "        pass\n",
    "    break"
   ]
  },
  {
   "cell_type": "code",
   "execution_count": 37,
   "metadata": {},
   "outputs": [
    {
     "data": {
      "text/plain": [
       "account_id                                    167415941\n",
       "assists                                              18\n",
       "backpack_0                                           46\n",
       "backpack_1                                            0\n",
       "backpack_2                                            0\n",
       "deaths                                                8\n",
       "denies                                                2\n",
       "gold                                                833\n",
       "gold_per_min                                        382\n",
       "gold_spent                                        16355\n",
       "hero_damage                                       22012\n",
       "hero_healing                                        280\n",
       "hero_id                                              71\n",
       "hero_name                                Spirit Breaker\n",
       "item_0                                              127\n",
       "item_0_name                                  Blade Mail\n",
       "item_1                                               40\n",
       "item_1_name                          Dust of Appearance\n",
       "item_2                                               92\n",
       "item_2_name                              Urn of Shadows\n",
       "item_3                                               63\n",
       "item_3_name                                Power Treads\n",
       "item_4                                              210\n",
       "item_4_name                            Heaven's Halberd\n",
       "item_5                                              112\n",
       "item_5_name                             Assault Cuirass\n",
       "kills                                                 9\n",
       "last_hits                                           119\n",
       "leaver_status                                         0\n",
       "leaver_status_description    finished match, no abandon\n",
       "leaver_status_name                                 NONE\n",
       "level                                                25\n",
       "player_slot                                           0\n",
       "scaled_hero_damage                                12976\n",
       "scaled_hero_healing                                 152\n",
       "scaled_tower_damage                                  58\n",
       "tower_damage                                         66\n",
       "xp_per_min                                          648\n",
       "Name: 0, dtype: object"
      ]
     },
     "execution_count": 37,
     "metadata": {},
     "output_type": "execute_result"
    }
   ],
   "source": [
    "player.iloc[0]"
   ]
  },
  {
   "cell_type": "markdown",
   "metadata": {},
   "source": [
    "### 2.1.2  Analyzing the rest of the keys \n",
    "Then we look at the rest of the keys"
   ]
  },
  {
   "cell_type": "code",
   "execution_count": 5,
   "metadata": {},
   "outputs": [
    {
     "name": "stdout",
     "output_type": "stream",
     "text": [
      "game_mode: 22\n",
      "tower_status_dire: 1828\n",
      "match_id: 3933472768\n",
      "negative_votes: 0\n",
      "picks_bans: [{'order': 0, 'hero_id': 32, 'team': 0, 'is_pick': False}, {'order': 1, 'hero_id': 44, 'team': 0, 'is_pick': False}, {'order': 2, 'hero_id': 105, 'team': 0, 'is_pick': False}]\n",
      "flags: 1\n",
      "radiant_score: 36\n",
      "barracks_status_dire: 63\n",
      "engine: 1\n",
      "start_time: 1528135893\n",
      "duration: 2765\n",
      "barracks_status_radiant: 0\n",
      "game_mode_name: Ranked All Pick\n",
      "leagueid: 0\n",
      "positive_votes: 0\n",
      "pre_game_duration: 90\n",
      "cluster_name: Southeast Asia\n",
      "match_seq_num: 3412777443\n",
      "cluster: 153\n",
      "tower_status_radiant: 0\n",
      "lobby_type: 0\n",
      "radiant_win: False\n",
      "first_blood_time: 83\n",
      "lobby_name: Public matchmaking\n",
      "dire_score: 48\n",
      "human_players: 10\n"
     ]
    }
   ],
   "source": [
    "for keys in raw_match_data:\n",
    "    for k in raw_match_data[keys]:\n",
    "        if k == 'players':\n",
    "            pass\n",
    "        else:\n",
    "            print(k + \": \" + str(raw_match_data[keys][k]))\n",
    "    break"
   ]
  },
  {
   "cell_type": "markdown",
   "metadata": {},
   "source": [
    "We have analyzed this long enough, we can start creating the tables by ommitting the **ability_upgrades** key since it is variable and not that impactful. We also seperate the player data from the rest as both do not possess the same dimensions"
   ]
  },
  {
   "cell_type": "markdown",
   "metadata": {},
   "source": [
    "## 2.2 Analyzing the items dictionary"
   ]
  },
  {
   "cell_type": "code",
   "execution_count": 6,
   "metadata": {},
   "outputs": [],
   "source": [
    "with open('data/items.json') as f:\n",
    "    raw_item_data = json.load(f)"
   ]
  },
  {
   "cell_type": "code",
   "execution_count": 7,
   "metadata": {},
   "outputs": [
    {
     "name": "stdout",
     "output_type": "stream",
     "text": [
      "items\n",
      "status\n"
     ]
    }
   ],
   "source": [
    "for key in raw_item_data:\n",
    "    print(key)"
   ]
  },
  {
   "cell_type": "code",
   "execution_count": 8,
   "metadata": {},
   "outputs": [
    {
     "name": "stdout",
     "output_type": "stream",
     "text": [
      "<class 'list'>\n"
     ]
    }
   ],
   "source": [
    "print(type(raw_item_data['items']))"
   ]
  },
  {
   "cell_type": "code",
   "execution_count": 9,
   "metadata": {},
   "outputs": [
    {
     "name": "stdout",
     "output_type": "stream",
     "text": [
      "{'id': 1, 'localized_name': 'Blink Dagger', 'name': 'item_blink', 'recipe': 0, 'secret_shop': 0, 'url_image': 'http://cdn.dota2.com/apps/dota2/images/items/blink_lg.png', 'cost': 2250, 'side_shop': 1}\n"
     ]
    }
   ],
   "source": [
    "print(raw_item_data['items'][0])"
   ]
  },
  {
   "cell_type": "markdown",
   "metadata": {},
   "source": [
    "## 2.3 Analyzing the heroes dictionary"
   ]
  },
  {
   "cell_type": "code",
   "execution_count": 10,
   "metadata": {},
   "outputs": [],
   "source": [
    "with open('data/heroes.json') as f:\n",
    "    raw_hero_data = json.load(f)"
   ]
  },
  {
   "cell_type": "code",
   "execution_count": 11,
   "metadata": {},
   "outputs": [
    {
     "name": "stdout",
     "output_type": "stream",
     "text": [
      "heroes\n",
      "status\n",
      "count\n"
     ]
    }
   ],
   "source": [
    "for key in raw_hero_data:\n",
    "    print(key)"
   ]
  },
  {
   "cell_type": "code",
   "execution_count": 12,
   "metadata": {},
   "outputs": [
    {
     "name": "stdout",
     "output_type": "stream",
     "text": [
      "115\n"
     ]
    }
   ],
   "source": [
    "print(raw_hero_data['count'])"
   ]
  },
  {
   "cell_type": "code",
   "execution_count": 13,
   "metadata": {},
   "outputs": [
    {
     "name": "stdout",
     "output_type": "stream",
     "text": [
      "<class 'list'>\n"
     ]
    }
   ],
   "source": [
    "print(type(raw_hero_data['heroes']))"
   ]
  },
  {
   "cell_type": "code",
   "execution_count": 14,
   "metadata": {},
   "outputs": [
    {
     "name": "stdout",
     "output_type": "stream",
     "text": [
      "{'url_small_portrait': 'http://cdn.dota2.com/apps/dota2/images/heroes/antimage_sb.png', 'id': 1, 'name': 'npc_dota_hero_antimage', 'localized_name': 'Anti-Mage', 'url_large_portrait': 'http://cdn.dota2.com/apps/dota2/images/heroes/antimage_lg.png', 'url_full_portrait': 'http://cdn.dota2.com/apps/dota2/images/heroes/antimage_full.png', 'url_vertical_portrait': 'http://cdn.dota2.com/apps/dota2/images/heroes/antimage_vert.jpg'}\n"
     ]
    }
   ],
   "source": [
    "print(raw_hero_data['heroes'][0])"
   ]
  },
  {
   "cell_type": "markdown",
   "metadata": {},
   "source": [
    "## 2.4 Analyzing game complexity"
   ]
  },
  {
   "cell_type": "code",
   "execution_count": 15,
   "metadata": {},
   "outputs": [],
   "source": [
    "import math\n",
    "item_count = len(raw_item_data['items'])\n",
    "heroes_count = len(raw_hero_data['heroes'])\n",
    "heroes_per_game = 10\n",
    "items_per_hero = 6\n",
    "\n",
    "# hero combinations without repetition\n",
    "numerator = math.factorial(heroes_count)\n",
    "denominator = math.factorial(heroes_per_game) * math.factorial(heroes_count - heroes_per_game)\n",
    "hero_combinations = numerator // denominator\n",
    "\n",
    "# item combinations with repetition\n",
    "numerator = math.factorial(item_count + items_per_hero - 1)\n",
    "denominator = math.factorial(item_count - 1) * math.factorial(items_per_hero)\n",
    "item_combinations = numerator // denominator"
   ]
  },
  {
   "cell_type": "code",
   "execution_count": 16,
   "metadata": {},
   "outputs": [
    {
     "name": "stdout",
     "output_type": "stream",
     "text": [
      "74540394223878\n",
      "594115882360\n"
     ]
    }
   ],
   "source": [
    "print(hero_combinations)\n",
    "print(item_combinations)"
   ]
  },
  {
   "cell_type": "code",
   "execution_count": 17,
   "metadata": {},
   "outputs": [
    {
     "name": "stdout",
     "output_type": "stream",
     "text": [
      "44285632085781525350992080\n"
     ]
    },
    {
     "data": {
      "text/plain": [
       "'4.43e+25'"
      ]
     },
     "execution_count": 17,
     "metadata": {},
     "output_type": "execute_result"
    }
   ],
   "source": [
    "# Theorycraft combinations\n",
    "theory_craft_combination = hero_combinations * item_combinations\n",
    "print(theory_craft_combination)\n",
    "'{:.2e}'.format(theory_craft_combination)"
   ]
  },
  {
   "cell_type": "markdown",
   "metadata": {},
   "source": [
    "## 2.5 Reducing game complexity with data classification"
   ]
  },
  {
   "cell_type": "markdown",
   "metadata": {},
   "source": [
    "### 2.5.1 Analyzing hero roles"
   ]
  },
  {
   "cell_type": "code",
   "execution_count": 18,
   "metadata": {},
   "outputs": [
    {
     "name": "stdout",
     "output_type": "stream",
     "text": [
      "{| class=\"wikitable\"\n",
      "!colspan=8| ■■■ Carry\n",
      "|-\n",
      "|{{HeroIcon|am}}{{HeroIcon|arc}}{{HeroIcon|ck}}{{HeroIcon|gyro}}{{HeroIcon|medusa}}{{HeroIcon|morph}}{{HeroIcon|naga}}{{HeroIcon|pa}}<br>{{HeroIcon|sniper}}{{HeroIcon|spectre}}{{HeroIcon|tb}}{{HeroIcon|tiny}}{{HeroIcon|troll}}\n",
      "|-\n",
      "!colspan=8| ■■ Carry\n",
      "|-\n",
      "|{{HeroIcon|alch}}{{HeroIcon|bb}}{{HeroIcon|dk}}{{HeroIcon|huskar}}{{HeroIcon|ls}}{{HeroIcon|lycan}}{{HeroIcon|mk}}{{HeroIcon|slardar}}<br>{{HeroIcon|sven}}{{HeroIcon|wk}}{{HeroIcon|clinkz}}{{HeroIcon|drow}}{{HeroIcon|ember}}{{HeroIcon|void}}{{HeroIcon|jugg}}{{HeroIcon|ld}}<br>{{HeroIcon|luna}}{{HeroIcon|meepo}}{{HeroIcon|pl}}{{HeroIcon|razor}}{{HeroIcon|riki}}{{HeroIcon|sf}}{{HeroIcon|slark}}{{HeroIcon|ta}}<br>{{HeroIcon|ursa}}{{HeroIcon|weaver}}{{HeroIcon|od}}{{HeroIcon|storm}}{{HeroIcon|pangolier}}\n",
      "|-\n",
      "!colspan=8| ■ Carry\n",
      "|-\n",
      "|{{HeroIcon|abaddon}}{{HeroIcon|brew}}{{HeroIcon|doom}}{{HeroIcon|kunkka}}{{HeroIcon|lc}}{{HeroIcon|ns}}{{HeroIcon|sb}}{{HeroIcon|bs}}<br>{{HeroIcon|brood}}{{HeroIcon|\n"
     ]
    }
   ],
   "source": [
    "file = open('data/hero_role.txt', 'r')\n",
    "raw_hero_role_data = \"\"\n",
    "for line in file:\n",
    "    raw_hero_role_data += line\n",
    "file.close()\n",
    "print(raw_hero_role_data[:1000])"
   ]
  },
  {
   "cell_type": "code",
   "execution_count": 19,
   "metadata": {},
   "outputs": [
    {
     "name": "stdout",
     "output_type": "stream",
     "text": [
      "['Carry', 'Nuker', 'Initiator', 'Disabler', 'Escape', 'Support', 'Pusher', 'Jungler']\n"
     ]
    }
   ],
   "source": [
    "delimeter_start = \"■■■ \"\n",
    "delimeter_end = \"\\n|-\\n|\"\n",
    "delimited_roles = raw_hero_role_data.split(delimeter_start)\n",
    "roles_list = []\n",
    "for dr in delimited_roles:\n",
    "    roles_list.append(dr.split(delimeter_end)[0])\n",
    "roles_list = roles_list[1:]\n",
    "print(roles_list)"
   ]
  },
  {
   "cell_type": "markdown",
   "metadata": {},
   "source": [
    "### 2.5.2 Analyzing hero complexity"
   ]
  },
  {
   "cell_type": "code",
   "execution_count": 20,
   "metadata": {},
   "outputs": [
    {
     "name": "stdout",
     "output_type": "stream",
     "text": [
      "y styles.\n",
      "\n",
      "{| class=\"wikitable\"\n",
      "!colspan=8| ■■■ Complexity\n",
      "|-\n",
      "|{{HeroIcon|brewmaster}}{{HeroIcon|earth spirit}}{{HeroIcon|io}}{{HeroIcon|aw}}{{HeroIcon|ld}}{{HeroIcon|meepo}}{{HeroIcon|morph}}{{HeroIcon|chen}}<br>{{HeroIcon|invoker}}{{HeroIcon|oracle}}{{HeroIcon|rubick}}{{HeroIcon|storm}}{{HeroIcon|visage}}\n",
      "|-\n",
      "!colspan=8| ■■ Complexity\n",
      "|-\n",
      "|{{HeroIcon|beastmaster}}{{HeroIcon|clock}}{{HeroIcon|doom}}{{HeroIcon|earthshaker}}{{HeroIcon|et}}{{HeroIcon|kunkka}}{{HeroIcon|lifestealer}}{{HeroIcon|lycan}\n"
     ]
    }
   ],
   "source": [
    "file = open('data/hero_complexity.txt')\n",
    "raw_hero_complexity_data = \"\"\n",
    "for line in file:\n",
    "    raw_hero_complexity_data += line\n",
    "file.close()\n",
    "print(raw_hero_complexity_data[500:1000])"
   ]
  },
  {
   "cell_type": "markdown",
   "metadata": {},
   "source": [
    "# 3 Cleaning data & Structuring"
   ]
  },
  {
   "cell_type": "markdown",
   "metadata": {},
   "source": [
    "## 3.1 Cleaning hero roles"
   ]
  },
  {
   "cell_type": "code",
   "execution_count": 21,
   "metadata": {},
   "outputs": [
    {
     "name": "stdout",
     "output_type": "stream",
     "text": [
      "{| class=\"wikitable\"\n",
      "!colspan=8| ■■■ Carry\n",
      "||am| |arc| |ck| |gyro| |medusa| |morph| |naga| |pa| |sniper| |spectre| |tb| |tiny| |troll| \n",
      "!colspan=8| ■■ Carry\n",
      "||alch| |bb| |dk| |huskar| |ls| |lycan| |mk| |slardar| |sven| |wk| |clinkz| |drow| |ember| |void| |jugg| |ld| |luna| |meepo| |pl| |razor| |riki| |sf| |slark| |ta| |ursa| |weaver| |od| |storm| |pangolier| \n",
      "!colspan=8| ■ Carry\n",
      "||abaddon| |brew| |doom| |kunkka| |lc| |ns| |sb| |bs| |brood| |mirana| |viper| |dp| |invoker| |leshrac| |lina| |np| |n\n"
     ]
    }
   ],
   "source": [
    "updated_hero_role_data = \"\"\n",
    "updated_hero_role_data = raw_hero_role_data.replace(\"{{HeroIcon|\", \"|\")\n",
    "updated_hero_role_data = updated_hero_role_data.replace(\"}}\", \"| \")\n",
    "updated_hero_role_data = updated_hero_role_data.replace(\"|-\\n\", \"\")\n",
    "updated_hero_role_data = updated_hero_role_data.replace(\"<br>\", \"\")\n",
    "print(updated_hero_role_data[:500])"
   ]
  },
  {
   "cell_type": "code",
   "execution_count": 22,
   "metadata": {},
   "outputs": [
    {
     "name": "stdout",
     "output_type": "stream",
     "text": [
      "[', , am,  , arc,  , ck,  , gyro,  , medusa,  , morph,  , naga,  , pa,  , sniper,  , spectre,  , tb,  , tiny,  , troll, ', ', , alch,  , bb,  , dk,  , huskar,  , ls,  , lycan,  , mk,  , slardar,  , sven,  , wk,  , clinkz,  , drow,  , ember,  , void,  , jugg,  , ld,  , luna,  , meepo,  , pl,  , razor,  , riki,  , sf,  , slark,  , ta,  , ursa,  , weaver,  , od,  , storm,  , pangolier, ', ', , abaddon,  , brew,  , doom,  , kunkka,  , lc,  , ns,  , sb,  , bs,  , brood,  , mirana,  , viper,  , dp,  , invoker,  , leshrac,  , lina,  , np,  , necro,  , qop,  , silencer,  , tinker,  , wr, ', ', , phoenix,  , timber,  , sf,  , invoker,  , lesh,  , lina,  , lion,  , oracle,  , qop,  , skywrath,  , techies,  , tinker,  , zeus, ', ', , earth spirit,  , sk,  , tiny,  , luna,  , meepo,  , nyx,  , cm,  , jakiro,  , kotl,  , lich,  , necro,  , ogre,  , od,  , puck,  , pugna,  , shaman,  , storm,  , visage,  , wd,  , pangolier,  , dark willow, ', ', , alch,  , beastmaster,  , brew,  , bb,  , centaur,  , clock,  , doom,  , dk,  , es,  , et,  , io,  , kunkka,  , lc,  , magnus,  , ns,  , omni,  , pudge,  , sven,  , tide,  , tusk,  , undying,  , am,  , arc,  , bs,  , bh,  , brood,  , ember,  , gyro,  , mirana,  , morph,  , pl,  , razor,  , slark,  , sniper,  , tb,  , venge,  , veno,  , aa,  , bane,  , dazzle,  , dp,  , disruptor,  , np,  , rubick,  , sd,  , silencer,  , underlord,  , wr,  , ww, ', ', , axe,  , brew,  , cent,  , clock,  , shaker,  , mag,  , sk,  , tide,  , void,  , bat,  , puck, ', ', , beast,  , doom,  , et,  , ns,  , phx,  , pudge,  , slar,  , sb,  , sven,  , tiny,  , tree,  , tusk,  , nyx,  , venge,  , enigma,  , lion,  , silencer,  , warlock,  , pangolier, ', ', , alch,  , bb,  , ck,  , dk,  , earth,  , husk,  , kunkka,  , lc,  , mk,  , bs,  , ember,  , meep,  , naga,  , veno,  , viper,  , ds,  , dis,  , ogre,  , sd,  , shaman,  , storm,  , wk, ', ', , bane,  , lion,  , puck,  , shaman, ', ', , axe,  , beast,  , brew,  , ck,  , clock,  , doom,  , dk,  , shaker,  , lc,  , mag,  , ns,  , pudge,  , sk,  , sb,  , sven,  , tide,  , tusk,  , wk,  , void,  , naga,  , nyx,  , venge,  , bat,  , cm,  , dis,  , enigma,  , invo,  , ogre,  , oracle,  , sd,  , silencer,  , ww, ', ', , alch,  , cent,  , earth,  , et,  , kunkka,  , lifestealer,  , mk,  , phx,  , slar,  , tiny,  , tree,  , undying,  , bs,  , dr,  , ember,  , gyro,  , dusa,  , meep,  , mirana,  , morph,  , riki,  , slark,  , troll,  , ursa,  , veno,  , viper,  , aa,  , ds,  , dazzle,  , dp,  , ench,  , jak,  , kotl,  , lesh,  , lina,  , necro,  , od,  , rubick,  , sky,  , storm,  , techies,  , underlord,  , visage,  , warlock,  , wr,  , wd,  , pangolier,  , dark willow, ', ', , am,  , arc,  , brood,  , clinkz,  , ember,  , morph,  , slark,  , weaver,  , puck,  , qop,  , storm, ', ', , earth spirit,  , io,  , mk,  , phoenix,  , sk,  , timber,  , bh,  , meepo,  , mirana,  , pl,  , riki,  , underlord,  , pangolier,  , dark willow, ', ', , centaur,  , ls,  , lycan,  , magnus,  , slardar,  , sb,  , treant,  , void,  , jugg,  , naga,  , nyx,  , pa,  , spectre,  , ta,  , venge,  , bat,  , ds,  , invoker,  , np,  , oracle,  , wr, ', ', , io,  , tree,  , vs,  , cm,  , dazzle,  , kotl,  , lich,  , oracle,  , ww,  , wd, ', ', , abaddon,  , omni,  , veno,  , aa,  , bane,  , chen,  , dis,  , ench,  , lion,  , ogre,  , rubick,  , sd,  , shaman,  , sky,  , dark willow, ', ', , alch,  , shaker,  , kunkka,  , phx,  , undying,  , wk,  , mirana,  , naga,  , jak,  , lesh,  , lina,  , silencer,  , sk,  , underlord,  , visage,  , warlock,  , wr, ', ', , dk,  , lycan,  , brood,  , ld,  , dp,  , lesh,  , np,  , shaman, ', ', , ck,  , tiny,  , naga,  , tb,  , chen,  , ench,  , enigma,  , jak,  , pugna,  , tinker, ', ', , clinkz,  , dr,  , jugg,  , luna,  , meep,  , pl,  , razor,  , troll,  , veno,  , invo,  , visage, ', ', , chen,  , ench,  , enigma,  , np, ', ', , axe,  , bat, ', ', , lifestealer,  , lycan,  , sk,  , bs,  , ld,  , ursa,  , cm,  , ds,  , kotl, ']\n"
     ]
    }
   ],
   "source": [
    "import re\n",
    "hero_regex = re.compile(\"\\|.*\\|\")\n",
    "hero_regex_matches = re.findall(hero_regex, updated_hero_role_data)\n",
    "for i in range(len(hero_regex_matches)):\n",
    "    hero_regex_matches[i] = hero_regex_matches[i].replace(\"|\", \", \")\n",
    "print(hero_regex_matches)"
   ]
  },
  {
   "cell_type": "code",
   "execution_count": 23,
   "metadata": {},
   "outputs": [
    {
     "name": "stdout",
     "output_type": "stream",
     "text": [
      "Abaddon\n",
      "Alch = Alchemist\n",
      "AA = Ancient Apparition\n",
      "AM = Anti-Mage\n",
      "Arc = Arc Warden\n",
      "Axe\n",
      "Bane\n",
      "Bat = Batr\n"
     ]
    }
   ],
   "source": [
    "file = open(\"data/hero_abbreviations.txt\", 'r')\n",
    "sample = \"\"\n",
    "for line in file:\n",
    "    sample += line\n",
    "file.close()\n",
    "print(sample[:100])"
   ]
  },
  {
   "cell_type": "code",
   "execution_count": 24,
   "metadata": {
    "scrolled": false
   },
   "outputs": [
    {
     "name": "stdout",
     "output_type": "stream",
     "text": [
      "{'abaddon': 'abaddon', 'alch': 'alchemist', 'alchemist': 'alchemist', 'aa': 'ancient apparition', 'ancient apparition': 'ancient apparition', 'am': 'anti-mage', 'anti-mage': 'anti-mage', 'arc': 'arc warden', 'arc warden': 'arc warden', 'axe': 'axe', 'bane': 'bane', 'bat': 'batrider', 'batrider': 'batrider', 'bm': 'beastmaster', 'beastmaster': 'beastmaster', 'beast': 'beastmaster', 'bs': 'bloodseeker', 'bloodseeker': 'bloodseeker', 'bh': 'bounty hunter', 'bounty hunter': 'bounty hunter', 'brew': 'brewmaster', 'brewmaster': 'brewmaster', 'bb': 'bristleback', 'bristleback': 'bristleback', 'brood': 'broodmother', 'broodmother': 'broodmother', 'centaur': 'centaur warrunner', 'centaur warrunner': 'centaur warrunner', 'cent': 'centaur warrunner', 'ck': 'chaos knight', 'chaos knight': 'chaos knight', 'chen': 'chen', 'clinkz': 'clinkz', 'clock': 'clockwerk', 'clockwerk': 'clockwerk', 'cm': 'crystal maiden', 'crystal maiden': 'crystal maiden', 'ds': 'dark seer', 'dark seer': 'dark seer', 'dazzle': 'dazzle', 'dark willow': 'dark willow', 'dp': 'death prophet', 'death prophet': 'death prophet', 'disruptor': 'disruptor', 'dis': 'disruptor', 'doom': 'doom', 'dk': 'dragon knight', 'dragon knight': 'dragon knight', 'drow': 'drow ranger', 'drow ranger': 'drow ranger', 'dr': 'drow ranger', 'es': 'earthshaker', 'earthshaker': 'earthshaker', 'shaker': 'earthshaker', 'earth': 'earth spirit', 'earth spirit': 'earth spirit', 'et': 'elder titan', 'elder titan': 'elder titan', 'ember': 'ember spirit', 'ember spirit': 'ember spirit', 'enchantress': 'enchantress', 'ench': 'enchantress', 'enigma': 'enigma', 'void': 'faceless void', 'faceless void': 'faceless void', 'gandalf': 'keeper of the light ', 'keeper of the light ': 'keeper of the light ', 'gyro': 'gyrocopter', 'gyrocopter': 'gyrocopter', 'huskar': 'huskar', 'invoker': 'invoker', 'invo': 'invoker', 'io': 'io', 'jak': 'jakiro', 'jakiro': 'jakiro', 'jugg': 'juggernaut', 'juggernaut': 'juggernaut', 'kotl': 'keeper of the light', 'keeper of the light': 'keeper of the light', 'kunkka': 'kunkka', 'husk': 'huskar', 'lc': 'legion commander', 'legion commander': 'legion commander', 'leshrac': 'leshrac', 'lesh': 'leshrac', 'lich': 'lich', 'ls': 'lifestealer', 'lifestealer': 'lifestealer', 'lina': 'lina', 'lion': 'lion', 'ld': 'lone druid', 'lone druid': 'lone druid', 'syllabear': 'lone druid', 'luna': 'luna', 'lycan': 'lycan', 'mag': 'magnus', 'magnus': 'magnus', 'medusa': 'medusa', 'dusa': 'medusa', 'meepo': 'meepo', 'meep': 'meepo', 'mirana': 'mirana', 'morph': 'morphling', 'morphling': 'morphling', 'mk': 'monkey king', 'monkey king': 'monkey king', 'naga': 'naga siren', 'naga siren': 'naga siren', 'np': \"nature's prophet\", \"nature's prophet\": \"nature's prophet\", 'necro': 'necrophos', 'necrophos': 'necrophos', 'ns': 'night stalker', 'night stalker': 'night stalker', 'nyx': 'nyx assassin', 'nyx assassin': 'nyx assassin', 'ogre': 'ogre magi', 'ogre magi': 'ogre magi', 'omni': 'omniknight', 'omniknight': 'omniknight', 'od': 'outworld devourer', 'outworld devourer': 'outworld devourer', 'oracle': 'oracle', 'pa': 'phantom assassin', 'phantom assassin': 'phantom assassin', 'pangolier': 'pangolier', 'pl': 'phantom lancer', 'phantom lancer': 'phantom lancer', 'phoenix': 'phoenix', 'puck': 'puck', 'pudge': 'pudge', 'pugna': 'pugna', 'phx': 'phoenix', 'qop': 'queen of pain', 'queen of pain': 'queen of pain', 'razor': 'razor', 'riki': 'riki', 'rubick': 'rubick', 'sk': 'sand king', 'sand king': 'sand king', 'sd': 'shadow demon', 'shadow demon': 'shadow demon', 'sf': 'shadow fiend', 'shadow fiend': 'shadow fiend', 'ss': 'shadow shaman', 'shadow shaman': 'shadow shaman', 'shaman': 'shadow shaman', 'storm': 'storm spirit', 'storm spirit': 'storm spirit', 'silencer': 'silencer', 'sm': 'skywrath mage', 'skywrath mage': 'skywrath mage', 'skywrath': 'skywrath mage', 'sky': 'skywrath mage', 'slardar': 'slardar', 'slar': 'slardar', 'slark': 'slark', 'sniper': 'sniper', 'spectre': 'spectre', 'sb': 'spirit breaker', 'spirit breaker': 'spirit breaker', 'sven': 'sven', 'ta': 'templar assassin', 'templar assassin': 'templar assassin', 'tb': 'terrorblade', 'terrorblade': 'terrorblade', 'techies': 'techies', 'tree': 'treant', 'treant': 'treant protector', 'tide': 'tidehunter', 'tidehunter': 'tidehunter', 'timber': 'timbersaw', 'timbersaw': 'timbersaw', 'tinker': 'tinker', 'tiny': 'tiny', 'treant protector': 'treant protector', 'troll': 'troll warlord', 'troll warlord': 'troll warlord', 'tusk': 'tusk', 'underlord': 'underlord', 'undying': 'undying', 'ursa': 'ursa', 'venge': 'vengeful spirit', 'vengeful spirit': 'vengeful spirit', 'vs': 'vengeful spirit', 'veno': 'venomancer', 'venomancer': 'venomancer', 'viper': 'viper', 'visage': 'visage', 'warlock': 'warlock', 'weaver': 'weaver', 'wr': 'windranger', 'windranger': 'windranger', 'wd': 'witch doctor', 'witch doctor': 'witch doctor', 'wk': 'wraith king', 'wraith king': 'wraith king', 'ww': 'winter wyvern', 'winter wyvern': 'winter wyvern', 'zeus': 'zeus'}\n"
     ]
    }
   ],
   "source": [
    "file = open(\"data/hero_abbreviations.txt\", 'r')\n",
    "hero_abbr = {}\n",
    "for line in file:\n",
    "    txt = line.lower()\n",
    "    key = txt.split(' =')[0]\n",
    "    try:\n",
    "        value = txt.split('= ')[1]\n",
    "        value = value.replace(\"\\n\", \"\")        \n",
    "    except IndexError:\n",
    "        key = key.replace(\"\\n\", \"\")\n",
    "        value = key        \n",
    "    hero_abbr[key] = value\n",
    "    hero_abbr[value] = value\n",
    "file.close()\n",
    "print(hero_abbr)"
   ]
  },
  {
   "cell_type": "code",
   "execution_count": 25,
   "metadata": {},
   "outputs": [
    {
     "name": "stdout",
     "output_type": "stream",
     "text": [
      "[['anti-mage', 'arc warden', 'chaos knight', 'gyrocopter', 'medusa', 'morphling', 'naga siren', 'phantom assassin', 'sniper', 'spectre', 'terrorblade', 'tiny', 'troll warlord'], ['alchemist', 'bristleback', 'dragon knight', 'huskar', 'lifestealer', 'lycan', 'monkey king', 'slardar', 'sven', 'wraith king', 'clinkz', 'drow ranger', 'ember spirit', 'faceless void', 'juggernaut', 'lone druid', 'luna', 'meepo', 'phantom lancer', 'razor', 'riki', 'shadow fiend', 'slark', 'templar assassin', 'ursa', 'weaver', 'outworld devourer', 'storm spirit', 'pangolier'], ['abaddon', 'brewmaster', 'doom', 'kunkka', 'legion commander', 'night stalker', 'spirit breaker', 'bloodseeker', 'broodmother', 'mirana', 'viper', 'death prophet', 'invoker', 'leshrac', 'lina', \"nature's prophet\", 'necrophos', 'queen of pain', 'silencer', 'tinker', 'windranger'], ['phoenix', 'timbersaw', 'shadow fiend', 'invoker', 'leshrac', 'lina', 'lion', 'oracle', 'queen of pain', 'skywrath mage', 'techies', 'tinker', 'zeus'], ['earth spirit', 'sand king', 'tiny', 'luna', 'meepo', 'nyx assassin', 'crystal maiden', 'jakiro', 'keeper of the light', 'lich', 'necrophos', 'ogre magi', 'outworld devourer', 'puck', 'pugna', 'shadow shaman', 'storm spirit', 'visage', 'witch doctor', 'pangolier', 'dark willow'], ['alchemist', 'beastmaster', 'brewmaster', 'bristleback', 'centaur warrunner', 'clockwerk', 'doom', 'dragon knight', 'earthshaker', 'elder titan', 'io', 'kunkka', 'legion commander', 'magnus', 'night stalker', 'omniknight', 'pudge', 'sven', 'tidehunter', 'tusk', 'undying', 'anti-mage', 'arc warden', 'bloodseeker', 'bounty hunter', 'broodmother', 'ember spirit', 'gyrocopter', 'mirana', 'morphling', 'phantom lancer', 'razor', 'slark', 'sniper', 'terrorblade', 'vengeful spirit', 'venomancer', 'ancient apparition', 'bane', 'dazzle', 'death prophet', 'disruptor', \"nature's prophet\", 'rubick', 'shadow demon', 'silencer', 'underlord', 'windranger', 'winter wyvern'], ['axe', 'brewmaster', 'centaur warrunner', 'clockwerk', 'earthshaker', 'magnus', 'sand king', 'tidehunter', 'faceless void', 'batrider', 'puck'], ['beastmaster', 'doom', 'elder titan', 'night stalker', 'phoenix', 'pudge', 'slardar', 'spirit breaker', 'sven', 'tiny', 'treant', 'tusk', 'nyx assassin', 'vengeful spirit', 'enigma', 'lion', 'silencer', 'warlock', 'pangolier'], ['alchemist', 'bristleback', 'chaos knight', 'dragon knight', 'earth spirit', 'huskar', 'kunkka', 'legion commander', 'monkey king', 'bloodseeker', 'ember spirit', 'meepo', 'naga siren', 'venomancer', 'viper', 'dark seer', 'disruptor', 'ogre magi', 'shadow demon', 'shadow shaman', 'storm spirit', 'wraith king'], ['bane', 'lion', 'puck', 'shadow shaman'], ['axe', 'beastmaster', 'brewmaster', 'chaos knight', 'clockwerk', 'doom', 'dragon knight', 'earthshaker', 'legion commander', 'magnus', 'night stalker', 'pudge', 'sand king', 'spirit breaker', 'sven', 'tidehunter', 'tusk', 'wraith king', 'faceless void', 'naga siren', 'nyx assassin', 'vengeful spirit', 'batrider', 'crystal maiden', 'disruptor', 'enigma', 'invoker', 'ogre magi', 'oracle', 'shadow demon', 'silencer', 'winter wyvern'], ['alchemist', 'centaur warrunner', 'earth spirit', 'elder titan', 'kunkka', 'lifestealer', 'monkey king', 'phoenix', 'slardar', 'tiny', 'treant', 'undying', 'bloodseeker', 'drow ranger', 'ember spirit', 'gyrocopter', 'medusa', 'meepo', 'mirana', 'morphling', 'riki', 'slark', 'troll warlord', 'ursa', 'venomancer', 'viper', 'ancient apparition', 'dark seer', 'dazzle', 'death prophet', 'enchantress', 'jakiro', 'keeper of the light', 'leshrac', 'lina', 'necrophos', 'outworld devourer', 'rubick', 'skywrath mage', 'storm spirit', 'techies', 'underlord', 'visage', 'warlock', 'windranger', 'witch doctor', 'pangolier', 'dark willow'], ['anti-mage', 'arc warden', 'broodmother', 'clinkz', 'ember spirit', 'morphling', 'slark', 'weaver', 'puck', 'queen of pain', 'storm spirit'], ['earth spirit', 'io', 'monkey king', 'phoenix', 'sand king', 'timbersaw', 'bounty hunter', 'meepo', 'mirana', 'phantom lancer', 'riki', 'underlord', 'pangolier', 'dark willow'], ['centaur warrunner', 'lifestealer', 'lycan', 'magnus', 'slardar', 'spirit breaker', 'treant protector', 'faceless void', 'juggernaut', 'naga siren', 'nyx assassin', 'phantom assassin', 'spectre', 'templar assassin', 'vengeful spirit', 'batrider', 'dark seer', 'invoker', \"nature's prophet\", 'oracle', 'windranger'], ['io', 'treant', 'vengeful spirit', 'crystal maiden', 'dazzle', 'keeper of the light', 'lich', 'oracle', 'winter wyvern', 'witch doctor'], ['abaddon', 'omniknight', 'venomancer', 'ancient apparition', 'bane', 'chen', 'disruptor', 'enchantress', 'lion', 'ogre magi', 'rubick', 'shadow demon', 'shadow shaman', 'skywrath mage', 'dark willow'], ['alchemist', 'earthshaker', 'kunkka', 'phoenix', 'undying', 'wraith king', 'mirana', 'naga siren', 'jakiro', 'leshrac', 'lina', 'silencer', 'sand king', 'underlord', 'visage', 'warlock', 'windranger'], ['dragon knight', 'lycan', 'broodmother', 'lone druid', 'death prophet', 'leshrac', \"nature's prophet\", 'shadow shaman'], ['chaos knight', 'tiny', 'naga siren', 'terrorblade', 'chen', 'enchantress', 'enigma', 'jakiro', 'pugna', 'tinker'], ['clinkz', 'drow ranger', 'juggernaut', 'luna', 'meepo', 'phantom lancer', 'razor', 'troll warlord', 'venomancer', 'invoker', 'visage'], ['chen', 'enchantress', 'enigma', \"nature's prophet\"], ['axe', 'batrider'], ['lifestealer', 'lycan', 'sand king', 'bloodseeker', 'lone druid', 'ursa', 'crystal maiden', 'dark seer', 'keeper of the light']]\n"
     ]
    }
   ],
   "source": [
    "cleaned_hero_names = []\n",
    "for i in range(len(hero_regex_matches)):\n",
    "    line = hero_regex_matches[i].split(\", \")        \n",
    "    tmp_list = []\n",
    "    for j in range(len(line)):\n",
    "        if line[j] == ' ' or line[j] == '':\n",
    "            pass\n",
    "        else:\n",
    "            tmp_list.append(hero_abbr[line[j]])\n",
    "    cleaned_hero_names.append(tmp_list)\n",
    "print(cleaned_hero_names)"
   ]
  },
  {
   "cell_type": "code",
   "execution_count": 26,
   "metadata": {},
   "outputs": [
    {
     "name": "stdout",
     "output_type": "stream",
     "text": [
      "{'hard-carry': ['anti-mage', 'arc warden', 'chaos knight', 'gyrocopter', 'medusa', 'morphling', 'naga siren', 'phantom assassin', 'sniper', 'spectre', 'terrorblade', 'tiny', 'troll warlord'], 'semi-carry': ['alchemist', 'bristleback', 'dragon knight', 'huskar', 'lifestealer', 'lycan', 'monkey king', 'slardar', 'sven', 'wraith king', 'clinkz', 'drow ranger', 'ember spirit', 'faceless void', 'juggernaut', 'lone druid', 'luna', 'meepo', 'phantom lancer', 'razor', 'riki', 'shadow fiend', 'slark', 'templar assassin', 'ursa', 'weaver', 'outworld devourer', 'storm spirit', 'pangolier'], 'weak-carry': ['abaddon', 'brewmaster', 'doom', 'kunkka', 'legion commander', 'night stalker', 'spirit breaker', 'bloodseeker', 'broodmother', 'mirana', 'viper', 'death prophet', 'invoker', 'leshrac', 'lina', \"nature's prophet\", 'necrophos', 'queen of pain', 'silencer', 'tinker', 'windranger'], 'hard-nuker': ['phoenix', 'timbersaw', 'shadow fiend', 'invoker', 'leshrac', 'lina', 'lion', 'oracle', 'queen of pain', 'skywrath mage', 'techies', 'tinker', 'zeus'], 'semi-nuker': ['earth spirit', 'sand king', 'tiny', 'luna', 'meepo', 'nyx assassin', 'crystal maiden', 'jakiro', 'keeper of the light', 'lich', 'necrophos', 'ogre magi', 'outworld devourer', 'puck', 'pugna', 'shadow shaman', 'storm spirit', 'visage', 'witch doctor', 'pangolier', 'dark willow'], 'weak-nuker': ['alchemist', 'beastmaster', 'brewmaster', 'bristleback', 'centaur warrunner', 'clockwerk', 'doom', 'dragon knight', 'earthshaker', 'elder titan', 'io', 'kunkka', 'legion commander', 'magnus', 'night stalker', 'omniknight', 'pudge', 'sven', 'tidehunter', 'tusk', 'undying', 'anti-mage', 'arc warden', 'bloodseeker', 'bounty hunter', 'broodmother', 'ember spirit', 'gyrocopter', 'mirana', 'morphling', 'phantom lancer', 'razor', 'slark', 'sniper', 'terrorblade', 'vengeful spirit', 'venomancer', 'ancient apparition', 'bane', 'dazzle', 'death prophet', 'disruptor', \"nature's prophet\", 'rubick', 'shadow demon', 'silencer', 'underlord', 'windranger', 'winter wyvern'], 'hard-initiator': ['axe', 'brewmaster', 'centaur warrunner', 'clockwerk', 'earthshaker', 'magnus', 'sand king', 'tidehunter', 'faceless void', 'batrider', 'puck'], 'semi-initiator': ['beastmaster', 'doom', 'elder titan', 'night stalker', 'phoenix', 'pudge', 'slardar', 'spirit breaker', 'sven', 'tiny', 'treant', 'tusk', 'nyx assassin', 'vengeful spirit', 'enigma', 'lion', 'silencer', 'warlock', 'pangolier'], 'weak-initiator': ['alchemist', 'bristleback', 'chaos knight', 'dragon knight', 'earth spirit', 'huskar', 'kunkka', 'legion commander', 'monkey king', 'bloodseeker', 'ember spirit', 'meepo', 'naga siren', 'venomancer', 'viper', 'dark seer', 'disruptor', 'ogre magi', 'shadow demon', 'shadow shaman', 'storm spirit', 'wraith king'], 'hard-disabler': ['bane', 'lion', 'puck', 'shadow shaman'], 'semi-disabler': ['axe', 'beastmaster', 'brewmaster', 'chaos knight', 'clockwerk', 'doom', 'dragon knight', 'earthshaker', 'legion commander', 'magnus', 'night stalker', 'pudge', 'sand king', 'spirit breaker', 'sven', 'tidehunter', 'tusk', 'wraith king', 'faceless void', 'naga siren', 'nyx assassin', 'vengeful spirit', 'batrider', 'crystal maiden', 'disruptor', 'enigma', 'invoker', 'ogre magi', 'oracle', 'shadow demon', 'silencer', 'winter wyvern'], 'weak-disabler': ['alchemist', 'centaur warrunner', 'earth spirit', 'elder titan', 'kunkka', 'lifestealer', 'monkey king', 'phoenix', 'slardar', 'tiny', 'treant', 'undying', 'bloodseeker', 'drow ranger', 'ember spirit', 'gyrocopter', 'medusa', 'meepo', 'mirana', 'morphling', 'riki', 'slark', 'troll warlord', 'ursa', 'venomancer', 'viper', 'ancient apparition', 'dark seer', 'dazzle', 'death prophet', 'enchantress', 'jakiro', 'keeper of the light', 'leshrac', 'lina', 'necrophos', 'outworld devourer', 'rubick', 'skywrath mage', 'storm spirit', 'techies', 'underlord', 'visage', 'warlock', 'windranger', 'witch doctor', 'pangolier', 'dark willow'], 'hard-escape': ['anti-mage', 'arc warden', 'broodmother', 'clinkz', 'ember spirit', 'morphling', 'slark', 'weaver', 'puck', 'queen of pain', 'storm spirit'], 'semi-escape': ['earth spirit', 'io', 'monkey king', 'phoenix', 'sand king', 'timbersaw', 'bounty hunter', 'meepo', 'mirana', 'phantom lancer', 'riki', 'underlord', 'pangolier', 'dark willow'], 'weak-escape': ['centaur warrunner', 'lifestealer', 'lycan', 'magnus', 'slardar', 'spirit breaker', 'treant protector', 'faceless void', 'juggernaut', 'naga siren', 'nyx assassin', 'phantom assassin', 'spectre', 'templar assassin', 'vengeful spirit', 'batrider', 'dark seer', 'invoker', \"nature's prophet\", 'oracle', 'windranger'], 'hard-support': ['io', 'treant', 'vengeful spirit', 'crystal maiden', 'dazzle', 'keeper of the light', 'lich', 'oracle', 'winter wyvern', 'witch doctor'], 'semi-support': ['abaddon', 'omniknight', 'venomancer', 'ancient apparition', 'bane', 'chen', 'disruptor', 'enchantress', 'lion', 'ogre magi', 'rubick', 'shadow demon', 'shadow shaman', 'skywrath mage', 'dark willow'], 'weak-support': ['alchemist', 'earthshaker', 'kunkka', 'phoenix', 'undying', 'wraith king', 'mirana', 'naga siren', 'jakiro', 'leshrac', 'lina', 'silencer', 'sand king', 'underlord', 'visage', 'warlock', 'windranger'], 'hard-pusher': ['dragon knight', 'lycan', 'broodmother', 'lone druid', 'death prophet', 'leshrac', \"nature's prophet\", 'shadow shaman'], 'semi-pusher': ['chaos knight', 'tiny', 'naga siren', 'terrorblade', 'chen', 'enchantress', 'enigma', 'jakiro', 'pugna', 'tinker'], 'weak-pusher': ['clinkz', 'drow ranger', 'juggernaut', 'luna', 'meepo', 'phantom lancer', 'razor', 'troll warlord', 'venomancer', 'invoker', 'visage'], 'hard-jungler': ['chen', 'enchantress', 'enigma', \"nature's prophet\"], 'semi-jungler': ['axe', 'batrider'], 'weak-jungler': ['lifestealer', 'lycan', 'sand king', 'bloodseeker', 'lone druid', 'ursa', 'crystal maiden', 'dark seer', 'keeper of the light']}\n"
     ]
    }
   ],
   "source": [
    "cleaned_roles_dict = {}\n",
    "role_index = -1\n",
    "for i in range(len(cleaned_hero_names)):    \n",
    "    role_strength = i % 3    \n",
    "\n",
    "    if role_strength == 0:\n",
    "        role_index += 1\n",
    "        hard_role = 'hard-' + roles_list[role_index].lower()\n",
    "        cleaned_roles_dict[hard_role] = cleaned_hero_names[i]\n",
    "        \n",
    "    elif role_strength == 1:\n",
    "        semi_role = 'semi-' + roles_list[role_index].lower()\n",
    "        cleaned_roles_dict[semi_role] = cleaned_hero_names[i]\n",
    "    \n",
    "    elif role_strength == 2:\n",
    "        weak_role = 'weak-' + roles_list[role_index].lower()        \n",
    "        cleaned_roles_dict[weak_role] = cleaned_hero_names[i]    \n",
    "print(cleaned_roles_dict)"
   ]
  },
  {
   "cell_type": "code",
   "execution_count": 27,
   "metadata": {},
   "outputs": [
    {
     "data": {
      "text/html": [
       "<div>\n",
       "<style scoped>\n",
       "    .dataframe tbody tr th:only-of-type {\n",
       "        vertical-align: middle;\n",
       "    }\n",
       "\n",
       "    .dataframe tbody tr th {\n",
       "        vertical-align: top;\n",
       "    }\n",
       "\n",
       "    .dataframe thead th {\n",
       "        text-align: right;\n",
       "    }\n",
       "</style>\n",
       "<table border=\"1\" class=\"dataframe\">\n",
       "  <thead>\n",
       "    <tr style=\"text-align: right;\">\n",
       "      <th></th>\n",
       "      <th>role</th>\n",
       "    </tr>\n",
       "  </thead>\n",
       "  <tbody>\n",
       "    <tr>\n",
       "      <th>hard-carry</th>\n",
       "      <td>0</td>\n",
       "    </tr>\n",
       "    <tr>\n",
       "      <th>hard-disabler</th>\n",
       "      <td>9</td>\n",
       "    </tr>\n",
       "    <tr>\n",
       "      <th>hard-escape</th>\n",
       "      <td>12</td>\n",
       "    </tr>\n",
       "    <tr>\n",
       "      <th>hard-initiator</th>\n",
       "      <td>6</td>\n",
       "    </tr>\n",
       "    <tr>\n",
       "      <th>hard-jungler</th>\n",
       "      <td>21</td>\n",
       "    </tr>\n",
       "  </tbody>\n",
       "</table>\n",
       "</div>"
      ],
      "text/plain": [
       "                role\n",
       "hard-carry         0\n",
       "hard-disabler      9\n",
       "hard-escape       12\n",
       "hard-initiator     6\n",
       "hard-jungler      21"
      ]
     },
     "execution_count": 27,
     "metadata": {},
     "output_type": "execute_result"
    }
   ],
   "source": [
    "role_bits = {\n",
    "    'role': {}\n",
    "}\n",
    "\n",
    "index = 0\n",
    "for role in cleaned_roles_dict:\n",
    "    role_bits['role'][role] = index\n",
    "    index += 1\n",
    "role_bits_df = pd.DataFrame(role_bits)     \n",
    "role_bits_df.head()"
   ]
  },
  {
   "cell_type": "code",
   "execution_count": 28,
   "metadata": {},
   "outputs": [],
   "source": [
    "with open('data/role_bits.json', 'w') as outfile:\n",
    "    json.dump(role_bits, outfile)"
   ]
  },
  {
   "cell_type": "code",
   "execution_count": 29,
   "metadata": {},
   "outputs": [
    {
     "data": {
      "text/html": [
       "<div>\n",
       "<style scoped>\n",
       "    .dataframe tbody tr th:only-of-type {\n",
       "        vertical-align: middle;\n",
       "    }\n",
       "\n",
       "    .dataframe tbody tr th {\n",
       "        vertical-align: top;\n",
       "    }\n",
       "\n",
       "    .dataframe thead th {\n",
       "        text-align: right;\n",
       "    }\n",
       "</style>\n",
       "<table border=\"1\" class=\"dataframe\">\n",
       "  <thead>\n",
       "    <tr style=\"text-align: right;\">\n",
       "      <th></th>\n",
       "      <th>score</th>\n",
       "    </tr>\n",
       "  </thead>\n",
       "  <tbody>\n",
       "    <tr>\n",
       "      <th>abaddon</th>\n",
       "      <td>65536</td>\n",
       "    </tr>\n",
       "    <tr>\n",
       "      <th>alchemist</th>\n",
       "      <td>131072</td>\n",
       "    </tr>\n",
       "    <tr>\n",
       "      <th>ancient apparition</th>\n",
       "      <td>65536</td>\n",
       "    </tr>\n",
       "    <tr>\n",
       "      <th>anti-mage</th>\n",
       "      <td>4096</td>\n",
       "    </tr>\n",
       "    <tr>\n",
       "      <th>arc warden</th>\n",
       "      <td>4096</td>\n",
       "    </tr>\n",
       "  </tbody>\n",
       "</table>\n",
       "</div>"
      ],
      "text/plain": [
       "                     score\n",
       "abaddon              65536\n",
       "alchemist           131072\n",
       "ancient apparition   65536\n",
       "anti-mage             4096\n",
       "arc warden            4096"
      ]
     },
     "execution_count": 29,
     "metadata": {},
     "output_type": "execute_result"
    }
   ],
   "source": [
    "hero_roles_dict = {'score': {}}\n",
    "for key in cleaned_roles_dict:\n",
    "    for hero in cleaned_roles_dict[key]:\n",
    "        if hero in hero_roles_dict:\n",
    "            hero_roles_dict['score'][hero] += 2**role_bits['role'][key]\n",
    "        else:\n",
    "            hero_roles_dict['score'][hero] = 2**role_bits['role'][key]\n",
    "hero_scores_df = pd.DataFrame(hero_roles_dict)\n",
    "hero_scores_df.head()"
   ]
  },
  {
   "cell_type": "code",
   "execution_count": 30,
   "metadata": {},
   "outputs": [
    {
     "data": {
      "text/html": [
       "<div>\n",
       "<style scoped>\n",
       "    .dataframe tbody tr th:only-of-type {\n",
       "        vertical-align: middle;\n",
       "    }\n",
       "\n",
       "    .dataframe tbody tr th {\n",
       "        vertical-align: top;\n",
       "    }\n",
       "\n",
       "    .dataframe thead th {\n",
       "        text-align: right;\n",
       "    }\n",
       "</style>\n",
       "<table border=\"1\" class=\"dataframe\">\n",
       "  <thead>\n",
       "    <tr style=\"text-align: right;\">\n",
       "      <th></th>\n",
       "      <th>id</th>\n",
       "      <th>localized_name</th>\n",
       "      <th>score</th>\n",
       "    </tr>\n",
       "  </thead>\n",
       "  <tbody>\n",
       "    <tr>\n",
       "      <th>0</th>\n",
       "      <td>1</td>\n",
       "      <td>anti-mage</td>\n",
       "      <td>4096</td>\n",
       "    </tr>\n",
       "    <tr>\n",
       "      <th>1</th>\n",
       "      <td>2</td>\n",
       "      <td>axe</td>\n",
       "      <td>4194304</td>\n",
       "    </tr>\n",
       "    <tr>\n",
       "      <th>2</th>\n",
       "      <td>3</td>\n",
       "      <td>bane</td>\n",
       "      <td>65536</td>\n",
       "    </tr>\n",
       "    <tr>\n",
       "      <th>3</th>\n",
       "      <td>4</td>\n",
       "      <td>bloodseeker</td>\n",
       "      <td>8388608</td>\n",
       "    </tr>\n",
       "    <tr>\n",
       "      <th>4</th>\n",
       "      <td>5</td>\n",
       "      <td>crystal maiden</td>\n",
       "      <td>8388608</td>\n",
       "    </tr>\n",
       "  </tbody>\n",
       "</table>\n",
       "</div>"
      ],
      "text/plain": [
       "   id  localized_name    score\n",
       "0   1       anti-mage     4096\n",
       "1   2             axe  4194304\n",
       "2   3            bane    65536\n",
       "3   4     bloodseeker  8388608\n",
       "4   5  crystal maiden  8388608"
      ]
     },
     "execution_count": 30,
     "metadata": {},
     "output_type": "execute_result"
    }
   ],
   "source": [
    "with open('data/heroes.json') as f:\n",
    "    raw_hero_data = json.load(f)\n",
    "    \n",
    "hero_roles_dict = {\n",
    "    'hero': {}\n",
    "}\n",
    "\n",
    "hero_list = raw_hero_data['heroes']\n",
    "\n",
    "for dictionary in hero_list:\n",
    "    dictionary['localized_name'] = dictionary['localized_name'].lower()            \n",
    "    hero_name = dictionary['localized_name']\n",
    "    dictionary['score'] = hero_scores_df.loc[hero_name]['score']\n",
    "hero_roles_df = pd.DataFrame(hero_list) \n",
    "\n",
    "drop_columns = [\n",
    "    'name',\n",
    "    'url_full_portrait',\n",
    "    'url_large_portrait',\n",
    "    'url_small_portrait',\n",
    "    'url_vertical_portrait'\n",
    "]\n",
    "hero_roles_df = hero_roles_df.drop(columns=drop_columns)\n",
    "hero_roles_df.head()"
   ]
  },
  {
   "cell_type": "code",
   "execution_count": 31,
   "metadata": {},
   "outputs": [],
   "source": [
    "with open('data/hero_roles.json', 'w') as outfile:\n",
    "    outfile.write(hero_roles_df.to_json(orient='records', lines=True))"
   ]
  },
  {
   "cell_type": "markdown",
   "metadata": {},
   "source": [
    "## 3.2 Cleaning Match data  \n",
    "### 3.2.1 Match meta data"
   ]
  },
  {
   "cell_type": "code",
   "execution_count": 32,
   "metadata": {},
   "outputs": [
    {
     "data": {
      "text/html": [
       "<div>\n",
       "<style scoped>\n",
       "    .dataframe tbody tr th:only-of-type {\n",
       "        vertical-align: middle;\n",
       "    }\n",
       "\n",
       "    .dataframe tbody tr th {\n",
       "        vertical-align: top;\n",
       "    }\n",
       "\n",
       "    .dataframe thead th {\n",
       "        text-align: right;\n",
       "    }\n",
       "</style>\n",
       "<table border=\"1\" class=\"dataframe\">\n",
       "  <thead>\n",
       "    <tr style=\"text-align: right;\">\n",
       "      <th></th>\n",
       "      <th>barracks_status_dire</th>\n",
       "      <th>barracks_status_radiant</th>\n",
       "      <th>cluster</th>\n",
       "      <th>cluster_name</th>\n",
       "      <th>dire_captain</th>\n",
       "      <th>dire_score</th>\n",
       "      <th>duration</th>\n",
       "      <th>engine</th>\n",
       "      <th>first_blood_time</th>\n",
       "      <th>flags</th>\n",
       "      <th>...</th>\n",
       "      <th>match_seq_num</th>\n",
       "      <th>negative_votes</th>\n",
       "      <th>positive_votes</th>\n",
       "      <th>pre_game_duration</th>\n",
       "      <th>radiant_captain</th>\n",
       "      <th>radiant_score</th>\n",
       "      <th>radiant_win</th>\n",
       "      <th>start_time</th>\n",
       "      <th>tower_status_dire</th>\n",
       "      <th>tower_status_radiant</th>\n",
       "    </tr>\n",
       "  </thead>\n",
       "  <tbody>\n",
       "    <tr>\n",
       "      <th>3933472394</th>\n",
       "      <td>63</td>\n",
       "      <td>0</td>\n",
       "      <td>133</td>\n",
       "      <td>Europe West</td>\n",
       "      <td>NaN</td>\n",
       "      <td>38</td>\n",
       "      <td>1620</td>\n",
       "      <td>1</td>\n",
       "      <td>70</td>\n",
       "      <td>1</td>\n",
       "      <td>...</td>\n",
       "      <td>3412750547</td>\n",
       "      <td>0</td>\n",
       "      <td>0</td>\n",
       "      <td>60</td>\n",
       "      <td>NaN</td>\n",
       "      <td>29</td>\n",
       "      <td>False</td>\n",
       "      <td>1528135877</td>\n",
       "      <td>1958</td>\n",
       "      <td>0</td>\n",
       "    </tr>\n",
       "    <tr>\n",
       "      <th>3933472395</th>\n",
       "      <td>63</td>\n",
       "      <td>0</td>\n",
       "      <td>227</td>\n",
       "      <td>NaN</td>\n",
       "      <td>NaN</td>\n",
       "      <td>35</td>\n",
       "      <td>2300</td>\n",
       "      <td>1</td>\n",
       "      <td>157</td>\n",
       "      <td>1</td>\n",
       "      <td>...</td>\n",
       "      <td>3412770903</td>\n",
       "      <td>0</td>\n",
       "      <td>0</td>\n",
       "      <td>90</td>\n",
       "      <td>NaN</td>\n",
       "      <td>31</td>\n",
       "      <td>False</td>\n",
       "      <td>1528135882</td>\n",
       "      <td>1974</td>\n",
       "      <td>0</td>\n",
       "    </tr>\n",
       "    <tr>\n",
       "      <th>3933472396</th>\n",
       "      <td>63</td>\n",
       "      <td>0</td>\n",
       "      <td>183</td>\n",
       "      <td>Russia</td>\n",
       "      <td>NaN</td>\n",
       "      <td>5</td>\n",
       "      <td>781</td>\n",
       "      <td>1</td>\n",
       "      <td>142</td>\n",
       "      <td>1</td>\n",
       "      <td>...</td>\n",
       "      <td>3412736252</td>\n",
       "      <td>0</td>\n",
       "      <td>0</td>\n",
       "      <td>60</td>\n",
       "      <td>NaN</td>\n",
       "      <td>9</td>\n",
       "      <td>NaN</td>\n",
       "      <td>1528135876</td>\n",
       "      <td>2039</td>\n",
       "      <td>0</td>\n",
       "    </tr>\n",
       "    <tr>\n",
       "      <th>3933472397</th>\n",
       "      <td>0</td>\n",
       "      <td>63</td>\n",
       "      <td>185</td>\n",
       "      <td>Russia</td>\n",
       "      <td>NaN</td>\n",
       "      <td>27</td>\n",
       "      <td>2277</td>\n",
       "      <td>1</td>\n",
       "      <td>129</td>\n",
       "      <td>1</td>\n",
       "      <td>...</td>\n",
       "      <td>3412770514</td>\n",
       "      <td>0</td>\n",
       "      <td>0</td>\n",
       "      <td>90</td>\n",
       "      <td>NaN</td>\n",
       "      <td>54</td>\n",
       "      <td>True</td>\n",
       "      <td>1528135877</td>\n",
       "      <td>0</td>\n",
       "      <td>1975</td>\n",
       "    </tr>\n",
       "    <tr>\n",
       "      <th>3933472398</th>\n",
       "      <td>0</td>\n",
       "      <td>55</td>\n",
       "      <td>187</td>\n",
       "      <td>Russia</td>\n",
       "      <td>NaN</td>\n",
       "      <td>46</td>\n",
       "      <td>2291</td>\n",
       "      <td>1</td>\n",
       "      <td>50</td>\n",
       "      <td>1</td>\n",
       "      <td>...</td>\n",
       "      <td>3412766523</td>\n",
       "      <td>0</td>\n",
       "      <td>0</td>\n",
       "      <td>90</td>\n",
       "      <td>NaN</td>\n",
       "      <td>44</td>\n",
       "      <td>True</td>\n",
       "      <td>1528135875</td>\n",
       "      <td>0</td>\n",
       "      <td>1926</td>\n",
       "    </tr>\n",
       "  </tbody>\n",
       "</table>\n",
       "<p>5 rows × 27 columns</p>\n",
       "</div>"
      ],
      "text/plain": [
       "           barracks_status_dire barracks_status_radiant cluster cluster_name  \\\n",
       "3933472394                   63                       0     133  Europe West   \n",
       "3933472395                   63                       0     227          NaN   \n",
       "3933472396                   63                       0     183       Russia   \n",
       "3933472397                    0                      63     185       Russia   \n",
       "3933472398                    0                      55     187       Russia   \n",
       "\n",
       "           dire_captain dire_score duration engine first_blood_time flags  \\\n",
       "3933472394          NaN         38     1620      1               70     1   \n",
       "3933472395          NaN         35     2300      1              157     1   \n",
       "3933472396          NaN          5      781      1              142     1   \n",
       "3933472397          NaN         27     2277      1              129     1   \n",
       "3933472398          NaN         46     2291      1               50     1   \n",
       "\n",
       "                   ...          match_seq_num negative_votes positive_votes  \\\n",
       "3933472394         ...             3412750547              0              0   \n",
       "3933472395         ...             3412770903              0              0   \n",
       "3933472396         ...             3412736252              0              0   \n",
       "3933472397         ...             3412770514              0              0   \n",
       "3933472398         ...             3412766523              0              0   \n",
       "\n",
       "           pre_game_duration radiant_captain radiant_score radiant_win  \\\n",
       "3933472394                60             NaN            29       False   \n",
       "3933472395                90             NaN            31       False   \n",
       "3933472396                60             NaN             9         NaN   \n",
       "3933472397                90             NaN            54        True   \n",
       "3933472398                90             NaN            44        True   \n",
       "\n",
       "            start_time tower_status_dire tower_status_radiant  \n",
       "3933472394  1528135877              1958                    0  \n",
       "3933472395  1528135882              1974                    0  \n",
       "3933472396  1528135876              2039                    0  \n",
       "3933472397  1528135877                 0                 1975  \n",
       "3933472398  1528135875                 0                 1926  \n",
       "\n",
       "[5 rows x 27 columns]"
      ]
     },
     "execution_count": 32,
     "metadata": {},
     "output_type": "execute_result"
    }
   ],
   "source": [
    "for key in raw_match_data:    \n",
    "    try:\n",
    "        del raw_match_data[key]['players']        \n",
    "    except KeyError:\n",
    "        pass    \n",
    "    try:\n",
    "        del raw_match_data[key]['picks_bans']\n",
    "    except KeyError:\n",
    "        pass\n",
    "            \n",
    "\n",
    "match_df = pd.DataFrame(raw_match_data)\n",
    "match_df = match_df.transpose()\n",
    "match_df.head()"
   ]
  },
  {
   "cell_type": "code",
   "execution_count": 33,
   "metadata": {},
   "outputs": [
    {
     "data": {
      "text/plain": [
       "Index(['barracks_status_dire', 'barracks_status_radiant', 'cluster',\n",
       "       'cluster_name', 'dire_captain', 'dire_score', 'duration', 'engine',\n",
       "       'first_blood_time', 'flags', 'game_mode', 'game_mode_name',\n",
       "       'human_players', 'leagueid', 'lobby_name', 'lobby_type', 'match_id',\n",
       "       'match_seq_num', 'negative_votes', 'positive_votes',\n",
       "       'pre_game_duration', 'radiant_captain', 'radiant_score', 'radiant_win',\n",
       "       'start_time', 'tower_status_dire', 'tower_status_radiant'],\n",
       "      dtype='object')"
      ]
     },
     "execution_count": 33,
     "metadata": {},
     "output_type": "execute_result"
    }
   ],
   "source": [
    "match_df.columns"
   ]
  },
  {
   "cell_type": "code",
   "execution_count": 34,
   "metadata": {},
   "outputs": [
    {
     "data": {
      "text/html": [
       "<div>\n",
       "<style scoped>\n",
       "    .dataframe tbody tr th:only-of-type {\n",
       "        vertical-align: middle;\n",
       "    }\n",
       "\n",
       "    .dataframe tbody tr th {\n",
       "        vertical-align: top;\n",
       "    }\n",
       "\n",
       "    .dataframe thead th {\n",
       "        text-align: right;\n",
       "    }\n",
       "</style>\n",
       "<table border=\"1\" class=\"dataframe\">\n",
       "  <thead>\n",
       "    <tr style=\"text-align: right;\">\n",
       "      <th></th>\n",
       "      <th>barracks_status_dire</th>\n",
       "      <th>barracks_status_radiant</th>\n",
       "      <th>dire_score</th>\n",
       "      <th>duration</th>\n",
       "      <th>human_players</th>\n",
       "      <th>match_id</th>\n",
       "      <th>radiant_score</th>\n",
       "      <th>radiant_win</th>\n",
       "      <th>tower_status_dire</th>\n",
       "      <th>tower_status_radiant</th>\n",
       "    </tr>\n",
       "  </thead>\n",
       "  <tbody>\n",
       "    <tr>\n",
       "      <th>3933472394</th>\n",
       "      <td>63</td>\n",
       "      <td>0</td>\n",
       "      <td>38</td>\n",
       "      <td>1620</td>\n",
       "      <td>10</td>\n",
       "      <td>3933472394</td>\n",
       "      <td>29</td>\n",
       "      <td>False</td>\n",
       "      <td>1958</td>\n",
       "      <td>0</td>\n",
       "    </tr>\n",
       "    <tr>\n",
       "      <th>3933472395</th>\n",
       "      <td>63</td>\n",
       "      <td>0</td>\n",
       "      <td>35</td>\n",
       "      <td>2300</td>\n",
       "      <td>10</td>\n",
       "      <td>3933472395</td>\n",
       "      <td>31</td>\n",
       "      <td>False</td>\n",
       "      <td>1974</td>\n",
       "      <td>0</td>\n",
       "    </tr>\n",
       "    <tr>\n",
       "      <th>3933472396</th>\n",
       "      <td>63</td>\n",
       "      <td>0</td>\n",
       "      <td>5</td>\n",
       "      <td>781</td>\n",
       "      <td>10</td>\n",
       "      <td>3933472396</td>\n",
       "      <td>9</td>\n",
       "      <td>NaN</td>\n",
       "      <td>2039</td>\n",
       "      <td>0</td>\n",
       "    </tr>\n",
       "    <tr>\n",
       "      <th>3933472397</th>\n",
       "      <td>0</td>\n",
       "      <td>63</td>\n",
       "      <td>27</td>\n",
       "      <td>2277</td>\n",
       "      <td>10</td>\n",
       "      <td>3933472397</td>\n",
       "      <td>54</td>\n",
       "      <td>True</td>\n",
       "      <td>0</td>\n",
       "      <td>1975</td>\n",
       "    </tr>\n",
       "    <tr>\n",
       "      <th>3933472398</th>\n",
       "      <td>0</td>\n",
       "      <td>55</td>\n",
       "      <td>46</td>\n",
       "      <td>2291</td>\n",
       "      <td>10</td>\n",
       "      <td>3933472398</td>\n",
       "      <td>44</td>\n",
       "      <td>True</td>\n",
       "      <td>0</td>\n",
       "      <td>1926</td>\n",
       "    </tr>\n",
       "  </tbody>\n",
       "</table>\n",
       "</div>"
      ],
      "text/plain": [
       "           barracks_status_dire barracks_status_radiant dire_score duration  \\\n",
       "3933472394                   63                       0         38     1620   \n",
       "3933472395                   63                       0         35     2300   \n",
       "3933472396                   63                       0          5      781   \n",
       "3933472397                    0                      63         27     2277   \n",
       "3933472398                    0                      55         46     2291   \n",
       "\n",
       "           human_players    match_id radiant_score radiant_win  \\\n",
       "3933472394            10  3933472394            29       False   \n",
       "3933472395            10  3933472395            31       False   \n",
       "3933472396            10  3933472396             9         NaN   \n",
       "3933472397            10  3933472397            54        True   \n",
       "3933472398            10  3933472398            44        True   \n",
       "\n",
       "           tower_status_dire tower_status_radiant  \n",
       "3933472394              1958                    0  \n",
       "3933472395              1974                    0  \n",
       "3933472396              2039                    0  \n",
       "3933472397                 0                 1975  \n",
       "3933472398                 0                 1926  "
      ]
     },
     "execution_count": 34,
     "metadata": {},
     "output_type": "execute_result"
    }
   ],
   "source": [
    "drop_list = [\n",
    "    'dire_captain', \n",
    "    'cluster', \n",
    "    'cluster_name', \n",
    "    'engine', \n",
    "    'match_seq_num', \n",
    "    'negative_votes', \n",
    "    'positive_votes',\n",
    "    'lobby_type',\n",
    "    'start_time',\n",
    "    'radiant_captain',\n",
    "    'pre_game_duration',    \n",
    "    'lobby_name',\n",
    "    'leagueid',\n",
    "    'flags',\n",
    "    'game_mode_name',\n",
    "    'game_mode',\n",
    "    'first_blood_time'\n",
    "]\n",
    "match_df = match_df.drop(columns = drop_list)\n",
    "match_df.head()"
   ]
  },
  {
   "cell_type": "code",
   "execution_count": 35,
   "metadata": {},
   "outputs": [],
   "source": [
    "with open('data/match.json') as f:\n",
    "    raw_match_data = json.load(f)\n",
    "\n",
    "player_list = []\n",
    "\n",
    "for keys in raw_match_data:\n",
    "    for i in range(len(raw_match_data[keys]['players'])):        \n",
    "        try:\n",
    "            del raw_match_data[keys]['players'][i]['ability_upgrades']                \n",
    "        except KeyError:\n",
    "            pass \n",
    "        raw_match_data[keys]['players'][i]['match_id'] = keys        \n",
    "        player_list.append(raw_match_data[keys]['players'][i])\n",
    "    \n",
    "player_0_df = pd.DataFrame(player_list)"
   ]
  },
  {
   "cell_type": "code",
   "execution_count": 36,
   "metadata": {},
   "outputs": [
    {
     "data": {
      "text/html": [
       "<div>\n",
       "<style scoped>\n",
       "    .dataframe tbody tr th:only-of-type {\n",
       "        vertical-align: middle;\n",
       "    }\n",
       "\n",
       "    .dataframe tbody tr th {\n",
       "        vertical-align: top;\n",
       "    }\n",
       "\n",
       "    .dataframe thead th {\n",
       "        text-align: right;\n",
       "    }\n",
       "</style>\n",
       "<table border=\"1\" class=\"dataframe\">\n",
       "  <thead>\n",
       "    <tr style=\"text-align: right;\">\n",
       "      <th></th>\n",
       "      <th>account_id</th>\n",
       "      <th>assists</th>\n",
       "      <th>deaths</th>\n",
       "      <th>denies</th>\n",
       "      <th>gold</th>\n",
       "      <th>gold_per_min</th>\n",
       "      <th>gold_spent</th>\n",
       "      <th>hero_id</th>\n",
       "      <th>kills</th>\n",
       "      <th>last_hits</th>\n",
       "      <th>leaver_status</th>\n",
       "      <th>level</th>\n",
       "      <th>match_id</th>\n",
       "      <th>player_slot</th>\n",
       "      <th>scaled_hero_damage</th>\n",
       "      <th>scaled_hero_healing</th>\n",
       "      <th>scaled_tower_damage</th>\n",
       "      <th>xp_per_min</th>\n",
       "    </tr>\n",
       "  </thead>\n",
       "  <tbody>\n",
       "    <tr>\n",
       "      <th>0</th>\n",
       "      <td>1.674159e+08</td>\n",
       "      <td>18</td>\n",
       "      <td>8</td>\n",
       "      <td>2</td>\n",
       "      <td>833</td>\n",
       "      <td>382</td>\n",
       "      <td>16355</td>\n",
       "      <td>71</td>\n",
       "      <td>9</td>\n",
       "      <td>119</td>\n",
       "      <td>0.0</td>\n",
       "      <td>25</td>\n",
       "      <td>3933472768</td>\n",
       "      <td>0</td>\n",
       "      <td>12976</td>\n",
       "      <td>152</td>\n",
       "      <td>58</td>\n",
       "      <td>648</td>\n",
       "    </tr>\n",
       "    <tr>\n",
       "      <th>1</th>\n",
       "      <td>4.294967e+09</td>\n",
       "      <td>9</td>\n",
       "      <td>9</td>\n",
       "      <td>7</td>\n",
       "      <td>2498</td>\n",
       "      <td>377</td>\n",
       "      <td>13655</td>\n",
       "      <td>6</td>\n",
       "      <td>1</td>\n",
       "      <td>243</td>\n",
       "      <td>0.0</td>\n",
       "      <td>22</td>\n",
       "      <td>3933472768</td>\n",
       "      <td>1</td>\n",
       "      <td>4790</td>\n",
       "      <td>0</td>\n",
       "      <td>194</td>\n",
       "      <td>469</td>\n",
       "    </tr>\n",
       "    <tr>\n",
       "      <th>2</th>\n",
       "      <td>4.294967e+09</td>\n",
       "      <td>12</td>\n",
       "      <td>11</td>\n",
       "      <td>3</td>\n",
       "      <td>157</td>\n",
       "      <td>326</td>\n",
       "      <td>14470</td>\n",
       "      <td>88</td>\n",
       "      <td>5</td>\n",
       "      <td>37</td>\n",
       "      <td>0.0</td>\n",
       "      <td>21</td>\n",
       "      <td>3933472768</td>\n",
       "      <td>2</td>\n",
       "      <td>7562</td>\n",
       "      <td>0</td>\n",
       "      <td>161</td>\n",
       "      <td>413</td>\n",
       "    </tr>\n",
       "    <tr>\n",
       "      <th>3</th>\n",
       "      <td>3.143901e+08</td>\n",
       "      <td>5</td>\n",
       "      <td>7</td>\n",
       "      <td>10</td>\n",
       "      <td>316</td>\n",
       "      <td>595</td>\n",
       "      <td>26815</td>\n",
       "      <td>106</td>\n",
       "      <td>12</td>\n",
       "      <td>377</td>\n",
       "      <td>0.0</td>\n",
       "      <td>25</td>\n",
       "      <td>3933472768</td>\n",
       "      <td>3</td>\n",
       "      <td>17834</td>\n",
       "      <td>0</td>\n",
       "      <td>2011</td>\n",
       "      <td>779</td>\n",
       "    </tr>\n",
       "    <tr>\n",
       "      <th>4</th>\n",
       "      <td>2.552884e+08</td>\n",
       "      <td>11</td>\n",
       "      <td>13</td>\n",
       "      <td>8</td>\n",
       "      <td>4782</td>\n",
       "      <td>428</td>\n",
       "      <td>14675</td>\n",
       "      <td>93</td>\n",
       "      <td>8</td>\n",
       "      <td>217</td>\n",
       "      <td>0.0</td>\n",
       "      <td>25</td>\n",
       "      <td>3933472768</td>\n",
       "      <td>4</td>\n",
       "      <td>12834</td>\n",
       "      <td>0</td>\n",
       "      <td>110</td>\n",
       "      <td>612</td>\n",
       "    </tr>\n",
       "  </tbody>\n",
       "</table>\n",
       "</div>"
      ],
      "text/plain": [
       "     account_id  assists  deaths  denies  gold  gold_per_min  gold_spent  \\\n",
       "0  1.674159e+08       18       8       2   833           382       16355   \n",
       "1  4.294967e+09        9       9       7  2498           377       13655   \n",
       "2  4.294967e+09       12      11       3   157           326       14470   \n",
       "3  3.143901e+08        5       7      10   316           595       26815   \n",
       "4  2.552884e+08       11      13       8  4782           428       14675   \n",
       "\n",
       "   hero_id  kills  last_hits  leaver_status  level    match_id  player_slot  \\\n",
       "0       71      9        119            0.0     25  3933472768            0   \n",
       "1        6      1        243            0.0     22  3933472768            1   \n",
       "2       88      5         37            0.0     21  3933472768            2   \n",
       "3      106     12        377            0.0     25  3933472768            3   \n",
       "4       93      8        217            0.0     25  3933472768            4   \n",
       "\n",
       "   scaled_hero_damage  scaled_hero_healing  scaled_tower_damage  xp_per_min  \n",
       "0               12976                  152                   58         648  \n",
       "1                4790                    0                  194         469  \n",
       "2                7562                    0                  161         413  \n",
       "3               17834                    0                 2011         779  \n",
       "4               12834                    0                  110         612  "
      ]
     },
     "execution_count": 36,
     "metadata": {},
     "output_type": "execute_result"
    }
   ],
   "source": [
    "drop_columns = [\n",
    "    'leaver_status_description',\n",
    "    'leaver_status_name',\n",
    "    'hero_name',\n",
    "    'item_0_name',\n",
    "    'item_1_name',\n",
    "    'item_2_name',\n",
    "    'item_3_name',\n",
    "    'item_4_name',\n",
    "    'item_5_name',\n",
    "    'item_0',\n",
    "    'item_1',\n",
    "    'item_2',\n",
    "    'item_3',\n",
    "    'item_4',\n",
    "    'item_5',\n",
    "    'backpack_0',\n",
    "    'backpack_1',\n",
    "    'backpack_2',\n",
    "    'hero_damage',\n",
    "    'hero_healing',\n",
    "    'tower_damage',\n",
    "    'additional_units'\n",
    "]\n",
    "\n",
    "player_0_df = player_0_df.drop(columns = drop_columns)\n",
    "player_0_df.head()"
   ]
  },
  {
   "cell_type": "markdown",
   "metadata": {},
   "source": [
    "# 4. Data Enriching"
   ]
  },
  {
   "cell_type": "code",
   "execution_count": null,
   "metadata": {},
   "outputs": [],
   "source": []
  }
 ],
 "metadata": {
  "kernelspec": {
   "display_name": "Python 3",
   "language": "python",
   "name": "python3"
  },
  "language_info": {
   "codemirror_mode": {
    "name": "ipython",
    "version": 3
   },
   "file_extension": ".py",
   "mimetype": "text/x-python",
   "name": "python",
   "nbconvert_exporter": "python",
   "pygments_lexer": "ipython3",
   "version": "3.6.4"
  }
 },
 "nbformat": 4,
 "nbformat_minor": 2
}
