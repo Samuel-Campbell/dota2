{
 "cells": [
  {
   "cell_type": "markdown",
   "metadata": {},
   "source": [
    "# 0. Project Overview \n",
    "## 0.1 What is DOTA?  \n",
    "[DOTA](https://en.wikipedia.org/wiki/Dota_2) is an online multiplayer game which stands for Defense of the Ancients. The game is developped and published by valve and represents the second iteration of its kind. Originally, the game was developped by someone with the alias: \"[IceFrog](https://dota2.gamepedia.com/IceFrog)\" who published DOTA through a community-created mod using the Warcraft III engine.  \n",
    "\n",
    "The game is played 5 vs. 5 on the same map every game. Each team must occupy and defend their own bases where resides 'the ancient'. The game ends when one team successfully destroys the ancient. Each player must independently control a powerful character also known as a hero. Each hero has a unique style of play and possesses on average 4 unique abilities. Throughout the gameplay, heros can accumulate gold and experience through combat versus the other team's heros, killing enemy creeps (NPC), or destroying enemy towers/structures.  \n",
    "\n",
    "This game is regarded as having one of the steepest learning curves by the gaming community. Losing is extremely frustrating while winning feels extremely rewarding.  \n",
    "\n",
    "## 0.2 Some DOTA History  \n",
    "The game may seem simple at first glance due to each hero having access to only 4 skills, however the game is deceptively deep. The team composition permutations seem unumerable and every game is different from a previous one. Players with over 3000 hours of game time are still considered \"Noobs\" by the community.  \n",
    "\n",
    "In 2017, Elon Musk assembled a team to create an AI capable of playing DOTA 2 matches known as [OpenAI](https://blog.openai.com/dota-2/). This AI was only designed to participate in 1 vs. 1 player matches in the \"mid lane\". This bot learned to play the hero known as \"Nevermore\" or by its title \"ShadowFiend\" and had the opportunity to demonstrate its skills against one of the best mid players in the world: [Dendi](https://liquipedia.net/dota2/Dendi). Needless to say, OpenAI crushed Dendi which resonated throughout the gaming community.  \n",
    "\n",
    "Despite this victory, OpenAI is a very long way from learning to play 5 vs. 5 as it would have to learn every hero individually as well as team coordination strategies where the possibilities are seemingly endless.  \n",
    "\n",
    "\n",
    "## 0.3 DOTA Trivia  \n",
    "1. DOTA 2 generates \\$18m per month\n",
    "2. DOTA 2 holds the record for the largest prize pool in any e-sports at $24,687,919.00\n",
    "\n",
    "## 0.4 Why DOTA?  \n",
    "As mentioned in section 0.2, the game is quite complex during the play phase but this complexity is driven by the drafting phase. Before entering a game, players are presented at the hero selection screen where they can assemble a team of heroes with the goal of building as much synergy as possible. Certain teams favor pushing towers early in the game while other teams play for longevity thus giving the time and ressources for their heroes to become stronger. Regardless of a team's composition, the drafting phase will set the pace for the match.  \n",
    "\n",
    "Drafting is known to be an art in the DOTA community since it is so difficult to execute correctly. Many games can be won or lost from this game phase.  \n",
    "\n",
    "This research aims to find statistical evidence which will suggest to players which hero they should play/draft in order to maximize chances at victory.  \n",
    "\n",
    "## 0.5 Questions\n",
    "1. Given the hero selection screen, where some heros might already be drafted, which kind of should be drafted next to maximize victory? (Heros come in different kinds or with different roles)\n",
    "2. Given a certain kind of hero, which one of these should be drafted given the players performances and experience?\n",
    "\n",
    "## 0.6 Hypothesis & Expectations\n",
    "1. The margin by which a team wins matters since we want to maximize the odds of victory (a conclusive and convincing victory). Therefore a heuristic needs to be found for player performance. \n",
    "2. With only 1000 matches there are a maximum of 10 000 unique players which is a lot of data to process for a notebook but not sufficient for a full research.\n",
    "3. Players have a match making rating thus regrouping players of similar skills into the same matches. Despite some players climbing up or down the ladder to have their MMR reflect their skills, I assume that most players are ranked appropriately. This is important because we don't want ace/smurf players to skew the results by playing well with bad team compositions."
   ]
  },
  {
   "cell_type": "markdown",
   "metadata": {},
   "source": [
    "# 1. Data Collection  \n",
    "The data collection isn't done through this notebook since it can be very lengthy in terms of time so it is done in a seperate script. Furthermore, the API used by the python code isn't supported by Anaconda. To collect the data set you must perform the following operations:\n",
    "1. pip3 install -t ../dota2/requirements.txt\n",
    "2. python3 ../dota2/src/api_wrapper.py  \n",
    "\n",
    "The dataset will be saved in *../dota2/src/data/*  \n",
    "\n",
    "## 1.1 Downloaded Files   \n",
    "Below are the dynamic/up to date files. Running the script above will gather recent data from the DOTA 2 servers.  \n",
    "[dota2api](http://dota2api.readthedocs.io/en/latest/index.html)\n",
    "* match.json\n",
    "* heroes.json\n",
    "* items.json\n",
    "\n",
    "[DOTABUFF](https://www.dotabuff.com/heroes/played)\n",
    "* hero_monthly_stats.json\n",
    "\n",
    "[Liquipedia](https://liquipedia.net/dota2/Hero_Roles)\n",
    "* hero_complexity.txt\n",
    "* hero_role.txt\n",
    "\n",
    "[dota2lists](http://dota2lists.blogspot.com/2014/06/dota-2-hero-abbreviations.html)\n",
    "* hero_abbreviations.txt"
   ]
  },
  {
   "cell_type": "markdown",
   "metadata": {},
   "source": [
    "# 2 Data Discovery  \n",
    "First and foremost, I am an experience player at this game which allows me to analyze the data easily and efficiently.  \n",
    "The main data to use is the **match.json** file which is already well defined in a .json format. The **heroes.json** and **items.json** will compliment the former file. Finally, all other files will be used to enrich this information."
   ]
  },
  {
   "cell_type": "markdown",
   "metadata": {},
   "source": [
    "## 2.1 Analyzing match.json  \n"
   ]
  },
  {
   "cell_type": "code",
   "execution_count": 1,
   "metadata": {},
   "outputs": [
    {
     "data": {
      "text/html": [
       "<div>\n",
       "<style scoped>\n",
       "    .dataframe tbody tr th:only-of-type {\n",
       "        vertical-align: middle;\n",
       "    }\n",
       "\n",
       "    .dataframe tbody tr th {\n",
       "        vertical-align: top;\n",
       "    }\n",
       "\n",
       "    .dataframe thead th {\n",
       "        text-align: right;\n",
       "    }\n",
       "</style>\n",
       "<table border=\"1\" class=\"dataframe\">\n",
       "  <thead>\n",
       "    <tr style=\"text-align: right;\">\n",
       "      <th></th>\n",
       "      <th>barracks_status_dire</th>\n",
       "      <th>barracks_status_radiant</th>\n",
       "      <th>cluster</th>\n",
       "      <th>cluster_name</th>\n",
       "      <th>dire_captain</th>\n",
       "      <th>dire_score</th>\n",
       "      <th>duration</th>\n",
       "      <th>engine</th>\n",
       "      <th>first_blood_time</th>\n",
       "      <th>flags</th>\n",
       "      <th>...</th>\n",
       "      <th>picks_bans</th>\n",
       "      <th>players</th>\n",
       "      <th>positive_votes</th>\n",
       "      <th>pre_game_duration</th>\n",
       "      <th>radiant_captain</th>\n",
       "      <th>radiant_score</th>\n",
       "      <th>radiant_win</th>\n",
       "      <th>start_time</th>\n",
       "      <th>tower_status_dire</th>\n",
       "      <th>tower_status_radiant</th>\n",
       "    </tr>\n",
       "  </thead>\n",
       "  <tbody>\n",
       "    <tr>\n",
       "      <th>3933472394</th>\n",
       "      <td>63</td>\n",
       "      <td>0</td>\n",
       "      <td>133</td>\n",
       "      <td>Europe West</td>\n",
       "      <td>NaN</td>\n",
       "      <td>38</td>\n",
       "      <td>1620</td>\n",
       "      <td>1</td>\n",
       "      <td>70</td>\n",
       "      <td>1</td>\n",
       "      <td>...</td>\n",
       "      <td>[{'order': 0, 'hero_id': 22, 'team': 0, 'is_pi...</td>\n",
       "      <td>[{'gold_per_min': 392, 'leaver_status_name': '...</td>\n",
       "      <td>0</td>\n",
       "      <td>60</td>\n",
       "      <td>NaN</td>\n",
       "      <td>29</td>\n",
       "      <td>False</td>\n",
       "      <td>1528135877</td>\n",
       "      <td>1958</td>\n",
       "      <td>0</td>\n",
       "    </tr>\n",
       "    <tr>\n",
       "      <th>3933472395</th>\n",
       "      <td>63</td>\n",
       "      <td>0</td>\n",
       "      <td>227</td>\n",
       "      <td>NaN</td>\n",
       "      <td>NaN</td>\n",
       "      <td>35</td>\n",
       "      <td>2300</td>\n",
       "      <td>1</td>\n",
       "      <td>157</td>\n",
       "      <td>1</td>\n",
       "      <td>...</td>\n",
       "      <td>[{'order': 0, 'hero_id': 99, 'team': 0, 'is_pi...</td>\n",
       "      <td>[{'gold_per_min': 553, 'leaver_status_name': '...</td>\n",
       "      <td>0</td>\n",
       "      <td>90</td>\n",
       "      <td>NaN</td>\n",
       "      <td>31</td>\n",
       "      <td>False</td>\n",
       "      <td>1528135882</td>\n",
       "      <td>1974</td>\n",
       "      <td>0</td>\n",
       "    </tr>\n",
       "    <tr>\n",
       "      <th>3933472396</th>\n",
       "      <td>63</td>\n",
       "      <td>0</td>\n",
       "      <td>183</td>\n",
       "      <td>Russia</td>\n",
       "      <td>NaN</td>\n",
       "      <td>5</td>\n",
       "      <td>781</td>\n",
       "      <td>1</td>\n",
       "      <td>142</td>\n",
       "      <td>1</td>\n",
       "      <td>...</td>\n",
       "      <td>[{'order': 0, 'hero_id': 32, 'team': 0, 'is_pi...</td>\n",
       "      <td>[{'gold_per_min': 537, 'leaver_status_name': '...</td>\n",
       "      <td>0</td>\n",
       "      <td>60</td>\n",
       "      <td>NaN</td>\n",
       "      <td>9</td>\n",
       "      <td>NaN</td>\n",
       "      <td>1528135876</td>\n",
       "      <td>2039</td>\n",
       "      <td>0</td>\n",
       "    </tr>\n",
       "    <tr>\n",
       "      <th>3933472397</th>\n",
       "      <td>0</td>\n",
       "      <td>63</td>\n",
       "      <td>185</td>\n",
       "      <td>Russia</td>\n",
       "      <td>NaN</td>\n",
       "      <td>27</td>\n",
       "      <td>2277</td>\n",
       "      <td>1</td>\n",
       "      <td>129</td>\n",
       "      <td>1</td>\n",
       "      <td>...</td>\n",
       "      <td>[{'order': 0, 'hero_id': 56, 'team': 0, 'is_pi...</td>\n",
       "      <td>[{'gold_per_min': 444, 'leaver_status_name': '...</td>\n",
       "      <td>0</td>\n",
       "      <td>90</td>\n",
       "      <td>NaN</td>\n",
       "      <td>54</td>\n",
       "      <td>True</td>\n",
       "      <td>1528135877</td>\n",
       "      <td>0</td>\n",
       "      <td>1975</td>\n",
       "    </tr>\n",
       "    <tr>\n",
       "      <th>3933472398</th>\n",
       "      <td>0</td>\n",
       "      <td>55</td>\n",
       "      <td>187</td>\n",
       "      <td>Russia</td>\n",
       "      <td>NaN</td>\n",
       "      <td>46</td>\n",
       "      <td>2291</td>\n",
       "      <td>1</td>\n",
       "      <td>50</td>\n",
       "      <td>1</td>\n",
       "      <td>...</td>\n",
       "      <td>[{'order': 0, 'hero_id': 56, 'team': 0, 'is_pi...</td>\n",
       "      <td>[{'gold_per_min': 508, 'leaver_status_name': '...</td>\n",
       "      <td>0</td>\n",
       "      <td>90</td>\n",
       "      <td>NaN</td>\n",
       "      <td>44</td>\n",
       "      <td>True</td>\n",
       "      <td>1528135875</td>\n",
       "      <td>0</td>\n",
       "      <td>1926</td>\n",
       "    </tr>\n",
       "  </tbody>\n",
       "</table>\n",
       "<p>5 rows × 29 columns</p>\n",
       "</div>"
      ],
      "text/plain": [
       "           barracks_status_dire barracks_status_radiant cluster cluster_name  \\\n",
       "3933472394                   63                       0     133  Europe West   \n",
       "3933472395                   63                       0     227          NaN   \n",
       "3933472396                   63                       0     183       Russia   \n",
       "3933472397                    0                      63     185       Russia   \n",
       "3933472398                    0                      55     187       Russia   \n",
       "\n",
       "           dire_captain dire_score duration engine first_blood_time flags  \\\n",
       "3933472394          NaN         38     1620      1               70     1   \n",
       "3933472395          NaN         35     2300      1              157     1   \n",
       "3933472396          NaN          5      781      1              142     1   \n",
       "3933472397          NaN         27     2277      1              129     1   \n",
       "3933472398          NaN         46     2291      1               50     1   \n",
       "\n",
       "                   ...           \\\n",
       "3933472394         ...            \n",
       "3933472395         ...            \n",
       "3933472396         ...            \n",
       "3933472397         ...            \n",
       "3933472398         ...            \n",
       "\n",
       "                                                   picks_bans  \\\n",
       "3933472394  [{'order': 0, 'hero_id': 22, 'team': 0, 'is_pi...   \n",
       "3933472395  [{'order': 0, 'hero_id': 99, 'team': 0, 'is_pi...   \n",
       "3933472396  [{'order': 0, 'hero_id': 32, 'team': 0, 'is_pi...   \n",
       "3933472397  [{'order': 0, 'hero_id': 56, 'team': 0, 'is_pi...   \n",
       "3933472398  [{'order': 0, 'hero_id': 56, 'team': 0, 'is_pi...   \n",
       "\n",
       "                                                      players positive_votes  \\\n",
       "3933472394  [{'gold_per_min': 392, 'leaver_status_name': '...              0   \n",
       "3933472395  [{'gold_per_min': 553, 'leaver_status_name': '...              0   \n",
       "3933472396  [{'gold_per_min': 537, 'leaver_status_name': '...              0   \n",
       "3933472397  [{'gold_per_min': 444, 'leaver_status_name': '...              0   \n",
       "3933472398  [{'gold_per_min': 508, 'leaver_status_name': '...              0   \n",
       "\n",
       "           pre_game_duration radiant_captain radiant_score radiant_win  \\\n",
       "3933472394                60             NaN            29       False   \n",
       "3933472395                90             NaN            31       False   \n",
       "3933472396                60             NaN             9         NaN   \n",
       "3933472397                90             NaN            54        True   \n",
       "3933472398                90             NaN            44        True   \n",
       "\n",
       "            start_time tower_status_dire tower_status_radiant  \n",
       "3933472394  1528135877              1958                    0  \n",
       "3933472395  1528135882              1974                    0  \n",
       "3933472396  1528135876              2039                    0  \n",
       "3933472397  1528135877                 0                 1975  \n",
       "3933472398  1528135875                 0                 1926  \n",
       "\n",
       "[5 rows x 29 columns]"
      ]
     },
     "execution_count": 1,
     "metadata": {},
     "output_type": "execute_result"
    }
   ],
   "source": [
    "import json\n",
    "import pandas as pd\n",
    "\n",
    "# load match data\n",
    "with open('data/match.json') as f:\n",
    "    raw_match_data = json.load(f)\n",
    "\n",
    "# display table head\n",
    "match_df = pd.DataFrame(raw_match_data).transpose()\n",
    "match_df.head()"
   ]
  },
  {
   "cell_type": "markdown",
   "metadata": {},
   "source": [
    "We notice there are 2 columns with dictionaries: **picks_bans** and **players**. We can expand both of their fields to further investigate their contents.  \n",
    "\n",
    "We also print out all the columns and eyeball their names to make sure we don't miss anything unusual."
   ]
  },
  {
   "cell_type": "code",
   "execution_count": 2,
   "metadata": {},
   "outputs": [
    {
     "data": {
      "text/plain": [
       "Index(['barracks_status_dire', 'barracks_status_radiant', 'cluster',\n",
       "       'cluster_name', 'dire_captain', 'dire_score', 'duration', 'engine',\n",
       "       'first_blood_time', 'flags', 'game_mode', 'game_mode_name',\n",
       "       'human_players', 'leagueid', 'lobby_name', 'lobby_type', 'match_id',\n",
       "       'match_seq_num', 'negative_votes', 'picks_bans', 'players',\n",
       "       'positive_votes', 'pre_game_duration', 'radiant_captain',\n",
       "       'radiant_score', 'radiant_win', 'start_time', 'tower_status_dire',\n",
       "       'tower_status_radiant'],\n",
       "      dtype='object')"
      ]
     },
     "execution_count": 2,
     "metadata": {},
     "output_type": "execute_result"
    }
   ],
   "source": [
    "match_df.columns"
   ]
  },
  {
   "cell_type": "markdown",
   "metadata": {},
   "source": [
    "## 2.1 Breaking down the matches.json  \n",
    "### 2.1.1  Analyzing the player key\n",
    "We first investigate the **players** key"
   ]
  },
  {
   "cell_type": "code",
   "execution_count": 3,
   "metadata": {},
   "outputs": [
    {
     "data": {
      "text/plain": [
       "list"
      ]
     },
     "execution_count": 3,
     "metadata": {},
     "output_type": "execute_result"
    }
   ],
   "source": [
    "index = match_df.index[0]\n",
    "type(match_df.loc[index]['players'])"
   ]
  },
  {
   "cell_type": "markdown",
   "metadata": {},
   "source": [
    "The player column is a list of players and therefore we will only display the values for the first item in the collection."
   ]
  },
  {
   "cell_type": "code",
   "execution_count": 4,
   "metadata": {},
   "outputs": [
    {
     "data": {
      "text/plain": [
       "{'ability_upgrades': [{'ability': 5011, 'level': 1, 'time': 201},\n",
       "  {'ability': 5014, 'level': 2, 'time': 201},\n",
       "  {'ability': 5011, 'level': 3, 'time': 274},\n",
       "  {'ability': 5014, 'level': 4, 'time': 347},\n",
       "  {'ability': 5011, 'level': 5, 'time': 413},\n",
       "  {'ability': 5013, 'level': 6, 'time': 498},\n",
       "  {'ability': 5014, 'level': 7, 'time': 519},\n",
       "  {'ability': 5011, 'level': 8, 'time': 547},\n",
       "  {'ability': 5014, 'level': 9, 'time': 574},\n",
       "  {'ability': 6003, 'level': 10, 'time': 621},\n",
       "  {'ability': 5013, 'level': 11, 'time': 809},\n",
       "  {'ability': 5012, 'level': 12, 'time': 820},\n",
       "  {'ability': 5012, 'level': 13, 'time': 855},\n",
       "  {'ability': 5012, 'level': 14, 'time': 857},\n",
       "  {'ability': 6826, 'level': 15, 'time': 955},\n",
       "  {'ability': 5012, 'level': 16, 'time': 977},\n",
       "  {'ability': 5013, 'level': 17, 'time': 1145},\n",
       "  {'ability': 6068, 'level': 18, 'time': 1267}],\n",
       " 'account_id': 119063051,\n",
       " 'assists': 14,\n",
       " 'backpack_0': 0,\n",
       " 'backpack_1': 237,\n",
       " 'backpack_2': 57,\n",
       " 'deaths': 7,\n",
       " 'denies': 3,\n",
       " 'gold': 715,\n",
       " 'gold_per_min': 392,\n",
       " 'gold_spent': 10485,\n",
       " 'hero_damage': 9240,\n",
       " 'hero_healing': 365,\n",
       " 'hero_id': 3,\n",
       " 'hero_name': 'Bane',\n",
       " 'item_0': 232,\n",
       " 'item_0_name': 'Aether Lens',\n",
       " 'item_1': 42,\n",
       " 'item_1_name': 'Observer Ward',\n",
       " 'item_2': 254,\n",
       " 'item_2_name': 'Glimmer Cape',\n",
       " 'item_3': 36,\n",
       " 'item_3_name': 'Magic Wand',\n",
       " 'item_4': 23,\n",
       " 'item_4_name': 'Staff of Wizardry',\n",
       " 'item_5': 180,\n",
       " 'item_5_name': 'Arcane Boots',\n",
       " 'kills': 1,\n",
       " 'last_hits': 6,\n",
       " 'leaver_status': 1,\n",
       " 'leaver_status_description': 'player DC, no abandon',\n",
       " 'leaver_status_name': 'DISCONNECTED',\n",
       " 'level': 21,\n",
       " 'player_slot': 0,\n",
       " 'scaled_hero_damage': 6298,\n",
       " 'scaled_hero_healing': 266,\n",
       " 'scaled_tower_damage': 136,\n",
       " 'tower_damage': 156,\n",
       " 'xp_per_min': 743}"
      ]
     },
     "execution_count": 4,
     "metadata": {},
     "output_type": "execute_result"
    }
   ],
   "source": [
    "match_df.loc[index]['players'][0]"
   ]
  },
  {
   "cell_type": "markdown",
   "metadata": {},
   "source": [
    "**Players column review**  \n",
    "From the point of view of someone who has played hundreds of hours of DOTA, I can confirm that there is 2 types of information present in this column.  \n",
    "1. A player's performance with a hero --> gold per minute, kills, deaths...\n",
    "2. a player's choices throughout the game --> item selection, ability upgrades... \n",
    "This knowledge is usefull in order to determine what will need to be dropped later on."
   ]
  },
  {
   "cell_type": "markdown",
   "metadata": {},
   "source": [
    "### 2.1.1  Analyzing the pick_bans column"
   ]
  },
  {
   "cell_type": "code",
   "execution_count": 5,
   "metadata": {},
   "outputs": [
    {
     "data": {
      "text/plain": [
       "{'hero_id': 22, 'is_pick': False, 'order': 0, 'team': 0}"
      ]
     },
     "execution_count": 5,
     "metadata": {},
     "output_type": "execute_result"
    }
   ],
   "source": [
    "match_df.loc[index]['picks_bans'][0]"
   ]
  },
  {
   "cell_type": "markdown",
   "metadata": {},
   "source": [
    "**picks_bans review**  \n",
    "As expected, this column isn't too important for our purpose. Dota allows different game modes, one from which, captains on both teams can choose and ban certain heros from the draft in a sequential manner instead of a \"free-for-all\". This column is only useful if we investigate that particular game mode which is not in the scope of this research."
   ]
  },
  {
   "cell_type": "markdown",
   "metadata": {},
   "source": [
    "## 2.2 Analyzing the items.json\n",
    "This data was recovered from the API since there are keys from the **match.json** files which points to this. From my hypothesis I do not think this will be very important as items are correlated with in-game decisions as opposed to drafting."
   ]
  },
  {
   "cell_type": "code",
   "execution_count": 6,
   "metadata": {},
   "outputs": [],
   "source": [
    "with open('data/items.json') as f:\n",
    "    raw_item_data = json.load(f)"
   ]
  },
  {
   "cell_type": "code",
   "execution_count": 7,
   "metadata": {},
   "outputs": [
    {
     "data": {
      "text/html": [
       "<div>\n",
       "<style scoped>\n",
       "    .dataframe tbody tr th:only-of-type {\n",
       "        vertical-align: middle;\n",
       "    }\n",
       "\n",
       "    .dataframe tbody tr th {\n",
       "        vertical-align: top;\n",
       "    }\n",
       "\n",
       "    .dataframe thead th {\n",
       "        text-align: right;\n",
       "    }\n",
       "</style>\n",
       "<table border=\"1\" class=\"dataframe\">\n",
       "  <thead>\n",
       "    <tr style=\"text-align: right;\">\n",
       "      <th></th>\n",
       "      <th>items</th>\n",
       "      <th>status</th>\n",
       "    </tr>\n",
       "  </thead>\n",
       "  <tbody>\n",
       "    <tr>\n",
       "      <th>0</th>\n",
       "      <td>{'id': 1, 'localized_name': 'Blink Dagger', 'n...</td>\n",
       "      <td>200</td>\n",
       "    </tr>\n",
       "    <tr>\n",
       "      <th>1</th>\n",
       "      <td>{'id': 2, 'localized_name': 'Blades of Attack'...</td>\n",
       "      <td>200</td>\n",
       "    </tr>\n",
       "    <tr>\n",
       "      <th>2</th>\n",
       "      <td>{'id': 3, 'localized_name': 'Broadsword', 'nam...</td>\n",
       "      <td>200</td>\n",
       "    </tr>\n",
       "    <tr>\n",
       "      <th>3</th>\n",
       "      <td>{'id': 4, 'localized_name': 'Chainmail', 'name...</td>\n",
       "      <td>200</td>\n",
       "    </tr>\n",
       "    <tr>\n",
       "      <th>4</th>\n",
       "      <td>{'id': 5, 'localized_name': 'Claymore', 'name'...</td>\n",
       "      <td>200</td>\n",
       "    </tr>\n",
       "  </tbody>\n",
       "</table>\n",
       "</div>"
      ],
      "text/plain": [
       "                                               items  status\n",
       "0  {'id': 1, 'localized_name': 'Blink Dagger', 'n...     200\n",
       "1  {'id': 2, 'localized_name': 'Blades of Attack'...     200\n",
       "2  {'id': 3, 'localized_name': 'Broadsword', 'nam...     200\n",
       "3  {'id': 4, 'localized_name': 'Chainmail', 'name...     200\n",
       "4  {'id': 5, 'localized_name': 'Claymore', 'name'...     200"
      ]
     },
     "execution_count": 7,
     "metadata": {},
     "output_type": "execute_result"
    }
   ],
   "source": [
    "item_df = pd.DataFrame(raw_item_data)\n",
    "item_df.head()"
   ]
  },
  {
   "cell_type": "markdown",
   "metadata": {},
   "source": [
    "Once again we are confronted with a dictionary inside a column so we can investigate it further."
   ]
  },
  {
   "cell_type": "code",
   "execution_count": 8,
   "metadata": {},
   "outputs": [
    {
     "data": {
      "text/plain": [
       "{'cost': 2250,\n",
       " 'id': 1,\n",
       " 'localized_name': 'Blink Dagger',\n",
       " 'name': 'item_blink',\n",
       " 'recipe': 0,\n",
       " 'secret_shop': 0,\n",
       " 'side_shop': 1,\n",
       " 'url_image': 'http://cdn.dota2.com/apps/dota2/images/items/blink_lg.png'}"
      ]
     },
     "execution_count": 8,
     "metadata": {},
     "output_type": "execute_result"
    }
   ],
   "source": [
    "item_df.loc[0]['items']"
   ]
  },
  {
   "cell_type": "markdown",
   "metadata": {},
   "source": [
    "There doesn't seem to be any interesting information in this data."
   ]
  },
  {
   "cell_type": "markdown",
   "metadata": {},
   "source": [
    "## 2.3 Analyzing the heroes.json"
   ]
  },
  {
   "cell_type": "code",
   "execution_count": 9,
   "metadata": {},
   "outputs": [
    {
     "data": {
      "text/html": [
       "<div>\n",
       "<style scoped>\n",
       "    .dataframe tbody tr th:only-of-type {\n",
       "        vertical-align: middle;\n",
       "    }\n",
       "\n",
       "    .dataframe tbody tr th {\n",
       "        vertical-align: top;\n",
       "    }\n",
       "\n",
       "    .dataframe thead th {\n",
       "        text-align: right;\n",
       "    }\n",
       "</style>\n",
       "<table border=\"1\" class=\"dataframe\">\n",
       "  <thead>\n",
       "    <tr style=\"text-align: right;\">\n",
       "      <th></th>\n",
       "      <th>count</th>\n",
       "      <th>heroes</th>\n",
       "      <th>status</th>\n",
       "    </tr>\n",
       "  </thead>\n",
       "  <tbody>\n",
       "    <tr>\n",
       "      <th>0</th>\n",
       "      <td>115</td>\n",
       "      <td>{'url_small_portrait': 'http://cdn.dota2.com/a...</td>\n",
       "      <td>200</td>\n",
       "    </tr>\n",
       "    <tr>\n",
       "      <th>1</th>\n",
       "      <td>115</td>\n",
       "      <td>{'url_small_portrait': 'http://cdn.dota2.com/a...</td>\n",
       "      <td>200</td>\n",
       "    </tr>\n",
       "    <tr>\n",
       "      <th>2</th>\n",
       "      <td>115</td>\n",
       "      <td>{'url_small_portrait': 'http://cdn.dota2.com/a...</td>\n",
       "      <td>200</td>\n",
       "    </tr>\n",
       "    <tr>\n",
       "      <th>3</th>\n",
       "      <td>115</td>\n",
       "      <td>{'url_small_portrait': 'http://cdn.dota2.com/a...</td>\n",
       "      <td>200</td>\n",
       "    </tr>\n",
       "    <tr>\n",
       "      <th>4</th>\n",
       "      <td>115</td>\n",
       "      <td>{'url_small_portrait': 'http://cdn.dota2.com/a...</td>\n",
       "      <td>200</td>\n",
       "    </tr>\n",
       "  </tbody>\n",
       "</table>\n",
       "</div>"
      ],
      "text/plain": [
       "   count                                             heroes  status\n",
       "0    115  {'url_small_portrait': 'http://cdn.dota2.com/a...     200\n",
       "1    115  {'url_small_portrait': 'http://cdn.dota2.com/a...     200\n",
       "2    115  {'url_small_portrait': 'http://cdn.dota2.com/a...     200\n",
       "3    115  {'url_small_portrait': 'http://cdn.dota2.com/a...     200\n",
       "4    115  {'url_small_portrait': 'http://cdn.dota2.com/a...     200"
      ]
     },
     "execution_count": 9,
     "metadata": {},
     "output_type": "execute_result"
    }
   ],
   "source": [
    "with open('data/heroes.json') as f:\n",
    "    raw_hero_data = json.load(f)\n",
    "hero_df = pd.DataFrame(raw_hero_data)\n",
    "hero_df.head()"
   ]
  },
  {
   "cell_type": "code",
   "execution_count": 10,
   "metadata": {},
   "outputs": [
    {
     "data": {
      "text/plain": [
       "{'id': 1,\n",
       " 'localized_name': 'Anti-Mage',\n",
       " 'name': 'npc_dota_hero_antimage',\n",
       " 'url_full_portrait': 'http://cdn.dota2.com/apps/dota2/images/heroes/antimage_full.png',\n",
       " 'url_large_portrait': 'http://cdn.dota2.com/apps/dota2/images/heroes/antimage_lg.png',\n",
       " 'url_small_portrait': 'http://cdn.dota2.com/apps/dota2/images/heroes/antimage_sb.png',\n",
       " 'url_vertical_portrait': 'http://cdn.dota2.com/apps/dota2/images/heroes/antimage_vert.jpg'}"
      ]
     },
     "execution_count": 10,
     "metadata": {},
     "output_type": "execute_result"
    }
   ],
   "source": [
    "hero_df.loc[0]['heroes']"
   ]
  },
  {
   "cell_type": "markdown",
   "metadata": {},
   "source": [
    "This information is interesting for the hero unique ID and name. The rest of the information can be dropped."
   ]
  },
  {
   "cell_type": "markdown",
   "metadata": {},
   "source": [
    "## 2.4 Analyzing game complexity  \n",
    "One interesting aspect with the hero list and item list is that we can determine the quantity of theorycrafts possible."
   ]
  },
  {
   "cell_type": "code",
   "execution_count": 11,
   "metadata": {},
   "outputs": [
    {
     "name": "stdout",
     "output_type": "stream",
     "text": [
      "74540394223878\n",
      "607221379765\n"
     ]
    }
   ],
   "source": [
    "import math\n",
    "item_count = len(raw_item_data['items'])\n",
    "heroes_count = len(raw_hero_data['heroes'])\n",
    "heroes_per_game = 10\n",
    "\n",
    "# hero combinations without repetition\n",
    "numerator = math.factorial(heroes_count)\n",
    "denominator = math.factorial(heroes_per_game) * math.factorial(heroes_count - heroes_per_game)\n",
    "hero_combinations = numerator // denominator\n",
    "\n",
    "# item combinations with repetition\n",
    "# A hero can have 0 to 6 items so we calculate the permutations for every number of items\n",
    "item_combinations = 0\n",
    "for items_per_hero in range(7):\n",
    "    numerator = math.factorial(item_count + items_per_hero - 1)\n",
    "    denominator = math.factorial(item_count - 1) * math.factorial(items_per_hero)\n",
    "    item_combinations += numerator // denominator\n",
    "\n",
    "print(hero_combinations)\n",
    "print(item_combinations)"
   ]
  },
  {
   "cell_type": "markdown",
   "metadata": {},
   "source": [
    "**Theorycrafting**  \n",
    "There is an astonishing **74540394223878** ways of drafting heroes with **607221379765** item combinations for **each** hero drafed!"
   ]
  },
  {
   "cell_type": "code",
   "execution_count": 12,
   "metadata": {},
   "outputs": [
    {
     "name": "stdout",
     "output_type": "stream",
     "text": [
      "45262521028850235469028670\n"
     ]
    },
    {
     "data": {
      "text/plain": [
       "'4.53e+25'"
      ]
     },
     "execution_count": 12,
     "metadata": {},
     "output_type": "execute_result"
    }
   ],
   "source": [
    "# Theorycraft combinations\n",
    "theory_craft_combination = hero_combinations * item_combinations\n",
    "print(theory_craft_combination)\n",
    "'{:.2e}'.format(theory_craft_combination)"
   ]
  },
  {
   "cell_type": "markdown",
   "metadata": {},
   "source": [
    "Finally we find that there are **4.53 * 10^25** theoretical hero setups. This is excluding ability upgrades so there are in fact more. This number alone raises questions about the performance of a statistical tool which can help us evaluate this problem given that the research is conducted on only 1000 data points. For this reason I have decided to classify the heroes into smaller categories."
   ]
  },
  {
   "cell_type": "markdown",
   "metadata": {},
   "source": [
    "## 2.5 Reducing game complexity with data classification  \n",
    "Thankfully, professional players have already done the classification for us. It is only a matter of scrapping the wikipedia page and cleaning the data."
   ]
  },
  {
   "cell_type": "markdown",
   "metadata": {},
   "source": [
    "### 2.5.1 Analyzing hero roles"
   ]
  },
  {
   "cell_type": "code",
   "execution_count": 13,
   "metadata": {},
   "outputs": [
    {
     "name": "stdout",
     "output_type": "stream",
     "text": [
      "{| class=\"wikitable\"\n",
      "!colspan=8| ■■■ Carry\n",
      "|-\n",
      "|{{HeroIcon|am}}{{HeroIcon|arc}}{{HeroIcon|ck}}{{HeroIcon|gyro}}{{HeroIcon|medusa}}{{HeroIcon|morph}}{{HeroIcon|naga}}{{HeroIcon|pa}}<br>{{HeroIcon|sniper}}{{HeroIcon|spectre}}{{HeroIcon|tb}}{{HeroIcon|tiny}}{{HeroIcon|troll}}\n",
      "|-\n",
      "!colspan=8| ■■ Carry\n",
      "|-\n",
      "|{{HeroIcon|alch}}{{HeroIcon|bb}}{{HeroIcon|dk}}{{HeroIcon|huskar}}{{HeroIcon|ls}}{{HeroIcon|lycan}}{{HeroIcon|mk}}{{HeroIcon|slardar}}<br>{{HeroIcon|sven}}{{HeroIcon|wk}}{{HeroIcon|clinkz}}{{HeroIcon|drow}}{{HeroIcon|ember}}{{HeroIcon|void}}{{HeroIcon|jugg}}{{HeroIcon|ld}}<br>{{HeroIcon|luna}}{{HeroIcon|meepo}}{{HeroIcon|pl}}{{HeroIcon|razor}}{{HeroIcon|riki}}{{HeroIcon|sf}}{{HeroIcon|slark}}{{HeroIcon|ta}}<br>{{HeroIcon|ursa}}{{HeroIcon|weaver}}{{HeroIcon|od}}{{HeroIcon|storm}}{{HeroIcon|pangolier}}\n",
      "|-\n",
      "!colspan=8| ■ Carry\n",
      "|-\n",
      "|{{HeroIcon|abaddon}}{{HeroIcon|brew}}{{HeroIcon|doom}}{{HeroIcon|kunkka}}{{HeroIcon|lc}}{{HeroIcon|ns}}{{HeroIcon|sb}}{{HeroIcon|bs}}<br>{{HeroIcon|brood}}{{HeroIcon|\n"
     ]
    }
   ],
   "source": [
    "file = open('data/hero_role.txt', 'r')\n",
    "raw_hero_role_data = \"\"\n",
    "for line in file:\n",
    "    raw_hero_role_data += line\n",
    "file.close()\n",
    "print(raw_hero_role_data[:1000])"
   ]
  },
  {
   "cell_type": "markdown",
   "metadata": {},
   "source": [
    "**Hero Role review**  \n",
    "The data is absolutely disgusting to look at but we notice some level of formatting. According to the wikipedia article the number of '■' represent the degree at which a hero belongs to a class. The name appearing right after the '■' symbol is the class. All items listed under the class are the heroes belonging to it."
   ]
  },
  {
   "cell_type": "code",
   "execution_count": 14,
   "metadata": {},
   "outputs": [
    {
     "name": "stdout",
     "output_type": "stream",
     "text": [
      "['Carry', 'Nuker', 'Initiator', 'Disabler', 'Escape', 'Support', 'Pusher', 'Jungler']\n"
     ]
    }
   ],
   "source": [
    "delimeter_start = \"■■■ \"\n",
    "delimeter_end = \"\\n|-\\n|\"\n",
    "delimited_roles = raw_hero_role_data.split(delimeter_start)\n",
    "roles_list = []\n",
    "for dr in delimited_roles:\n",
    "    roles_list.append(dr.split(delimeter_end)[0])\n",
    "roles_list = roles_list[1:]\n",
    "print(roles_list)"
   ]
  },
  {
   "cell_type": "markdown",
   "metadata": {},
   "source": [
    "The above script prints out all the different hero roles and after inspection they seem correct."
   ]
  },
  {
   "cell_type": "markdown",
   "metadata": {},
   "source": [
    "### 2.5.2 Analyzing hero complexity"
   ]
  },
  {
   "cell_type": "code",
   "execution_count": 15,
   "metadata": {},
   "outputs": [
    {
     "name": "stdout",
     "output_type": "stream",
     "text": [
      "y styles.\n",
      "\n",
      "{| class=\"wikitable\"\n",
      "!colspan=8| ■■■ Complexity\n",
      "|-\n",
      "|{{HeroIcon|brewmaster}}{{HeroIcon|earth spirit}}{{HeroIcon|io}}{{HeroIcon|aw}}{{HeroIcon|ld}}{{HeroIcon|meepo}}{{HeroIcon|morph}}{{HeroIcon|chen}}<br>{{HeroIcon|invoker}}{{HeroIcon|oracle}}{{HeroIcon|rubick}}{{HeroIcon|storm}}{{HeroIcon|visage}}\n",
      "|-\n",
      "!colspan=8| ■■ Complexity\n",
      "|-\n",
      "|{{HeroIcon|beastmaster}}{{HeroIcon|clock}}{{HeroIcon|doom}}{{HeroIcon|earthshaker}}{{HeroIcon|et}}{{HeroIcon|kunkka}}{{HeroIcon|lifestealer}}{{HeroIcon|lycan}\n"
     ]
    }
   ],
   "source": [
    "file = open('data/hero_complexity.txt')\n",
    "raw_hero_complexity_data = \"\"\n",
    "for line in file:\n",
    "    raw_hero_complexity_data += line\n",
    "file.close()\n",
    "print(raw_hero_complexity_data[500:1000])"
   ]
  },
  {
   "cell_type": "markdown",
   "metadata": {},
   "source": [
    "**Complexity review**  \n",
    "This file has the same structure as the former one although I doubt that this data will be any usefull for the research. A hero can be very hard to play for most players but very easy for few players. For this reason, it is more adequate to look at a player's win ratio history with a select hero than to generalize how well a person will play given the general distribution."
   ]
  },
  {
   "cell_type": "markdown",
   "metadata": {},
   "source": [
    "# 3 Cleaning data & Structuring  \n",
    "This is enough data discovery, by now we have a good idea of what it represents. Now we must clean and structure the data so that it is easily usable by statistical and analytical tools later on."
   ]
  },
  {
   "cell_type": "markdown",
   "metadata": {},
   "source": [
    "## 3.1 Cleaning hero data \n",
    "### 3.1.1 Adding delimiters\n",
    "From the above section, the most unformatted data is the hero_roles.txt file. I first start of by removing all unecessary text and creating '|' delimiters which will become easy to regex."
   ]
  },
  {
   "cell_type": "code",
   "execution_count": 16,
   "metadata": {},
   "outputs": [
    {
     "name": "stdout",
     "output_type": "stream",
     "text": [
      "{| class=\"wikitable\"\n",
      "!colspan=8| ■■■ Carry\n",
      "||am| |arc| |ck| |gyro| |medusa| |morph| |naga| |pa| |sniper| |spectre| |tb| |tiny| |troll| \n",
      "!colspan=8| ■■ Carry\n",
      "||alch| |bb| |dk| |huskar| |ls| |lycan| |mk| |slardar| |sven| |wk| |clinkz| |drow| |ember| |void| |jugg| |ld| |luna| |meepo| |pl| |razor| |riki| |sf| |slark| |ta| |ursa| |weaver| |od| |storm| |pangolier| \n",
      "!colspan=8| ■ Carry\n",
      "||abaddon| |brew| |doom| |kunkka| |lc| |ns| |sb| |bs| |brood| |mirana| |viper| |dp| |invoker| |leshrac| |lina| |np| |n\n"
     ]
    }
   ],
   "source": [
    "updated_hero_role_data = \"\"\n",
    "updated_hero_role_data = raw_hero_role_data.replace(\"{{HeroIcon|\", \"|\")\n",
    "updated_hero_role_data = updated_hero_role_data.replace(\"}}\", \"| \")\n",
    "updated_hero_role_data = updated_hero_role_data.replace(\"|-\\n\", \"\")\n",
    "updated_hero_role_data = updated_hero_role_data.replace(\"<br>\", \"\")\n",
    "print(updated_hero_role_data[:500])"
   ]
  },
  {
   "cell_type": "markdown",
   "metadata": {},
   "source": [
    "### 3.1.2 Regex  \n",
    "The next step is to regex all the hero names. We notice from the names that there are acronyms such as \"ck\" which actually stands for \"Chaos Knight\". Comparing these values with the ones form the hero.json file will create inconsistencies. Therefore we need another set of data which will translate these common acronyms to the hero's actual name."
   ]
  },
  {
   "cell_type": "code",
   "execution_count": 17,
   "metadata": {},
   "outputs": [
    {
     "name": "stdout",
     "output_type": "stream",
     "text": [
      "[', , am,  , arc,  , ck,  , gyro,  , medusa,  , morph,  , naga,  , pa,  , sniper,  , spectre,  , tb,  , tiny,  , troll, ', ', , alch,  , bb,  , dk,  , huskar,  , ls,  , lycan,  , mk,  , slardar,  , sven,  , wk,  , clinkz,  , drow,  , ember,  , void,  , jugg,  , ld,  , luna,  , meepo,  , pl,  , razor,  , riki,  , sf,  , slark,  , ta,  , ursa,  , weaver,  , od,  , storm,  , pangolier, ', ', , abaddon,  , brew,  , doom,  , kunkka,  , lc,  , ns,  , sb,  , bs,  , brood,  , mirana,  , viper,  , dp,  , invoker,  , leshrac,  , lina,  , np,  , necro,  , qop,  , silencer,  , tinker,  , wr, ', ', , phoenix,  , timber,  , sf,  , invoker,  , lesh,  , lina,  , lion,  , oracle,  , qop,  , skywrath,  , techies,  , tinker,  , zeus, ', ', , earth spirit,  , sk,  , tiny,  , luna,  , meepo,  , nyx,  , cm,  , jakiro,  , kotl,  , lich,  , necro,  , ogre,  , od,  , puck,  , pugna,  , shaman,  , storm,  , visage,  , wd,  , pangolier,  , dark willow, ', ', , alch,  , beastmaster,  , brew,  , bb,  , centaur,  , clock,  , doom,  , dk,  , es,  , et,  , io,  , kunkka,  , lc,  , magnus,  , ns,  , omni,  , pudge,  , sven,  , tide,  , tusk,  , undying,  , am,  , arc,  , bs,  , bh,  , brood,  , ember,  , gyro,  , mirana,  , morph,  , pl,  , razor,  , slark,  , sniper,  , tb,  , venge,  , veno,  , aa,  , bane,  , dazzle,  , dp,  , disruptor,  , np,  , rubick,  , sd,  , silencer,  , underlord,  , wr,  , ww, ', ', , axe,  , brew,  , cent,  , clock,  , shaker,  , mag,  , sk,  , tide,  , void,  , bat,  , puck, ', ', , beast,  , doom,  , et,  , ns,  , phx,  , pudge,  , slar,  , sb,  , sven,  , tiny,  , tree,  , tusk,  , nyx,  , venge,  , enigma,  , lion,  , silencer,  , warlock,  , pangolier, ', ', , alch,  , bb,  , ck,  , dk,  , earth,  , husk,  , kunkka,  , lc,  , mk,  , bs,  , ember,  , meep,  , naga,  , veno,  , viper,  , ds,  , dis,  , ogre,  , sd,  , shaman,  , storm,  , wk, ', ', , bane,  , lion,  , puck,  , shaman, ', ', , axe,  , beast,  , brew,  , ck,  , clock,  , doom,  , dk,  , shaker,  , lc,  , mag,  , ns,  , pudge,  , sk,  , sb,  , sven,  , tide,  , tusk,  , wk,  , void,  , naga,  , nyx,  , venge,  , bat,  , cm,  , dis,  , enigma,  , invo,  , ogre,  , oracle,  , sd,  , silencer,  , ww, ', ', , alch,  , cent,  , earth,  , et,  , kunkka,  , lifestealer,  , mk,  , phx,  , slar,  , tiny,  , tree,  , undying,  , bs,  , dr,  , ember,  , gyro,  , dusa,  , meep,  , mirana,  , morph,  , riki,  , slark,  , troll,  , ursa,  , veno,  , viper,  , aa,  , ds,  , dazzle,  , dp,  , ench,  , jak,  , kotl,  , lesh,  , lina,  , necro,  , od,  , rubick,  , sky,  , storm,  , techies,  , underlord,  , visage,  , warlock,  , wr,  , wd,  , pangolier,  , dark willow, ', ', , am,  , arc,  , brood,  , clinkz,  , ember,  , morph,  , slark,  , weaver,  , puck,  , qop,  , storm, ', ', , earth spirit,  , io,  , mk,  , phoenix,  , sk,  , timber,  , bh,  , meepo,  , mirana,  , pl,  , riki,  , underlord,  , pangolier,  , dark willow, ', ', , centaur,  , ls,  , lycan,  , magnus,  , slardar,  , sb,  , treant,  , void,  , jugg,  , naga,  , nyx,  , pa,  , spectre,  , ta,  , venge,  , bat,  , ds,  , invoker,  , np,  , oracle,  , wr, ', ', , io,  , tree,  , vs,  , cm,  , dazzle,  , kotl,  , lich,  , oracle,  , ww,  , wd, ', ', , abaddon,  , omni,  , veno,  , aa,  , bane,  , chen,  , dis,  , ench,  , lion,  , ogre,  , rubick,  , sd,  , shaman,  , sky,  , dark willow, ', ', , alch,  , shaker,  , kunkka,  , phx,  , undying,  , wk,  , mirana,  , naga,  , jak,  , lesh,  , lina,  , silencer,  , sk,  , underlord,  , visage,  , warlock,  , wr, ', ', , dk,  , lycan,  , brood,  , ld,  , dp,  , lesh,  , np,  , shaman, ', ', , ck,  , tiny,  , naga,  , tb,  , chen,  , ench,  , enigma,  , jak,  , pugna,  , tinker, ', ', , clinkz,  , dr,  , jugg,  , luna,  , meep,  , pl,  , razor,  , troll,  , veno,  , invo,  , visage, ', ', , chen,  , ench,  , enigma,  , np, ', ', , axe,  , bat, ', ', , lifestealer,  , lycan,  , sk,  , bs,  , ld,  , ursa,  , cm,  , ds,  , kotl, ']\n"
     ]
    }
   ],
   "source": [
    "import re\n",
    "hero_regex = re.compile(\"\\|.*\\|\")\n",
    "hero_regex_matches = re.findall(hero_regex, updated_hero_role_data)\n",
    "for i in range(len(hero_regex_matches)):\n",
    "    hero_regex_matches[i] = hero_regex_matches[i].replace(\"|\", \", \")\n",
    "print(hero_regex_matches)"
   ]
  },
  {
   "cell_type": "markdown",
   "metadata": {},
   "source": [
    "### 3.1.3  Inspecting the hero_abbreviations.txt\n",
    "We inspect this file quickly to understand its format so that we can use it."
   ]
  },
  {
   "cell_type": "code",
   "execution_count": 18,
   "metadata": {},
   "outputs": [
    {
     "name": "stdout",
     "output_type": "stream",
     "text": [
      "Abaddon\n",
      "Alch = Alchemist\n",
      "AA = Ancient Apparition\n",
      "AM = Anti-Mage\n",
      "Arc = Arc Warden\n",
      "Axe\n",
      "Bane\n",
      "Bat = Batr\n"
     ]
    }
   ],
   "source": [
    "file = open(\"data/hero_abbreviations.txt\", 'r')\n",
    "sample = \"\"\n",
    "for line in file:\n",
    "    sample += line\n",
    "file.close()\n",
    "print(sample[:100])"
   ]
  },
  {
   "cell_type": "markdown",
   "metadata": {},
   "source": [
    "The file is formatted in a very simple manner. Hero abbreviations are mapped to their actual names and heroes without abbreviations are simply not mapped. For this task we can simply create a dictionary which will map abbreviations to actual names."
   ]
  },
  {
   "cell_type": "code",
   "execution_count": 19,
   "metadata": {
    "scrolled": false
   },
   "outputs": [
    {
     "name": "stdout",
     "output_type": "stream",
     "text": [
      "{'abaddon': 'abaddon', 'alch': 'alchemist', 'alchemist': 'alchemist', 'aa': 'ancient apparition', 'ancient apparition': 'ancient apparition', 'am': 'anti-mage', 'anti-mage': 'anti-mage', 'arc': 'arc warden', 'arc warden': 'arc warden', 'axe': 'axe', 'bane': 'bane', 'bat': 'batrider', 'batrider': 'batrider', 'bm': 'beastmaster', 'beastmaster': 'beastmaster', 'beast': 'beastmaster', 'bs': 'bloodseeker', 'bloodseeker': 'bloodseeker', 'bh': 'bounty hunter', 'bounty hunter': 'bounty hunter', 'brew': 'brewmaster', 'brewmaster': 'brewmaster', 'bb': 'bristleback', 'bristleback': 'bristleback', 'brood': 'broodmother', 'broodmother': 'broodmother', 'centaur': 'centaur warrunner', 'centaur warrunner': 'centaur warrunner', 'cent': 'centaur warrunner', 'ck': 'chaos knight', 'chaos knight': 'chaos knight', 'chen': 'chen', 'clinkz': 'clinkz', 'clock': 'clockwerk', 'clockwerk': 'clockwerk', 'cm': 'crystal maiden', 'crystal maiden': 'crystal maiden', 'ds': 'dark seer', 'dark seer': 'dark seer', 'dazzle': 'dazzle', 'dark willow': 'dark willow', 'dp': 'death prophet', 'death prophet': 'death prophet', 'disruptor': 'disruptor', 'dis': 'disruptor', 'doom': 'doom', 'dk': 'dragon knight', 'dragon knight': 'dragon knight', 'drow': 'drow ranger', 'drow ranger': 'drow ranger', 'dr': 'drow ranger', 'es': 'earthshaker', 'earthshaker': 'earthshaker', 'shaker': 'earthshaker', 'earth': 'earth spirit', 'earth spirit': 'earth spirit', 'et': 'elder titan', 'elder titan': 'elder titan', 'ember': 'ember spirit', 'ember spirit': 'ember spirit', 'enchantress': 'enchantress', 'ench': 'enchantress', 'enigma': 'enigma', 'void': 'faceless void', 'faceless void': 'faceless void', 'gandalf': 'keeper of the light ', 'keeper of the light ': 'keeper of the light ', 'gyro': 'gyrocopter', 'gyrocopter': 'gyrocopter', 'huskar': 'huskar', 'invoker': 'invoker', 'invo': 'invoker', 'io': 'io', 'jak': 'jakiro', 'jakiro': 'jakiro', 'jugg': 'juggernaut', 'juggernaut': 'juggernaut', 'kotl': 'keeper of the light', 'keeper of the light': 'keeper of the light', 'kunkka': 'kunkka', 'husk': 'huskar', 'lc': 'legion commander', 'legion commander': 'legion commander', 'leshrac': 'leshrac', 'lesh': 'leshrac', 'lich': 'lich', 'ls': 'lifestealer', 'lifestealer': 'lifestealer', 'lina': 'lina', 'lion': 'lion', 'ld': 'lone druid', 'lone druid': 'lone druid', 'syllabear': 'lone druid', 'luna': 'luna', 'lycan': 'lycan', 'mag': 'magnus', 'magnus': 'magnus', 'medusa': 'medusa', 'dusa': 'medusa', 'meepo': 'meepo', 'meep': 'meepo', 'mirana': 'mirana', 'morph': 'morphling', 'morphling': 'morphling', 'mk': 'monkey king', 'monkey king': 'monkey king', 'naga': 'naga siren', 'naga siren': 'naga siren', 'np': \"nature's prophet\", \"nature's prophet\": \"nature's prophet\", 'necro': 'necrophos', 'necrophos': 'necrophos', 'ns': 'night stalker', 'night stalker': 'night stalker', 'nyx': 'nyx assassin', 'nyx assassin': 'nyx assassin', 'ogre': 'ogre magi', 'ogre magi': 'ogre magi', 'omni': 'omniknight', 'omniknight': 'omniknight', 'od': 'outworld devourer', 'outworld devourer': 'outworld devourer', 'oracle': 'oracle', 'pa': 'phantom assassin', 'phantom assassin': 'phantom assassin', 'pangolier': 'pangolier', 'pl': 'phantom lancer', 'phantom lancer': 'phantom lancer', 'phoenix': 'phoenix', 'puck': 'puck', 'pudge': 'pudge', 'pugna': 'pugna', 'phx': 'phoenix', 'qop': 'queen of pain', 'queen of pain': 'queen of pain', 'razor': 'razor', 'riki': 'riki', 'rubick': 'rubick', 'sk': 'sand king', 'sand king': 'sand king', 'sd': 'shadow demon', 'shadow demon': 'shadow demon', 'sf': 'shadow fiend', 'shadow fiend': 'shadow fiend', 'ss': 'shadow shaman', 'shadow shaman': 'shadow shaman', 'shaman': 'shadow shaman', 'storm': 'storm spirit', 'storm spirit': 'storm spirit', 'silencer': 'silencer', 'sm': 'skywrath mage', 'skywrath mage': 'skywrath mage', 'skywrath': 'skywrath mage', 'sky': 'skywrath mage', 'slardar': 'slardar', 'slar': 'slardar', 'slark': 'slark', 'sniper': 'sniper', 'spectre': 'spectre', 'sb': 'spirit breaker', 'spirit breaker': 'spirit breaker', 'sven': 'sven', 'ta': 'templar assassin', 'templar assassin': 'templar assassin', 'tb': 'terrorblade', 'terrorblade': 'terrorblade', 'techies': 'techies', 'tree': 'treant', 'treant': 'treant protector', 'tide': 'tidehunter', 'tidehunter': 'tidehunter', 'timber': 'timbersaw', 'timbersaw': 'timbersaw', 'tinker': 'tinker', 'tiny': 'tiny', 'treant protector': 'treant protector', 'troll': 'troll warlord', 'troll warlord': 'troll warlord', 'tusk': 'tusk', 'underlord': 'underlord', 'undying': 'undying', 'ursa': 'ursa', 'venge': 'vengeful spirit', 'vengeful spirit': 'vengeful spirit', 'vs': 'vengeful spirit', 'veno': 'venomancer', 'venomancer': 'venomancer', 'viper': 'viper', 'visage': 'visage', 'warlock': 'warlock', 'weaver': 'weaver', 'wr': 'windranger', 'windranger': 'windranger', 'wd': 'witch doctor', 'witch doctor': 'witch doctor', 'wk': 'wraith king', 'wraith king': 'wraith king', 'ww': 'winter wyvern', 'winter wyvern': 'winter wyvern', 'zeus': 'zeus'}\n"
     ]
    }
   ],
   "source": [
    "# load data\n",
    "file = open(\"data/hero_abbreviations.txt\", 'r')\n",
    "hero_abbr = {}\n",
    "for line in file:\n",
    "    txt = line.lower()\n",
    "    # split with '='. Left hand side is abbreviation\n",
    "    key = txt.split(' =')[0]\n",
    "    try:\n",
    "        # right hand side is hero full name\n",
    "        value = txt.split('= ')[1]\n",
    "        value = value.replace(\"\\n\", \"\")        \n",
    "    except IndexError:\n",
    "        key = key.replace(\"\\n\", \"\")\n",
    "        value = key        \n",
    "    hero_abbr[key] = value\n",
    "    hero_abbr[value] = value\n",
    "file.close()\n",
    "print(hero_abbr)"
   ]
  },
  {
   "cell_type": "markdown",
   "metadata": {},
   "source": [
    "### 3.1.4 Mapping abbreviations to full names  \n",
    "The above output shows us the content of the dictionary. We can now use this to map hero abbreviations to their full names so that they match the rest of the dataset."
   ]
  },
  {
   "cell_type": "code",
   "execution_count": 20,
   "metadata": {},
   "outputs": [
    {
     "name": "stdout",
     "output_type": "stream",
     "text": [
      "[['anti-mage', 'arc warden', 'chaos knight', 'gyrocopter', 'medusa', 'morphling', 'naga siren', 'phantom assassin', 'sniper', 'spectre', 'terrorblade', 'tiny', 'troll warlord'], ['alchemist', 'bristleback', 'dragon knight', 'huskar', 'lifestealer', 'lycan', 'monkey king', 'slardar', 'sven', 'wraith king', 'clinkz', 'drow ranger', 'ember spirit', 'faceless void', 'juggernaut', 'lone druid', 'luna', 'meepo', 'phantom lancer', 'razor', 'riki', 'shadow fiend', 'slark', 'templar assassin', 'ursa', 'weaver', 'outworld devourer', 'storm spirit', 'pangolier'], ['abaddon', 'brewmaster', 'doom', 'kunkka', 'legion commander', 'night stalker', 'spirit breaker', 'bloodseeker', 'broodmother', 'mirana', 'viper', 'death prophet', 'invoker', 'leshrac', 'lina', \"nature's prophet\", 'necrophos', 'queen of pain', 'silencer', 'tinker', 'windranger'], ['phoenix', 'timbersaw', 'shadow fiend', 'invoker', 'leshrac', 'lina', 'lion', 'oracle', 'queen of pain', 'skywrath mage', 'techies', 'tinker', 'zeus'], ['earth spirit', 'sand king', 'tiny', 'luna', 'meepo', 'nyx assassin', 'crystal maiden', 'jakiro', 'keeper of the light', 'lich', 'necrophos', 'ogre magi', 'outworld devourer', 'puck', 'pugna', 'shadow shaman', 'storm spirit', 'visage', 'witch doctor', 'pangolier', 'dark willow'], ['alchemist', 'beastmaster', 'brewmaster', 'bristleback', 'centaur warrunner', 'clockwerk', 'doom', 'dragon knight', 'earthshaker', 'elder titan', 'io', 'kunkka', 'legion commander', 'magnus', 'night stalker', 'omniknight', 'pudge', 'sven', 'tidehunter', 'tusk', 'undying', 'anti-mage', 'arc warden', 'bloodseeker', 'bounty hunter', 'broodmother', 'ember spirit', 'gyrocopter', 'mirana', 'morphling', 'phantom lancer', 'razor', 'slark', 'sniper', 'terrorblade', 'vengeful spirit', 'venomancer', 'ancient apparition', 'bane', 'dazzle', 'death prophet', 'disruptor', \"nature's prophet\", 'rubick', 'shadow demon', 'silencer', 'underlord', 'windranger', 'winter wyvern'], ['axe', 'brewmaster', 'centaur warrunner', 'clockwerk', 'earthshaker', 'magnus', 'sand king', 'tidehunter', 'faceless void', 'batrider', 'puck'], ['beastmaster', 'doom', 'elder titan', 'night stalker', 'phoenix', 'pudge', 'slardar', 'spirit breaker', 'sven', 'tiny', 'treant', 'tusk', 'nyx assassin', 'vengeful spirit', 'enigma', 'lion', 'silencer', 'warlock', 'pangolier'], ['alchemist', 'bristleback', 'chaos knight', 'dragon knight', 'earth spirit', 'huskar', 'kunkka', 'legion commander', 'monkey king', 'bloodseeker', 'ember spirit', 'meepo', 'naga siren', 'venomancer', 'viper', 'dark seer', 'disruptor', 'ogre magi', 'shadow demon', 'shadow shaman', 'storm spirit', 'wraith king'], ['bane', 'lion', 'puck', 'shadow shaman'], ['axe', 'beastmaster', 'brewmaster', 'chaos knight', 'clockwerk', 'doom', 'dragon knight', 'earthshaker', 'legion commander', 'magnus', 'night stalker', 'pudge', 'sand king', 'spirit breaker', 'sven', 'tidehunter', 'tusk', 'wraith king', 'faceless void', 'naga siren', 'nyx assassin', 'vengeful spirit', 'batrider', 'crystal maiden', 'disruptor', 'enigma', 'invoker', 'ogre magi', 'oracle', 'shadow demon', 'silencer', 'winter wyvern'], ['alchemist', 'centaur warrunner', 'earth spirit', 'elder titan', 'kunkka', 'lifestealer', 'monkey king', 'phoenix', 'slardar', 'tiny', 'treant', 'undying', 'bloodseeker', 'drow ranger', 'ember spirit', 'gyrocopter', 'medusa', 'meepo', 'mirana', 'morphling', 'riki', 'slark', 'troll warlord', 'ursa', 'venomancer', 'viper', 'ancient apparition', 'dark seer', 'dazzle', 'death prophet', 'enchantress', 'jakiro', 'keeper of the light', 'leshrac', 'lina', 'necrophos', 'outworld devourer', 'rubick', 'skywrath mage', 'storm spirit', 'techies', 'underlord', 'visage', 'warlock', 'windranger', 'witch doctor', 'pangolier', 'dark willow'], ['anti-mage', 'arc warden', 'broodmother', 'clinkz', 'ember spirit', 'morphling', 'slark', 'weaver', 'puck', 'queen of pain', 'storm spirit'], ['earth spirit', 'io', 'monkey king', 'phoenix', 'sand king', 'timbersaw', 'bounty hunter', 'meepo', 'mirana', 'phantom lancer', 'riki', 'underlord', 'pangolier', 'dark willow'], ['centaur warrunner', 'lifestealer', 'lycan', 'magnus', 'slardar', 'spirit breaker', 'treant protector', 'faceless void', 'juggernaut', 'naga siren', 'nyx assassin', 'phantom assassin', 'spectre', 'templar assassin', 'vengeful spirit', 'batrider', 'dark seer', 'invoker', \"nature's prophet\", 'oracle', 'windranger'], ['io', 'treant', 'vengeful spirit', 'crystal maiden', 'dazzle', 'keeper of the light', 'lich', 'oracle', 'winter wyvern', 'witch doctor'], ['abaddon', 'omniknight', 'venomancer', 'ancient apparition', 'bane', 'chen', 'disruptor', 'enchantress', 'lion', 'ogre magi', 'rubick', 'shadow demon', 'shadow shaman', 'skywrath mage', 'dark willow'], ['alchemist', 'earthshaker', 'kunkka', 'phoenix', 'undying', 'wraith king', 'mirana', 'naga siren', 'jakiro', 'leshrac', 'lina', 'silencer', 'sand king', 'underlord', 'visage', 'warlock', 'windranger'], ['dragon knight', 'lycan', 'broodmother', 'lone druid', 'death prophet', 'leshrac', \"nature's prophet\", 'shadow shaman'], ['chaos knight', 'tiny', 'naga siren', 'terrorblade', 'chen', 'enchantress', 'enigma', 'jakiro', 'pugna', 'tinker'], ['clinkz', 'drow ranger', 'juggernaut', 'luna', 'meepo', 'phantom lancer', 'razor', 'troll warlord', 'venomancer', 'invoker', 'visage'], ['chen', 'enchantress', 'enigma', \"nature's prophet\"], ['axe', 'batrider'], ['lifestealer', 'lycan', 'sand king', 'bloodseeker', 'lone druid', 'ursa', 'crystal maiden', 'dark seer', 'keeper of the light']]\n"
     ]
    }
   ],
   "source": [
    "cleaned_hero_names = []\n",
    "for i in range(len(hero_regex_matches)):\n",
    "    line = hero_regex_matches[i].split(\", \")        \n",
    "    tmp_list = []\n",
    "    for j in range(len(line)):\n",
    "        if line[j] == ' ' or line[j] == '':\n",
    "            pass\n",
    "        else:\n",
    "            tmp_list.append(hero_abbr[line[j]])\n",
    "    cleaned_hero_names.append(tmp_list)\n",
    "print(cleaned_hero_names)"
   ]
  },
  {
   "cell_type": "markdown",
   "metadata": {},
   "source": [
    "**Output**  \n",
    "The above code generates a list of all the heroes by their roles in the same order in which they appear from the wikipedia dataset. --> [carry:[hero_1, hero_2], support:[hero_n], ...]. There are no errors during runtime which tells us that every hero has been mapped appropriately."
   ]
  },
  {
   "cell_type": "markdown",
   "metadata": {},
   "source": [
    "### 3.1.5 Structuring hero roles  \n",
    "The final step is the create a dictionary which will map roles to a list of heroes which can then easily be used by pandas to create a dataframe. From the dataset we notice a sequence --> <hard, semi, weak> <role>. So every 3rd element in a list has the same magnitude (hard, semi, weak). After 3 elements, the role is updated."
   ]
  },
  {
   "cell_type": "code",
   "execution_count": 21,
   "metadata": {},
   "outputs": [
    {
     "name": "stdout",
     "output_type": "stream",
     "text": [
      "{'carry': ['abaddon', 'brewmaster', 'doom', 'kunkka', 'legion commander', 'night stalker', 'spirit breaker', 'bloodseeker', 'broodmother', 'mirana', 'viper', 'death prophet', 'invoker', 'leshrac', 'lina', \"nature's prophet\", 'necrophos', 'queen of pain', 'silencer', 'tinker', 'windranger'], 'nuker': ['alchemist', 'beastmaster', 'brewmaster', 'bristleback', 'centaur warrunner', 'clockwerk', 'doom', 'dragon knight', 'earthshaker', 'elder titan', 'io', 'kunkka', 'legion commander', 'magnus', 'night stalker', 'omniknight', 'pudge', 'sven', 'tidehunter', 'tusk', 'undying', 'anti-mage', 'arc warden', 'bloodseeker', 'bounty hunter', 'broodmother', 'ember spirit', 'gyrocopter', 'mirana', 'morphling', 'phantom lancer', 'razor', 'slark', 'sniper', 'terrorblade', 'vengeful spirit', 'venomancer', 'ancient apparition', 'bane', 'dazzle', 'death prophet', 'disruptor', \"nature's prophet\", 'rubick', 'shadow demon', 'silencer', 'underlord', 'windranger', 'winter wyvern'], 'initiator': ['alchemist', 'bristleback', 'chaos knight', 'dragon knight', 'earth spirit', 'huskar', 'kunkka', 'legion commander', 'monkey king', 'bloodseeker', 'ember spirit', 'meepo', 'naga siren', 'venomancer', 'viper', 'dark seer', 'disruptor', 'ogre magi', 'shadow demon', 'shadow shaman', 'storm spirit', 'wraith king'], 'disabler': ['alchemist', 'centaur warrunner', 'earth spirit', 'elder titan', 'kunkka', 'lifestealer', 'monkey king', 'phoenix', 'slardar', 'tiny', 'treant', 'undying', 'bloodseeker', 'drow ranger', 'ember spirit', 'gyrocopter', 'medusa', 'meepo', 'mirana', 'morphling', 'riki', 'slark', 'troll warlord', 'ursa', 'venomancer', 'viper', 'ancient apparition', 'dark seer', 'dazzle', 'death prophet', 'enchantress', 'jakiro', 'keeper of the light', 'leshrac', 'lina', 'necrophos', 'outworld devourer', 'rubick', 'skywrath mage', 'storm spirit', 'techies', 'underlord', 'visage', 'warlock', 'windranger', 'witch doctor', 'pangolier', 'dark willow'], 'escape': ['centaur warrunner', 'lifestealer', 'lycan', 'magnus', 'slardar', 'spirit breaker', 'treant protector', 'faceless void', 'juggernaut', 'naga siren', 'nyx assassin', 'phantom assassin', 'spectre', 'templar assassin', 'vengeful spirit', 'batrider', 'dark seer', 'invoker', \"nature's prophet\", 'oracle', 'windranger'], 'support': ['alchemist', 'earthshaker', 'kunkka', 'phoenix', 'undying', 'wraith king', 'mirana', 'naga siren', 'jakiro', 'leshrac', 'lina', 'silencer', 'sand king', 'underlord', 'visage', 'warlock', 'windranger'], 'pusher': ['clinkz', 'drow ranger', 'juggernaut', 'luna', 'meepo', 'phantom lancer', 'razor', 'troll warlord', 'venomancer', 'invoker', 'visage'], 'jungler': ['lifestealer', 'lycan', 'sand king', 'bloodseeker', 'lone druid', 'ursa', 'crystal maiden', 'dark seer', 'keeper of the light']}\n"
     ]
    }
   ],
   "source": [
    "cleaned_roles_dict = {}\n",
    "role_index = -1\n",
    "for i in range(len(cleaned_hero_names)):    \n",
    "    role_strength = i % 3    \n",
    "\n",
    "    if role_strength == 0:\n",
    "        role_index += 1\n",
    "    hard_role = roles_list[role_index].lower()\n",
    "    cleaned_roles_dict[hard_role] = cleaned_hero_names[i]\n",
    "            \n",
    "print(cleaned_roles_dict)"
   ]
  },
  {
   "cell_type": "markdown",
   "metadata": {},
   "source": [
    "**Validating output**  \n",
    "After a quick glance and comparison with the dataset, the dictionary seems to have been created appropriately and therefore the cleaning has been successful."
   ]
  },
  {
   "cell_type": "markdown",
   "metadata": {},
   "source": [
    "### 3.1.6 Representing roles by integers  \n",
    "The machine learning model will need integers instead of strings. Also notice that certain heroes fit more than 1 role because they can be played differently. For this reason every hero is represented by a 24 bit number where every bit represents a role."
   ]
  },
  {
   "cell_type": "code",
   "execution_count": 22,
   "metadata": {},
   "outputs": [
    {
     "data": {
      "text/html": [
       "<div>\n",
       "<style scoped>\n",
       "    .dataframe tbody tr th:only-of-type {\n",
       "        vertical-align: middle;\n",
       "    }\n",
       "\n",
       "    .dataframe tbody tr th {\n",
       "        vertical-align: top;\n",
       "    }\n",
       "\n",
       "    .dataframe thead th {\n",
       "        text-align: right;\n",
       "    }\n",
       "</style>\n",
       "<table border=\"1\" class=\"dataframe\">\n",
       "  <thead>\n",
       "    <tr style=\"text-align: right;\">\n",
       "      <th></th>\n",
       "      <th>role</th>\n",
       "    </tr>\n",
       "  </thead>\n",
       "  <tbody>\n",
       "    <tr>\n",
       "      <th>carry</th>\n",
       "      <td>0</td>\n",
       "    </tr>\n",
       "    <tr>\n",
       "      <th>disabler</th>\n",
       "      <td>3</td>\n",
       "    </tr>\n",
       "    <tr>\n",
       "      <th>escape</th>\n",
       "      <td>4</td>\n",
       "    </tr>\n",
       "    <tr>\n",
       "      <th>initiator</th>\n",
       "      <td>2</td>\n",
       "    </tr>\n",
       "    <tr>\n",
       "      <th>jungler</th>\n",
       "      <td>7</td>\n",
       "    </tr>\n",
       "  </tbody>\n",
       "</table>\n",
       "</div>"
      ],
      "text/plain": [
       "           role\n",
       "carry         0\n",
       "disabler      3\n",
       "escape        4\n",
       "initiator     2\n",
       "jungler       7"
      ]
     },
     "execution_count": 22,
     "metadata": {},
     "output_type": "execute_result"
    }
   ],
   "source": [
    "role_bits = {\n",
    "    'role': {}\n",
    "}\n",
    "\n",
    "index = 0\n",
    "for role in cleaned_roles_dict:\n",
    "    role_bits['role'][role] = index\n",
    "    index += 1\n",
    "role_bits_df = pd.DataFrame(role_bits)     \n",
    "role_bits_df.head()"
   ]
  },
  {
   "cell_type": "markdown",
   "metadata": {},
   "source": [
    "We then save the roles ad their associated bits to a .json file for use later if necessary.m"
   ]
  },
  {
   "cell_type": "code",
   "execution_count": 23,
   "metadata": {},
   "outputs": [],
   "source": [
    "with open('data/role_bits.json', 'w') as outfile:\n",
    "    json.dump(role_bits, outfile)"
   ]
  },
  {
   "cell_type": "markdown",
   "metadata": {},
   "source": [
    "### 3.1.7 Structuring the hero roles  \n",
    "In order to maximize informaiton, I have decided to also represent every hero's role by a 1 hot vector."
   ]
  },
  {
   "cell_type": "code",
   "execution_count": 24,
   "metadata": {},
   "outputs": [
    {
     "data": {
      "text/html": [
       "<div>\n",
       "<style scoped>\n",
       "    .dataframe tbody tr th:only-of-type {\n",
       "        vertical-align: middle;\n",
       "    }\n",
       "\n",
       "    .dataframe tbody tr th {\n",
       "        vertical-align: top;\n",
       "    }\n",
       "\n",
       "    .dataframe thead th {\n",
       "        text-align: right;\n",
       "    }\n",
       "</style>\n",
       "<table border=\"1\" class=\"dataframe\">\n",
       "  <thead>\n",
       "    <tr style=\"text-align: right;\">\n",
       "      <th></th>\n",
       "      <th>hero_name</th>\n",
       "      <th>carry</th>\n",
       "      <th>disabler</th>\n",
       "      <th>escape</th>\n",
       "      <th>initiator</th>\n",
       "      <th>jungler</th>\n",
       "      <th>nuker</th>\n",
       "      <th>pusher</th>\n",
       "      <th>score</th>\n",
       "      <th>support</th>\n",
       "    </tr>\n",
       "  </thead>\n",
       "  <tbody>\n",
       "    <tr>\n",
       "      <th>0</th>\n",
       "      <td>abaddon</td>\n",
       "      <td>1</td>\n",
       "      <td>0</td>\n",
       "      <td>0</td>\n",
       "      <td>0</td>\n",
       "      <td>0</td>\n",
       "      <td>0</td>\n",
       "      <td>0</td>\n",
       "      <td>1</td>\n",
       "      <td>0</td>\n",
       "    </tr>\n",
       "    <tr>\n",
       "      <th>1</th>\n",
       "      <td>alchemist</td>\n",
       "      <td>0</td>\n",
       "      <td>1</td>\n",
       "      <td>0</td>\n",
       "      <td>1</td>\n",
       "      <td>0</td>\n",
       "      <td>1</td>\n",
       "      <td>0</td>\n",
       "      <td>46</td>\n",
       "      <td>1</td>\n",
       "    </tr>\n",
       "    <tr>\n",
       "      <th>2</th>\n",
       "      <td>ancient apparition</td>\n",
       "      <td>0</td>\n",
       "      <td>1</td>\n",
       "      <td>0</td>\n",
       "      <td>0</td>\n",
       "      <td>0</td>\n",
       "      <td>1</td>\n",
       "      <td>0</td>\n",
       "      <td>10</td>\n",
       "      <td>0</td>\n",
       "    </tr>\n",
       "    <tr>\n",
       "      <th>3</th>\n",
       "      <td>anti-mage</td>\n",
       "      <td>0</td>\n",
       "      <td>0</td>\n",
       "      <td>0</td>\n",
       "      <td>0</td>\n",
       "      <td>0</td>\n",
       "      <td>1</td>\n",
       "      <td>0</td>\n",
       "      <td>2</td>\n",
       "      <td>0</td>\n",
       "    </tr>\n",
       "    <tr>\n",
       "      <th>4</th>\n",
       "      <td>arc warden</td>\n",
       "      <td>0</td>\n",
       "      <td>0</td>\n",
       "      <td>0</td>\n",
       "      <td>0</td>\n",
       "      <td>0</td>\n",
       "      <td>1</td>\n",
       "      <td>0</td>\n",
       "      <td>2</td>\n",
       "      <td>0</td>\n",
       "    </tr>\n",
       "  </tbody>\n",
       "</table>\n",
       "</div>"
      ],
      "text/plain": [
       "            hero_name  carry  disabler  escape  initiator  jungler  nuker  \\\n",
       "0             abaddon      1         0       0          0        0      0   \n",
       "1           alchemist      0         1       0          1        0      1   \n",
       "2  ancient apparition      0         1       0          0        0      1   \n",
       "3           anti-mage      0         0       0          0        0      1   \n",
       "4          arc warden      0         0       0          0        0      1   \n",
       "\n",
       "   pusher  score  support  \n",
       "0       0      1        0  \n",
       "1       0     46        1  \n",
       "2       0     10        0  \n",
       "3       0      2        0  \n",
       "4       0      2        0  "
      ]
     },
     "execution_count": 24,
     "metadata": {},
     "output_type": "execute_result"
    }
   ],
   "source": [
    "hero_roles_dict = {}\n",
    "for key in cleaned_roles_dict:\n",
    "    for hero in cleaned_roles_dict[key]:\n",
    "        if hero in hero_roles_dict:\n",
    "            hero_roles_dict[hero]['score'] += 2**role_bits['role'][key]            \n",
    "        else:\n",
    "            hero_roles_dict[hero] = {\n",
    "                'score': 2**role_bits['role'][key],\n",
    "                'carry': 0, \n",
    "                'disabler': 0, \n",
    "                'escape': 0, \n",
    "                'initiator': 0,\n",
    "                'jungler': 0, \n",
    "                'nuker': 0, \n",
    "                'pusher': 0, \n",
    "                'support': 0\n",
    "            }\n",
    "        hero_roles_dict[hero][key] = 1\n",
    "hero_scores_df = pd.DataFrame(hero_roles_dict).transpose()\n",
    "hero_scores_df = hero_scores_df.reset_index()\n",
    "hero_scores_df = hero_scores_df.rename({'index':'hero_name'}, axis='columns')\n",
    "hero_scores_df.head()"
   ]
  },
  {
   "cell_type": "markdown",
   "metadata": {},
   "source": [
    "### 3.1.8 Merging hero unique id  \n",
    "Finally we merge the hero unique id to this table so that it can correspond to the rest of the set. We also take the luxury of dropping the unecessary columns listed in section 2."
   ]
  },
  {
   "cell_type": "code",
   "execution_count": 25,
   "metadata": {},
   "outputs": [
    {
     "data": {
      "text/html": [
       "<div>\n",
       "<style scoped>\n",
       "    .dataframe tbody tr th:only-of-type {\n",
       "        vertical-align: middle;\n",
       "    }\n",
       "\n",
       "    .dataframe tbody tr th {\n",
       "        vertical-align: top;\n",
       "    }\n",
       "\n",
       "    .dataframe thead th {\n",
       "        text-align: right;\n",
       "    }\n",
       "</style>\n",
       "<table border=\"1\" class=\"dataframe\">\n",
       "  <thead>\n",
       "    <tr style=\"text-align: right;\">\n",
       "      <th></th>\n",
       "      <th>hero_id</th>\n",
       "      <th>hero_name</th>\n",
       "    </tr>\n",
       "  </thead>\n",
       "  <tbody>\n",
       "    <tr>\n",
       "      <th>0</th>\n",
       "      <td>1</td>\n",
       "      <td>anti-mage</td>\n",
       "    </tr>\n",
       "    <tr>\n",
       "      <th>1</th>\n",
       "      <td>2</td>\n",
       "      <td>axe</td>\n",
       "    </tr>\n",
       "    <tr>\n",
       "      <th>2</th>\n",
       "      <td>3</td>\n",
       "      <td>bane</td>\n",
       "    </tr>\n",
       "    <tr>\n",
       "      <th>3</th>\n",
       "      <td>4</td>\n",
       "      <td>bloodseeker</td>\n",
       "    </tr>\n",
       "    <tr>\n",
       "      <th>4</th>\n",
       "      <td>5</td>\n",
       "      <td>crystal maiden</td>\n",
       "    </tr>\n",
       "  </tbody>\n",
       "</table>\n",
       "</div>"
      ],
      "text/plain": [
       "   hero_id       hero_name\n",
       "0        1       anti-mage\n",
       "1        2             axe\n",
       "2        3            bane\n",
       "3        4     bloodseeker\n",
       "4        5  crystal maiden"
      ]
     },
     "execution_count": 25,
     "metadata": {},
     "output_type": "execute_result"
    }
   ],
   "source": [
    "with open('data/heroes.json') as f:\n",
    "    raw_hero_data = json.load(f)\n",
    "    \n",
    "hero_roles_dict = {\n",
    "    'hero': {}\n",
    "}\n",
    "\n",
    "hero_list = raw_hero_data['heroes']\n",
    "\n",
    "for dictionary in hero_list:\n",
    "    dictionary['localized_name'] = dictionary['localized_name'].lower()            \n",
    "    hero_name = dictionary['localized_name']    \n",
    "\n",
    "hero_roles_df = pd.DataFrame(hero_list) \n",
    "hero_roles_df = hero_roles_df.reset_index()\n",
    "\n",
    "# rename columns to fit rest of dataset\n",
    "hero_roles_df = hero_roles_df.rename({'localized_name':'hero_name','id': 'hero_id'}, axis='columns')\n",
    "\n",
    "# columns to drop\n",
    "drop_columns = [\n",
    "    'name',\n",
    "    'url_full_portrait',\n",
    "    'url_large_portrait',\n",
    "    'url_small_portrait',\n",
    "    'url_vertical_portrait',\n",
    "    'index'\n",
    "]\n",
    "hero_roles_df = hero_roles_df.drop(columns=drop_columns)\n",
    "hero_roles_df.head()"
   ]
  },
  {
   "cell_type": "markdown",
   "metadata": {},
   "source": [
    "Finally we can merge this table right above with the hero roles based on their names."
   ]
  },
  {
   "cell_type": "code",
   "execution_count": 26,
   "metadata": {},
   "outputs": [
    {
     "data": {
      "text/html": [
       "<div>\n",
       "<style scoped>\n",
       "    .dataframe tbody tr th:only-of-type {\n",
       "        vertical-align: middle;\n",
       "    }\n",
       "\n",
       "    .dataframe tbody tr th {\n",
       "        vertical-align: top;\n",
       "    }\n",
       "\n",
       "    .dataframe thead th {\n",
       "        text-align: right;\n",
       "    }\n",
       "</style>\n",
       "<table border=\"1\" class=\"dataframe\">\n",
       "  <thead>\n",
       "    <tr style=\"text-align: right;\">\n",
       "      <th></th>\n",
       "      <th>hero_id</th>\n",
       "      <th>hero_name</th>\n",
       "      <th>carry</th>\n",
       "      <th>disabler</th>\n",
       "      <th>escape</th>\n",
       "      <th>initiator</th>\n",
       "      <th>jungler</th>\n",
       "      <th>nuker</th>\n",
       "      <th>pusher</th>\n",
       "      <th>score</th>\n",
       "      <th>support</th>\n",
       "    </tr>\n",
       "  </thead>\n",
       "  <tbody>\n",
       "    <tr>\n",
       "      <th>0</th>\n",
       "      <td>1</td>\n",
       "      <td>anti-mage</td>\n",
       "      <td>0</td>\n",
       "      <td>0</td>\n",
       "      <td>0</td>\n",
       "      <td>0</td>\n",
       "      <td>0</td>\n",
       "      <td>1</td>\n",
       "      <td>0</td>\n",
       "      <td>2</td>\n",
       "      <td>0</td>\n",
       "    </tr>\n",
       "    <tr>\n",
       "      <th>1</th>\n",
       "      <td>3</td>\n",
       "      <td>bane</td>\n",
       "      <td>0</td>\n",
       "      <td>0</td>\n",
       "      <td>0</td>\n",
       "      <td>0</td>\n",
       "      <td>0</td>\n",
       "      <td>1</td>\n",
       "      <td>0</td>\n",
       "      <td>2</td>\n",
       "      <td>0</td>\n",
       "    </tr>\n",
       "    <tr>\n",
       "      <th>2</th>\n",
       "      <td>4</td>\n",
       "      <td>bloodseeker</td>\n",
       "      <td>1</td>\n",
       "      <td>1</td>\n",
       "      <td>0</td>\n",
       "      <td>1</td>\n",
       "      <td>1</td>\n",
       "      <td>1</td>\n",
       "      <td>0</td>\n",
       "      <td>143</td>\n",
       "      <td>0</td>\n",
       "    </tr>\n",
       "    <tr>\n",
       "      <th>3</th>\n",
       "      <td>5</td>\n",
       "      <td>crystal maiden</td>\n",
       "      <td>0</td>\n",
       "      <td>0</td>\n",
       "      <td>0</td>\n",
       "      <td>0</td>\n",
       "      <td>1</td>\n",
       "      <td>0</td>\n",
       "      <td>0</td>\n",
       "      <td>128</td>\n",
       "      <td>0</td>\n",
       "    </tr>\n",
       "    <tr>\n",
       "      <th>4</th>\n",
       "      <td>6</td>\n",
       "      <td>drow ranger</td>\n",
       "      <td>0</td>\n",
       "      <td>1</td>\n",
       "      <td>0</td>\n",
       "      <td>0</td>\n",
       "      <td>0</td>\n",
       "      <td>0</td>\n",
       "      <td>1</td>\n",
       "      <td>72</td>\n",
       "      <td>0</td>\n",
       "    </tr>\n",
       "  </tbody>\n",
       "</table>\n",
       "</div>"
      ],
      "text/plain": [
       "   hero_id       hero_name  carry  disabler  escape  initiator  jungler  \\\n",
       "0        1       anti-mage      0         0       0          0        0   \n",
       "1        3            bane      0         0       0          0        0   \n",
       "2        4     bloodseeker      1         1       0          1        1   \n",
       "3        5  crystal maiden      0         0       0          0        1   \n",
       "4        6     drow ranger      0         1       0          0        0   \n",
       "\n",
       "   nuker  pusher  score  support  \n",
       "0      1       0      2        0  \n",
       "1      1       0      2        0  \n",
       "2      1       0    143        0  \n",
       "3      0       0    128        0  \n",
       "4      0       1     72        0  "
      ]
     },
     "execution_count": 26,
     "metadata": {},
     "output_type": "execute_result"
    }
   ],
   "source": [
    "hero_roles_df = pd.merge(hero_roles_df, hero_scores_df, on='hero_name')\n",
    "hero_roles_df.head()"
   ]
  },
  {
   "cell_type": "code",
   "execution_count": 27,
   "metadata": {},
   "outputs": [],
   "source": [
    "with open('data/hero_roles.json', 'w') as outfile:\n",
    "    outfile.write(hero_roles_df.to_json(orient='records', lines=True))"
   ]
  },
  {
   "cell_type": "markdown",
   "metadata": {},
   "source": [
    "The merge was successfull! All heroes are now identified by their roles and unique identifiers. We can save this file for use later."
   ]
  },
  {
   "cell_type": "markdown",
   "metadata": {},
   "source": [
    "## 3.2 Cleaning Match data  \n",
    "### 3.2.1 Match meta data\n",
    "We first show the match_df header to refresh our memory on this dataset. "
   ]
  },
  {
   "cell_type": "code",
   "execution_count": 28,
   "metadata": {},
   "outputs": [
    {
     "data": {
      "text/html": [
       "<div>\n",
       "<style scoped>\n",
       "    .dataframe tbody tr th:only-of-type {\n",
       "        vertical-align: middle;\n",
       "    }\n",
       "\n",
       "    .dataframe tbody tr th {\n",
       "        vertical-align: top;\n",
       "    }\n",
       "\n",
       "    .dataframe thead th {\n",
       "        text-align: right;\n",
       "    }\n",
       "</style>\n",
       "<table border=\"1\" class=\"dataframe\">\n",
       "  <thead>\n",
       "    <tr style=\"text-align: right;\">\n",
       "      <th></th>\n",
       "      <th>barracks_status_dire</th>\n",
       "      <th>barracks_status_radiant</th>\n",
       "      <th>cluster</th>\n",
       "      <th>cluster_name</th>\n",
       "      <th>dire_captain</th>\n",
       "      <th>dire_score</th>\n",
       "      <th>duration</th>\n",
       "      <th>engine</th>\n",
       "      <th>first_blood_time</th>\n",
       "      <th>flags</th>\n",
       "      <th>...</th>\n",
       "      <th>picks_bans</th>\n",
       "      <th>players</th>\n",
       "      <th>positive_votes</th>\n",
       "      <th>pre_game_duration</th>\n",
       "      <th>radiant_captain</th>\n",
       "      <th>radiant_score</th>\n",
       "      <th>radiant_win</th>\n",
       "      <th>start_time</th>\n",
       "      <th>tower_status_dire</th>\n",
       "      <th>tower_status_radiant</th>\n",
       "    </tr>\n",
       "  </thead>\n",
       "  <tbody>\n",
       "    <tr>\n",
       "      <th>3933472394</th>\n",
       "      <td>63</td>\n",
       "      <td>0</td>\n",
       "      <td>133</td>\n",
       "      <td>Europe West</td>\n",
       "      <td>NaN</td>\n",
       "      <td>38</td>\n",
       "      <td>1620</td>\n",
       "      <td>1</td>\n",
       "      <td>70</td>\n",
       "      <td>1</td>\n",
       "      <td>...</td>\n",
       "      <td>[{'order': 0, 'hero_id': 22, 'team': 0, 'is_pi...</td>\n",
       "      <td>[{'gold_per_min': 392, 'leaver_status_name': '...</td>\n",
       "      <td>0</td>\n",
       "      <td>60</td>\n",
       "      <td>NaN</td>\n",
       "      <td>29</td>\n",
       "      <td>False</td>\n",
       "      <td>1528135877</td>\n",
       "      <td>1958</td>\n",
       "      <td>0</td>\n",
       "    </tr>\n",
       "    <tr>\n",
       "      <th>3933472395</th>\n",
       "      <td>63</td>\n",
       "      <td>0</td>\n",
       "      <td>227</td>\n",
       "      <td>NaN</td>\n",
       "      <td>NaN</td>\n",
       "      <td>35</td>\n",
       "      <td>2300</td>\n",
       "      <td>1</td>\n",
       "      <td>157</td>\n",
       "      <td>1</td>\n",
       "      <td>...</td>\n",
       "      <td>[{'order': 0, 'hero_id': 99, 'team': 0, 'is_pi...</td>\n",
       "      <td>[{'gold_per_min': 553, 'leaver_status_name': '...</td>\n",
       "      <td>0</td>\n",
       "      <td>90</td>\n",
       "      <td>NaN</td>\n",
       "      <td>31</td>\n",
       "      <td>False</td>\n",
       "      <td>1528135882</td>\n",
       "      <td>1974</td>\n",
       "      <td>0</td>\n",
       "    </tr>\n",
       "    <tr>\n",
       "      <th>3933472396</th>\n",
       "      <td>63</td>\n",
       "      <td>0</td>\n",
       "      <td>183</td>\n",
       "      <td>Russia</td>\n",
       "      <td>NaN</td>\n",
       "      <td>5</td>\n",
       "      <td>781</td>\n",
       "      <td>1</td>\n",
       "      <td>142</td>\n",
       "      <td>1</td>\n",
       "      <td>...</td>\n",
       "      <td>[{'order': 0, 'hero_id': 32, 'team': 0, 'is_pi...</td>\n",
       "      <td>[{'gold_per_min': 537, 'leaver_status_name': '...</td>\n",
       "      <td>0</td>\n",
       "      <td>60</td>\n",
       "      <td>NaN</td>\n",
       "      <td>9</td>\n",
       "      <td>NaN</td>\n",
       "      <td>1528135876</td>\n",
       "      <td>2039</td>\n",
       "      <td>0</td>\n",
       "    </tr>\n",
       "    <tr>\n",
       "      <th>3933472397</th>\n",
       "      <td>0</td>\n",
       "      <td>63</td>\n",
       "      <td>185</td>\n",
       "      <td>Russia</td>\n",
       "      <td>NaN</td>\n",
       "      <td>27</td>\n",
       "      <td>2277</td>\n",
       "      <td>1</td>\n",
       "      <td>129</td>\n",
       "      <td>1</td>\n",
       "      <td>...</td>\n",
       "      <td>[{'order': 0, 'hero_id': 56, 'team': 0, 'is_pi...</td>\n",
       "      <td>[{'gold_per_min': 444, 'leaver_status_name': '...</td>\n",
       "      <td>0</td>\n",
       "      <td>90</td>\n",
       "      <td>NaN</td>\n",
       "      <td>54</td>\n",
       "      <td>True</td>\n",
       "      <td>1528135877</td>\n",
       "      <td>0</td>\n",
       "      <td>1975</td>\n",
       "    </tr>\n",
       "    <tr>\n",
       "      <th>3933472398</th>\n",
       "      <td>0</td>\n",
       "      <td>55</td>\n",
       "      <td>187</td>\n",
       "      <td>Russia</td>\n",
       "      <td>NaN</td>\n",
       "      <td>46</td>\n",
       "      <td>2291</td>\n",
       "      <td>1</td>\n",
       "      <td>50</td>\n",
       "      <td>1</td>\n",
       "      <td>...</td>\n",
       "      <td>[{'order': 0, 'hero_id': 56, 'team': 0, 'is_pi...</td>\n",
       "      <td>[{'gold_per_min': 508, 'leaver_status_name': '...</td>\n",
       "      <td>0</td>\n",
       "      <td>90</td>\n",
       "      <td>NaN</td>\n",
       "      <td>44</td>\n",
       "      <td>True</td>\n",
       "      <td>1528135875</td>\n",
       "      <td>0</td>\n",
       "      <td>1926</td>\n",
       "    </tr>\n",
       "  </tbody>\n",
       "</table>\n",
       "<p>5 rows × 29 columns</p>\n",
       "</div>"
      ],
      "text/plain": [
       "           barracks_status_dire barracks_status_radiant cluster cluster_name  \\\n",
       "3933472394                   63                       0     133  Europe West   \n",
       "3933472395                   63                       0     227          NaN   \n",
       "3933472396                   63                       0     183       Russia   \n",
       "3933472397                    0                      63     185       Russia   \n",
       "3933472398                    0                      55     187       Russia   \n",
       "\n",
       "           dire_captain dire_score duration engine first_blood_time flags  \\\n",
       "3933472394          NaN         38     1620      1               70     1   \n",
       "3933472395          NaN         35     2300      1              157     1   \n",
       "3933472396          NaN          5      781      1              142     1   \n",
       "3933472397          NaN         27     2277      1              129     1   \n",
       "3933472398          NaN         46     2291      1               50     1   \n",
       "\n",
       "                   ...           \\\n",
       "3933472394         ...            \n",
       "3933472395         ...            \n",
       "3933472396         ...            \n",
       "3933472397         ...            \n",
       "3933472398         ...            \n",
       "\n",
       "                                                   picks_bans  \\\n",
       "3933472394  [{'order': 0, 'hero_id': 22, 'team': 0, 'is_pi...   \n",
       "3933472395  [{'order': 0, 'hero_id': 99, 'team': 0, 'is_pi...   \n",
       "3933472396  [{'order': 0, 'hero_id': 32, 'team': 0, 'is_pi...   \n",
       "3933472397  [{'order': 0, 'hero_id': 56, 'team': 0, 'is_pi...   \n",
       "3933472398  [{'order': 0, 'hero_id': 56, 'team': 0, 'is_pi...   \n",
       "\n",
       "                                                      players positive_votes  \\\n",
       "3933472394  [{'gold_per_min': 392, 'leaver_status_name': '...              0   \n",
       "3933472395  [{'gold_per_min': 553, 'leaver_status_name': '...              0   \n",
       "3933472396  [{'gold_per_min': 537, 'leaver_status_name': '...              0   \n",
       "3933472397  [{'gold_per_min': 444, 'leaver_status_name': '...              0   \n",
       "3933472398  [{'gold_per_min': 508, 'leaver_status_name': '...              0   \n",
       "\n",
       "           pre_game_duration radiant_captain radiant_score radiant_win  \\\n",
       "3933472394                60             NaN            29       False   \n",
       "3933472395                90             NaN            31       False   \n",
       "3933472396                60             NaN             9         NaN   \n",
       "3933472397                90             NaN            54        True   \n",
       "3933472398                90             NaN            44        True   \n",
       "\n",
       "            start_time tower_status_dire tower_status_radiant  \n",
       "3933472394  1528135877              1958                    0  \n",
       "3933472395  1528135882              1974                    0  \n",
       "3933472396  1528135876              2039                    0  \n",
       "3933472397  1528135877                 0                 1975  \n",
       "3933472398  1528135875                 0                 1926  \n",
       "\n",
       "[5 rows x 29 columns]"
      ]
     },
     "execution_count": 28,
     "metadata": {},
     "output_type": "execute_result"
    }
   ],
   "source": [
    "match_df = pd.DataFrame(raw_match_data)\n",
    "match_df = match_df.transpose()\n",
    "match_df.head()"
   ]
  },
  {
   "cell_type": "code",
   "execution_count": 29,
   "metadata": {},
   "outputs": [
    {
     "data": {
      "text/plain": [
       "Index(['barracks_status_dire', 'barracks_status_radiant', 'cluster',\n",
       "       'cluster_name', 'dire_captain', 'dire_score', 'duration', 'engine',\n",
       "       'first_blood_time', 'flags', 'game_mode', 'game_mode_name',\n",
       "       'human_players', 'leagueid', 'lobby_name', 'lobby_type', 'match_id',\n",
       "       'match_seq_num', 'negative_votes', 'picks_bans', 'players',\n",
       "       'positive_votes', 'pre_game_duration', 'radiant_captain',\n",
       "       'radiant_score', 'radiant_win', 'start_time', 'tower_status_dire',\n",
       "       'tower_status_radiant'],\n",
       "      dtype='object')"
      ]
     },
     "execution_count": 29,
     "metadata": {},
     "output_type": "execute_result"
    }
   ],
   "source": [
    "match_df.columns"
   ]
  },
  {
   "cell_type": "markdown",
   "metadata": {},
   "source": [
    "### 3.2.2 Droping columns\n",
    "From the list above we notice that quite a few columns are not necessary for further analysis"
   ]
  },
  {
   "cell_type": "code",
   "execution_count": 30,
   "metadata": {},
   "outputs": [
    {
     "data": {
      "text/html": [
       "<div>\n",
       "<style scoped>\n",
       "    .dataframe tbody tr th:only-of-type {\n",
       "        vertical-align: middle;\n",
       "    }\n",
       "\n",
       "    .dataframe tbody tr th {\n",
       "        vertical-align: top;\n",
       "    }\n",
       "\n",
       "    .dataframe thead th {\n",
       "        text-align: right;\n",
       "    }\n",
       "</style>\n",
       "<table border=\"1\" class=\"dataframe\">\n",
       "  <thead>\n",
       "    <tr style=\"text-align: right;\">\n",
       "      <th></th>\n",
       "      <th>match_id</th>\n",
       "      <th>barracks_status_dire</th>\n",
       "      <th>barracks_status_radiant</th>\n",
       "      <th>dire_score</th>\n",
       "      <th>duration</th>\n",
       "      <th>human_players</th>\n",
       "      <th>radiant_score</th>\n",
       "      <th>radiant_win</th>\n",
       "      <th>tower_status_dire</th>\n",
       "      <th>tower_status_radiant</th>\n",
       "    </tr>\n",
       "  </thead>\n",
       "  <tbody>\n",
       "    <tr>\n",
       "      <th>0</th>\n",
       "      <td>3933472394</td>\n",
       "      <td>63</td>\n",
       "      <td>0</td>\n",
       "      <td>38</td>\n",
       "      <td>1620</td>\n",
       "      <td>10</td>\n",
       "      <td>29</td>\n",
       "      <td>False</td>\n",
       "      <td>1958</td>\n",
       "      <td>0</td>\n",
       "    </tr>\n",
       "    <tr>\n",
       "      <th>1</th>\n",
       "      <td>3933472395</td>\n",
       "      <td>63</td>\n",
       "      <td>0</td>\n",
       "      <td>35</td>\n",
       "      <td>2300</td>\n",
       "      <td>10</td>\n",
       "      <td>31</td>\n",
       "      <td>False</td>\n",
       "      <td>1974</td>\n",
       "      <td>0</td>\n",
       "    </tr>\n",
       "    <tr>\n",
       "      <th>2</th>\n",
       "      <td>3933472396</td>\n",
       "      <td>63</td>\n",
       "      <td>0</td>\n",
       "      <td>5</td>\n",
       "      <td>781</td>\n",
       "      <td>10</td>\n",
       "      <td>9</td>\n",
       "      <td>NaN</td>\n",
       "      <td>2039</td>\n",
       "      <td>0</td>\n",
       "    </tr>\n",
       "    <tr>\n",
       "      <th>3</th>\n",
       "      <td>3933472397</td>\n",
       "      <td>0</td>\n",
       "      <td>63</td>\n",
       "      <td>27</td>\n",
       "      <td>2277</td>\n",
       "      <td>10</td>\n",
       "      <td>54</td>\n",
       "      <td>True</td>\n",
       "      <td>0</td>\n",
       "      <td>1975</td>\n",
       "    </tr>\n",
       "    <tr>\n",
       "      <th>4</th>\n",
       "      <td>3933472398</td>\n",
       "      <td>0</td>\n",
       "      <td>55</td>\n",
       "      <td>46</td>\n",
       "      <td>2291</td>\n",
       "      <td>10</td>\n",
       "      <td>44</td>\n",
       "      <td>True</td>\n",
       "      <td>0</td>\n",
       "      <td>1926</td>\n",
       "    </tr>\n",
       "  </tbody>\n",
       "</table>\n",
       "</div>"
      ],
      "text/plain": [
       "     match_id barracks_status_dire barracks_status_radiant dire_score  \\\n",
       "0  3933472394                   63                       0         38   \n",
       "1  3933472395                   63                       0         35   \n",
       "2  3933472396                   63                       0          5   \n",
       "3  3933472397                    0                      63         27   \n",
       "4  3933472398                    0                      55         46   \n",
       "\n",
       "  duration human_players radiant_score radiant_win tower_status_dire  \\\n",
       "0     1620            10            29       False              1958   \n",
       "1     2300            10            31       False              1974   \n",
       "2      781            10             9         NaN              2039   \n",
       "3     2277            10            54        True                 0   \n",
       "4     2291            10            44        True                 0   \n",
       "\n",
       "  tower_status_radiant  \n",
       "0                    0  \n",
       "1                    0  \n",
       "2                    0  \n",
       "3                 1975  \n",
       "4                 1926  "
      ]
     },
     "execution_count": 30,
     "metadata": {},
     "output_type": "execute_result"
    }
   ],
   "source": [
    "drop_list = [\n",
    "    'dire_captain', \n",
    "    'cluster', \n",
    "    'cluster_name', \n",
    "    'engine', \n",
    "    'match_seq_num', \n",
    "    'negative_votes', \n",
    "    'positive_votes',\n",
    "    'lobby_type',\n",
    "    'start_time',\n",
    "    'radiant_captain',\n",
    "    'pre_game_duration',    \n",
    "    'lobby_name',\n",
    "    'leagueid',\n",
    "    'flags',\n",
    "    'game_mode_name',\n",
    "    'game_mode',\n",
    "    'first_blood_time',\n",
    "    'match_id',\n",
    "    'players',\n",
    "    'picks_bans'\n",
    "]\n",
    "match_df = match_df.drop(columns = drop_list)\n",
    "match_df = match_df.reset_index()\n",
    "match_df = match_df.rename({'index':'match_id'}, axis='columns')\n",
    "match_df.head()"
   ]
  },
  {
   "cell_type": "markdown",
   "metadata": {},
   "source": [
    "### 3.2.3 Removing bad data  \n",
    "1. From the information presented above, the only data we want to remove are games in which there are less than 10 players. Since DOTA is a 5v5 game then have less players will skew the results.  \n",
    "2. Remove data where radiant_win is undefined"
   ]
  },
  {
   "cell_type": "code",
   "execution_count": 31,
   "metadata": {},
   "outputs": [
    {
     "data": {
      "text/html": [
       "<div>\n",
       "<style scoped>\n",
       "    .dataframe tbody tr th:only-of-type {\n",
       "        vertical-align: middle;\n",
       "    }\n",
       "\n",
       "    .dataframe tbody tr th {\n",
       "        vertical-align: top;\n",
       "    }\n",
       "\n",
       "    .dataframe thead th {\n",
       "        text-align: right;\n",
       "    }\n",
       "</style>\n",
       "<table border=\"1\" class=\"dataframe\">\n",
       "  <thead>\n",
       "    <tr style=\"text-align: right;\">\n",
       "      <th></th>\n",
       "      <th>match_id</th>\n",
       "      <th>barracks_status_dire</th>\n",
       "      <th>barracks_status_radiant</th>\n",
       "      <th>dire_score</th>\n",
       "      <th>duration</th>\n",
       "      <th>human_players</th>\n",
       "      <th>radiant_score</th>\n",
       "      <th>radiant_win</th>\n",
       "      <th>tower_status_dire</th>\n",
       "      <th>tower_status_radiant</th>\n",
       "    </tr>\n",
       "  </thead>\n",
       "  <tbody>\n",
       "    <tr>\n",
       "      <th>0</th>\n",
       "      <td>3933472394</td>\n",
       "      <td>63</td>\n",
       "      <td>0</td>\n",
       "      <td>38</td>\n",
       "      <td>1620</td>\n",
       "      <td>10</td>\n",
       "      <td>29</td>\n",
       "      <td>False</td>\n",
       "      <td>1958</td>\n",
       "      <td>0</td>\n",
       "    </tr>\n",
       "    <tr>\n",
       "      <th>1</th>\n",
       "      <td>3933472395</td>\n",
       "      <td>63</td>\n",
       "      <td>0</td>\n",
       "      <td>35</td>\n",
       "      <td>2300</td>\n",
       "      <td>10</td>\n",
       "      <td>31</td>\n",
       "      <td>False</td>\n",
       "      <td>1974</td>\n",
       "      <td>0</td>\n",
       "    </tr>\n",
       "    <tr>\n",
       "      <th>3</th>\n",
       "      <td>3933472397</td>\n",
       "      <td>0</td>\n",
       "      <td>63</td>\n",
       "      <td>27</td>\n",
       "      <td>2277</td>\n",
       "      <td>10</td>\n",
       "      <td>54</td>\n",
       "      <td>True</td>\n",
       "      <td>0</td>\n",
       "      <td>1975</td>\n",
       "    </tr>\n",
       "    <tr>\n",
       "      <th>4</th>\n",
       "      <td>3933472398</td>\n",
       "      <td>0</td>\n",
       "      <td>55</td>\n",
       "      <td>46</td>\n",
       "      <td>2291</td>\n",
       "      <td>10</td>\n",
       "      <td>44</td>\n",
       "      <td>True</td>\n",
       "      <td>0</td>\n",
       "      <td>1926</td>\n",
       "    </tr>\n",
       "    <tr>\n",
       "      <th>5</th>\n",
       "      <td>3933472399</td>\n",
       "      <td>0</td>\n",
       "      <td>51</td>\n",
       "      <td>48</td>\n",
       "      <td>2861</td>\n",
       "      <td>10</td>\n",
       "      <td>50</td>\n",
       "      <td>True</td>\n",
       "      <td>0</td>\n",
       "      <td>1798</td>\n",
       "    </tr>\n",
       "  </tbody>\n",
       "</table>\n",
       "</div>"
      ],
      "text/plain": [
       "     match_id barracks_status_dire barracks_status_radiant dire_score  \\\n",
       "0  3933472394                   63                       0         38   \n",
       "1  3933472395                   63                       0         35   \n",
       "3  3933472397                    0                      63         27   \n",
       "4  3933472398                    0                      55         46   \n",
       "5  3933472399                    0                      51         48   \n",
       "\n",
       "  duration human_players radiant_score radiant_win tower_status_dire  \\\n",
       "0     1620            10            29       False              1958   \n",
       "1     2300            10            31       False              1974   \n",
       "3     2277            10            54        True                 0   \n",
       "4     2291            10            44        True                 0   \n",
       "5     2861            10            50        True                 0   \n",
       "\n",
       "  tower_status_radiant  \n",
       "0                    0  \n",
       "1                    0  \n",
       "3                 1975  \n",
       "4                 1926  \n",
       "5                 1798  "
      ]
     },
     "execution_count": 31,
     "metadata": {},
     "output_type": "execute_result"
    }
   ],
   "source": [
    "match_df = match_df.dropna(subset = ['radiant_win'])\n",
    "match_df = match_df[match_df['human_players'] == 10]\n",
    "match_df.head()"
   ]
  },
  {
   "cell_type": "markdown",
   "metadata": {},
   "source": [
    "# 4. Data Enriching  \n",
    "## 4.1 Creating player dataframe  \n",
    "The player data wasn't kept in the match dataframe although it is useful to us. So we can create a new player dataframe with one of the columns pointing to the match id in which this player participated."
   ]
  },
  {
   "cell_type": "code",
   "execution_count": 32,
   "metadata": {},
   "outputs": [
    {
     "data": {
      "text/html": [
       "<div>\n",
       "<style scoped>\n",
       "    .dataframe tbody tr th:only-of-type {\n",
       "        vertical-align: middle;\n",
       "    }\n",
       "\n",
       "    .dataframe tbody tr th {\n",
       "        vertical-align: top;\n",
       "    }\n",
       "\n",
       "    .dataframe thead th {\n",
       "        text-align: right;\n",
       "    }\n",
       "</style>\n",
       "<table border=\"1\" class=\"dataframe\">\n",
       "  <thead>\n",
       "    <tr style=\"text-align: right;\">\n",
       "      <th></th>\n",
       "      <th>account_id</th>\n",
       "      <th>additional_units</th>\n",
       "      <th>assists</th>\n",
       "      <th>backpack_0</th>\n",
       "      <th>backpack_1</th>\n",
       "      <th>backpack_2</th>\n",
       "      <th>deaths</th>\n",
       "      <th>denies</th>\n",
       "      <th>gold</th>\n",
       "      <th>gold_per_min</th>\n",
       "      <th>...</th>\n",
       "      <th>leaver_status_description</th>\n",
       "      <th>leaver_status_name</th>\n",
       "      <th>level</th>\n",
       "      <th>match_id</th>\n",
       "      <th>player_slot</th>\n",
       "      <th>scaled_hero_damage</th>\n",
       "      <th>scaled_hero_healing</th>\n",
       "      <th>scaled_tower_damage</th>\n",
       "      <th>tower_damage</th>\n",
       "      <th>xp_per_min</th>\n",
       "    </tr>\n",
       "  </thead>\n",
       "  <tbody>\n",
       "    <tr>\n",
       "      <th>0</th>\n",
       "      <td>1.674159e+08</td>\n",
       "      <td>NaN</td>\n",
       "      <td>18</td>\n",
       "      <td>46</td>\n",
       "      <td>0</td>\n",
       "      <td>0</td>\n",
       "      <td>8</td>\n",
       "      <td>2</td>\n",
       "      <td>833</td>\n",
       "      <td>382</td>\n",
       "      <td>...</td>\n",
       "      <td>finished match, no abandon</td>\n",
       "      <td>NONE</td>\n",
       "      <td>25</td>\n",
       "      <td>3933472768</td>\n",
       "      <td>0</td>\n",
       "      <td>12976</td>\n",
       "      <td>152</td>\n",
       "      <td>58</td>\n",
       "      <td>66</td>\n",
       "      <td>648</td>\n",
       "    </tr>\n",
       "    <tr>\n",
       "      <th>1</th>\n",
       "      <td>4.294967e+09</td>\n",
       "      <td>NaN</td>\n",
       "      <td>9</td>\n",
       "      <td>0</td>\n",
       "      <td>212</td>\n",
       "      <td>0</td>\n",
       "      <td>9</td>\n",
       "      <td>7</td>\n",
       "      <td>2498</td>\n",
       "      <td>377</td>\n",
       "      <td>...</td>\n",
       "      <td>finished match, no abandon</td>\n",
       "      <td>NONE</td>\n",
       "      <td>22</td>\n",
       "      <td>3933472768</td>\n",
       "      <td>1</td>\n",
       "      <td>4790</td>\n",
       "      <td>0</td>\n",
       "      <td>194</td>\n",
       "      <td>261</td>\n",
       "      <td>469</td>\n",
       "    </tr>\n",
       "    <tr>\n",
       "      <th>2</th>\n",
       "      <td>4.294967e+09</td>\n",
       "      <td>NaN</td>\n",
       "      <td>12</td>\n",
       "      <td>0</td>\n",
       "      <td>0</td>\n",
       "      <td>0</td>\n",
       "      <td>11</td>\n",
       "      <td>3</td>\n",
       "      <td>157</td>\n",
       "      <td>326</td>\n",
       "      <td>...</td>\n",
       "      <td>finished match, no abandon</td>\n",
       "      <td>NONE</td>\n",
       "      <td>21</td>\n",
       "      <td>3933472768</td>\n",
       "      <td>2</td>\n",
       "      <td>7562</td>\n",
       "      <td>0</td>\n",
       "      <td>161</td>\n",
       "      <td>219</td>\n",
       "      <td>413</td>\n",
       "    </tr>\n",
       "    <tr>\n",
       "      <th>3</th>\n",
       "      <td>3.143901e+08</td>\n",
       "      <td>NaN</td>\n",
       "      <td>5</td>\n",
       "      <td>0</td>\n",
       "      <td>0</td>\n",
       "      <td>0</td>\n",
       "      <td>7</td>\n",
       "      <td>10</td>\n",
       "      <td>316</td>\n",
       "      <td>595</td>\n",
       "      <td>...</td>\n",
       "      <td>finished match, no abandon</td>\n",
       "      <td>NONE</td>\n",
       "      <td>25</td>\n",
       "      <td>3933472768</td>\n",
       "      <td>3</td>\n",
       "      <td>17834</td>\n",
       "      <td>0</td>\n",
       "      <td>2011</td>\n",
       "      <td>3039</td>\n",
       "      <td>779</td>\n",
       "    </tr>\n",
       "    <tr>\n",
       "      <th>4</th>\n",
       "      <td>2.552884e+08</td>\n",
       "      <td>NaN</td>\n",
       "      <td>11</td>\n",
       "      <td>40</td>\n",
       "      <td>212</td>\n",
       "      <td>182</td>\n",
       "      <td>13</td>\n",
       "      <td>8</td>\n",
       "      <td>4782</td>\n",
       "      <td>428</td>\n",
       "      <td>...</td>\n",
       "      <td>finished match, no abandon</td>\n",
       "      <td>NONE</td>\n",
       "      <td>25</td>\n",
       "      <td>3933472768</td>\n",
       "      <td>4</td>\n",
       "      <td>12834</td>\n",
       "      <td>0</td>\n",
       "      <td>110</td>\n",
       "      <td>223</td>\n",
       "      <td>612</td>\n",
       "    </tr>\n",
       "  </tbody>\n",
       "</table>\n",
       "<p>5 rows × 40 columns</p>\n",
       "</div>"
      ],
      "text/plain": [
       "     account_id additional_units  assists  backpack_0  backpack_1  backpack_2  \\\n",
       "0  1.674159e+08              NaN       18          46           0           0   \n",
       "1  4.294967e+09              NaN        9           0         212           0   \n",
       "2  4.294967e+09              NaN       12           0           0           0   \n",
       "3  3.143901e+08              NaN        5           0           0           0   \n",
       "4  2.552884e+08              NaN       11          40         212         182   \n",
       "\n",
       "   deaths  denies  gold  gold_per_min     ...       leaver_status_description  \\\n",
       "0       8       2   833           382     ...      finished match, no abandon   \n",
       "1       9       7  2498           377     ...      finished match, no abandon   \n",
       "2      11       3   157           326     ...      finished match, no abandon   \n",
       "3       7      10   316           595     ...      finished match, no abandon   \n",
       "4      13       8  4782           428     ...      finished match, no abandon   \n",
       "\n",
       "   leaver_status_name  level    match_id player_slot  scaled_hero_damage  \\\n",
       "0                NONE     25  3933472768           0               12976   \n",
       "1                NONE     22  3933472768           1                4790   \n",
       "2                NONE     21  3933472768           2                7562   \n",
       "3                NONE     25  3933472768           3               17834   \n",
       "4                NONE     25  3933472768           4               12834   \n",
       "\n",
       "  scaled_hero_healing  scaled_tower_damage tower_damage  xp_per_min  \n",
       "0                 152                   58           66         648  \n",
       "1                   0                  194          261         469  \n",
       "2                   0                  161          219         413  \n",
       "3                   0                 2011         3039         779  \n",
       "4                   0                  110          223         612  \n",
       "\n",
       "[5 rows x 40 columns]"
      ]
     },
     "execution_count": 32,
     "metadata": {},
     "output_type": "execute_result"
    }
   ],
   "source": [
    "with open('data/match.json') as f:\n",
    "    raw_match_data = json.load(f)\n",
    "\n",
    "player_list = []\n",
    "\n",
    "for keys in raw_match_data:\n",
    "    for i in range(len(raw_match_data[keys]['players'])):        \n",
    "        try:\n",
    "            del raw_match_data[keys]['players'][i]['ability_upgrades']                \n",
    "        except KeyError:\n",
    "            pass \n",
    "        raw_match_data[keys]['players'][i]['match_id'] = keys        \n",
    "        player_list.append(raw_match_data[keys]['players'][i])\n",
    "    \n",
    "players_df = pd.DataFrame(player_list)\n",
    "players_df.head()"
   ]
  },
  {
   "cell_type": "code",
   "execution_count": 33,
   "metadata": {},
   "outputs": [
    {
     "data": {
      "text/plain": [
       "Index(['account_id', 'additional_units', 'assists', 'backpack_0', 'backpack_1',\n",
       "       'backpack_2', 'deaths', 'denies', 'gold', 'gold_per_min', 'gold_spent',\n",
       "       'hero_damage', 'hero_healing', 'hero_id', 'hero_name', 'item_0',\n",
       "       'item_0_name', 'item_1', 'item_1_name', 'item_2', 'item_2_name',\n",
       "       'item_3', 'item_3_name', 'item_4', 'item_4_name', 'item_5',\n",
       "       'item_5_name', 'kills', 'last_hits', 'leaver_status',\n",
       "       'leaver_status_description', 'leaver_status_name', 'level', 'match_id',\n",
       "       'player_slot', 'scaled_hero_damage', 'scaled_hero_healing',\n",
       "       'scaled_tower_damage', 'tower_damage', 'xp_per_min'],\n",
       "      dtype='object')"
      ]
     },
     "execution_count": 33,
     "metadata": {},
     "output_type": "execute_result"
    }
   ],
   "source": [
    "players_df.columns"
   ]
  },
  {
   "cell_type": "markdown",
   "metadata": {},
   "source": [
    "### 4.1.2 Removing unecessary columns"
   ]
  },
  {
   "cell_type": "code",
   "execution_count": 34,
   "metadata": {},
   "outputs": [
    {
     "data": {
      "text/plain": [
       "Index(['account_id', 'assists', 'deaths', 'denies', 'gold', 'gold_per_min',\n",
       "       'gold_spent', 'hero_id', 'hero_name', 'kills', 'last_hits', 'level',\n",
       "       'match_id', 'player_slot', 'scaled_hero_damage', 'scaled_hero_healing',\n",
       "       'scaled_tower_damage', 'xp_per_min'],\n",
       "      dtype='object')"
      ]
     },
     "execution_count": 34,
     "metadata": {},
     "output_type": "execute_result"
    }
   ],
   "source": [
    "drop_columns = [\n",
    "    'leaver_status_description',\n",
    "    'leaver_status_name',    \n",
    "    'item_0_name',\n",
    "    'item_1_name',\n",
    "    'item_2_name',\n",
    "    'item_3_name',\n",
    "    'item_4_name',\n",
    "    'item_5_name',\n",
    "    'item_0',\n",
    "    'item_1',\n",
    "    'item_2',\n",
    "    'item_3',\n",
    "    'item_4',\n",
    "    'item_5',\n",
    "    'backpack_0',\n",
    "    'backpack_1',\n",
    "    'backpack_2',\n",
    "    'hero_damage',\n",
    "    'hero_healing',\n",
    "    'tower_damage',\n",
    "    'additional_units',\n",
    "    'leaver_status'\n",
    "]\n",
    "\n",
    "players_df = players_df.drop(columns = drop_columns)\n",
    "players_df.columns"
   ]
  },
  {
   "cell_type": "markdown",
   "metadata": {},
   "source": [
    "### 4.2.3 Dropping/Formatting bad data\n",
    "If an account ID or a hero name is unadentified then we drop the data entirely. Additionally, we change the hero names to lower case and change the account_id column from float to integer."
   ]
  },
  {
   "cell_type": "code",
   "execution_count": 35,
   "metadata": {},
   "outputs": [
    {
     "data": {
      "text/html": [
       "<div>\n",
       "<style scoped>\n",
       "    .dataframe tbody tr th:only-of-type {\n",
       "        vertical-align: middle;\n",
       "    }\n",
       "\n",
       "    .dataframe tbody tr th {\n",
       "        vertical-align: top;\n",
       "    }\n",
       "\n",
       "    .dataframe thead th {\n",
       "        text-align: right;\n",
       "    }\n",
       "</style>\n",
       "<table border=\"1\" class=\"dataframe\">\n",
       "  <thead>\n",
       "    <tr style=\"text-align: right;\">\n",
       "      <th></th>\n",
       "      <th>account_id</th>\n",
       "      <th>assists</th>\n",
       "      <th>deaths</th>\n",
       "      <th>denies</th>\n",
       "      <th>gold</th>\n",
       "      <th>gold_per_min</th>\n",
       "      <th>gold_spent</th>\n",
       "      <th>hero_id</th>\n",
       "      <th>hero_name</th>\n",
       "      <th>kills</th>\n",
       "      <th>last_hits</th>\n",
       "      <th>level</th>\n",
       "      <th>match_id</th>\n",
       "      <th>player_slot</th>\n",
       "      <th>scaled_hero_damage</th>\n",
       "      <th>scaled_hero_healing</th>\n",
       "      <th>scaled_tower_damage</th>\n",
       "      <th>xp_per_min</th>\n",
       "    </tr>\n",
       "  </thead>\n",
       "  <tbody>\n",
       "    <tr>\n",
       "      <th>0</th>\n",
       "      <td>167415941</td>\n",
       "      <td>18</td>\n",
       "      <td>8</td>\n",
       "      <td>2</td>\n",
       "      <td>833</td>\n",
       "      <td>382</td>\n",
       "      <td>16355</td>\n",
       "      <td>71</td>\n",
       "      <td>spirit breaker</td>\n",
       "      <td>9</td>\n",
       "      <td>119</td>\n",
       "      <td>25</td>\n",
       "      <td>3933472768</td>\n",
       "      <td>0</td>\n",
       "      <td>12976</td>\n",
       "      <td>152</td>\n",
       "      <td>58</td>\n",
       "      <td>648</td>\n",
       "    </tr>\n",
       "    <tr>\n",
       "      <th>1</th>\n",
       "      <td>4294967295</td>\n",
       "      <td>9</td>\n",
       "      <td>9</td>\n",
       "      <td>7</td>\n",
       "      <td>2498</td>\n",
       "      <td>377</td>\n",
       "      <td>13655</td>\n",
       "      <td>6</td>\n",
       "      <td>drow ranger</td>\n",
       "      <td>1</td>\n",
       "      <td>243</td>\n",
       "      <td>22</td>\n",
       "      <td>3933472768</td>\n",
       "      <td>1</td>\n",
       "      <td>4790</td>\n",
       "      <td>0</td>\n",
       "      <td>194</td>\n",
       "      <td>469</td>\n",
       "    </tr>\n",
       "    <tr>\n",
       "      <th>2</th>\n",
       "      <td>4294967295</td>\n",
       "      <td>12</td>\n",
       "      <td>11</td>\n",
       "      <td>3</td>\n",
       "      <td>157</td>\n",
       "      <td>326</td>\n",
       "      <td>14470</td>\n",
       "      <td>88</td>\n",
       "      <td>nyx assassin</td>\n",
       "      <td>5</td>\n",
       "      <td>37</td>\n",
       "      <td>21</td>\n",
       "      <td>3933472768</td>\n",
       "      <td>2</td>\n",
       "      <td>7562</td>\n",
       "      <td>0</td>\n",
       "      <td>161</td>\n",
       "      <td>413</td>\n",
       "    </tr>\n",
       "    <tr>\n",
       "      <th>3</th>\n",
       "      <td>314390062</td>\n",
       "      <td>5</td>\n",
       "      <td>7</td>\n",
       "      <td>10</td>\n",
       "      <td>316</td>\n",
       "      <td>595</td>\n",
       "      <td>26815</td>\n",
       "      <td>106</td>\n",
       "      <td>ember spirit</td>\n",
       "      <td>12</td>\n",
       "      <td>377</td>\n",
       "      <td>25</td>\n",
       "      <td>3933472768</td>\n",
       "      <td>3</td>\n",
       "      <td>17834</td>\n",
       "      <td>0</td>\n",
       "      <td>2011</td>\n",
       "      <td>779</td>\n",
       "    </tr>\n",
       "    <tr>\n",
       "      <th>4</th>\n",
       "      <td>255288415</td>\n",
       "      <td>11</td>\n",
       "      <td>13</td>\n",
       "      <td>8</td>\n",
       "      <td>4782</td>\n",
       "      <td>428</td>\n",
       "      <td>14675</td>\n",
       "      <td>93</td>\n",
       "      <td>slark</td>\n",
       "      <td>8</td>\n",
       "      <td>217</td>\n",
       "      <td>25</td>\n",
       "      <td>3933472768</td>\n",
       "      <td>4</td>\n",
       "      <td>12834</td>\n",
       "      <td>0</td>\n",
       "      <td>110</td>\n",
       "      <td>612</td>\n",
       "    </tr>\n",
       "  </tbody>\n",
       "</table>\n",
       "</div>"
      ],
      "text/plain": [
       "   account_id  assists  deaths  denies  gold  gold_per_min  gold_spent  \\\n",
       "0   167415941       18       8       2   833           382       16355   \n",
       "1  4294967295        9       9       7  2498           377       13655   \n",
       "2  4294967295       12      11       3   157           326       14470   \n",
       "3   314390062        5       7      10   316           595       26815   \n",
       "4   255288415       11      13       8  4782           428       14675   \n",
       "\n",
       "   hero_id       hero_name  kills  last_hits  level    match_id  player_slot  \\\n",
       "0       71  spirit breaker      9        119     25  3933472768            0   \n",
       "1        6     drow ranger      1        243     22  3933472768            1   \n",
       "2       88    nyx assassin      5         37     21  3933472768            2   \n",
       "3      106    ember spirit     12        377     25  3933472768            3   \n",
       "4       93           slark      8        217     25  3933472768            4   \n",
       "\n",
       "   scaled_hero_damage  scaled_hero_healing  scaled_tower_damage  xp_per_min  \n",
       "0               12976                  152                   58         648  \n",
       "1                4790                    0                  194         469  \n",
       "2                7562                    0                  161         413  \n",
       "3               17834                    0                 2011         779  \n",
       "4               12834                    0                  110         612  "
      ]
     },
     "execution_count": 35,
     "metadata": {},
     "output_type": "execute_result"
    }
   ],
   "source": [
    "players_df = players_df.dropna(subset = ['account_id'])\n",
    "players_df = players_df.dropna(subset = ['hero_name'])\n",
    "players_df['account_id'] = players_df['account_id'].astype(int)\n",
    "players_df['hero_name'] = players_df['hero_name'].str.lower()\n",
    "players_df.head()"
   ]
  },
  {
   "cell_type": "markdown",
   "metadata": {},
   "source": [
    "## 4.2 Enriching Hero data frame\n",
    "### 4.2.1 Community Monthly stats per heroes  \n",
    "Some players have their stats hidden and therefore their past performances cannot be scraped. For this reason I have decided to scrape the average monthly performance of all dota users by heroes. This data will be used later to fix missing information for a players performance when needed. Because I created this dataset, there isn't much formatting to be done except for renaming certain column names so that it won't be confused later with the rest of the data."
   ]
  },
  {
   "cell_type": "code",
   "execution_count": 36,
   "metadata": {},
   "outputs": [
    {
     "data": {
      "text/html": [
       "<div>\n",
       "<style scoped>\n",
       "    .dataframe tbody tr th:only-of-type {\n",
       "        vertical-align: middle;\n",
       "    }\n",
       "\n",
       "    .dataframe tbody tr th {\n",
       "        vertical-align: top;\n",
       "    }\n",
       "\n",
       "    .dataframe thead th {\n",
       "        text-align: right;\n",
       "    }\n",
       "</style>\n",
       "<table border=\"1\" class=\"dataframe\">\n",
       "  <thead>\n",
       "    <tr style=\"text-align: right;\">\n",
       "      <th></th>\n",
       "      <th>hero_name</th>\n",
       "      <th>hero_games_played</th>\n",
       "      <th>hero_kda</th>\n",
       "      <th>pick_rate</th>\n",
       "      <th>hero_win_ratio</th>\n",
       "    </tr>\n",
       "  </thead>\n",
       "  <tbody>\n",
       "    <tr>\n",
       "      <th>0</th>\n",
       "      <td>abaddon</td>\n",
       "      <td>813552</td>\n",
       "      <td>2.7662</td>\n",
       "      <td>3.8269</td>\n",
       "      <td>53.147</td>\n",
       "    </tr>\n",
       "    <tr>\n",
       "      <th>1</th>\n",
       "      <td>alchemist</td>\n",
       "      <td>1002710</td>\n",
       "      <td>2.1533</td>\n",
       "      <td>4.7167</td>\n",
       "      <td>47.2532</td>\n",
       "    </tr>\n",
       "    <tr>\n",
       "      <th>2</th>\n",
       "      <td>ancient apparition</td>\n",
       "      <td>1444245</td>\n",
       "      <td>2.9395</td>\n",
       "      <td>6.7937</td>\n",
       "      <td>52.3461</td>\n",
       "    </tr>\n",
       "    <tr>\n",
       "      <th>3</th>\n",
       "      <td>anti-mage</td>\n",
       "      <td>2937612</td>\n",
       "      <td>2.4398</td>\n",
       "      <td>13.8186</td>\n",
       "      <td>49.2443</td>\n",
       "    </tr>\n",
       "    <tr>\n",
       "      <th>4</th>\n",
       "      <td>arc warden</td>\n",
       "      <td>393944</td>\n",
       "      <td>2.5933</td>\n",
       "      <td>1.8531</td>\n",
       "      <td>47.1554</td>\n",
       "    </tr>\n",
       "  </tbody>\n",
       "</table>\n",
       "</div>"
      ],
      "text/plain": [
       "            hero_name hero_games_played hero_kda pick_rate hero_win_ratio\n",
       "0             abaddon            813552   2.7662    3.8269         53.147\n",
       "1           alchemist           1002710   2.1533    4.7167        47.2532\n",
       "2  ancient apparition           1444245   2.9395    6.7937        52.3461\n",
       "3           anti-mage           2937612   2.4398   13.8186        49.2443\n",
       "4          arc warden            393944   2.5933    1.8531        47.1554"
      ]
     },
     "execution_count": 36,
     "metadata": {},
     "output_type": "execute_result"
    }
   ],
   "source": [
    "with open('data/hero_monthly_stats.json') as f:\n",
    "    hero_monthly_stats = json.load(f)\n",
    "hero_monthly_stats_df = pd.DataFrame(hero_monthly_stats).transpose()\n",
    "hero_monthly_stats_df = hero_monthly_stats_df.reset_index()\n",
    "hero_monthly_stats_df = hero_monthly_stats_df.rename({\n",
    "    'index':'hero_name', \n",
    "    'games_played':'hero_games_played',\n",
    "    'kda':'hero_kda',\n",
    "    'win_ratio':'hero_win_ratio'\n",
    "    }, axis='columns')\n",
    "hero_monthly_stats_df['hero_name'] = hero_monthly_stats_df['hero_name'].str.lower()\n",
    "hero_monthly_stats_df.head()"
   ]
  },
  {
   "cell_type": "markdown",
   "metadata": {},
   "source": [
    "### 4.2.2 Merging hero monthly stats with hero roles"
   ]
  },
  {
   "cell_type": "code",
   "execution_count": 37,
   "metadata": {},
   "outputs": [
    {
     "data": {
      "text/html": [
       "<div>\n",
       "<style scoped>\n",
       "    .dataframe tbody tr th:only-of-type {\n",
       "        vertical-align: middle;\n",
       "    }\n",
       "\n",
       "    .dataframe tbody tr th {\n",
       "        vertical-align: top;\n",
       "    }\n",
       "\n",
       "    .dataframe thead th {\n",
       "        text-align: right;\n",
       "    }\n",
       "</style>\n",
       "<table border=\"1\" class=\"dataframe\">\n",
       "  <thead>\n",
       "    <tr style=\"text-align: right;\">\n",
       "      <th></th>\n",
       "      <th>hero_name</th>\n",
       "      <th>hero_games_played</th>\n",
       "      <th>hero_kda</th>\n",
       "      <th>pick_rate</th>\n",
       "      <th>hero_win_ratio</th>\n",
       "      <th>hero_id</th>\n",
       "      <th>carry</th>\n",
       "      <th>disabler</th>\n",
       "      <th>escape</th>\n",
       "      <th>initiator</th>\n",
       "      <th>jungler</th>\n",
       "      <th>nuker</th>\n",
       "      <th>pusher</th>\n",
       "      <th>score</th>\n",
       "      <th>support</th>\n",
       "    </tr>\n",
       "  </thead>\n",
       "  <tbody>\n",
       "    <tr>\n",
       "      <th>0</th>\n",
       "      <td>abaddon</td>\n",
       "      <td>813552</td>\n",
       "      <td>2.7662</td>\n",
       "      <td>3.8269</td>\n",
       "      <td>53.147</td>\n",
       "      <td>102</td>\n",
       "      <td>1</td>\n",
       "      <td>0</td>\n",
       "      <td>0</td>\n",
       "      <td>0</td>\n",
       "      <td>0</td>\n",
       "      <td>0</td>\n",
       "      <td>0</td>\n",
       "      <td>1</td>\n",
       "      <td>0</td>\n",
       "    </tr>\n",
       "    <tr>\n",
       "      <th>1</th>\n",
       "      <td>alchemist</td>\n",
       "      <td>1002710</td>\n",
       "      <td>2.1533</td>\n",
       "      <td>4.7167</td>\n",
       "      <td>47.2532</td>\n",
       "      <td>73</td>\n",
       "      <td>0</td>\n",
       "      <td>1</td>\n",
       "      <td>0</td>\n",
       "      <td>1</td>\n",
       "      <td>0</td>\n",
       "      <td>1</td>\n",
       "      <td>0</td>\n",
       "      <td>46</td>\n",
       "      <td>1</td>\n",
       "    </tr>\n",
       "    <tr>\n",
       "      <th>2</th>\n",
       "      <td>ancient apparition</td>\n",
       "      <td>1444245</td>\n",
       "      <td>2.9395</td>\n",
       "      <td>6.7937</td>\n",
       "      <td>52.3461</td>\n",
       "      <td>68</td>\n",
       "      <td>0</td>\n",
       "      <td>1</td>\n",
       "      <td>0</td>\n",
       "      <td>0</td>\n",
       "      <td>0</td>\n",
       "      <td>1</td>\n",
       "      <td>0</td>\n",
       "      <td>10</td>\n",
       "      <td>0</td>\n",
       "    </tr>\n",
       "    <tr>\n",
       "      <th>3</th>\n",
       "      <td>anti-mage</td>\n",
       "      <td>2937612</td>\n",
       "      <td>2.4398</td>\n",
       "      <td>13.8186</td>\n",
       "      <td>49.2443</td>\n",
       "      <td>1</td>\n",
       "      <td>0</td>\n",
       "      <td>0</td>\n",
       "      <td>0</td>\n",
       "      <td>0</td>\n",
       "      <td>0</td>\n",
       "      <td>1</td>\n",
       "      <td>0</td>\n",
       "      <td>2</td>\n",
       "      <td>0</td>\n",
       "    </tr>\n",
       "    <tr>\n",
       "      <th>4</th>\n",
       "      <td>arc warden</td>\n",
       "      <td>393944</td>\n",
       "      <td>2.5933</td>\n",
       "      <td>1.8531</td>\n",
       "      <td>47.1554</td>\n",
       "      <td>113</td>\n",
       "      <td>0</td>\n",
       "      <td>0</td>\n",
       "      <td>0</td>\n",
       "      <td>0</td>\n",
       "      <td>0</td>\n",
       "      <td>1</td>\n",
       "      <td>0</td>\n",
       "      <td>2</td>\n",
       "      <td>0</td>\n",
       "    </tr>\n",
       "  </tbody>\n",
       "</table>\n",
       "</div>"
      ],
      "text/plain": [
       "            hero_name hero_games_played hero_kda pick_rate hero_win_ratio  \\\n",
       "0             abaddon            813552   2.7662    3.8269         53.147   \n",
       "1           alchemist           1002710   2.1533    4.7167        47.2532   \n",
       "2  ancient apparition           1444245   2.9395    6.7937        52.3461   \n",
       "3           anti-mage           2937612   2.4398   13.8186        49.2443   \n",
       "4          arc warden            393944   2.5933    1.8531        47.1554   \n",
       "\n",
       "   hero_id  carry  disabler  escape  initiator  jungler  nuker  pusher  score  \\\n",
       "0      102      1         0       0          0        0      0       0      1   \n",
       "1       73      0         1       0          1        0      1       0     46   \n",
       "2       68      0         1       0          0        0      1       0     10   \n",
       "3        1      0         0       0          0        0      1       0      2   \n",
       "4      113      0         0       0          0        0      1       0      2   \n",
       "\n",
       "   support  \n",
       "0        0  \n",
       "1        1  \n",
       "2        0  \n",
       "3        0  \n",
       "4        0  "
      ]
     },
     "execution_count": 37,
     "metadata": {},
     "output_type": "execute_result"
    }
   ],
   "source": [
    "hero_df = pd.merge(hero_monthly_stats_df, hero_roles_df, on='hero_name')\n",
    "hero_df.head()"
   ]
  },
  {
   "cell_type": "markdown",
   "metadata": {},
   "source": [
    "Finally this hero dataframe seems complete. Their performance is measured as well as their roles and unique identifiers which correspond to the rest of the dataset. Furthermore, the format of this data is ready for \"plug and play\" in a machine learning algorithm."
   ]
  },
  {
   "cell_type": "markdown",
   "metadata": {},
   "source": [
    "## 4.3 Enriching Player Game Performance\n",
    "### 4.3.1 Creating player stats dataframe  \n",
    "The dota community is a bit relunctant when it comes to sharing player stats such as match making rating, kill/death ratio etc. For this reason, this information also had to be scrapped. It was an extremely lengthy process as I limited the script to 1 request per second so that the server wouldn't time me out. Keep in mind that for 1000 games there are a maximum of 10 000 players to scrape information from. This step is the limiting factor in this research amount of data. Furthermore, this step is also what diffirentiates my research from what everyone else's machine learning models have attempted."
   ]
  },
  {
   "cell_type": "code",
   "execution_count": 38,
   "metadata": {},
   "outputs": [
    {
     "data": {
      "text/html": [
       "<div>\n",
       "<style scoped>\n",
       "    .dataframe tbody tr th:only-of-type {\n",
       "        vertical-align: middle;\n",
       "    }\n",
       "\n",
       "    .dataframe tbody tr th {\n",
       "        vertical-align: top;\n",
       "    }\n",
       "\n",
       "    .dataframe thead th {\n",
       "        text-align: right;\n",
       "    }\n",
       "</style>\n",
       "<table border=\"1\" class=\"dataframe\">\n",
       "  <thead>\n",
       "    <tr style=\"text-align: right;\">\n",
       "      <th></th>\n",
       "      <th>account_id</th>\n",
       "      <th>abaddon</th>\n",
       "      <th>alchemist</th>\n",
       "      <th>ancient apparition</th>\n",
       "      <th>anti-mage</th>\n",
       "      <th>arc warden</th>\n",
       "      <th>axe</th>\n",
       "      <th>bane</th>\n",
       "      <th>batrider</th>\n",
       "      <th>beastmaster</th>\n",
       "      <th>...</th>\n",
       "      <th>venomancer</th>\n",
       "      <th>viper</th>\n",
       "      <th>visage</th>\n",
       "      <th>warlock</th>\n",
       "      <th>weaver</th>\n",
       "      <th>windranger</th>\n",
       "      <th>winter wyvern</th>\n",
       "      <th>witch doctor</th>\n",
       "      <th>wraith king</th>\n",
       "      <th>zeus</th>\n",
       "    </tr>\n",
       "  </thead>\n",
       "  <tbody>\n",
       "    <tr>\n",
       "      <th>0</th>\n",
       "      <td>100090157</td>\n",
       "      <td>{'win_ratio': '42.857143', 'games_played': '14...</td>\n",
       "      <td>{'win_ratio': '25.0', 'games_played': '12', 'k...</td>\n",
       "      <td>{'win_ratio': '40.0', 'games_played': '10', 'k...</td>\n",
       "      <td>{'win_ratio': '50.0', 'games_played': '6', 'kd...</td>\n",
       "      <td>{'win_ratio': '0.0', 'games_played': '1', 'kda...</td>\n",
       "      <td>{'win_ratio': '42.105263', 'games_played': '19...</td>\n",
       "      <td>{'win_ratio': '50.0', 'games_played': '8', 'kd...</td>\n",
       "      <td>{'win_ratio': '51.724136', 'games_played': '29...</td>\n",
       "      <td>{'win_ratio': '62.5', 'games_played': '8', 'kd...</td>\n",
       "      <td>...</td>\n",
       "      <td>{'win_ratio': '46.153847', 'games_played': '13...</td>\n",
       "      <td>{'win_ratio': '77.77778', 'games_played': '9',...</td>\n",
       "      <td>{'win_ratio': '66.66667', 'games_played': '18'...</td>\n",
       "      <td>{'win_ratio': '75.0', 'games_played': '4', 'kd...</td>\n",
       "      <td>{'win_ratio': '41.463413', 'games_played': '41...</td>\n",
       "      <td>{'win_ratio': '72.72727', 'games_played': '11'...</td>\n",
       "      <td>{'win_ratio': '33.333336', 'games_played': '6'...</td>\n",
       "      <td>{'win_ratio': '58.333332', 'games_played': '36...</td>\n",
       "      <td>{'win_ratio': '66.66667', 'games_played': '18'...</td>\n",
       "      <td>{'win_ratio': '14.285715', 'games_played': '7'...</td>\n",
       "    </tr>\n",
       "    <tr>\n",
       "      <th>1</th>\n",
       "      <td>10011865</td>\n",
       "      <td>{'win_ratio': '50.0', 'games_played': '24', 'k...</td>\n",
       "      <td>{'win_ratio': '38.235294', 'games_played': '34...</td>\n",
       "      <td>{'win_ratio': '33.333336', 'games_played': '3'...</td>\n",
       "      <td>{'win_ratio': '35.185184', 'games_played': '54...</td>\n",
       "      <td>{'win_ratio': '100.0', 'games_played': '1', 'k...</td>\n",
       "      <td>{'win_ratio': '44.444447', 'games_played': '11...</td>\n",
       "      <td>{'win_ratio': '65.625', 'games_played': '32', ...</td>\n",
       "      <td>{'win_ratio': '11.111112', 'games_played': '9'...</td>\n",
       "      <td>{'win_ratio': '40.0', 'games_played': '25', 'k...</td>\n",
       "      <td>...</td>\n",
       "      <td>{'win_ratio': '44.897957', 'games_played': '49...</td>\n",
       "      <td>{'win_ratio': '50.0', 'games_played': '50', 'k...</td>\n",
       "      <td>{'win_ratio': '28.57143', 'games_played': '14'...</td>\n",
       "      <td>{'win_ratio': '53.846157', 'games_played': '26...</td>\n",
       "      <td>{'win_ratio': '54.166668', 'games_played': '48...</td>\n",
       "      <td>{'win_ratio': '52.63158', 'games_played': '19'...</td>\n",
       "      <td>{'win_ratio': '50.0', 'games_played': '8', 'kd...</td>\n",
       "      <td>{'win_ratio': '52.63158', 'games_played': '19'...</td>\n",
       "      <td>{'win_ratio': '49.36709', 'games_played': '79'...</td>\n",
       "      <td>{'win_ratio': '55.88235', 'games_played': '34'...</td>\n",
       "    </tr>\n",
       "    <tr>\n",
       "      <th>2</th>\n",
       "      <td>1002045</td>\n",
       "      <td>{'win_ratio': '50.0', 'games_played': '2', 'kd...</td>\n",
       "      <td>{'win_ratio': '33.333336', 'games_played': '3'...</td>\n",
       "      <td>{'win_ratio': '0.0', 'games_played': '1', 'kda...</td>\n",
       "      <td>0</td>\n",
       "      <td>{'win_ratio': '0.0', 'games_played': '2', 'kda...</td>\n",
       "      <td>{'win_ratio': '50.0', 'games_played': '4', 'kd...</td>\n",
       "      <td>0</td>\n",
       "      <td>0</td>\n",
       "      <td>0</td>\n",
       "      <td>...</td>\n",
       "      <td>0</td>\n",
       "      <td>{'win_ratio': '50.0', 'games_played': '4', 'kd...</td>\n",
       "      <td>0</td>\n",
       "      <td>{'win_ratio': '100.0', 'games_played': '1', 'k...</td>\n",
       "      <td>0</td>\n",
       "      <td>{'win_ratio': '50.0', 'games_played': '4', 'kd...</td>\n",
       "      <td>{'win_ratio': '60.000004', 'games_played': '5'...</td>\n",
       "      <td>{'win_ratio': '0.0', 'games_played': '1', 'kda...</td>\n",
       "      <td>{'win_ratio': '75.0', 'games_played': '4', 'kd...</td>\n",
       "      <td>{'win_ratio': '55.555557', 'games_played': '9'...</td>\n",
       "    </tr>\n",
       "    <tr>\n",
       "      <th>3</th>\n",
       "      <td>100233112</td>\n",
       "      <td>0</td>\n",
       "      <td>0</td>\n",
       "      <td>0</td>\n",
       "      <td>0</td>\n",
       "      <td>0</td>\n",
       "      <td>0</td>\n",
       "      <td>0</td>\n",
       "      <td>0</td>\n",
       "      <td>0</td>\n",
       "      <td>...</td>\n",
       "      <td>0</td>\n",
       "      <td>0</td>\n",
       "      <td>0</td>\n",
       "      <td>0</td>\n",
       "      <td>0</td>\n",
       "      <td>0</td>\n",
       "      <td>0</td>\n",
       "      <td>0</td>\n",
       "      <td>0</td>\n",
       "      <td>0</td>\n",
       "    </tr>\n",
       "    <tr>\n",
       "      <th>4</th>\n",
       "      <td>100235084</td>\n",
       "      <td>{'win_ratio': '57.14286', 'games_played': '42'...</td>\n",
       "      <td>{'win_ratio': '58.69565', 'games_played': '46'...</td>\n",
       "      <td>{'win_ratio': '45.901638', 'games_played': '61...</td>\n",
       "      <td>{'win_ratio': '52.941177', 'games_played': '68...</td>\n",
       "      <td>{'win_ratio': '33.333336', 'games_played': '3'...</td>\n",
       "      <td>{'win_ratio': '43.90244', 'games_played': '41'...</td>\n",
       "      <td>{'win_ratio': '68.115944', 'games_played': '69...</td>\n",
       "      <td>{'win_ratio': '64.81481', 'games_played': '54'...</td>\n",
       "      <td>{'win_ratio': '47.826088', 'games_played': '23...</td>\n",
       "      <td>...</td>\n",
       "      <td>{'win_ratio': '47.058823', 'games_played': '34...</td>\n",
       "      <td>{'win_ratio': '42.857143', 'games_played': '14...</td>\n",
       "      <td>{'win_ratio': '66.66667', 'games_played': '18'...</td>\n",
       "      <td>{'win_ratio': '50.0', 'games_played': '12', 'k...</td>\n",
       "      <td>{'win_ratio': '55.813957', 'games_played': '12...</td>\n",
       "      <td>{'win_ratio': '42.937855', 'games_played': '17...</td>\n",
       "      <td>{'win_ratio': '63.88889', 'games_played': '36'...</td>\n",
       "      <td>{'win_ratio': '47.61905', 'games_played': '42'...</td>\n",
       "      <td>{'win_ratio': '47.5', 'games_played': '40', 'k...</td>\n",
       "      <td>{'win_ratio': '62.162163', 'games_played': '37...</td>\n",
       "    </tr>\n",
       "  </tbody>\n",
       "</table>\n",
       "<p>5 rows × 116 columns</p>\n",
       "</div>"
      ],
      "text/plain": [
       "  account_id                                            abaddon  \\\n",
       "0  100090157  {'win_ratio': '42.857143', 'games_played': '14...   \n",
       "1   10011865  {'win_ratio': '50.0', 'games_played': '24', 'k...   \n",
       "2    1002045  {'win_ratio': '50.0', 'games_played': '2', 'kd...   \n",
       "3  100233112                                                  0   \n",
       "4  100235084  {'win_ratio': '57.14286', 'games_played': '42'...   \n",
       "\n",
       "                                           alchemist  \\\n",
       "0  {'win_ratio': '25.0', 'games_played': '12', 'k...   \n",
       "1  {'win_ratio': '38.235294', 'games_played': '34...   \n",
       "2  {'win_ratio': '33.333336', 'games_played': '3'...   \n",
       "3                                                  0   \n",
       "4  {'win_ratio': '58.69565', 'games_played': '46'...   \n",
       "\n",
       "                                  ancient apparition  \\\n",
       "0  {'win_ratio': '40.0', 'games_played': '10', 'k...   \n",
       "1  {'win_ratio': '33.333336', 'games_played': '3'...   \n",
       "2  {'win_ratio': '0.0', 'games_played': '1', 'kda...   \n",
       "3                                                  0   \n",
       "4  {'win_ratio': '45.901638', 'games_played': '61...   \n",
       "\n",
       "                                           anti-mage  \\\n",
       "0  {'win_ratio': '50.0', 'games_played': '6', 'kd...   \n",
       "1  {'win_ratio': '35.185184', 'games_played': '54...   \n",
       "2                                                  0   \n",
       "3                                                  0   \n",
       "4  {'win_ratio': '52.941177', 'games_played': '68...   \n",
       "\n",
       "                                          arc warden  \\\n",
       "0  {'win_ratio': '0.0', 'games_played': '1', 'kda...   \n",
       "1  {'win_ratio': '100.0', 'games_played': '1', 'k...   \n",
       "2  {'win_ratio': '0.0', 'games_played': '2', 'kda...   \n",
       "3                                                  0   \n",
       "4  {'win_ratio': '33.333336', 'games_played': '3'...   \n",
       "\n",
       "                                                 axe  \\\n",
       "0  {'win_ratio': '42.105263', 'games_played': '19...   \n",
       "1  {'win_ratio': '44.444447', 'games_played': '11...   \n",
       "2  {'win_ratio': '50.0', 'games_played': '4', 'kd...   \n",
       "3                                                  0   \n",
       "4  {'win_ratio': '43.90244', 'games_played': '41'...   \n",
       "\n",
       "                                                bane  \\\n",
       "0  {'win_ratio': '50.0', 'games_played': '8', 'kd...   \n",
       "1  {'win_ratio': '65.625', 'games_played': '32', ...   \n",
       "2                                                  0   \n",
       "3                                                  0   \n",
       "4  {'win_ratio': '68.115944', 'games_played': '69...   \n",
       "\n",
       "                                            batrider  \\\n",
       "0  {'win_ratio': '51.724136', 'games_played': '29...   \n",
       "1  {'win_ratio': '11.111112', 'games_played': '9'...   \n",
       "2                                                  0   \n",
       "3                                                  0   \n",
       "4  {'win_ratio': '64.81481', 'games_played': '54'...   \n",
       "\n",
       "                                         beastmaster  \\\n",
       "0  {'win_ratio': '62.5', 'games_played': '8', 'kd...   \n",
       "1  {'win_ratio': '40.0', 'games_played': '25', 'k...   \n",
       "2                                                  0   \n",
       "3                                                  0   \n",
       "4  {'win_ratio': '47.826088', 'games_played': '23...   \n",
       "\n",
       "                         ...                          \\\n",
       "0                        ...                           \n",
       "1                        ...                           \n",
       "2                        ...                           \n",
       "3                        ...                           \n",
       "4                        ...                           \n",
       "\n",
       "                                          venomancer  \\\n",
       "0  {'win_ratio': '46.153847', 'games_played': '13...   \n",
       "1  {'win_ratio': '44.897957', 'games_played': '49...   \n",
       "2                                                  0   \n",
       "3                                                  0   \n",
       "4  {'win_ratio': '47.058823', 'games_played': '34...   \n",
       "\n",
       "                                               viper  \\\n",
       "0  {'win_ratio': '77.77778', 'games_played': '9',...   \n",
       "1  {'win_ratio': '50.0', 'games_played': '50', 'k...   \n",
       "2  {'win_ratio': '50.0', 'games_played': '4', 'kd...   \n",
       "3                                                  0   \n",
       "4  {'win_ratio': '42.857143', 'games_played': '14...   \n",
       "\n",
       "                                              visage  \\\n",
       "0  {'win_ratio': '66.66667', 'games_played': '18'...   \n",
       "1  {'win_ratio': '28.57143', 'games_played': '14'...   \n",
       "2                                                  0   \n",
       "3                                                  0   \n",
       "4  {'win_ratio': '66.66667', 'games_played': '18'...   \n",
       "\n",
       "                                             warlock  \\\n",
       "0  {'win_ratio': '75.0', 'games_played': '4', 'kd...   \n",
       "1  {'win_ratio': '53.846157', 'games_played': '26...   \n",
       "2  {'win_ratio': '100.0', 'games_played': '1', 'k...   \n",
       "3                                                  0   \n",
       "4  {'win_ratio': '50.0', 'games_played': '12', 'k...   \n",
       "\n",
       "                                              weaver  \\\n",
       "0  {'win_ratio': '41.463413', 'games_played': '41...   \n",
       "1  {'win_ratio': '54.166668', 'games_played': '48...   \n",
       "2                                                  0   \n",
       "3                                                  0   \n",
       "4  {'win_ratio': '55.813957', 'games_played': '12...   \n",
       "\n",
       "                                          windranger  \\\n",
       "0  {'win_ratio': '72.72727', 'games_played': '11'...   \n",
       "1  {'win_ratio': '52.63158', 'games_played': '19'...   \n",
       "2  {'win_ratio': '50.0', 'games_played': '4', 'kd...   \n",
       "3                                                  0   \n",
       "4  {'win_ratio': '42.937855', 'games_played': '17...   \n",
       "\n",
       "                                       winter wyvern  \\\n",
       "0  {'win_ratio': '33.333336', 'games_played': '6'...   \n",
       "1  {'win_ratio': '50.0', 'games_played': '8', 'kd...   \n",
       "2  {'win_ratio': '60.000004', 'games_played': '5'...   \n",
       "3                                                  0   \n",
       "4  {'win_ratio': '63.88889', 'games_played': '36'...   \n",
       "\n",
       "                                        witch doctor  \\\n",
       "0  {'win_ratio': '58.333332', 'games_played': '36...   \n",
       "1  {'win_ratio': '52.63158', 'games_played': '19'...   \n",
       "2  {'win_ratio': '0.0', 'games_played': '1', 'kda...   \n",
       "3                                                  0   \n",
       "4  {'win_ratio': '47.61905', 'games_played': '42'...   \n",
       "\n",
       "                                         wraith king  \\\n",
       "0  {'win_ratio': '66.66667', 'games_played': '18'...   \n",
       "1  {'win_ratio': '49.36709', 'games_played': '79'...   \n",
       "2  {'win_ratio': '75.0', 'games_played': '4', 'kd...   \n",
       "3                                                  0   \n",
       "4  {'win_ratio': '47.5', 'games_played': '40', 'k...   \n",
       "\n",
       "                                                zeus  \n",
       "0  {'win_ratio': '14.285715', 'games_played': '7'...  \n",
       "1  {'win_ratio': '55.88235', 'games_played': '34'...  \n",
       "2  {'win_ratio': '55.555557', 'games_played': '9'...  \n",
       "3                                                  0  \n",
       "4  {'win_ratio': '62.162163', 'games_played': '37...  \n",
       "\n",
       "[5 rows x 116 columns]"
      ]
     },
     "execution_count": 38,
     "metadata": {},
     "output_type": "execute_result"
    }
   ],
   "source": [
    "with open('data/player_stats.json') as f:\n",
    "    raw_player_stats = json.load(f)\n",
    "\n",
    "player_stats_df = pd.DataFrame(raw_player_stats).transpose()\n",
    "player_stats_df = player_stats_df.reset_index()\n",
    "player_stats_df = player_stats_df.rename({'index':'account_id'}, axis='columns')\n",
    "player_stats_df.columns = map(str.lower, player_stats_df.columns)\n",
    "player_stats_df.fillna(0, inplace=True)\n",
    "player_stats_df.head()"
   ]
  },
  {
   "cell_type": "markdown",
   "metadata": {},
   "source": [
    "### 4.3.2 Combining player stats with player dataframe"
   ]
  },
  {
   "cell_type": "code",
   "execution_count": 39,
   "metadata": {},
   "outputs": [],
   "source": [
    "hero_win_ratio = []\n",
    "hero_kda = []\n",
    "hero_games_played = []\n",
    "\n",
    "for index, row in players_df.iterrows():\n",
    "    account_id = str(row['account_id'])\n",
    "    hero_name = row['hero_name']    \n",
    "    player_stats = player_stats_df.loc[player_stats_df['account_id'] == account_id][hero_name]    \n",
    "        \n",
    "    try:\n",
    "        row_index = player_stats.index[0]\n",
    "        player_stats = player_stats[row_index]\n",
    "\n",
    "    except IndexError:\n",
    "        player_stats = None\n",
    "    \n",
    "    if type(player_stats) == dict:\n",
    "        win_ratio = player_stats['win_ratio']\n",
    "        kda = player_stats['kda']\n",
    "        games_played = player_stats['games_played']\n",
    "        \n",
    "    else:\n",
    "        win_ratio = None\n",
    "        kda = None\n",
    "        games_played = None\n",
    "\n",
    "    hero_win_ratio.append(win_ratio)\n",
    "    hero_kda.append(kda)\n",
    "    hero_games_played.append(games_played)\n",
    "\n",
    "players_df['win_ratio'] = pd.Series(hero_win_ratio)\n",
    "players_df['kda'] = pd.Series(hero_kda)\n",
    "players_df['games_played'] = pd.Series(hero_games_played)"
   ]
  },
  {
   "cell_type": "code",
   "execution_count": 40,
   "metadata": {},
   "outputs": [
    {
     "data": {
      "text/html": [
       "<div>\n",
       "<style scoped>\n",
       "    .dataframe tbody tr th:only-of-type {\n",
       "        vertical-align: middle;\n",
       "    }\n",
       "\n",
       "    .dataframe tbody tr th {\n",
       "        vertical-align: top;\n",
       "    }\n",
       "\n",
       "    .dataframe thead th {\n",
       "        text-align: right;\n",
       "    }\n",
       "</style>\n",
       "<table border=\"1\" class=\"dataframe\">\n",
       "  <thead>\n",
       "    <tr style=\"text-align: right;\">\n",
       "      <th></th>\n",
       "      <th>account_id</th>\n",
       "      <th>assists</th>\n",
       "      <th>deaths</th>\n",
       "      <th>denies</th>\n",
       "      <th>gold</th>\n",
       "      <th>gold_per_min</th>\n",
       "      <th>gold_spent</th>\n",
       "      <th>hero_id</th>\n",
       "      <th>hero_name</th>\n",
       "      <th>kills</th>\n",
       "      <th>...</th>\n",
       "      <th>level</th>\n",
       "      <th>match_id</th>\n",
       "      <th>player_slot</th>\n",
       "      <th>scaled_hero_damage</th>\n",
       "      <th>scaled_hero_healing</th>\n",
       "      <th>scaled_tower_damage</th>\n",
       "      <th>xp_per_min</th>\n",
       "      <th>win_ratio</th>\n",
       "      <th>kda</th>\n",
       "      <th>games_played</th>\n",
       "    </tr>\n",
       "  </thead>\n",
       "  <tbody>\n",
       "    <tr>\n",
       "      <th>0</th>\n",
       "      <td>167415941</td>\n",
       "      <td>18</td>\n",
       "      <td>8</td>\n",
       "      <td>2</td>\n",
       "      <td>833</td>\n",
       "      <td>382</td>\n",
       "      <td>16355</td>\n",
       "      <td>71</td>\n",
       "      <td>spirit breaker</td>\n",
       "      <td>9</td>\n",
       "      <td>...</td>\n",
       "      <td>25</td>\n",
       "      <td>3933472768</td>\n",
       "      <td>0</td>\n",
       "      <td>12976</td>\n",
       "      <td>152</td>\n",
       "      <td>58</td>\n",
       "      <td>648</td>\n",
       "      <td>57.14286</td>\n",
       "      <td>4.3773584</td>\n",
       "      <td>7</td>\n",
       "    </tr>\n",
       "    <tr>\n",
       "      <th>1</th>\n",
       "      <td>4294967295</td>\n",
       "      <td>9</td>\n",
       "      <td>9</td>\n",
       "      <td>7</td>\n",
       "      <td>2498</td>\n",
       "      <td>377</td>\n",
       "      <td>13655</td>\n",
       "      <td>6</td>\n",
       "      <td>drow ranger</td>\n",
       "      <td>1</td>\n",
       "      <td>...</td>\n",
       "      <td>22</td>\n",
       "      <td>3933472768</td>\n",
       "      <td>1</td>\n",
       "      <td>4790</td>\n",
       "      <td>0</td>\n",
       "      <td>194</td>\n",
       "      <td>469</td>\n",
       "      <td>None</td>\n",
       "      <td>None</td>\n",
       "      <td>None</td>\n",
       "    </tr>\n",
       "    <tr>\n",
       "      <th>2</th>\n",
       "      <td>4294967295</td>\n",
       "      <td>12</td>\n",
       "      <td>11</td>\n",
       "      <td>3</td>\n",
       "      <td>157</td>\n",
       "      <td>326</td>\n",
       "      <td>14470</td>\n",
       "      <td>88</td>\n",
       "      <td>nyx assassin</td>\n",
       "      <td>5</td>\n",
       "      <td>...</td>\n",
       "      <td>21</td>\n",
       "      <td>3933472768</td>\n",
       "      <td>2</td>\n",
       "      <td>7562</td>\n",
       "      <td>0</td>\n",
       "      <td>161</td>\n",
       "      <td>413</td>\n",
       "      <td>None</td>\n",
       "      <td>None</td>\n",
       "      <td>None</td>\n",
       "    </tr>\n",
       "    <tr>\n",
       "      <th>3</th>\n",
       "      <td>314390062</td>\n",
       "      <td>5</td>\n",
       "      <td>7</td>\n",
       "      <td>10</td>\n",
       "      <td>316</td>\n",
       "      <td>595</td>\n",
       "      <td>26815</td>\n",
       "      <td>106</td>\n",
       "      <td>ember spirit</td>\n",
       "      <td>12</td>\n",
       "      <td>...</td>\n",
       "      <td>25</td>\n",
       "      <td>3933472768</td>\n",
       "      <td>3</td>\n",
       "      <td>17834</td>\n",
       "      <td>0</td>\n",
       "      <td>2011</td>\n",
       "      <td>779</td>\n",
       "      <td>51.315792</td>\n",
       "      <td>2.778559</td>\n",
       "      <td>76</td>\n",
       "    </tr>\n",
       "    <tr>\n",
       "      <th>4</th>\n",
       "      <td>255288415</td>\n",
       "      <td>11</td>\n",
       "      <td>13</td>\n",
       "      <td>8</td>\n",
       "      <td>4782</td>\n",
       "      <td>428</td>\n",
       "      <td>14675</td>\n",
       "      <td>93</td>\n",
       "      <td>slark</td>\n",
       "      <td>8</td>\n",
       "      <td>...</td>\n",
       "      <td>25</td>\n",
       "      <td>3933472768</td>\n",
       "      <td>4</td>\n",
       "      <td>12834</td>\n",
       "      <td>0</td>\n",
       "      <td>110</td>\n",
       "      <td>612</td>\n",
       "      <td>41.025642</td>\n",
       "      <td>2.0392158</td>\n",
       "      <td>39</td>\n",
       "    </tr>\n",
       "  </tbody>\n",
       "</table>\n",
       "<p>5 rows × 21 columns</p>\n",
       "</div>"
      ],
      "text/plain": [
       "   account_id  assists  deaths  denies  gold  gold_per_min  gold_spent  \\\n",
       "0   167415941       18       8       2   833           382       16355   \n",
       "1  4294967295        9       9       7  2498           377       13655   \n",
       "2  4294967295       12      11       3   157           326       14470   \n",
       "3   314390062        5       7      10   316           595       26815   \n",
       "4   255288415       11      13       8  4782           428       14675   \n",
       "\n",
       "   hero_id       hero_name  kills     ...       level    match_id player_slot  \\\n",
       "0       71  spirit breaker      9     ...          25  3933472768           0   \n",
       "1        6     drow ranger      1     ...          22  3933472768           1   \n",
       "2       88    nyx assassin      5     ...          21  3933472768           2   \n",
       "3      106    ember spirit     12     ...          25  3933472768           3   \n",
       "4       93           slark      8     ...          25  3933472768           4   \n",
       "\n",
       "   scaled_hero_damage  scaled_hero_healing  scaled_tower_damage  xp_per_min  \\\n",
       "0               12976                  152                   58         648   \n",
       "1                4790                    0                  194         469   \n",
       "2                7562                    0                  161         413   \n",
       "3               17834                    0                 2011         779   \n",
       "4               12834                    0                  110         612   \n",
       "\n",
       "   win_ratio        kda games_played  \n",
       "0   57.14286  4.3773584            7  \n",
       "1       None       None         None  \n",
       "2       None       None         None  \n",
       "3  51.315792   2.778559           76  \n",
       "4  41.025642  2.0392158           39  \n",
       "\n",
       "[5 rows x 21 columns]"
      ]
     },
     "execution_count": 40,
     "metadata": {},
     "output_type": "execute_result"
    }
   ],
   "source": [
    "players_df.head()"
   ]
  },
  {
   "cell_type": "markdown",
   "metadata": {},
   "source": [
    "# 5. Merging the data\n",
    "The objective for this step is to merge all the table together into 1 chunk of data so that we do not have to worry about manipulating many sources of information."
   ]
  },
  {
   "cell_type": "markdown",
   "metadata": {},
   "source": [
    "## 5.1 Dataframe refresher\n",
    "We will start by displaying all the headers of the current cleaned, structured and enriched dataframes we have created in the previous sections. From there we will determine how to join the tables."
   ]
  },
  {
   "cell_type": "code",
   "execution_count": 41,
   "metadata": {},
   "outputs": [
    {
     "data": {
      "text/html": [
       "<div>\n",
       "<style scoped>\n",
       "    .dataframe tbody tr th:only-of-type {\n",
       "        vertical-align: middle;\n",
       "    }\n",
       "\n",
       "    .dataframe tbody tr th {\n",
       "        vertical-align: top;\n",
       "    }\n",
       "\n",
       "    .dataframe thead th {\n",
       "        text-align: right;\n",
       "    }\n",
       "</style>\n",
       "<table border=\"1\" class=\"dataframe\">\n",
       "  <thead>\n",
       "    <tr style=\"text-align: right;\">\n",
       "      <th></th>\n",
       "      <th>hero_name</th>\n",
       "      <th>hero_games_played</th>\n",
       "      <th>hero_kda</th>\n",
       "      <th>pick_rate</th>\n",
       "      <th>hero_win_ratio</th>\n",
       "      <th>hero_id</th>\n",
       "      <th>carry</th>\n",
       "      <th>disabler</th>\n",
       "      <th>escape</th>\n",
       "      <th>initiator</th>\n",
       "      <th>jungler</th>\n",
       "      <th>nuker</th>\n",
       "      <th>pusher</th>\n",
       "      <th>score</th>\n",
       "      <th>support</th>\n",
       "    </tr>\n",
       "  </thead>\n",
       "  <tbody>\n",
       "    <tr>\n",
       "      <th>0</th>\n",
       "      <td>abaddon</td>\n",
       "      <td>813552</td>\n",
       "      <td>2.7662</td>\n",
       "      <td>3.8269</td>\n",
       "      <td>53.147</td>\n",
       "      <td>102</td>\n",
       "      <td>1</td>\n",
       "      <td>0</td>\n",
       "      <td>0</td>\n",
       "      <td>0</td>\n",
       "      <td>0</td>\n",
       "      <td>0</td>\n",
       "      <td>0</td>\n",
       "      <td>1</td>\n",
       "      <td>0</td>\n",
       "    </tr>\n",
       "    <tr>\n",
       "      <th>1</th>\n",
       "      <td>alchemist</td>\n",
       "      <td>1002710</td>\n",
       "      <td>2.1533</td>\n",
       "      <td>4.7167</td>\n",
       "      <td>47.2532</td>\n",
       "      <td>73</td>\n",
       "      <td>0</td>\n",
       "      <td>1</td>\n",
       "      <td>0</td>\n",
       "      <td>1</td>\n",
       "      <td>0</td>\n",
       "      <td>1</td>\n",
       "      <td>0</td>\n",
       "      <td>46</td>\n",
       "      <td>1</td>\n",
       "    </tr>\n",
       "    <tr>\n",
       "      <th>2</th>\n",
       "      <td>ancient apparition</td>\n",
       "      <td>1444245</td>\n",
       "      <td>2.9395</td>\n",
       "      <td>6.7937</td>\n",
       "      <td>52.3461</td>\n",
       "      <td>68</td>\n",
       "      <td>0</td>\n",
       "      <td>1</td>\n",
       "      <td>0</td>\n",
       "      <td>0</td>\n",
       "      <td>0</td>\n",
       "      <td>1</td>\n",
       "      <td>0</td>\n",
       "      <td>10</td>\n",
       "      <td>0</td>\n",
       "    </tr>\n",
       "    <tr>\n",
       "      <th>3</th>\n",
       "      <td>anti-mage</td>\n",
       "      <td>2937612</td>\n",
       "      <td>2.4398</td>\n",
       "      <td>13.8186</td>\n",
       "      <td>49.2443</td>\n",
       "      <td>1</td>\n",
       "      <td>0</td>\n",
       "      <td>0</td>\n",
       "      <td>0</td>\n",
       "      <td>0</td>\n",
       "      <td>0</td>\n",
       "      <td>1</td>\n",
       "      <td>0</td>\n",
       "      <td>2</td>\n",
       "      <td>0</td>\n",
       "    </tr>\n",
       "    <tr>\n",
       "      <th>4</th>\n",
       "      <td>arc warden</td>\n",
       "      <td>393944</td>\n",
       "      <td>2.5933</td>\n",
       "      <td>1.8531</td>\n",
       "      <td>47.1554</td>\n",
       "      <td>113</td>\n",
       "      <td>0</td>\n",
       "      <td>0</td>\n",
       "      <td>0</td>\n",
       "      <td>0</td>\n",
       "      <td>0</td>\n",
       "      <td>1</td>\n",
       "      <td>0</td>\n",
       "      <td>2</td>\n",
       "      <td>0</td>\n",
       "    </tr>\n",
       "  </tbody>\n",
       "</table>\n",
       "</div>"
      ],
      "text/plain": [
       "            hero_name hero_games_played hero_kda pick_rate hero_win_ratio  \\\n",
       "0             abaddon            813552   2.7662    3.8269         53.147   \n",
       "1           alchemist           1002710   2.1533    4.7167        47.2532   \n",
       "2  ancient apparition           1444245   2.9395    6.7937        52.3461   \n",
       "3           anti-mage           2937612   2.4398   13.8186        49.2443   \n",
       "4          arc warden            393944   2.5933    1.8531        47.1554   \n",
       "\n",
       "   hero_id  carry  disabler  escape  initiator  jungler  nuker  pusher  score  \\\n",
       "0      102      1         0       0          0        0      0       0      1   \n",
       "1       73      0         1       0          1        0      1       0     46   \n",
       "2       68      0         1       0          0        0      1       0     10   \n",
       "3        1      0         0       0          0        0      1       0      2   \n",
       "4      113      0         0       0          0        0      1       0      2   \n",
       "\n",
       "   support  \n",
       "0        0  \n",
       "1        1  \n",
       "2        0  \n",
       "3        0  \n",
       "4        0  "
      ]
     },
     "execution_count": 41,
     "metadata": {},
     "output_type": "execute_result"
    }
   ],
   "source": [
    "hero_df.head()"
   ]
  },
  {
   "cell_type": "markdown",
   "metadata": {},
   "source": [
    "Notice we drop the 'hero_name' column simply to prevent a duplicate column from existing later on."
   ]
  },
  {
   "cell_type": "code",
   "execution_count": 42,
   "metadata": {},
   "outputs": [
    {
     "data": {
      "text/html": [
       "<div>\n",
       "<style scoped>\n",
       "    .dataframe tbody tr th:only-of-type {\n",
       "        vertical-align: middle;\n",
       "    }\n",
       "\n",
       "    .dataframe tbody tr th {\n",
       "        vertical-align: top;\n",
       "    }\n",
       "\n",
       "    .dataframe thead th {\n",
       "        text-align: right;\n",
       "    }\n",
       "</style>\n",
       "<table border=\"1\" class=\"dataframe\">\n",
       "  <thead>\n",
       "    <tr style=\"text-align: right;\">\n",
       "      <th></th>\n",
       "      <th>match_id</th>\n",
       "      <th>barracks_status_dire</th>\n",
       "      <th>barracks_status_radiant</th>\n",
       "      <th>dire_score</th>\n",
       "      <th>duration</th>\n",
       "      <th>human_players</th>\n",
       "      <th>radiant_score</th>\n",
       "      <th>radiant_win</th>\n",
       "      <th>tower_status_dire</th>\n",
       "      <th>tower_status_radiant</th>\n",
       "    </tr>\n",
       "  </thead>\n",
       "  <tbody>\n",
       "    <tr>\n",
       "      <th>0</th>\n",
       "      <td>3933472394</td>\n",
       "      <td>63</td>\n",
       "      <td>0</td>\n",
       "      <td>38</td>\n",
       "      <td>1620</td>\n",
       "      <td>10</td>\n",
       "      <td>29</td>\n",
       "      <td>False</td>\n",
       "      <td>1958</td>\n",
       "      <td>0</td>\n",
       "    </tr>\n",
       "    <tr>\n",
       "      <th>1</th>\n",
       "      <td>3933472395</td>\n",
       "      <td>63</td>\n",
       "      <td>0</td>\n",
       "      <td>35</td>\n",
       "      <td>2300</td>\n",
       "      <td>10</td>\n",
       "      <td>31</td>\n",
       "      <td>False</td>\n",
       "      <td>1974</td>\n",
       "      <td>0</td>\n",
       "    </tr>\n",
       "    <tr>\n",
       "      <th>3</th>\n",
       "      <td>3933472397</td>\n",
       "      <td>0</td>\n",
       "      <td>63</td>\n",
       "      <td>27</td>\n",
       "      <td>2277</td>\n",
       "      <td>10</td>\n",
       "      <td>54</td>\n",
       "      <td>True</td>\n",
       "      <td>0</td>\n",
       "      <td>1975</td>\n",
       "    </tr>\n",
       "    <tr>\n",
       "      <th>4</th>\n",
       "      <td>3933472398</td>\n",
       "      <td>0</td>\n",
       "      <td>55</td>\n",
       "      <td>46</td>\n",
       "      <td>2291</td>\n",
       "      <td>10</td>\n",
       "      <td>44</td>\n",
       "      <td>True</td>\n",
       "      <td>0</td>\n",
       "      <td>1926</td>\n",
       "    </tr>\n",
       "    <tr>\n",
       "      <th>5</th>\n",
       "      <td>3933472399</td>\n",
       "      <td>0</td>\n",
       "      <td>51</td>\n",
       "      <td>48</td>\n",
       "      <td>2861</td>\n",
       "      <td>10</td>\n",
       "      <td>50</td>\n",
       "      <td>True</td>\n",
       "      <td>0</td>\n",
       "      <td>1798</td>\n",
       "    </tr>\n",
       "  </tbody>\n",
       "</table>\n",
       "</div>"
      ],
      "text/plain": [
       "     match_id barracks_status_dire barracks_status_radiant dire_score  \\\n",
       "0  3933472394                   63                       0         38   \n",
       "1  3933472395                   63                       0         35   \n",
       "3  3933472397                    0                      63         27   \n",
       "4  3933472398                    0                      55         46   \n",
       "5  3933472399                    0                      51         48   \n",
       "\n",
       "  duration human_players radiant_score radiant_win tower_status_dire  \\\n",
       "0     1620            10            29       False              1958   \n",
       "1     2300            10            31       False              1974   \n",
       "3     2277            10            54        True                 0   \n",
       "4     2291            10            44        True                 0   \n",
       "5     2861            10            50        True                 0   \n",
       "\n",
       "  tower_status_radiant  \n",
       "0                    0  \n",
       "1                    0  \n",
       "3                 1975  \n",
       "4                 1926  \n",
       "5                 1798  "
      ]
     },
     "execution_count": 42,
     "metadata": {},
     "output_type": "execute_result"
    }
   ],
   "source": [
    "match_df.head()"
   ]
  },
  {
   "cell_type": "code",
   "execution_count": 43,
   "metadata": {},
   "outputs": [
    {
     "data": {
      "text/html": [
       "<div>\n",
       "<style scoped>\n",
       "    .dataframe tbody tr th:only-of-type {\n",
       "        vertical-align: middle;\n",
       "    }\n",
       "\n",
       "    .dataframe tbody tr th {\n",
       "        vertical-align: top;\n",
       "    }\n",
       "\n",
       "    .dataframe thead th {\n",
       "        text-align: right;\n",
       "    }\n",
       "</style>\n",
       "<table border=\"1\" class=\"dataframe\">\n",
       "  <thead>\n",
       "    <tr style=\"text-align: right;\">\n",
       "      <th></th>\n",
       "      <th>account_id</th>\n",
       "      <th>assists</th>\n",
       "      <th>deaths</th>\n",
       "      <th>denies</th>\n",
       "      <th>gold</th>\n",
       "      <th>gold_per_min</th>\n",
       "      <th>gold_spent</th>\n",
       "      <th>hero_id</th>\n",
       "      <th>hero_name</th>\n",
       "      <th>kills</th>\n",
       "      <th>...</th>\n",
       "      <th>level</th>\n",
       "      <th>match_id</th>\n",
       "      <th>player_slot</th>\n",
       "      <th>scaled_hero_damage</th>\n",
       "      <th>scaled_hero_healing</th>\n",
       "      <th>scaled_tower_damage</th>\n",
       "      <th>xp_per_min</th>\n",
       "      <th>win_ratio</th>\n",
       "      <th>kda</th>\n",
       "      <th>games_played</th>\n",
       "    </tr>\n",
       "  </thead>\n",
       "  <tbody>\n",
       "    <tr>\n",
       "      <th>0</th>\n",
       "      <td>167415941</td>\n",
       "      <td>18</td>\n",
       "      <td>8</td>\n",
       "      <td>2</td>\n",
       "      <td>833</td>\n",
       "      <td>382</td>\n",
       "      <td>16355</td>\n",
       "      <td>71</td>\n",
       "      <td>spirit breaker</td>\n",
       "      <td>9</td>\n",
       "      <td>...</td>\n",
       "      <td>25</td>\n",
       "      <td>3933472768</td>\n",
       "      <td>0</td>\n",
       "      <td>12976</td>\n",
       "      <td>152</td>\n",
       "      <td>58</td>\n",
       "      <td>648</td>\n",
       "      <td>57.14286</td>\n",
       "      <td>4.3773584</td>\n",
       "      <td>7</td>\n",
       "    </tr>\n",
       "    <tr>\n",
       "      <th>1</th>\n",
       "      <td>4294967295</td>\n",
       "      <td>9</td>\n",
       "      <td>9</td>\n",
       "      <td>7</td>\n",
       "      <td>2498</td>\n",
       "      <td>377</td>\n",
       "      <td>13655</td>\n",
       "      <td>6</td>\n",
       "      <td>drow ranger</td>\n",
       "      <td>1</td>\n",
       "      <td>...</td>\n",
       "      <td>22</td>\n",
       "      <td>3933472768</td>\n",
       "      <td>1</td>\n",
       "      <td>4790</td>\n",
       "      <td>0</td>\n",
       "      <td>194</td>\n",
       "      <td>469</td>\n",
       "      <td>None</td>\n",
       "      <td>None</td>\n",
       "      <td>None</td>\n",
       "    </tr>\n",
       "    <tr>\n",
       "      <th>2</th>\n",
       "      <td>4294967295</td>\n",
       "      <td>12</td>\n",
       "      <td>11</td>\n",
       "      <td>3</td>\n",
       "      <td>157</td>\n",
       "      <td>326</td>\n",
       "      <td>14470</td>\n",
       "      <td>88</td>\n",
       "      <td>nyx assassin</td>\n",
       "      <td>5</td>\n",
       "      <td>...</td>\n",
       "      <td>21</td>\n",
       "      <td>3933472768</td>\n",
       "      <td>2</td>\n",
       "      <td>7562</td>\n",
       "      <td>0</td>\n",
       "      <td>161</td>\n",
       "      <td>413</td>\n",
       "      <td>None</td>\n",
       "      <td>None</td>\n",
       "      <td>None</td>\n",
       "    </tr>\n",
       "    <tr>\n",
       "      <th>3</th>\n",
       "      <td>314390062</td>\n",
       "      <td>5</td>\n",
       "      <td>7</td>\n",
       "      <td>10</td>\n",
       "      <td>316</td>\n",
       "      <td>595</td>\n",
       "      <td>26815</td>\n",
       "      <td>106</td>\n",
       "      <td>ember spirit</td>\n",
       "      <td>12</td>\n",
       "      <td>...</td>\n",
       "      <td>25</td>\n",
       "      <td>3933472768</td>\n",
       "      <td>3</td>\n",
       "      <td>17834</td>\n",
       "      <td>0</td>\n",
       "      <td>2011</td>\n",
       "      <td>779</td>\n",
       "      <td>51.315792</td>\n",
       "      <td>2.778559</td>\n",
       "      <td>76</td>\n",
       "    </tr>\n",
       "    <tr>\n",
       "      <th>4</th>\n",
       "      <td>255288415</td>\n",
       "      <td>11</td>\n",
       "      <td>13</td>\n",
       "      <td>8</td>\n",
       "      <td>4782</td>\n",
       "      <td>428</td>\n",
       "      <td>14675</td>\n",
       "      <td>93</td>\n",
       "      <td>slark</td>\n",
       "      <td>8</td>\n",
       "      <td>...</td>\n",
       "      <td>25</td>\n",
       "      <td>3933472768</td>\n",
       "      <td>4</td>\n",
       "      <td>12834</td>\n",
       "      <td>0</td>\n",
       "      <td>110</td>\n",
       "      <td>612</td>\n",
       "      <td>41.025642</td>\n",
       "      <td>2.0392158</td>\n",
       "      <td>39</td>\n",
       "    </tr>\n",
       "  </tbody>\n",
       "</table>\n",
       "<p>5 rows × 21 columns</p>\n",
       "</div>"
      ],
      "text/plain": [
       "   account_id  assists  deaths  denies  gold  gold_per_min  gold_spent  \\\n",
       "0   167415941       18       8       2   833           382       16355   \n",
       "1  4294967295        9       9       7  2498           377       13655   \n",
       "2  4294967295       12      11       3   157           326       14470   \n",
       "3   314390062        5       7      10   316           595       26815   \n",
       "4   255288415       11      13       8  4782           428       14675   \n",
       "\n",
       "   hero_id       hero_name  kills     ...       level    match_id player_slot  \\\n",
       "0       71  spirit breaker      9     ...          25  3933472768           0   \n",
       "1        6     drow ranger      1     ...          22  3933472768           1   \n",
       "2       88    nyx assassin      5     ...          21  3933472768           2   \n",
       "3      106    ember spirit     12     ...          25  3933472768           3   \n",
       "4       93           slark      8     ...          25  3933472768           4   \n",
       "\n",
       "   scaled_hero_damage  scaled_hero_healing  scaled_tower_damage  xp_per_min  \\\n",
       "0               12976                  152                   58         648   \n",
       "1                4790                    0                  194         469   \n",
       "2                7562                    0                  161         413   \n",
       "3               17834                    0                 2011         779   \n",
       "4               12834                    0                  110         612   \n",
       "\n",
       "   win_ratio        kda games_played  \n",
       "0   57.14286  4.3773584            7  \n",
       "1       None       None         None  \n",
       "2       None       None         None  \n",
       "3  51.315792   2.778559           76  \n",
       "4  41.025642  2.0392158           39  \n",
       "\n",
       "[5 rows x 21 columns]"
      ]
     },
     "execution_count": 43,
     "metadata": {},
     "output_type": "execute_result"
    }
   ],
   "source": [
    "players_df.head()"
   ]
  },
  {
   "cell_type": "markdown",
   "metadata": {},
   "source": [
    "## 5.2 Merging player and match dataframes"
   ]
  },
  {
   "cell_type": "code",
   "execution_count": 44,
   "metadata": {},
   "outputs": [
    {
     "data": {
      "text/html": [
       "<div>\n",
       "<style scoped>\n",
       "    .dataframe tbody tr th:only-of-type {\n",
       "        vertical-align: middle;\n",
       "    }\n",
       "\n",
       "    .dataframe tbody tr th {\n",
       "        vertical-align: top;\n",
       "    }\n",
       "\n",
       "    .dataframe thead th {\n",
       "        text-align: right;\n",
       "    }\n",
       "</style>\n",
       "<table border=\"1\" class=\"dataframe\">\n",
       "  <thead>\n",
       "    <tr style=\"text-align: right;\">\n",
       "      <th></th>\n",
       "      <th>account_id</th>\n",
       "      <th>assists</th>\n",
       "      <th>deaths</th>\n",
       "      <th>denies</th>\n",
       "      <th>gold</th>\n",
       "      <th>gold_per_min</th>\n",
       "      <th>gold_spent</th>\n",
       "      <th>hero_id</th>\n",
       "      <th>hero_name</th>\n",
       "      <th>kills</th>\n",
       "      <th>...</th>\n",
       "      <th>games_played</th>\n",
       "      <th>barracks_status_dire</th>\n",
       "      <th>barracks_status_radiant</th>\n",
       "      <th>dire_score</th>\n",
       "      <th>duration</th>\n",
       "      <th>human_players</th>\n",
       "      <th>radiant_score</th>\n",
       "      <th>radiant_win</th>\n",
       "      <th>tower_status_dire</th>\n",
       "      <th>tower_status_radiant</th>\n",
       "    </tr>\n",
       "  </thead>\n",
       "  <tbody>\n",
       "    <tr>\n",
       "      <th>0</th>\n",
       "      <td>167415941</td>\n",
       "      <td>18</td>\n",
       "      <td>8</td>\n",
       "      <td>2</td>\n",
       "      <td>833</td>\n",
       "      <td>382</td>\n",
       "      <td>16355</td>\n",
       "      <td>71</td>\n",
       "      <td>spirit breaker</td>\n",
       "      <td>9</td>\n",
       "      <td>...</td>\n",
       "      <td>7</td>\n",
       "      <td>63</td>\n",
       "      <td>0</td>\n",
       "      <td>48</td>\n",
       "      <td>2765</td>\n",
       "      <td>10</td>\n",
       "      <td>36</td>\n",
       "      <td>False</td>\n",
       "      <td>1828</td>\n",
       "      <td>0</td>\n",
       "    </tr>\n",
       "    <tr>\n",
       "      <th>1</th>\n",
       "      <td>4294967295</td>\n",
       "      <td>9</td>\n",
       "      <td>9</td>\n",
       "      <td>7</td>\n",
       "      <td>2498</td>\n",
       "      <td>377</td>\n",
       "      <td>13655</td>\n",
       "      <td>6</td>\n",
       "      <td>drow ranger</td>\n",
       "      <td>1</td>\n",
       "      <td>...</td>\n",
       "      <td>None</td>\n",
       "      <td>63</td>\n",
       "      <td>0</td>\n",
       "      <td>48</td>\n",
       "      <td>2765</td>\n",
       "      <td>10</td>\n",
       "      <td>36</td>\n",
       "      <td>False</td>\n",
       "      <td>1828</td>\n",
       "      <td>0</td>\n",
       "    </tr>\n",
       "    <tr>\n",
       "      <th>2</th>\n",
       "      <td>4294967295</td>\n",
       "      <td>12</td>\n",
       "      <td>11</td>\n",
       "      <td>3</td>\n",
       "      <td>157</td>\n",
       "      <td>326</td>\n",
       "      <td>14470</td>\n",
       "      <td>88</td>\n",
       "      <td>nyx assassin</td>\n",
       "      <td>5</td>\n",
       "      <td>...</td>\n",
       "      <td>None</td>\n",
       "      <td>63</td>\n",
       "      <td>0</td>\n",
       "      <td>48</td>\n",
       "      <td>2765</td>\n",
       "      <td>10</td>\n",
       "      <td>36</td>\n",
       "      <td>False</td>\n",
       "      <td>1828</td>\n",
       "      <td>0</td>\n",
       "    </tr>\n",
       "    <tr>\n",
       "      <th>3</th>\n",
       "      <td>314390062</td>\n",
       "      <td>5</td>\n",
       "      <td>7</td>\n",
       "      <td>10</td>\n",
       "      <td>316</td>\n",
       "      <td>595</td>\n",
       "      <td>26815</td>\n",
       "      <td>106</td>\n",
       "      <td>ember spirit</td>\n",
       "      <td>12</td>\n",
       "      <td>...</td>\n",
       "      <td>76</td>\n",
       "      <td>63</td>\n",
       "      <td>0</td>\n",
       "      <td>48</td>\n",
       "      <td>2765</td>\n",
       "      <td>10</td>\n",
       "      <td>36</td>\n",
       "      <td>False</td>\n",
       "      <td>1828</td>\n",
       "      <td>0</td>\n",
       "    </tr>\n",
       "    <tr>\n",
       "      <th>4</th>\n",
       "      <td>255288415</td>\n",
       "      <td>11</td>\n",
       "      <td>13</td>\n",
       "      <td>8</td>\n",
       "      <td>4782</td>\n",
       "      <td>428</td>\n",
       "      <td>14675</td>\n",
       "      <td>93</td>\n",
       "      <td>slark</td>\n",
       "      <td>8</td>\n",
       "      <td>...</td>\n",
       "      <td>39</td>\n",
       "      <td>63</td>\n",
       "      <td>0</td>\n",
       "      <td>48</td>\n",
       "      <td>2765</td>\n",
       "      <td>10</td>\n",
       "      <td>36</td>\n",
       "      <td>False</td>\n",
       "      <td>1828</td>\n",
       "      <td>0</td>\n",
       "    </tr>\n",
       "  </tbody>\n",
       "</table>\n",
       "<p>5 rows × 30 columns</p>\n",
       "</div>"
      ],
      "text/plain": [
       "   account_id  assists  deaths  denies  gold  gold_per_min  gold_spent  \\\n",
       "0   167415941       18       8       2   833           382       16355   \n",
       "1  4294967295        9       9       7  2498           377       13655   \n",
       "2  4294967295       12      11       3   157           326       14470   \n",
       "3   314390062        5       7      10   316           595       26815   \n",
       "4   255288415       11      13       8  4782           428       14675   \n",
       "\n",
       "   hero_id       hero_name  kills         ...           games_played  \\\n",
       "0       71  spirit breaker      9         ...                      7   \n",
       "1        6     drow ranger      1         ...                   None   \n",
       "2       88    nyx assassin      5         ...                   None   \n",
       "3      106    ember spirit     12         ...                     76   \n",
       "4       93           slark      8         ...                     39   \n",
       "\n",
       "   barracks_status_dire barracks_status_radiant  dire_score  duration  \\\n",
       "0                    63                       0          48      2765   \n",
       "1                    63                       0          48      2765   \n",
       "2                    63                       0          48      2765   \n",
       "3                    63                       0          48      2765   \n",
       "4                    63                       0          48      2765   \n",
       "\n",
       "   human_players  radiant_score  radiant_win tower_status_dire  \\\n",
       "0             10             36        False              1828   \n",
       "1             10             36        False              1828   \n",
       "2             10             36        False              1828   \n",
       "3             10             36        False              1828   \n",
       "4             10             36        False              1828   \n",
       "\n",
       "  tower_status_radiant  \n",
       "0                    0  \n",
       "1                    0  \n",
       "2                    0  \n",
       "3                    0  \n",
       "4                    0  \n",
       "\n",
       "[5 rows x 30 columns]"
      ]
     },
     "execution_count": 44,
     "metadata": {},
     "output_type": "execute_result"
    }
   ],
   "source": [
    "player_df = pd.merge(players_df, match_df, on='match_id')\n",
    "player_df.head()"
   ]
  },
  {
   "cell_type": "markdown",
   "metadata": {},
   "source": [
    "## 5.3 Merging player and hero dataframe"
   ]
  },
  {
   "cell_type": "code",
   "execution_count": 45,
   "metadata": {},
   "outputs": [
    {
     "data": {
      "text/html": [
       "<div>\n",
       "<style scoped>\n",
       "    .dataframe tbody tr th:only-of-type {\n",
       "        vertical-align: middle;\n",
       "    }\n",
       "\n",
       "    .dataframe tbody tr th {\n",
       "        vertical-align: top;\n",
       "    }\n",
       "\n",
       "    .dataframe thead th {\n",
       "        text-align: right;\n",
       "    }\n",
       "</style>\n",
       "<table border=\"1\" class=\"dataframe\">\n",
       "  <thead>\n",
       "    <tr style=\"text-align: right;\">\n",
       "      <th></th>\n",
       "      <th>account_id</th>\n",
       "      <th>assists</th>\n",
       "      <th>deaths</th>\n",
       "      <th>denies</th>\n",
       "      <th>gold</th>\n",
       "      <th>gold_per_min</th>\n",
       "      <th>gold_spent</th>\n",
       "      <th>hero_id</th>\n",
       "      <th>hero_name</th>\n",
       "      <th>kills</th>\n",
       "      <th>...</th>\n",
       "      <th>hero_win_ratio</th>\n",
       "      <th>carry</th>\n",
       "      <th>disabler</th>\n",
       "      <th>escape</th>\n",
       "      <th>initiator</th>\n",
       "      <th>jungler</th>\n",
       "      <th>nuker</th>\n",
       "      <th>pusher</th>\n",
       "      <th>score</th>\n",
       "      <th>support</th>\n",
       "    </tr>\n",
       "  </thead>\n",
       "  <tbody>\n",
       "    <tr>\n",
       "      <th>8225</th>\n",
       "      <td>140615982</td>\n",
       "      <td>7</td>\n",
       "      <td>3</td>\n",
       "      <td>1</td>\n",
       "      <td>553</td>\n",
       "      <td>1094</td>\n",
       "      <td>31775</td>\n",
       "      <td>80</td>\n",
       "      <td>lone druid</td>\n",
       "      <td>5</td>\n",
       "      <td>...</td>\n",
       "      <td>39.1677</td>\n",
       "      <td>0</td>\n",
       "      <td>0</td>\n",
       "      <td>0</td>\n",
       "      <td>0</td>\n",
       "      <td>1</td>\n",
       "      <td>0</td>\n",
       "      <td>0</td>\n",
       "      <td>128</td>\n",
       "      <td>0</td>\n",
       "    </tr>\n",
       "    <tr>\n",
       "      <th>8226</th>\n",
       "      <td>4294967295</td>\n",
       "      <td>9</td>\n",
       "      <td>8</td>\n",
       "      <td>0</td>\n",
       "      <td>4563</td>\n",
       "      <td>523</td>\n",
       "      <td>18110</td>\n",
       "      <td>80</td>\n",
       "      <td>lone druid</td>\n",
       "      <td>11</td>\n",
       "      <td>...</td>\n",
       "      <td>39.1677</td>\n",
       "      <td>0</td>\n",
       "      <td>0</td>\n",
       "      <td>0</td>\n",
       "      <td>0</td>\n",
       "      <td>1</td>\n",
       "      <td>0</td>\n",
       "      <td>0</td>\n",
       "      <td>128</td>\n",
       "      <td>0</td>\n",
       "    </tr>\n",
       "    <tr>\n",
       "      <th>8227</th>\n",
       "      <td>59091493</td>\n",
       "      <td>8</td>\n",
       "      <td>3</td>\n",
       "      <td>1</td>\n",
       "      <td>1017</td>\n",
       "      <td>683</td>\n",
       "      <td>15580</td>\n",
       "      <td>80</td>\n",
       "      <td>lone druid</td>\n",
       "      <td>1</td>\n",
       "      <td>...</td>\n",
       "      <td>39.1677</td>\n",
       "      <td>0</td>\n",
       "      <td>0</td>\n",
       "      <td>0</td>\n",
       "      <td>0</td>\n",
       "      <td>1</td>\n",
       "      <td>0</td>\n",
       "      <td>0</td>\n",
       "      <td>128</td>\n",
       "      <td>0</td>\n",
       "    </tr>\n",
       "    <tr>\n",
       "      <th>8228</th>\n",
       "      <td>193423952</td>\n",
       "      <td>2</td>\n",
       "      <td>9</td>\n",
       "      <td>0</td>\n",
       "      <td>1227</td>\n",
       "      <td>684</td>\n",
       "      <td>27330</td>\n",
       "      <td>80</td>\n",
       "      <td>lone druid</td>\n",
       "      <td>1</td>\n",
       "      <td>...</td>\n",
       "      <td>39.1677</td>\n",
       "      <td>0</td>\n",
       "      <td>0</td>\n",
       "      <td>0</td>\n",
       "      <td>0</td>\n",
       "      <td>1</td>\n",
       "      <td>0</td>\n",
       "      <td>0</td>\n",
       "      <td>128</td>\n",
       "      <td>0</td>\n",
       "    </tr>\n",
       "    <tr>\n",
       "      <th>8229</th>\n",
       "      <td>182260471</td>\n",
       "      <td>2</td>\n",
       "      <td>2</td>\n",
       "      <td>0</td>\n",
       "      <td>789</td>\n",
       "      <td>478</td>\n",
       "      <td>5875</td>\n",
       "      <td>80</td>\n",
       "      <td>lone druid</td>\n",
       "      <td>2</td>\n",
       "      <td>...</td>\n",
       "      <td>39.1677</td>\n",
       "      <td>0</td>\n",
       "      <td>0</td>\n",
       "      <td>0</td>\n",
       "      <td>0</td>\n",
       "      <td>1</td>\n",
       "      <td>0</td>\n",
       "      <td>0</td>\n",
       "      <td>128</td>\n",
       "      <td>0</td>\n",
       "    </tr>\n",
       "  </tbody>\n",
       "</table>\n",
       "<p>5 rows × 43 columns</p>\n",
       "</div>"
      ],
      "text/plain": [
       "      account_id  assists  deaths  denies  gold  gold_per_min  gold_spent  \\\n",
       "8225   140615982        7       3       1   553          1094       31775   \n",
       "8226  4294967295        9       8       0  4563           523       18110   \n",
       "8227    59091493        8       3       1  1017           683       15580   \n",
       "8228   193423952        2       9       0  1227           684       27330   \n",
       "8229   182260471        2       2       0   789           478        5875   \n",
       "\n",
       "      hero_id   hero_name  kills   ...    hero_win_ratio  carry disabler  \\\n",
       "8225       80  lone druid      5   ...           39.1677      0        0   \n",
       "8226       80  lone druid     11   ...           39.1677      0        0   \n",
       "8227       80  lone druid      1   ...           39.1677      0        0   \n",
       "8228       80  lone druid      1   ...           39.1677      0        0   \n",
       "8229       80  lone druid      2   ...           39.1677      0        0   \n",
       "\n",
       "      escape  initiator  jungler  nuker  pusher score support  \n",
       "8225       0          0        1      0       0   128       0  \n",
       "8226       0          0        1      0       0   128       0  \n",
       "8227       0          0        1      0       0   128       0  \n",
       "8228       0          0        1      0       0   128       0  \n",
       "8229       0          0        1      0       0   128       0  \n",
       "\n",
       "[5 rows x 43 columns]"
      ]
     },
     "execution_count": 45,
     "metadata": {},
     "output_type": "execute_result"
    }
   ],
   "source": [
    "player_df = pd.merge(player_df, hero_df, on=['hero_id', 'hero_name'])\n",
    "player_df.tail()"
   ]
  },
  {
   "cell_type": "markdown",
   "metadata": {},
   "source": [
    "There we go! All the data that we would potentially want is structured into 1 table. Note that there are probably a few extra uneeded columns but more is better than less."
   ]
  },
  {
   "cell_type": "markdown",
   "metadata": {},
   "source": [
    "# 5.4 Modifying radiant_win column"
   ]
  },
  {
   "cell_type": "code",
   "execution_count": 46,
   "metadata": {},
   "outputs": [
    {
     "data": {
      "text/html": [
       "<div>\n",
       "<style scoped>\n",
       "    .dataframe tbody tr th:only-of-type {\n",
       "        vertical-align: middle;\n",
       "    }\n",
       "\n",
       "    .dataframe tbody tr th {\n",
       "        vertical-align: top;\n",
       "    }\n",
       "\n",
       "    .dataframe thead th {\n",
       "        text-align: right;\n",
       "    }\n",
       "</style>\n",
       "<table border=\"1\" class=\"dataframe\">\n",
       "  <thead>\n",
       "    <tr style=\"text-align: right;\">\n",
       "      <th></th>\n",
       "      <th>account_id</th>\n",
       "      <th>assists</th>\n",
       "      <th>deaths</th>\n",
       "      <th>denies</th>\n",
       "      <th>gold</th>\n",
       "      <th>gold_per_min</th>\n",
       "      <th>gold_spent</th>\n",
       "      <th>hero_id</th>\n",
       "      <th>hero_name</th>\n",
       "      <th>kills</th>\n",
       "      <th>...</th>\n",
       "      <th>hero_win_ratio</th>\n",
       "      <th>carry</th>\n",
       "      <th>disabler</th>\n",
       "      <th>escape</th>\n",
       "      <th>initiator</th>\n",
       "      <th>jungler</th>\n",
       "      <th>nuker</th>\n",
       "      <th>pusher</th>\n",
       "      <th>score</th>\n",
       "      <th>support</th>\n",
       "    </tr>\n",
       "  </thead>\n",
       "  <tbody>\n",
       "    <tr>\n",
       "      <th>0</th>\n",
       "      <td>167415941</td>\n",
       "      <td>18</td>\n",
       "      <td>8</td>\n",
       "      <td>2</td>\n",
       "      <td>833</td>\n",
       "      <td>382</td>\n",
       "      <td>16355</td>\n",
       "      <td>71</td>\n",
       "      <td>spirit breaker</td>\n",
       "      <td>9</td>\n",
       "      <td>...</td>\n",
       "      <td>53.5858</td>\n",
       "      <td>1</td>\n",
       "      <td>0</td>\n",
       "      <td>1</td>\n",
       "      <td>0</td>\n",
       "      <td>0</td>\n",
       "      <td>0</td>\n",
       "      <td>0</td>\n",
       "      <td>17</td>\n",
       "      <td>0</td>\n",
       "    </tr>\n",
       "    <tr>\n",
       "      <th>1</th>\n",
       "      <td>4294967295</td>\n",
       "      <td>9</td>\n",
       "      <td>13</td>\n",
       "      <td>0</td>\n",
       "      <td>616</td>\n",
       "      <td>313</td>\n",
       "      <td>7610</td>\n",
       "      <td>71</td>\n",
       "      <td>spirit breaker</td>\n",
       "      <td>6</td>\n",
       "      <td>...</td>\n",
       "      <td>53.5858</td>\n",
       "      <td>1</td>\n",
       "      <td>0</td>\n",
       "      <td>1</td>\n",
       "      <td>0</td>\n",
       "      <td>0</td>\n",
       "      <td>0</td>\n",
       "      <td>0</td>\n",
       "      <td>17</td>\n",
       "      <td>0</td>\n",
       "    </tr>\n",
       "    <tr>\n",
       "      <th>2</th>\n",
       "      <td>133377036</td>\n",
       "      <td>28</td>\n",
       "      <td>7</td>\n",
       "      <td>8</td>\n",
       "      <td>6444</td>\n",
       "      <td>418</td>\n",
       "      <td>11400</td>\n",
       "      <td>71</td>\n",
       "      <td>spirit breaker</td>\n",
       "      <td>12</td>\n",
       "      <td>...</td>\n",
       "      <td>53.5858</td>\n",
       "      <td>1</td>\n",
       "      <td>0</td>\n",
       "      <td>1</td>\n",
       "      <td>0</td>\n",
       "      <td>0</td>\n",
       "      <td>0</td>\n",
       "      <td>0</td>\n",
       "      <td>17</td>\n",
       "      <td>0</td>\n",
       "    </tr>\n",
       "    <tr>\n",
       "      <th>3</th>\n",
       "      <td>4294967295</td>\n",
       "      <td>11</td>\n",
       "      <td>12</td>\n",
       "      <td>1</td>\n",
       "      <td>507</td>\n",
       "      <td>208</td>\n",
       "      <td>5025</td>\n",
       "      <td>71</td>\n",
       "      <td>spirit breaker</td>\n",
       "      <td>2</td>\n",
       "      <td>...</td>\n",
       "      <td>53.5858</td>\n",
       "      <td>1</td>\n",
       "      <td>0</td>\n",
       "      <td>1</td>\n",
       "      <td>0</td>\n",
       "      <td>0</td>\n",
       "      <td>0</td>\n",
       "      <td>0</td>\n",
       "      <td>17</td>\n",
       "      <td>0</td>\n",
       "    </tr>\n",
       "    <tr>\n",
       "      <th>4</th>\n",
       "      <td>257152852</td>\n",
       "      <td>8</td>\n",
       "      <td>8</td>\n",
       "      <td>0</td>\n",
       "      <td>553</td>\n",
       "      <td>281</td>\n",
       "      <td>8645</td>\n",
       "      <td>71</td>\n",
       "      <td>spirit breaker</td>\n",
       "      <td>4</td>\n",
       "      <td>...</td>\n",
       "      <td>53.5858</td>\n",
       "      <td>1</td>\n",
       "      <td>0</td>\n",
       "      <td>1</td>\n",
       "      <td>0</td>\n",
       "      <td>0</td>\n",
       "      <td>0</td>\n",
       "      <td>0</td>\n",
       "      <td>17</td>\n",
       "      <td>0</td>\n",
       "    </tr>\n",
       "  </tbody>\n",
       "</table>\n",
       "<p>5 rows × 43 columns</p>\n",
       "</div>"
      ],
      "text/plain": [
       "   account_id  assists  deaths  denies  gold  gold_per_min  gold_spent  \\\n",
       "0   167415941       18       8       2   833           382       16355   \n",
       "1  4294967295        9      13       0   616           313        7610   \n",
       "2   133377036       28       7       8  6444           418       11400   \n",
       "3  4294967295       11      12       1   507           208        5025   \n",
       "4   257152852        8       8       0   553           281        8645   \n",
       "\n",
       "   hero_id       hero_name  kills   ...    hero_win_ratio  carry disabler  \\\n",
       "0       71  spirit breaker      9   ...           53.5858      1        0   \n",
       "1       71  spirit breaker      6   ...           53.5858      1        0   \n",
       "2       71  spirit breaker     12   ...           53.5858      1        0   \n",
       "3       71  spirit breaker      2   ...           53.5858      1        0   \n",
       "4       71  spirit breaker      4   ...           53.5858      1        0   \n",
       "\n",
       "   escape  initiator  jungler  nuker  pusher score support  \n",
       "0       1          0        0      0       0    17       0  \n",
       "1       1          0        0      0       0    17       0  \n",
       "2       1          0        0      0       0    17       0  \n",
       "3       1          0        0      0       0    17       0  \n",
       "4       1          0        0      0       0    17       0  \n",
       "\n",
       "[5 rows x 43 columns]"
      ]
     },
     "execution_count": 46,
     "metadata": {},
     "output_type": "execute_result"
    }
   ],
   "source": [
    "player_df['radiant_win'] = ((player_df['radiant_win'] == True) & (player_df['player_slot'] < 10) | \n",
    " (player_df['radiant_win'] == False) & (player_df['player_slot'] > 10))\n",
    "player_df = player_df.rename({'radiant_win':'win_lost'}, axis='columns')\n",
    "player_df.head()"
   ]
  },
  {
   "cell_type": "code",
   "execution_count": 47,
   "metadata": {},
   "outputs": [],
   "source": [
    "player_df = player_df.drop(columns=['player_slot'])"
   ]
  },
  {
   "cell_type": "markdown",
   "metadata": {},
   "source": [
    "## 5.5 Updating missing player stats"
   ]
  },
  {
   "cell_type": "code",
   "execution_count": 48,
   "metadata": {},
   "outputs": [],
   "source": [
    "player_df['kda'].fillna(player_df['hero_kda'], inplace=True)\n",
    "player_df['win_ratio'].fillna(player_df['hero_win_ratio'], inplace=True)"
   ]
  },
  {
   "cell_type": "markdown",
   "metadata": {},
   "source": [
    "# 6. Finding Correlations\n",
    "## 6.1 Team compositions"
   ]
  },
  {
   "cell_type": "code",
   "execution_count": 49,
   "metadata": {},
   "outputs": [],
   "source": [
    "%matplotlib inline\n",
    "import matplotlib.pyplot as plt\n",
    "import numpy as np\n",
    "from collections import Counter"
   ]
  },
  {
   "cell_type": "markdown",
   "metadata": {},
   "source": [
    "### 6.1.1 Winning team compositions"
   ]
  },
  {
   "cell_type": "code",
   "execution_count": 50,
   "metadata": {},
   "outputs": [
    {
     "data": {
      "text/html": [
       "<div>\n",
       "<style scoped>\n",
       "    .dataframe tbody tr th:only-of-type {\n",
       "        vertical-align: middle;\n",
       "    }\n",
       "\n",
       "    .dataframe tbody tr th {\n",
       "        vertical-align: top;\n",
       "    }\n",
       "\n",
       "    .dataframe thead th {\n",
       "        text-align: right;\n",
       "    }\n",
       "</style>\n",
       "<table border=\"1\" class=\"dataframe\">\n",
       "  <thead>\n",
       "    <tr style=\"text-align: right;\">\n",
       "      <th></th>\n",
       "      <th>score</th>\n",
       "    </tr>\n",
       "    <tr>\n",
       "      <th>match_id</th>\n",
       "      <th></th>\n",
       "    </tr>\n",
       "  </thead>\n",
       "  <tbody>\n",
       "    <tr>\n",
       "      <th>3933472394</th>\n",
       "      <td>[2, 2, 4, 8, 16]</td>\n",
       "    </tr>\n",
       "    <tr>\n",
       "      <th>3933472395</th>\n",
       "      <td>[6, 8, 12, 46]</td>\n",
       "    </tr>\n",
       "    <tr>\n",
       "      <th>3933472397</th>\n",
       "      <td>[16, 34, 128, 143]</td>\n",
       "    </tr>\n",
       "    <tr>\n",
       "      <th>3933472398</th>\n",
       "      <td>[2, 2, 10, 59]</td>\n",
       "    </tr>\n",
       "    <tr>\n",
       "      <th>3933472399</th>\n",
       "      <td>[4, 8, 16, 18, 81]</td>\n",
       "    </tr>\n",
       "  </tbody>\n",
       "</table>\n",
       "</div>"
      ],
      "text/plain": [
       "                         score\n",
       "match_id                      \n",
       "3933472394    [2, 2, 4, 8, 16]\n",
       "3933472395      [6, 8, 12, 46]\n",
       "3933472397  [16, 34, 128, 143]\n",
       "3933472398      [2, 2, 10, 59]\n",
       "3933472399  [4, 8, 16, 18, 81]"
      ]
     },
     "execution_count": 50,
     "metadata": {},
     "output_type": "execute_result"
    }
   ],
   "source": [
    "win_df = player_df[player_df['win_lost'] == True]\n",
    "win_team_composition = win_df.groupby('match_id').agg({'score': lambda x: sorted(list(x))})\n",
    "win_team_composition.head()"
   ]
  },
  {
   "cell_type": "markdown",
   "metadata": {},
   "source": [
    "### 6.1.2 Losing team compositions"
   ]
  },
  {
   "cell_type": "code",
   "execution_count": 51,
   "metadata": {},
   "outputs": [
    {
     "data": {
      "text/html": [
       "<div>\n",
       "<style scoped>\n",
       "    .dataframe tbody tr th:only-of-type {\n",
       "        vertical-align: middle;\n",
       "    }\n",
       "\n",
       "    .dataframe tbody tr th {\n",
       "        vertical-align: top;\n",
       "    }\n",
       "\n",
       "    .dataframe thead th {\n",
       "        text-align: right;\n",
       "    }\n",
       "</style>\n",
       "<table border=\"1\" class=\"dataframe\">\n",
       "  <thead>\n",
       "    <tr style=\"text-align: right;\">\n",
       "      <th></th>\n",
       "      <th>score</th>\n",
       "    </tr>\n",
       "    <tr>\n",
       "      <th>match_id</th>\n",
       "      <th></th>\n",
       "    </tr>\n",
       "  </thead>\n",
       "  <tbody>\n",
       "    <tr>\n",
       "      <th>3933472394</th>\n",
       "      <td>[2, 6, 66]</td>\n",
       "    </tr>\n",
       "    <tr>\n",
       "      <th>3933472395</th>\n",
       "      <td>[2, 16, 16, 17, 80]</td>\n",
       "    </tr>\n",
       "    <tr>\n",
       "      <th>3933472397</th>\n",
       "      <td>[2, 17, 43, 66]</td>\n",
       "    </tr>\n",
       "    <tr>\n",
       "      <th>3933472398</th>\n",
       "      <td>[2, 12, 17, 42]</td>\n",
       "    </tr>\n",
       "    <tr>\n",
       "      <th>3933472399</th>\n",
       "      <td>[1, 6, 10, 11, 160]</td>\n",
       "    </tr>\n",
       "  </tbody>\n",
       "</table>\n",
       "</div>"
      ],
      "text/plain": [
       "                          score\n",
       "match_id                       \n",
       "3933472394           [2, 6, 66]\n",
       "3933472395  [2, 16, 16, 17, 80]\n",
       "3933472397      [2, 17, 43, 66]\n",
       "3933472398      [2, 12, 17, 42]\n",
       "3933472399  [1, 6, 10, 11, 160]"
      ]
     },
     "execution_count": 51,
     "metadata": {},
     "output_type": "execute_result"
    }
   ],
   "source": [
    "lose_df = player_df[player_df['win_lost'] == False]\n",
    "lose_team_composition = lose_df.groupby('match_id').agg({'score': lambda x: sorted(list(x))})\n",
    "lose_team_composition.head()"
   ]
  },
  {
   "cell_type": "markdown",
   "metadata": {},
   "source": [
    "### 6.2.3 Average winning team composition"
   ]
  },
  {
   "cell_type": "code",
   "execution_count": 297,
   "metadata": {},
   "outputs": [],
   "source": [
    "team_list = win_team_composition['score'].tolist()\n",
    "winning_composition = []\n",
    "for team in team_list:\n",
    "    team_composition = np.array(list((bin(0))[2:].zfill(8)), dtype=int)    \n",
    "    for hero in team:\n",
    "        hero_score = np.array(list(bin(hero)[2:].zfill(8)), dtype=int)        \n",
    "        team_composition += hero_score        \n",
    "    winning_composition.append(team_composition)\n",
    "winning_composition = np.array(winning_composition)"
   ]
  },
  {
   "cell_type": "code",
   "execution_count": 53,
   "metadata": {},
   "outputs": [
    {
     "data": {
      "text/plain": [
       "array([0.29530917, 0.56716418, 0.74413646, 0.93390192, 1.80916844,\n",
       "       0.95415778, 2.15351812, 1.02132196])"
      ]
     },
     "execution_count": 53,
     "metadata": {},
     "output_type": "execute_result"
    }
   ],
   "source": [
    "Y1 = winning_composition.mean(axis=0)\n",
    "Y1"
   ]
  },
  {
   "cell_type": "markdown",
   "metadata": {},
   "source": [
    "### 6.2.4 Average losing team composition"
   ]
  },
  {
   "cell_type": "code",
   "execution_count": 54,
   "metadata": {},
   "outputs": [],
   "source": [
    "team_list = lose_team_composition['score'].tolist()\n",
    "losing_composition = []\n",
    "for team in team_list:\n",
    "    team_composition = np.array(list((bin(0))[2:].zfill(8)), dtype=int)    \n",
    "    for hero in team:\n",
    "        hero_score = np.array(list(bin(hero)[2:].zfill(8)), dtype=int)        \n",
    "        team_composition += hero_score        \n",
    "    losing_composition.append(team_composition)\n",
    "losing_composition = np.array(losing_composition)"
   ]
  },
  {
   "cell_type": "code",
   "execution_count": 55,
   "metadata": {},
   "outputs": [
    {
     "data": {
      "text/plain": [
       "array([0.31023454, 0.60127932, 0.75586354, 0.93603412, 1.81449893,\n",
       "       0.99360341, 2.18656716, 1.07356077])"
      ]
     },
     "execution_count": 55,
     "metadata": {},
     "output_type": "execute_result"
    }
   ],
   "source": [
    "Y2 = losing_composition.mean(axis=0)\n",
    "Y2"
   ]
  },
  {
   "cell_type": "markdown",
   "metadata": {},
   "source": [
    "### 6.2.5 Comparing "
   ]
  },
  {
   "cell_type": "code",
   "execution_count": 56,
   "metadata": {},
   "outputs": [
    {
     "data": {
      "image/png": "[encoded data removed]",
      "text/plain": [
       "<matplotlib.figure.Figure at 0x7fb740bbbcc0>"
      ]
     },
     "metadata": {},
     "output_type": "display_data"
    }
   ],
   "source": [
    "role_bits_df = role_bits_df.sort_values('role')\n",
    "X = role_bits_df.index.tolist()\n",
    "width = 0.33\n",
    "fig = plt.figure(figsize=(10, 8))\n",
    "ax = fig.add_subplot(111)\n",
    "ax.bar(X,Y1,width,color='y',label='-Ymin')\n",
    "ax.bar(X,Y2,width - 0.2,color='b',label='Ymax')\n",
    "ax.set_xlabel('Team Composition')\n",
    "plt.show()"
   ]
  },
  {
   "cell_type": "code",
   "execution_count": 57,
   "metadata": {},
   "outputs": [
    {
     "data": {
      "text/plain": [
       "array([0., 1., 1., 1., 2., 1., 2., 1.])"
      ]
     },
     "execution_count": 57,
     "metadata": {},
     "output_type": "execute_result"
    }
   ],
   "source": [
    "Y1 = np.round(Y1)\n",
    "Y1"
   ]
  },
  {
   "cell_type": "code",
   "execution_count": 58,
   "metadata": {},
   "outputs": [
    {
     "data": {
      "text/plain": [
       "array([0., 1., 1., 1., 2., 1., 2., 1.])"
      ]
     },
     "execution_count": 58,
     "metadata": {},
     "output_type": "execute_result"
    }
   ],
   "source": [
    "Y2 = np.round(Y2)\n",
    "Y2"
   ]
  },
  {
   "cell_type": "code",
   "execution_count": 59,
   "metadata": {},
   "outputs": [
    {
     "data": {
      "image/png": "[encoded data removed]",
      "text/plain": [
       "<matplotlib.figure.Figure at 0x7fb740b6a630>"
      ]
     },
     "metadata": {},
     "output_type": "display_data"
    }
   ],
   "source": [
    "role_bits_df = role_bits_df.sort_values('role')\n",
    "X = role_bits_df.index.tolist()\n",
    "width = 0.33\n",
    "fig = plt.figure(figsize=(10, 8))\n",
    "ax = fig.add_subplot(111)\n",
    "ax.bar(X,Y1,width,color='y',label='-Ymin')\n",
    "ax.bar(X,Y2,width - 0.2,color='b',label='Ymax')\n",
    "ax.set_xlabel('Team Composition')\n",
    "plt.show()"
   ]
  },
  {
   "cell_type": "markdown",
   "metadata": {},
   "source": [
    "**5 hero combos**"
   ]
  },
  {
   "cell_type": "markdown",
   "metadata": {},
   "source": [
    "### 6.2.6 Most popular winning roles"
   ]
  },
  {
   "cell_type": "code",
   "execution_count": 60,
   "metadata": {},
   "outputs": [],
   "source": [
    "from collections import Counter\n",
    "win_team_list = win_team_composition['score'].tolist()\n",
    "win_team_list = [y for x in win_team_list for y in x]\n",
    "win_team_list = sorted(Counter(win_team_list).items())\n",
    "win_team_list.sort(key=lambda x: x[1], reverse=True)\n",
    "win_set = set([x[0] for x in win_team_list])"
   ]
  },
  {
   "cell_type": "code",
   "execution_count": 61,
   "metadata": {},
   "outputs": [
    {
     "data": {
      "text/plain": [
       "45"
      ]
     },
     "execution_count": 61,
     "metadata": {},
     "output_type": "execute_result"
    }
   ],
   "source": [
    "len(win_set)"
   ]
  },
  {
   "cell_type": "markdown",
   "metadata": {},
   "source": [
    "### 6.2.7 Most popular losing roles"
   ]
  },
  {
   "cell_type": "code",
   "execution_count": 62,
   "metadata": {},
   "outputs": [],
   "source": [
    "from collections import Counter\n",
    "lose_team_list = lose_team_composition['score'].tolist()\n",
    "lose_team_list = [y for x in lose_team_list for y in x]\n",
    "lose_team_list = sorted(Counter(lose_team_list).items())\n",
    "lose_team_list.sort(key=lambda x: x[1], reverse=True)\n",
    "lose_set = set([x[0] for x in lose_team_list])"
   ]
  },
  {
   "cell_type": "code",
   "execution_count": 63,
   "metadata": {},
   "outputs": [
    {
     "data": {
      "text/plain": [
       "45"
      ]
     },
     "execution_count": 63,
     "metadata": {},
     "output_type": "execute_result"
    }
   ],
   "source": [
    "len(lose_set)"
   ]
  },
  {
   "cell_type": "markdown",
   "metadata": {},
   "source": [
    "### 6.2.8 Comparing sets"
   ]
  },
  {
   "cell_type": "code",
   "execution_count": 64,
   "metadata": {},
   "outputs": [],
   "source": [
    "win_set = [x[0] for x in win_team_list]\n",
    "win_set = set(win_set[:8])\n",
    "\n",
    "lose_set = [x[0] for x in lose_team_list]\n",
    "lose_set = set(lose_set[:8])"
   ]
  },
  {
   "cell_type": "code",
   "execution_count": 65,
   "metadata": {},
   "outputs": [
    {
     "data": {
      "text/plain": [
       "set()"
      ]
     },
     "execution_count": 65,
     "metadata": {},
     "output_type": "execute_result"
    }
   ],
   "source": [
    "win_diff = win_set.difference(lose_set)\n",
    "win_diff"
   ]
  },
  {
   "cell_type": "code",
   "execution_count": 66,
   "metadata": {},
   "outputs": [
    {
     "data": {
      "text/plain": [
       "set()"
      ]
     },
     "execution_count": 66,
     "metadata": {},
     "output_type": "execute_result"
    }
   ],
   "source": [
    "lose_diff = lose_set.difference(win_set)\n",
    "lose_diff"
   ]
  },
  {
   "cell_type": "markdown",
   "metadata": {},
   "source": [
    "## 6.2 Hero Win rates"
   ]
  },
  {
   "cell_type": "code",
   "execution_count": 67,
   "metadata": {},
   "outputs": [
    {
     "data": {
      "text/html": [
       "<div>\n",
       "<style scoped>\n",
       "    .dataframe tbody tr th:only-of-type {\n",
       "        vertical-align: middle;\n",
       "    }\n",
       "\n",
       "    .dataframe tbody tr th {\n",
       "        vertical-align: top;\n",
       "    }\n",
       "\n",
       "    .dataframe thead th {\n",
       "        text-align: right;\n",
       "    }\n",
       "</style>\n",
       "<table border=\"1\" class=\"dataframe\">\n",
       "  <thead>\n",
       "    <tr style=\"text-align: right;\">\n",
       "      <th></th>\n",
       "      <th>hero_win_ratio</th>\n",
       "    </tr>\n",
       "    <tr>\n",
       "      <th>match_id</th>\n",
       "      <th></th>\n",
       "    </tr>\n",
       "  </thead>\n",
       "  <tbody>\n",
       "    <tr>\n",
       "      <th>3933472394</th>\n",
       "      <td>[45.7152, 47.1554, 50.1353, 50.2428, 51.2784]</td>\n",
       "    </tr>\n",
       "    <tr>\n",
       "      <th>3933472395</th>\n",
       "      <td>[45.4935, 47.2532, 52.2677, 54.0256]</td>\n",
       "    </tr>\n",
       "    <tr>\n",
       "      <th>3933472397</th>\n",
       "      <td>[48.0791, 53.2352, 53.6806, 60.4767]</td>\n",
       "    </tr>\n",
       "    <tr>\n",
       "      <th>3933472398</th>\n",
       "      <td>[47.1554, 49.2443, 49.4947, 52.3461]</td>\n",
       "    </tr>\n",
       "    <tr>\n",
       "      <th>3933472399</th>\n",
       "      <td>[45.6277, 49.3308, 51.6418, 54.0256, 60.4767]</td>\n",
       "    </tr>\n",
       "  </tbody>\n",
       "</table>\n",
       "</div>"
      ],
      "text/plain": [
       "                                           hero_win_ratio\n",
       "match_id                                                 \n",
       "3933472394  [45.7152, 47.1554, 50.1353, 50.2428, 51.2784]\n",
       "3933472395           [45.4935, 47.2532, 52.2677, 54.0256]\n",
       "3933472397           [48.0791, 53.2352, 53.6806, 60.4767]\n",
       "3933472398           [47.1554, 49.2443, 49.4947, 52.3461]\n",
       "3933472399  [45.6277, 49.3308, 51.6418, 54.0256, 60.4767]"
      ]
     },
     "execution_count": 67,
     "metadata": {},
     "output_type": "execute_result"
    }
   ],
   "source": [
    "win_df = player_df[player_df['win_lost'] == True]\n",
    "win_hero_ratio = win_df.groupby('match_id').agg({'hero_win_ratio': lambda x: sorted(list(x))})\n",
    "win_hero_ratio.head()"
   ]
  },
  {
   "cell_type": "code",
   "execution_count": 68,
   "metadata": {},
   "outputs": [
    {
     "data": {
      "text/plain": [
       "50.134368001942214"
      ]
     },
     "execution_count": 68,
     "metadata": {},
     "output_type": "execute_result"
    }
   ],
   "source": [
    "win_ratio_list = win_hero_ratio['hero_win_ratio'].tolist()\n",
    "win_ratio_list = np.array([y for x in win_ratio_list for y in x], dtype=float)\n",
    "win_ratio_list.mean()"
   ]
  },
  {
   "cell_type": "code",
   "execution_count": 69,
   "metadata": {},
   "outputs": [
    {
     "data": {
      "text/plain": [
       "52.46179146666667"
      ]
     },
     "execution_count": 69,
     "metadata": {},
     "output_type": "execute_result"
    }
   ],
   "source": [
    "win_ratio_list = win_hero_ratio['hero_win_ratio'].tolist()\n",
    "win_ratio_list = np.array([y for x in win_ratio_list for y in x[-2:]], dtype=float)\n",
    "win_ratio_list.mean()"
   ]
  },
  {
   "cell_type": "code",
   "execution_count": 70,
   "metadata": {},
   "outputs": [
    {
     "data": {
      "text/html": [
       "<div>\n",
       "<style scoped>\n",
       "    .dataframe tbody tr th:only-of-type {\n",
       "        vertical-align: middle;\n",
       "    }\n",
       "\n",
       "    .dataframe tbody tr th {\n",
       "        vertical-align: top;\n",
       "    }\n",
       "\n",
       "    .dataframe thead th {\n",
       "        text-align: right;\n",
       "    }\n",
       "</style>\n",
       "<table border=\"1\" class=\"dataframe\">\n",
       "  <thead>\n",
       "    <tr style=\"text-align: right;\">\n",
       "      <th></th>\n",
       "      <th>hero_win_ratio</th>\n",
       "    </tr>\n",
       "    <tr>\n",
       "      <th>match_id</th>\n",
       "      <th></th>\n",
       "    </tr>\n",
       "  </thead>\n",
       "  <tbody>\n",
       "    <tr>\n",
       "      <th>3933472394</th>\n",
       "      <td>[44.9461, 47.9878, 52.2677]</td>\n",
       "    </tr>\n",
       "    <tr>\n",
       "      <th>3933472395</th>\n",
       "      <td>[48.4613, 49.8697, 50.2811, 50.3605, 53.5858]</td>\n",
       "    </tr>\n",
       "    <tr>\n",
       "      <th>3933472397</th>\n",
       "      <td>[50.933, 53.1647, 53.1903, 53.5858]</td>\n",
       "    </tr>\n",
       "    <tr>\n",
       "      <th>3933472398</th>\n",
       "      <td>[48.8041, 49.7256, 53.5858, 55.1821]</td>\n",
       "    </tr>\n",
       "    <tr>\n",
       "      <th>3933472399</th>\n",
       "      <td>[45.3665, 46.1426, 47.177, 47.8989, 47.9854]</td>\n",
       "    </tr>\n",
       "  </tbody>\n",
       "</table>\n",
       "</div>"
      ],
      "text/plain": [
       "                                           hero_win_ratio\n",
       "match_id                                                 \n",
       "3933472394                    [44.9461, 47.9878, 52.2677]\n",
       "3933472395  [48.4613, 49.8697, 50.2811, 50.3605, 53.5858]\n",
       "3933472397            [50.933, 53.1647, 53.1903, 53.5858]\n",
       "3933472398           [48.8041, 49.7256, 53.5858, 55.1821]\n",
       "3933472399   [45.3665, 46.1426, 47.177, 47.8989, 47.9854]"
      ]
     },
     "execution_count": 70,
     "metadata": {},
     "output_type": "execute_result"
    }
   ],
   "source": [
    "lose_df = player_df[player_df['win_lost'] == False]\n",
    "lose_hero_ratio = lose_df.groupby('match_id').agg({'hero_win_ratio': lambda x: sorted(list(x))})\n",
    "lose_hero_ratio.head()"
   ]
  },
  {
   "cell_type": "code",
   "execution_count": 71,
   "metadata": {},
   "outputs": [
    {
     "data": {
      "text/plain": [
       "49.67889785940161"
      ]
     },
     "execution_count": 71,
     "metadata": {},
     "output_type": "execute_result"
    }
   ],
   "source": [
    "win_ratio_list = lose_hero_ratio['hero_win_ratio'].tolist()\n",
    "win_ratio_list = np.array([y for x in win_ratio_list for y in x], dtype=float)\n",
    "win_ratio_list.mean()"
   ]
  },
  {
   "cell_type": "code",
   "execution_count": 72,
   "metadata": {},
   "outputs": [
    {
     "data": {
      "text/plain": [
       "51.94332126865672"
      ]
     },
     "execution_count": 72,
     "metadata": {},
     "output_type": "execute_result"
    }
   ],
   "source": [
    "win_ratio_list = lose_hero_ratio['hero_win_ratio'].tolist()\n",
    "win_ratio_list = np.array([y for x in win_ratio_list for y in x[-2:]], dtype=float)\n",
    "win_ratio_list.mean()"
   ]
  },
  {
   "cell_type": "markdown",
   "metadata": {},
   "source": [
    "## 6.3 Player win rate"
   ]
  },
  {
   "cell_type": "code",
   "execution_count": 73,
   "metadata": {},
   "outputs": [
    {
     "data": {
      "text/html": [
       "<div>\n",
       "<style scoped>\n",
       "    .dataframe tbody tr th:only-of-type {\n",
       "        vertical-align: middle;\n",
       "    }\n",
       "\n",
       "    .dataframe tbody tr th {\n",
       "        vertical-align: top;\n",
       "    }\n",
       "\n",
       "    .dataframe thead th {\n",
       "        text-align: right;\n",
       "    }\n",
       "</style>\n",
       "<table border=\"1\" class=\"dataframe\">\n",
       "  <thead>\n",
       "    <tr style=\"text-align: right;\">\n",
       "      <th></th>\n",
       "      <th>win_ratio</th>\n",
       "    </tr>\n",
       "    <tr>\n",
       "      <th>match_id</th>\n",
       "      <th></th>\n",
       "    </tr>\n",
       "  </thead>\n",
       "  <tbody>\n",
       "    <tr>\n",
       "      <th>3933472394</th>\n",
       "      <td>[0.0, 50.1353, 50.41322, 51.2784, 61.538464]</td>\n",
       "    </tr>\n",
       "    <tr>\n",
       "      <th>3933472395</th>\n",
       "      <td>[45.4935, 47.2532, 52.2677, 54.0256]</td>\n",
       "    </tr>\n",
       "    <tr>\n",
       "      <th>3933472397</th>\n",
       "      <td>[37.5, 48.0791, 60.4767, 63.448273]</td>\n",
       "    </tr>\n",
       "    <tr>\n",
       "      <th>3933472398</th>\n",
       "      <td>[47.1554, 48.64865, 52.3461, 80.0]</td>\n",
       "    </tr>\n",
       "    <tr>\n",
       "      <th>3933472399</th>\n",
       "      <td>[45.6277, 49.3308, 53.198654, 54.83871, 62.666...</td>\n",
       "    </tr>\n",
       "  </tbody>\n",
       "</table>\n",
       "</div>"
      ],
      "text/plain": [
       "                                                    win_ratio\n",
       "match_id                                                     \n",
       "3933472394       [0.0, 50.1353, 50.41322, 51.2784, 61.538464]\n",
       "3933472395               [45.4935, 47.2532, 52.2677, 54.0256]\n",
       "3933472397                [37.5, 48.0791, 60.4767, 63.448273]\n",
       "3933472398                 [47.1554, 48.64865, 52.3461, 80.0]\n",
       "3933472399  [45.6277, 49.3308, 53.198654, 54.83871, 62.666..."
      ]
     },
     "execution_count": 73,
     "metadata": {},
     "output_type": "execute_result"
    }
   ],
   "source": [
    "win_df = player_df[player_df['win_lost'] == True]\n",
    "player_win_ratio = win_df.groupby('match_id').agg({'win_ratio': lambda x: sorted(list(x))})\n",
    "player_win_ratio.head()"
   ]
  },
  {
   "cell_type": "code",
   "execution_count": 74,
   "metadata": {},
   "outputs": [
    {
     "data": {
      "text/plain": [
       "50.501231067249336"
      ]
     },
     "execution_count": 74,
     "metadata": {},
     "output_type": "execute_result"
    }
   ],
   "source": [
    "win_ratio_list = player_win_ratio['win_ratio'].tolist()\n",
    "win_ratio_list = np.array([y for x in win_ratio_list for y in x], dtype=float)\n",
    "win_ratio_list.mean()"
   ]
  },
  {
   "cell_type": "code",
   "execution_count": 75,
   "metadata": {},
   "outputs": [
    {
     "data": {
      "text/plain": [
       "55.3386552096"
      ]
     },
     "execution_count": 75,
     "metadata": {},
     "output_type": "execute_result"
    }
   ],
   "source": [
    "win_ratio_list = player_win_ratio['win_ratio'].tolist()\n",
    "win_ratio_list = np.array([y for x in win_ratio_list for y in x[-2:]], dtype=float)\n",
    "win_ratio_list.mean()"
   ]
  },
  {
   "cell_type": "code",
   "execution_count": 76,
   "metadata": {},
   "outputs": [
    {
     "data": {
      "text/html": [
       "<div>\n",
       "<style scoped>\n",
       "    .dataframe tbody tr th:only-of-type {\n",
       "        vertical-align: middle;\n",
       "    }\n",
       "\n",
       "    .dataframe tbody tr th {\n",
       "        vertical-align: top;\n",
       "    }\n",
       "\n",
       "    .dataframe thead th {\n",
       "        text-align: right;\n",
       "    }\n",
       "</style>\n",
       "<table border=\"1\" class=\"dataframe\">\n",
       "  <thead>\n",
       "    <tr style=\"text-align: right;\">\n",
       "      <th></th>\n",
       "      <th>win_ratio</th>\n",
       "    </tr>\n",
       "    <tr>\n",
       "      <th>match_id</th>\n",
       "      <th></th>\n",
       "    </tr>\n",
       "  </thead>\n",
       "  <tbody>\n",
       "    <tr>\n",
       "      <th>3933472394</th>\n",
       "      <td>[44.9461, 52.2677, 61.165047]</td>\n",
       "    </tr>\n",
       "    <tr>\n",
       "      <th>3933472395</th>\n",
       "      <td>[46.51163, 49.8697, 50.2811, 50.3605, 69.565216]</td>\n",
       "    </tr>\n",
       "    <tr>\n",
       "      <th>3933472397</th>\n",
       "      <td>[44.262295, 50.933, 53.1647, 53.1903]</td>\n",
       "    </tr>\n",
       "    <tr>\n",
       "      <th>3933472398</th>\n",
       "      <td>[33.333336, 48.8041, 49.7256, 55.1821]</td>\n",
       "    </tr>\n",
       "    <tr>\n",
       "      <th>3933472399</th>\n",
       "      <td>[45.3665, 53.846157, 58.823532, 64.28571, 70.3...</td>\n",
       "    </tr>\n",
       "  </tbody>\n",
       "</table>\n",
       "</div>"
      ],
      "text/plain": [
       "                                                    win_ratio\n",
       "match_id                                                     \n",
       "3933472394                      [44.9461, 52.2677, 61.165047]\n",
       "3933472395   [46.51163, 49.8697, 50.2811, 50.3605, 69.565216]\n",
       "3933472397              [44.262295, 50.933, 53.1647, 53.1903]\n",
       "3933472398             [33.333336, 48.8041, 49.7256, 55.1821]\n",
       "3933472399  [45.3665, 53.846157, 58.823532, 64.28571, 70.3..."
      ]
     },
     "execution_count": 76,
     "metadata": {},
     "output_type": "execute_result"
    }
   ],
   "source": [
    "lose_df = player_df[player_df['win_lost'] == False]\n",
    "player_win_ratio = lose_df.groupby('match_id').agg({'win_ratio': lambda x: sorted(list(x))})\n",
    "player_win_ratio.head()"
   ]
  },
  {
   "cell_type": "code",
   "execution_count": 77,
   "metadata": {},
   "outputs": [
    {
     "data": {
      "text/plain": [
       "49.81986170688398"
      ]
     },
     "execution_count": 77,
     "metadata": {},
     "output_type": "execute_result"
    }
   ],
   "source": [
    "win_ratio_list = player_win_ratio['win_ratio'].tolist()\n",
    "win_ratio_list = np.array([y for x in win_ratio_list for y in x], dtype=float)\n",
    "win_ratio_list.mean()"
   ]
  },
  {
   "cell_type": "code",
   "execution_count": 78,
   "metadata": {},
   "outputs": [
    {
     "data": {
      "text/plain": [
       "54.999193002132195"
      ]
     },
     "execution_count": 78,
     "metadata": {},
     "output_type": "execute_result"
    }
   ],
   "source": [
    "win_ratio_list = player_win_ratio['win_ratio'].tolist()\n",
    "win_ratio_list = np.array([y for x in win_ratio_list for y in x[-2:]], dtype=float)\n",
    "win_ratio_list.mean()"
   ]
  },
  {
   "cell_type": "markdown",
   "metadata": {},
   "source": [
    "## 6.4 Best player per team"
   ]
  },
  {
   "cell_type": "code",
   "execution_count": 79,
   "metadata": {},
   "outputs": [
    {
     "data": {
      "text/html": [
       "<div>\n",
       "<style scoped>\n",
       "    .dataframe tbody tr th:only-of-type {\n",
       "        vertical-align: middle;\n",
       "    }\n",
       "\n",
       "    .dataframe tbody tr th {\n",
       "        vertical-align: top;\n",
       "    }\n",
       "\n",
       "    .dataframe thead th {\n",
       "        text-align: right;\n",
       "    }\n",
       "</style>\n",
       "<table border=\"1\" class=\"dataframe\">\n",
       "  <thead>\n",
       "    <tr style=\"text-align: right;\">\n",
       "      <th></th>\n",
       "      <th>win_ratio</th>\n",
       "    </tr>\n",
       "    <tr>\n",
       "      <th>match_id</th>\n",
       "      <th></th>\n",
       "    </tr>\n",
       "  </thead>\n",
       "  <tbody>\n",
       "    <tr>\n",
       "      <th>3933472394</th>\n",
       "      <td>61.538464</td>\n",
       "    </tr>\n",
       "    <tr>\n",
       "      <th>3933472395</th>\n",
       "      <td>54.0256</td>\n",
       "    </tr>\n",
       "    <tr>\n",
       "      <th>3933472397</th>\n",
       "      <td>63.448273</td>\n",
       "    </tr>\n",
       "    <tr>\n",
       "      <th>3933472398</th>\n",
       "      <td>80.0</td>\n",
       "    </tr>\n",
       "    <tr>\n",
       "      <th>3933472399</th>\n",
       "      <td>62.666668</td>\n",
       "    </tr>\n",
       "  </tbody>\n",
       "</table>\n",
       "</div>"
      ],
      "text/plain": [
       "            win_ratio\n",
       "match_id             \n",
       "3933472394  61.538464\n",
       "3933472395    54.0256\n",
       "3933472397  63.448273\n",
       "3933472398       80.0\n",
       "3933472399  62.666668"
      ]
     },
     "execution_count": 79,
     "metadata": {},
     "output_type": "execute_result"
    }
   ],
   "source": [
    "win_df = player_df[player_df['win_lost'] == True]\n",
    "player_win_ratio = win_df.groupby('match_id').agg({'win_ratio': lambda x: max(list(x))})\n",
    "player_win_ratio.head()"
   ]
  },
  {
   "cell_type": "code",
   "execution_count": 80,
   "metadata": {},
   "outputs": [
    {
     "data": {
      "text/plain": [
       "58.249887220682304"
      ]
     },
     "execution_count": 80,
     "metadata": {},
     "output_type": "execute_result"
    }
   ],
   "source": [
    "player_list = player_win_ratio['win_ratio'].tolist()\n",
    "player_list = np.array(player_list, dtype=float)\n",
    "np.mean(player_list)"
   ]
  },
  {
   "cell_type": "code",
   "execution_count": 81,
   "metadata": {},
   "outputs": [
    {
     "data": {
      "text/html": [
       "<div>\n",
       "<style scoped>\n",
       "    .dataframe tbody tr th:only-of-type {\n",
       "        vertical-align: middle;\n",
       "    }\n",
       "\n",
       "    .dataframe tbody tr th {\n",
       "        vertical-align: top;\n",
       "    }\n",
       "\n",
       "    .dataframe thead th {\n",
       "        text-align: right;\n",
       "    }\n",
       "</style>\n",
       "<table border=\"1\" class=\"dataframe\">\n",
       "  <thead>\n",
       "    <tr style=\"text-align: right;\">\n",
       "      <th></th>\n",
       "      <th>win_ratio</th>\n",
       "    </tr>\n",
       "    <tr>\n",
       "      <th>match_id</th>\n",
       "      <th></th>\n",
       "    </tr>\n",
       "  </thead>\n",
       "  <tbody>\n",
       "    <tr>\n",
       "      <th>3933472394</th>\n",
       "      <td>61.165047</td>\n",
       "    </tr>\n",
       "    <tr>\n",
       "      <th>3933472395</th>\n",
       "      <td>69.565216</td>\n",
       "    </tr>\n",
       "    <tr>\n",
       "      <th>3933472397</th>\n",
       "      <td>53.1903</td>\n",
       "    </tr>\n",
       "    <tr>\n",
       "      <th>3933472398</th>\n",
       "      <td>55.1821</td>\n",
       "    </tr>\n",
       "    <tr>\n",
       "      <th>3933472399</th>\n",
       "      <td>70.33898</td>\n",
       "    </tr>\n",
       "  </tbody>\n",
       "</table>\n",
       "</div>"
      ],
      "text/plain": [
       "            win_ratio\n",
       "match_id             \n",
       "3933472394  61.165047\n",
       "3933472395  69.565216\n",
       "3933472397    53.1903\n",
       "3933472398    55.1821\n",
       "3933472399   70.33898"
      ]
     },
     "execution_count": 81,
     "metadata": {},
     "output_type": "execute_result"
    }
   ],
   "source": [
    "lose_df = player_df[player_df['win_lost'] == False]\n",
    "player_win_ratio = lose_df.groupby('match_id').agg({'win_ratio': lambda x: max(list(x))})\n",
    "player_win_ratio.head()"
   ]
  },
  {
   "cell_type": "code",
   "execution_count": 82,
   "metadata": {},
   "outputs": [
    {
     "data": {
      "text/plain": [
       "57.966075777185495"
      ]
     },
     "execution_count": 82,
     "metadata": {},
     "output_type": "execute_result"
    }
   ],
   "source": [
    "player_list = player_win_ratio['win_ratio'].tolist()\n",
    "player_list = np.array(player_list, dtype=float)\n",
    "np.mean(player_list)"
   ]
  },
  {
   "cell_type": "markdown",
   "metadata": {},
   "source": [
    "## 6.5 Worst player per team"
   ]
  },
  {
   "cell_type": "code",
   "execution_count": 83,
   "metadata": {},
   "outputs": [
    {
     "data": {
      "text/html": [
       "<div>\n",
       "<style scoped>\n",
       "    .dataframe tbody tr th:only-of-type {\n",
       "        vertical-align: middle;\n",
       "    }\n",
       "\n",
       "    .dataframe tbody tr th {\n",
       "        vertical-align: top;\n",
       "    }\n",
       "\n",
       "    .dataframe thead th {\n",
       "        text-align: right;\n",
       "    }\n",
       "</style>\n",
       "<table border=\"1\" class=\"dataframe\">\n",
       "  <thead>\n",
       "    <tr style=\"text-align: right;\">\n",
       "      <th></th>\n",
       "      <th>win_ratio</th>\n",
       "    </tr>\n",
       "    <tr>\n",
       "      <th>match_id</th>\n",
       "      <th></th>\n",
       "    </tr>\n",
       "  </thead>\n",
       "  <tbody>\n",
       "    <tr>\n",
       "      <th>3933472394</th>\n",
       "      <td>0.0</td>\n",
       "    </tr>\n",
       "    <tr>\n",
       "      <th>3933472395</th>\n",
       "      <td>45.4935</td>\n",
       "    </tr>\n",
       "    <tr>\n",
       "      <th>3933472397</th>\n",
       "      <td>37.5</td>\n",
       "    </tr>\n",
       "    <tr>\n",
       "      <th>3933472398</th>\n",
       "      <td>47.1554</td>\n",
       "    </tr>\n",
       "    <tr>\n",
       "      <th>3933472399</th>\n",
       "      <td>45.6277</td>\n",
       "    </tr>\n",
       "  </tbody>\n",
       "</table>\n",
       "</div>"
      ],
      "text/plain": [
       "           win_ratio\n",
       "match_id            \n",
       "3933472394       0.0\n",
       "3933472395   45.4935\n",
       "3933472397      37.5\n",
       "3933472398   47.1554\n",
       "3933472399   45.6277"
      ]
     },
     "execution_count": 83,
     "metadata": {},
     "output_type": "execute_result"
    }
   ],
   "source": [
    "win_df = player_df[player_df['win_lost'] == True]\n",
    "player_win_ratio = win_df.groupby('match_id').agg({'win_ratio': lambda x: min(list(x))})\n",
    "player_win_ratio.head()"
   ]
  },
  {
   "cell_type": "code",
   "execution_count": 84,
   "metadata": {},
   "outputs": [
    {
     "data": {
      "text/plain": [
       "43.75404595948827"
      ]
     },
     "execution_count": 84,
     "metadata": {},
     "output_type": "execute_result"
    }
   ],
   "source": [
    "player_list = player_win_ratio['win_ratio'].tolist()\n",
    "player_list = np.array(player_list, dtype=float)\n",
    "np.mean(player_list)"
   ]
  },
  {
   "cell_type": "code",
   "execution_count": 85,
   "metadata": {},
   "outputs": [
    {
     "data": {
      "text/html": [
       "<div>\n",
       "<style scoped>\n",
       "    .dataframe tbody tr th:only-of-type {\n",
       "        vertical-align: middle;\n",
       "    }\n",
       "\n",
       "    .dataframe tbody tr th {\n",
       "        vertical-align: top;\n",
       "    }\n",
       "\n",
       "    .dataframe thead th {\n",
       "        text-align: right;\n",
       "    }\n",
       "</style>\n",
       "<table border=\"1\" class=\"dataframe\">\n",
       "  <thead>\n",
       "    <tr style=\"text-align: right;\">\n",
       "      <th></th>\n",
       "      <th>win_ratio</th>\n",
       "    </tr>\n",
       "    <tr>\n",
       "      <th>match_id</th>\n",
       "      <th></th>\n",
       "    </tr>\n",
       "  </thead>\n",
       "  <tbody>\n",
       "    <tr>\n",
       "      <th>3933472394</th>\n",
       "      <td>44.9461</td>\n",
       "    </tr>\n",
       "    <tr>\n",
       "      <th>3933472395</th>\n",
       "      <td>46.51163</td>\n",
       "    </tr>\n",
       "    <tr>\n",
       "      <th>3933472397</th>\n",
       "      <td>44.262295</td>\n",
       "    </tr>\n",
       "    <tr>\n",
       "      <th>3933472398</th>\n",
       "      <td>33.333336</td>\n",
       "    </tr>\n",
       "    <tr>\n",
       "      <th>3933472399</th>\n",
       "      <td>45.3665</td>\n",
       "    </tr>\n",
       "  </tbody>\n",
       "</table>\n",
       "</div>"
      ],
      "text/plain": [
       "            win_ratio\n",
       "match_id             \n",
       "3933472394    44.9461\n",
       "3933472395   46.51163\n",
       "3933472397  44.262295\n",
       "3933472398  33.333336\n",
       "3933472399    45.3665"
      ]
     },
     "execution_count": 85,
     "metadata": {},
     "output_type": "execute_result"
    }
   ],
   "source": [
    "lose_df = player_df[player_df['win_lost'] == False]\n",
    "player_win_ratio = lose_df.groupby('match_id').agg({'win_ratio': lambda x: min(list(x))})\n",
    "player_win_ratio.head()"
   ]
  },
  {
   "cell_type": "code",
   "execution_count": 86,
   "metadata": {},
   "outputs": [
    {
     "data": {
      "text/plain": [
       "41.51164756396588"
      ]
     },
     "execution_count": 86,
     "metadata": {},
     "output_type": "execute_result"
    }
   ],
   "source": [
    "player_list = player_win_ratio['win_ratio'].tolist()\n",
    "player_list = np.array(player_list, dtype=float)\n",
    "np.mean(player_list)"
   ]
  },
  {
   "cell_type": "markdown",
   "metadata": {},
   "source": [
    "## 6.6 Player tendencies"
   ]
  },
  {
   "cell_type": "code",
   "execution_count": 134,
   "metadata": {},
   "outputs": [
    {
     "data": {
      "image/png": "[encoded data removed]",
      "text/plain": [
       "<matplotlib.figure.Figure at 0x7fb72e2fe710>"
      ]
     },
     "metadata": {},
     "output_type": "display_data"
    }
   ],
   "source": [
    "win_df = player_df[player_df['win_lost'] == True]\n",
    "Y1 = win_df['score'].tolist()[:1500]\n",
    "X1 = win_df['win_ratio'].tolist()[:1500]\n",
    "\n",
    "lose_df = player_df[player_df['win_lost'] == False]\n",
    "Y2 = lose_df['score'].tolist()[:1500]\n",
    "X2 = lose_df['win_ratio'].tolist()[:1500]\n",
    "\n",
    "fig = plt.figure(figsize=(15,8))\n",
    "ax = fig.add_subplot(1, 1, 1)\n",
    "\n",
    "# Major ticks every 20, minor ticks every 5\n",
    "major_ticks = np.arange(0, 101, 50)\n",
    "minor_ticks = np.arange(0, 101, 5)\n",
    "\n",
    "ax.set_xticks(major_ticks)\n",
    "ax.set_xticks(minor_ticks, minor=True)\n",
    "\n",
    "# And a corresponding grid\n",
    "ax.grid(which='both')\n",
    "\n",
    "# Or if you want different settings for the grids:\n",
    "ax.grid(which='minor', alpha=0.2)\n",
    "ax.grid(which='major', alpha=0.5)\n",
    "\n",
    "width = 2\n",
    "ax.scatter(X1, Y1, width, color='r',label='Ymin', alpha = 0.5)\n",
    "\n",
    "plt.show()"
   ]
  },
  {
   "cell_type": "code",
   "execution_count": 140,
   "metadata": {},
   "outputs": [
    {
     "name": "stderr",
     "output_type": "stream",
     "text": [
      "/home/charmander/anaconda3/lib/python3.6/site-packages/ipykernel_launcher.py:1: SettingWithCopyWarning: \n",
      "A value is trying to be set on a copy of a slice from a DataFrame.\n",
      "Try using .loc[row_indexer,col_indexer] = value instead\n",
      "\n",
      "See the caveats in the documentation: http://pandas.pydata.org/pandas-docs/stable/indexing.html#indexing-view-versus-copy\n",
      "  \"\"\"Entry point for launching an IPython kernel.\n"
     ]
    },
    {
     "data": {
      "text/plain": [
       "-0.008704729619483367"
      ]
     },
     "execution_count": 140,
     "metadata": {},
     "output_type": "execute_result"
    }
   ],
   "source": [
    "win_df['win_ratio'] = win_df['win_ratio'].astype(float)\n",
    "win_df['win_ratio'].corr(win_df['score'])"
   ]
  },
  {
   "cell_type": "code",
   "execution_count": 137,
   "metadata": {},
   "outputs": [
    {
     "data": {
      "image/png": "[encoded data removed]",
      "text/plain": [
       "<matplotlib.figure.Figure at 0x7fb72fb5a128>"
      ]
     },
     "metadata": {},
     "output_type": "display_data"
    }
   ],
   "source": [
    "fig = plt.figure(figsize=(15,8))\n",
    "ax = fig.add_subplot(1, 1, 1)\n",
    "\n",
    "# Major ticks every 20, minor ticks every 5\n",
    "major_ticks = np.arange(0, 101, 50)\n",
    "minor_ticks = np.arange(0, 101, 5)\n",
    "\n",
    "ax.set_xticks(major_ticks)\n",
    "ax.set_xticks(minor_ticks, minor=True)\n",
    "\n",
    "# And a corresponding grid\n",
    "ax.grid(which='both')\n",
    "\n",
    "# Or if you want different settings for the grids:\n",
    "ax.grid(which='minor', alpha=0.2)\n",
    "ax.grid(which='major', alpha=0.5)\n",
    "\n",
    "width = 2\n",
    "ax.scatter(X2, Y2, width, color='g',label='Ymin', alpha = 0.5)\n",
    "\n",
    "plt.show()"
   ]
  },
  {
   "cell_type": "code",
   "execution_count": 141,
   "metadata": {},
   "outputs": [
    {
     "name": "stderr",
     "output_type": "stream",
     "text": [
      "/home/charmander/anaconda3/lib/python3.6/site-packages/ipykernel_launcher.py:1: SettingWithCopyWarning: \n",
      "A value is trying to be set on a copy of a slice from a DataFrame.\n",
      "Try using .loc[row_indexer,col_indexer] = value instead\n",
      "\n",
      "See the caveats in the documentation: http://pandas.pydata.org/pandas-docs/stable/indexing.html#indexing-view-versus-copy\n",
      "  \"\"\"Entry point for launching an IPython kernel.\n"
     ]
    },
    {
     "data": {
      "text/plain": [
       "0.01741662334817892"
      ]
     },
     "execution_count": 141,
     "metadata": {},
     "output_type": "execute_result"
    }
   ],
   "source": [
    "lose_df['win_ratio'] = lose_df['win_ratio'].astype(float)\n",
    "lose_df['win_ratio'].corr(lose_df['score'])"
   ]
  },
  {
   "cell_type": "markdown",
   "metadata": {},
   "source": [
    "# 7. Machine Learning"
   ]
  },
  {
   "cell_type": "code",
   "execution_count": 262,
   "metadata": {},
   "outputs": [],
   "source": [
    "win_df = player_df[player_df['win_lost'] == True]\n",
    "win_data = win_df.groupby('match_id').agg({'hero_win_ratio': lambda x: list(x),\n",
    "                                          'win_ratio': lambda x: list(x),\n",
    "                                          'score': lambda x: list(x)})\n",
    "win_data = win_data.values.tolist()\n",
    "\n",
    "for i in range(len(win_data)):\n",
    "    win_data[i] = win_data[i][0] + win_data[i][1] + win_data[i][2]\n",
    "\n",
    "win_data = [x for x in win_data if len(x) == 15]\n",
    "win_outcome = np.ones(len(win_data), dtype=int).tolist()"
   ]
  },
  {
   "cell_type": "code",
   "execution_count": 263,
   "metadata": {},
   "outputs": [],
   "source": [
    "lose_df = player_df[player_df['win_lost'] == False]\n",
    "lose_data = lose_df.groupby('match_id').agg({'hero_win_ratio': lambda x: list(x),\n",
    "                                          'win_ratio': lambda x: list(x),\n",
    "                                          'score': lambda x: list(x)})\n",
    "lose_data = lose_data.values.tolist()\n",
    "\n",
    "for i in range(len(lose_data)):\n",
    "    lose_data[i] = lose_data[i][0] + lose_data[i][1] + lose_data[i][2]\n",
    "\n",
    "lose_data = [x for x in lose_data if len(x) == 15]\n",
    "lose_outcome = np.zeros(len(lose_data), dtype=int).tolist()"
   ]
  },
  {
   "cell_type": "code",
   "execution_count": 285,
   "metadata": {},
   "outputs": [],
   "source": [
    "from sklearn.model_selection import train_test_split\n",
    "from sklearn.metrics import precision_recall_fscore_support, confusion_matrix\n",
    "from sklearn.linear_model import LogisticRegression\n",
    "from sklearn.preprocessing import StandardScaler\n",
    "\n",
    "X = win_data + lose_data\n",
    "Y = win_outcome + lose_outcome\n",
    "\n",
    "scaler = StandardScaler()\n",
    "X = scaler.fit_transform(X)"
   ]
  },
  {
   "cell_type": "code",
   "execution_count": 286,
   "metadata": {},
   "outputs": [
    {
     "data": {
      "text/plain": [
       "LogisticRegression(C=100000.0, class_weight=None, dual=False,\n",
       "          fit_intercept=True, intercept_scaling=1, max_iter=100,\n",
       "          multi_class='ovr', n_jobs=1, penalty='l2', random_state=None,\n",
       "          solver='liblinear', tol=0.0001, verbose=0, warm_start=False)"
      ]
     },
     "execution_count": 286,
     "metadata": {},
     "output_type": "execute_result"
    }
   ],
   "source": [
    "x_train, x_test, y_train, y_test = train_test_split(X, Y, test_size=0.20, random_state=42) \n",
    "clf = LogisticRegression(C=1e5)\n",
    "clf.fit(x_train, y_train)"
   ]
  },
  {
   "cell_type": "code",
   "execution_count": 287,
   "metadata": {},
   "outputs": [
    {
     "data": {
      "text/plain": [
       "55.78947368421053"
      ]
     },
     "execution_count": 287,
     "metadata": {},
     "output_type": "execute_result"
    }
   ],
   "source": [
    "y_predicted = clf.predict(x_test)\n",
    "accuracy = np.sum(y_predicted == y_test) * 100.0 / len(y_test)\n",
    "accuracy"
   ]
  },
  {
   "cell_type": "code",
   "execution_count": 288,
   "metadata": {},
   "outputs": [
    {
     "data": {
      "text/plain": [
       "array([0.6025641 , 0.52678571])"
      ]
     },
     "execution_count": 288,
     "metadata": {},
     "output_type": "execute_result"
    }
   ],
   "source": [
    "(precision, recall, f1, _) = precision_recall_fscore_support(y_test, y_predicted)\n",
    "precision"
   ]
  },
  {
   "cell_type": "code",
   "execution_count": 289,
   "metadata": {},
   "outputs": [
    {
     "data": {
      "text/plain": [
       "array([0.47      , 0.65555556])"
      ]
     },
     "execution_count": 289,
     "metadata": {},
     "output_type": "execute_result"
    }
   ],
   "source": [
    " recall"
   ]
  },
  {
   "cell_type": "code",
   "execution_count": 290,
   "metadata": {},
   "outputs": [
    {
     "data": {
      "text/plain": [
       "array([0.52808989, 0.58415842])"
      ]
     },
     "execution_count": 290,
     "metadata": {},
     "output_type": "execute_result"
    }
   ],
   "source": [
    "f1"
   ]
  },
  {
   "cell_type": "code",
   "execution_count": 291,
   "metadata": {},
   "outputs": [
    {
     "data": {
      "text/plain": [
       "<matplotlib.axes._subplots.AxesSubplot at 0x7fb714a97f60>"
      ]
     },
     "execution_count": 291,
     "metadata": {},
     "output_type": "execute_result"
    },
    {
     "data": {
      "image/png": "[encoded data removed]",
      "text/plain": [
       "<matplotlib.figure.Figure at 0x7fb714a93390>"
      ]
     },
     "metadata": {},
     "output_type": "display_data"
    }
   ],
   "source": [
    "import seaborn as sn\n",
    "\n",
    "cm = confusion_matrix(y_test, y_predicted)\n",
    "df_cm = pd.DataFrame(cm, range(2),\n",
    "                  range(2))\n",
    "#plt.figure(figsize = (10,7))\n",
    "sn.set(font_scale=1.4)#for label size\n",
    "sn.heatmap(df_cm, annot=True,annot_kws={\"size\": 16})# font size"
   ]
  },
  {
   "cell_type": "code",
   "execution_count": null,
   "metadata": {},
   "outputs": [],
   "source": []
  }
 ],
 "metadata": {
  "kernelspec": {
   "display_name": "Python 3",
   "language": "python",
   "name": "python3"
  },
  "language_info": {
   "codemirror_mode": {
    "name": "ipython",
    "version": 3
   },
   "file_extension": ".py",
   "mimetype": "text/x-python",
   "name": "python",
   "nbconvert_exporter": "python",
   "pygments_lexer": "ipython3",
   "version": "3.6.4"
  }
 },
 "nbformat": 4,
 "nbformat_minor": 2
}
